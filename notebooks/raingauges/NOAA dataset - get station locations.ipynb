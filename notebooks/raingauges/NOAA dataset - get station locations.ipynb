{
 "cells": [
  {
   "cell_type": "markdown",
   "metadata": {},
   "source": [
    "# NOAA data - Get station locations\n",
    "\n",
    "One can get the NOAA hourly precipitation data here: https://www.ncdc.noaa.gov/cdo-web/search?datasetid=PRECIP_HLY#\n",
    "\n",
    "\n",
    "This notebook gets the geographic coordinates of the locations of the gauges from the CSV file product.\n",
    "The sample used here is for April 2013, for Illinois state."
   ]
  },
  {
   "cell_type": "code",
   "execution_count": 1,
   "metadata": {},
   "outputs": [
    {
     "name": "stdout",
     "output_type": "stream",
     "text": [
      "Populating the interactive namespace from numpy and matplotlib\n"
     ]
    }
   ],
   "source": [
    "%pylab inline\n",
    "\n",
    "import pandas as pd"
   ]
  },
  {
   "cell_type": "markdown",
   "metadata": {},
   "source": [
    "Set the file path of the CSV file."
   ]
  },
  {
   "cell_type": "code",
   "execution_count": 4,
   "metadata": {},
   "outputs": [],
   "source": [
    "fname = 'C:/Users/irene/Documents/Work/Data/NCDC_NOAA/NOAA_HourlyPrecip_April2013.csv'"
   ]
  },
  {
   "cell_type": "markdown",
   "metadata": {},
   "source": [
    "Read the file as a pandas dataframe."
   ]
  },
  {
   "cell_type": "code",
   "execution_count": 5,
   "metadata": {},
   "outputs": [],
   "source": [
    "df = pd.read_csv(fname,header=0)"
   ]
  },
  {
   "cell_type": "code",
   "execution_count": 6,
   "metadata": {},
   "outputs": [
    {
     "data": {
      "text/html": [
       "<div>\n",
       "<style scoped>\n",
       "    .dataframe tbody tr th:only-of-type {\n",
       "        vertical-align: middle;\n",
       "    }\n",
       "\n",
       "    .dataframe tbody tr th {\n",
       "        vertical-align: top;\n",
       "    }\n",
       "\n",
       "    .dataframe thead th {\n",
       "        text-align: right;\n",
       "    }\n",
       "</style>\n",
       "<table border=\"1\" class=\"dataframe\">\n",
       "  <thead>\n",
       "    <tr style=\"text-align: right;\">\n",
       "      <th></th>\n",
       "      <th>STATION</th>\n",
       "      <th>STATION_NAME</th>\n",
       "      <th>ELEVATION</th>\n",
       "      <th>LATITUDE</th>\n",
       "      <th>LONGITUDE</th>\n",
       "      <th>DATE</th>\n",
       "      <th>HPCP</th>\n",
       "      <th>Measurement Flag</th>\n",
       "      <th>Quality Flag</th>\n",
       "    </tr>\n",
       "  </thead>\n",
       "  <tbody>\n",
       "    <tr>\n",
       "      <th>0</th>\n",
       "      <td>COOP:111302</td>\n",
       "      <td>CARMI 3 IL US</td>\n",
       "      <td>102.1</td>\n",
       "      <td>38.0733</td>\n",
       "      <td>-88.1805</td>\n",
       "      <td>20130422 09:00</td>\n",
       "      <td>25399.75</td>\n",
       "      <td>]</td>\n",
       "      <td></td>\n",
       "    </tr>\n",
       "    <tr>\n",
       "      <th>1</th>\n",
       "      <td>COOP:111302</td>\n",
       "      <td>CARMI 3 IL US</td>\n",
       "      <td>102.1</td>\n",
       "      <td>38.0733</td>\n",
       "      <td>-88.1805</td>\n",
       "      <td>20130423 14:00</td>\n",
       "      <td>2.54</td>\n",
       "      <td></td>\n",
       "      <td></td>\n",
       "    </tr>\n",
       "    <tr>\n",
       "      <th>2</th>\n",
       "      <td>COOP:111302</td>\n",
       "      <td>CARMI 3 IL US</td>\n",
       "      <td>102.1</td>\n",
       "      <td>38.0733</td>\n",
       "      <td>-88.1805</td>\n",
       "      <td>20130424 01:00</td>\n",
       "      <td>2.54</td>\n",
       "      <td></td>\n",
       "      <td></td>\n",
       "    </tr>\n",
       "    <tr>\n",
       "      <th>3</th>\n",
       "      <td>COOP:111302</td>\n",
       "      <td>CARMI 3 IL US</td>\n",
       "      <td>102.1</td>\n",
       "      <td>38.0733</td>\n",
       "      <td>-88.1805</td>\n",
       "      <td>20130424 04:00</td>\n",
       "      <td>2.54</td>\n",
       "      <td></td>\n",
       "      <td></td>\n",
       "    </tr>\n",
       "    <tr>\n",
       "      <th>4</th>\n",
       "      <td>COOP:111302</td>\n",
       "      <td>CARMI 3 IL US</td>\n",
       "      <td>102.1</td>\n",
       "      <td>38.0733</td>\n",
       "      <td>-88.1805</td>\n",
       "      <td>20130424 08:00</td>\n",
       "      <td>2.54</td>\n",
       "      <td></td>\n",
       "      <td></td>\n",
       "    </tr>\n",
       "  </tbody>\n",
       "</table>\n",
       "</div>"
      ],
      "text/plain": [
       "       STATION   STATION_NAME  ELEVATION  LATITUDE  LONGITUDE            DATE  \\\n",
       "0  COOP:111302  CARMI 3 IL US      102.1   38.0733   -88.1805  20130422 09:00   \n",
       "1  COOP:111302  CARMI 3 IL US      102.1   38.0733   -88.1805  20130423 14:00   \n",
       "2  COOP:111302  CARMI 3 IL US      102.1   38.0733   -88.1805  20130424 01:00   \n",
       "3  COOP:111302  CARMI 3 IL US      102.1   38.0733   -88.1805  20130424 04:00   \n",
       "4  COOP:111302  CARMI 3 IL US      102.1   38.0733   -88.1805  20130424 08:00   \n",
       "\n",
       "       HPCP Measurement Flag Quality Flag  \n",
       "0  25399.75                ]               \n",
       "1      2.54                                \n",
       "2      2.54                                \n",
       "3      2.54                                \n",
       "4      2.54                                "
      ]
     },
     "execution_count": 6,
     "metadata": {},
     "output_type": "execute_result"
    }
   ],
   "source": [
    "df.head()"
   ]
  },
  {
   "cell_type": "markdown",
   "metadata": {},
   "source": [
    "Check how many stations there are."
   ]
  },
  {
   "cell_type": "code",
   "execution_count": 7,
   "metadata": {},
   "outputs": [
    {
     "data": {
      "text/plain": [
       "58"
      ]
     },
     "execution_count": 7,
     "metadata": {},
     "output_type": "execute_result"
    }
   ],
   "source": [
    "len(df['STATION_NAME'].unique())"
   ]
  },
  {
   "cell_type": "markdown",
   "metadata": {},
   "source": [
    "Since for this notebook we are only interested in the station locations and not the measured data, we can drop the duplicates based on the `STATION` parameter."
   ]
  },
  {
   "cell_type": "code",
   "execution_count": 8,
   "metadata": {},
   "outputs": [],
   "source": [
    "df_station_locations = df.drop_duplicates('STATION')[['STATION','STATION_NAME','LATITUDE','LONGITUDE']]"
   ]
  },
  {
   "cell_type": "code",
   "execution_count": 9,
   "metadata": {},
   "outputs": [
    {
     "data": {
      "text/html": [
       "<div>\n",
       "<style scoped>\n",
       "    .dataframe tbody tr th:only-of-type {\n",
       "        vertical-align: middle;\n",
       "    }\n",
       "\n",
       "    .dataframe tbody tr th {\n",
       "        vertical-align: top;\n",
       "    }\n",
       "\n",
       "    .dataframe thead th {\n",
       "        text-align: right;\n",
       "    }\n",
       "</style>\n",
       "<table border=\"1\" class=\"dataframe\">\n",
       "  <thead>\n",
       "    <tr style=\"text-align: right;\">\n",
       "      <th></th>\n",
       "      <th>STATION</th>\n",
       "      <th>STATION_NAME</th>\n",
       "      <th>LATITUDE</th>\n",
       "      <th>LONGITUDE</th>\n",
       "    </tr>\n",
       "  </thead>\n",
       "  <tbody>\n",
       "    <tr>\n",
       "      <th>0</th>\n",
       "      <td>COOP:111302</td>\n",
       "      <td>CARMI 3 IL US</td>\n",
       "      <td>38.0733</td>\n",
       "      <td>-88.1805</td>\n",
       "    </tr>\n",
       "    <tr>\n",
       "      <th>5</th>\n",
       "      <td>COOP:115825</td>\n",
       "      <td>MORRIS 1 NW IL US</td>\n",
       "      <td>41.3708</td>\n",
       "      <td>-88.4336</td>\n",
       "    </tr>\n",
       "    <tr>\n",
       "      <th>40</th>\n",
       "      <td>COOP:111664</td>\n",
       "      <td>CISNE 2 S IL US</td>\n",
       "      <td>38.5047</td>\n",
       "      <td>-88.4094</td>\n",
       "    </tr>\n",
       "    <tr>\n",
       "      <th>51</th>\n",
       "      <td>COOP:111743</td>\n",
       "      <td>CLINTON 1 SSW IL US</td>\n",
       "      <td>40.1376</td>\n",
       "      <td>-88.9674</td>\n",
       "    </tr>\n",
       "    <tr>\n",
       "      <th>85</th>\n",
       "      <td>COOP:111549</td>\n",
       "      <td>CHICAGO OHARE INTERNATIONAL AIRPORT IL US</td>\n",
       "      <td>41.9950</td>\n",
       "      <td>-87.9336</td>\n",
       "    </tr>\n",
       "  </tbody>\n",
       "</table>\n",
       "</div>"
      ],
      "text/plain": [
       "        STATION                               STATION_NAME  LATITUDE  \\\n",
       "0   COOP:111302                              CARMI 3 IL US   38.0733   \n",
       "5   COOP:115825                          MORRIS 1 NW IL US   41.3708   \n",
       "40  COOP:111664                            CISNE 2 S IL US   38.5047   \n",
       "51  COOP:111743                        CLINTON 1 SSW IL US   40.1376   \n",
       "85  COOP:111549  CHICAGO OHARE INTERNATIONAL AIRPORT IL US   41.9950   \n",
       "\n",
       "    LONGITUDE  \n",
       "0    -88.1805  \n",
       "5    -88.4336  \n",
       "40   -88.4094  \n",
       "51   -88.9674  \n",
       "85   -87.9336  "
      ]
     },
     "execution_count": 9,
     "metadata": {},
     "output_type": "execute_result"
    }
   ],
   "source": [
    "df_station_locations.head()"
   ]
  },
  {
   "cell_type": "markdown",
   "metadata": {},
   "source": [
    "Save the dataframe as a CSV file."
   ]
  },
  {
   "cell_type": "code",
   "execution_count": 10,
   "metadata": {},
   "outputs": [],
   "source": [
    "df_station_locations.to_csv('noaa_station_locations.csv',index=False)"
   ]
  },
  {
   "cell_type": "code",
   "execution_count": null,
   "metadata": {},
   "outputs": [],
   "source": []
  }
 ],
 "metadata": {
  "kernelspec": {
   "display_name": "wradlib3",
   "language": "python",
   "name": "wradlib3"
  },
  "language_info": {
   "codemirror_mode": {
    "name": "ipython",
    "version": 3
   },
   "file_extension": ".py",
   "mimetype": "text/x-python",
   "name": "python",
   "nbconvert_exporter": "python",
   "pygments_lexer": "ipython3",
   "version": "3.6.6"
  }
 },
 "nbformat": 4,
 "nbformat_minor": 2
}
