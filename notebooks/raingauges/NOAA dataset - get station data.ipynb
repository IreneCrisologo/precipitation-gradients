{
 "cells": [
  {
   "cell_type": "markdown",
   "metadata": {},
   "source": [
    "# NOAA data - Get station data\n",
    "\n",
    "One can get the NOAA hourly precipitation data here: https://www.ncdc.noaa.gov/cdo-web/search?datasetid=PRECIP_HLY#\n",
    "\n",
    "\n",
    "This notebook gets the station data from the CSV file product.\n",
    "The sample used here is for April 2013, for Illinois state."
   ]
  },
  {
   "cell_type": "code",
   "execution_count": 1,
   "metadata": {},
   "outputs": [
    {
     "name": "stdout",
     "output_type": "stream",
     "text": [
      "Populating the interactive namespace from numpy and matplotlib\n"
     ]
    }
   ],
   "source": [
    "%pylab inline\n",
    "\n",
    "import pandas as pd"
   ]
  },
  {
   "cell_type": "markdown",
   "metadata": {},
   "source": [
    "Set the file path of the CSV file."
   ]
  },
  {
   "cell_type": "code",
   "execution_count": 2,
   "metadata": {},
   "outputs": [],
   "source": [
    "fname = 'C:/Users/irene/Documents/Work/Data/NCDC_NOAA/NOAA_HourlyPrecip_April2013.csv'"
   ]
  },
  {
   "cell_type": "markdown",
   "metadata": {},
   "source": [
    "Read the file as a pandas dataframe."
   ]
  },
  {
   "cell_type": "code",
   "execution_count": 3,
   "metadata": {},
   "outputs": [],
   "source": [
    "df = pd.read_csv(fname,header=0)"
   ]
  },
  {
   "cell_type": "code",
   "execution_count": 4,
   "metadata": {},
   "outputs": [
    {
     "data": {
      "text/html": [
       "<div>\n",
       "<style scoped>\n",
       "    .dataframe tbody tr th:only-of-type {\n",
       "        vertical-align: middle;\n",
       "    }\n",
       "\n",
       "    .dataframe tbody tr th {\n",
       "        vertical-align: top;\n",
       "    }\n",
       "\n",
       "    .dataframe thead th {\n",
       "        text-align: right;\n",
       "    }\n",
       "</style>\n",
       "<table border=\"1\" class=\"dataframe\">\n",
       "  <thead>\n",
       "    <tr style=\"text-align: right;\">\n",
       "      <th></th>\n",
       "      <th>STATION</th>\n",
       "      <th>STATION_NAME</th>\n",
       "      <th>ELEVATION</th>\n",
       "      <th>LATITUDE</th>\n",
       "      <th>LONGITUDE</th>\n",
       "      <th>DATE</th>\n",
       "      <th>HPCP</th>\n",
       "      <th>Measurement Flag</th>\n",
       "      <th>Quality Flag</th>\n",
       "    </tr>\n",
       "  </thead>\n",
       "  <tbody>\n",
       "    <tr>\n",
       "      <th>0</th>\n",
       "      <td>COOP:111302</td>\n",
       "      <td>CARMI 3 IL US</td>\n",
       "      <td>102.1</td>\n",
       "      <td>38.0733</td>\n",
       "      <td>-88.1805</td>\n",
       "      <td>20130422 09:00</td>\n",
       "      <td>25399.75</td>\n",
       "      <td>]</td>\n",
       "      <td></td>\n",
       "    </tr>\n",
       "    <tr>\n",
       "      <th>1</th>\n",
       "      <td>COOP:111302</td>\n",
       "      <td>CARMI 3 IL US</td>\n",
       "      <td>102.1</td>\n",
       "      <td>38.0733</td>\n",
       "      <td>-88.1805</td>\n",
       "      <td>20130423 14:00</td>\n",
       "      <td>2.54</td>\n",
       "      <td></td>\n",
       "      <td></td>\n",
       "    </tr>\n",
       "    <tr>\n",
       "      <th>2</th>\n",
       "      <td>COOP:111302</td>\n",
       "      <td>CARMI 3 IL US</td>\n",
       "      <td>102.1</td>\n",
       "      <td>38.0733</td>\n",
       "      <td>-88.1805</td>\n",
       "      <td>20130424 01:00</td>\n",
       "      <td>2.54</td>\n",
       "      <td></td>\n",
       "      <td></td>\n",
       "    </tr>\n",
       "    <tr>\n",
       "      <th>3</th>\n",
       "      <td>COOP:111302</td>\n",
       "      <td>CARMI 3 IL US</td>\n",
       "      <td>102.1</td>\n",
       "      <td>38.0733</td>\n",
       "      <td>-88.1805</td>\n",
       "      <td>20130424 04:00</td>\n",
       "      <td>2.54</td>\n",
       "      <td></td>\n",
       "      <td></td>\n",
       "    </tr>\n",
       "    <tr>\n",
       "      <th>4</th>\n",
       "      <td>COOP:111302</td>\n",
       "      <td>CARMI 3 IL US</td>\n",
       "      <td>102.1</td>\n",
       "      <td>38.0733</td>\n",
       "      <td>-88.1805</td>\n",
       "      <td>20130424 08:00</td>\n",
       "      <td>2.54</td>\n",
       "      <td></td>\n",
       "      <td></td>\n",
       "    </tr>\n",
       "  </tbody>\n",
       "</table>\n",
       "</div>"
      ],
      "text/plain": [
       "       STATION   STATION_NAME  ELEVATION  LATITUDE  LONGITUDE            DATE  \\\n",
       "0  COOP:111302  CARMI 3 IL US      102.1   38.0733   -88.1805  20130422 09:00   \n",
       "1  COOP:111302  CARMI 3 IL US      102.1   38.0733   -88.1805  20130423 14:00   \n",
       "2  COOP:111302  CARMI 3 IL US      102.1   38.0733   -88.1805  20130424 01:00   \n",
       "3  COOP:111302  CARMI 3 IL US      102.1   38.0733   -88.1805  20130424 04:00   \n",
       "4  COOP:111302  CARMI 3 IL US      102.1   38.0733   -88.1805  20130424 08:00   \n",
       "\n",
       "       HPCP Measurement Flag Quality Flag  \n",
       "0  25399.75                ]               \n",
       "1      2.54                                \n",
       "2      2.54                                \n",
       "3      2.54                                \n",
       "4      2.54                                "
      ]
     },
     "execution_count": 4,
     "metadata": {},
     "output_type": "execute_result"
    }
   ],
   "source": [
    "df.head()"
   ]
  },
  {
   "cell_type": "markdown",
   "metadata": {},
   "source": [
    "Check how many stations there are."
   ]
  },
  {
   "cell_type": "code",
   "execution_count": 5,
   "metadata": {},
   "outputs": [
    {
     "data": {
      "text/plain": [
       "58"
      ]
     },
     "execution_count": 5,
     "metadata": {},
     "output_type": "execute_result"
    }
   ],
   "source": [
    "len(df['STATION_NAME'].unique())"
   ]
  },
  {
   "cell_type": "markdown",
   "metadata": {},
   "source": [
    "Some measurements are flagged. To see what flags are included in the dataset:"
   ]
  },
  {
   "cell_type": "code",
   "execution_count": 6,
   "metadata": {},
   "outputs": [
    {
     "data": {
      "text/plain": [
       "array([']', ' ', 'T', '['], dtype=object)"
      ]
     },
     "execution_count": 6,
     "metadata": {},
     "output_type": "execute_result"
    }
   ],
   "source": [
    "df['Measurement Flag'].unique()"
   ]
  },
  {
   "cell_type": "markdown",
   "metadata": {},
   "source": [
    "According to the documentation, `T` flag means \"trace\", and the values are zero.`[` and `]` flags are missing data, so we can set that as NaN. "
   ]
  },
  {
   "cell_type": "code",
   "execution_count": 15,
   "metadata": {},
   "outputs": [],
   "source": [
    "df.loc[df['Measurement Flag'] == '[', 'HPCP'] = np.nan\n",
    "df.loc[df['Measurement Flag'] == ']', 'HPCP'] = np.nan"
   ]
  },
  {
   "cell_type": "code",
   "execution_count": 17,
   "metadata": {},
   "outputs": [
    {
     "data": {
      "text/html": [
       "<div>\n",
       "<style scoped>\n",
       "    .dataframe tbody tr th:only-of-type {\n",
       "        vertical-align: middle;\n",
       "    }\n",
       "\n",
       "    .dataframe tbody tr th {\n",
       "        vertical-align: top;\n",
       "    }\n",
       "\n",
       "    .dataframe thead th {\n",
       "        text-align: right;\n",
       "    }\n",
       "</style>\n",
       "<table border=\"1\" class=\"dataframe\">\n",
       "  <thead>\n",
       "    <tr style=\"text-align: right;\">\n",
       "      <th></th>\n",
       "      <th>STATION</th>\n",
       "      <th>STATION_NAME</th>\n",
       "      <th>ELEVATION</th>\n",
       "      <th>LATITUDE</th>\n",
       "      <th>LONGITUDE</th>\n",
       "      <th>DATE</th>\n",
       "      <th>HPCP</th>\n",
       "      <th>Measurement Flag</th>\n",
       "      <th>Quality Flag</th>\n",
       "    </tr>\n",
       "  </thead>\n",
       "  <tbody>\n",
       "    <tr>\n",
       "      <th>0</th>\n",
       "      <td>COOP:111302</td>\n",
       "      <td>CARMI 3 IL US</td>\n",
       "      <td>102.1</td>\n",
       "      <td>38.0733</td>\n",
       "      <td>-88.1805</td>\n",
       "      <td>20130422 09:00</td>\n",
       "      <td>NaN</td>\n",
       "      <td>]</td>\n",
       "      <td></td>\n",
       "    </tr>\n",
       "    <tr>\n",
       "      <th>1</th>\n",
       "      <td>COOP:111302</td>\n",
       "      <td>CARMI 3 IL US</td>\n",
       "      <td>102.1</td>\n",
       "      <td>38.0733</td>\n",
       "      <td>-88.1805</td>\n",
       "      <td>20130423 14:00</td>\n",
       "      <td>2.54</td>\n",
       "      <td></td>\n",
       "      <td></td>\n",
       "    </tr>\n",
       "    <tr>\n",
       "      <th>2</th>\n",
       "      <td>COOP:111302</td>\n",
       "      <td>CARMI 3 IL US</td>\n",
       "      <td>102.1</td>\n",
       "      <td>38.0733</td>\n",
       "      <td>-88.1805</td>\n",
       "      <td>20130424 01:00</td>\n",
       "      <td>2.54</td>\n",
       "      <td></td>\n",
       "      <td></td>\n",
       "    </tr>\n",
       "    <tr>\n",
       "      <th>3</th>\n",
       "      <td>COOP:111302</td>\n",
       "      <td>CARMI 3 IL US</td>\n",
       "      <td>102.1</td>\n",
       "      <td>38.0733</td>\n",
       "      <td>-88.1805</td>\n",
       "      <td>20130424 04:00</td>\n",
       "      <td>2.54</td>\n",
       "      <td></td>\n",
       "      <td></td>\n",
       "    </tr>\n",
       "    <tr>\n",
       "      <th>4</th>\n",
       "      <td>COOP:111302</td>\n",
       "      <td>CARMI 3 IL US</td>\n",
       "      <td>102.1</td>\n",
       "      <td>38.0733</td>\n",
       "      <td>-88.1805</td>\n",
       "      <td>20130424 08:00</td>\n",
       "      <td>2.54</td>\n",
       "      <td></td>\n",
       "      <td></td>\n",
       "    </tr>\n",
       "  </tbody>\n",
       "</table>\n",
       "</div>"
      ],
      "text/plain": [
       "       STATION   STATION_NAME  ELEVATION  LATITUDE  LONGITUDE            DATE  \\\n",
       "0  COOP:111302  CARMI 3 IL US      102.1   38.0733   -88.1805  20130422 09:00   \n",
       "1  COOP:111302  CARMI 3 IL US      102.1   38.0733   -88.1805  20130423 14:00   \n",
       "2  COOP:111302  CARMI 3 IL US      102.1   38.0733   -88.1805  20130424 01:00   \n",
       "3  COOP:111302  CARMI 3 IL US      102.1   38.0733   -88.1805  20130424 04:00   \n",
       "4  COOP:111302  CARMI 3 IL US      102.1   38.0733   -88.1805  20130424 08:00   \n",
       "\n",
       "   HPCP Measurement Flag Quality Flag  \n",
       "0   NaN                ]               \n",
       "1  2.54                                \n",
       "2  2.54                                \n",
       "3  2.54                                \n",
       "4  2.54                                "
      ]
     },
     "execution_count": 17,
     "metadata": {},
     "output_type": "execute_result"
    }
   ],
   "source": [
    "df.head()"
   ]
  },
  {
   "cell_type": "markdown",
   "metadata": {},
   "source": [
    "Select a station to get data from. \n",
    "\n",
    "To see which station has more complete recordings, we can print how many measurements each station made wthin the time period."
   ]
  },
  {
   "cell_type": "code",
   "execution_count": 21,
   "metadata": {},
   "outputs": [],
   "source": [
    "stations = df['STATION'].unique()"
   ]
  },
  {
   "cell_type": "code",
   "execution_count": 22,
   "metadata": {},
   "outputs": [
    {
     "name": "stdout",
     "output_type": "stream",
     "text": [
      "COOP:111302: 5\n",
      "COOP:115825: 35\n",
      "COOP:111664: 11\n",
      "COOP:111743: 34\n",
      "COOP:111549: 155\n",
      "COOP:112193: 35\n",
      "COOP:116157: 35\n",
      "COOP:118179: 107\n",
      "COOP:110330: 33\n",
      "COOP:116711: 121\n",
      "COOP:112687: 35\n",
      "COOP:112923: 27\n",
      "COOP:114629: 24\n",
      "COOP:113290: 41\n",
      "COOP:115272: 34\n",
      "COOP:115751: 106\n",
      "COOP:115079: 28\n",
      "COOP:118740: 40\n",
      "COOP:110583: 36\n",
      "COOP:117014: 36\n",
      "COOP:118389: 39\n",
      "COOP:114317: 32\n",
      "COOP:110510: 33\n",
      "COOP:114879: 41\n",
      "COOP:113666: 27\n",
      "COOP:115768: 40\n",
      "COOP:114957: 24\n",
      "COOP:118916: 41\n",
      "COOP:117187: 1\n",
      "COOP:117382: 158\n",
      "COOP:114078: 36\n",
      "COOP:112011: 39\n",
      "COOP:113262: 38\n",
      "COOP:111284: 33\n",
      "COOP:114198: 40\n",
      "COOP:114710: 37\n",
      "COOP:114355: 37\n",
      "COOP:115841: 33\n",
      "COOP:116610: 42\n",
      "COOP:111577: 37\n",
      "COOP:114603: 37\n",
      "COOP:114805: 38\n",
      "COOP:119816: 36\n",
      "COOP:113879: 14\n",
      "COOP:117077: 33\n",
      "COOP:111290: 31\n",
      "COOP:115493: 37\n",
      "COOP:117072: 100\n",
      "COOP:117391: 37\n",
      "COOP:116185: 40\n",
      "COOP:117150: 38\n",
      "COOP:110082: 37\n",
      "COOP:110281: 27\n",
      "COOP:112140: 38\n",
      "COOP:114442: 29\n",
      "COOP:117876: 35\n",
      "COOP:117833: 37\n",
      "COOP:118204: 37\n"
     ]
    }
   ],
   "source": [
    "for station in stations:\n",
    "    df_stn_1 = df.loc[(df['STATION']==station)]\n",
    "    print(station+': '+str(len(df_stn_1)))"
   ]
  },
  {
   "cell_type": "markdown",
   "metadata": {},
   "source": [
    "Select a station."
   ]
  },
  {
   "cell_type": "code",
   "execution_count": 23,
   "metadata": {},
   "outputs": [],
   "source": [
    "stn = 'COOP:117382'\n",
    "\n",
    "df_stn = df.loc[(df.STATION == stn)]"
   ]
  },
  {
   "cell_type": "markdown",
   "metadata": {},
   "source": [
    "Plot the data."
   ]
  },
  {
   "cell_type": "code",
   "execution_count": 26,
   "metadata": {},
   "outputs": [
    {
     "data": {
      "text/plain": [
       "[<matplotlib.lines.Line2D at 0x22a5412fc50>]"
      ]
     },
     "execution_count": 26,
     "metadata": {},
     "output_type": "execute_result"
    },
    {
     "data": {
      "image/png": "[encoded data removed]",
      "text/plain": [
       "<Figure size 1080x216 with 1 Axes>"
      ]
     },
     "metadata": {
      "needs_background": "light"
     },
     "output_type": "display_data"
    }
   ],
   "source": [
    "plt.figure(figsize=(15,3))\n",
    "plt.plot(df_stn['DATE'],df_stn['HPCP'])"
   ]
  }
 ],
 "metadata": {
  "kernelspec": {
   "display_name": "wradlib3",
   "language": "python",
   "name": "wradlib3"
  },
  "language_info": {
   "codemirror_mode": {
    "name": "ipython",
    "version": 3
   },
   "file_extension": ".py",
   "mimetype": "text/x-python",
   "name": "python",
   "nbconvert_exporter": "python",
   "pygments_lexer": "ipython3",
   "version": "3.6.6"
  }
 },
 "nbformat": 4,
 "nbformat_minor": 2
}
