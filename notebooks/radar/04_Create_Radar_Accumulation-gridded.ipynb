{
 "cells": [
  {
   "cell_type": "markdown",
   "metadata": {},
   "source": [
    "# Hourly accumulations\n",
    "\n",
    "This notebook takes the scans within the hour, converts them to rain rate then to rainfall amount, then adds it up until the end of the hour. The hour totals are saved in a hdf file."
   ]
  },
  {
   "cell_type": "markdown",
   "metadata": {},
   "source": [
    "Import libraries."
   ]
  },
  {
   "cell_type": "code",
   "execution_count": 1,
   "metadata": {},
   "outputs": [
    {
     "name": "stdout",
     "output_type": "stream",
     "text": [
      "Populating the interactive namespace from numpy and matplotlib\n",
      "\n",
      "## You are using the Python ARM Radar Toolkit (Py-ART), an open source\n",
      "## library for working with weather radar data. Py-ART is partly\n",
      "## supported by the U.S. Department of Energy as part of the Atmospheric\n",
      "## Radiation Measurement (ARM) Climate Research Facility, an Office of\n",
      "## Science user facility.\n",
      "##\n",
      "## If you use this software to prepare a publication, please cite:\n",
      "##\n",
      "##     JJ Helmus and SM Collis, JORS 2016, doi: 10.5334/jors.119\n",
      "\n"
     ]
    },
    {
     "name": "stderr",
     "output_type": "stream",
     "text": [
      "C:\\Users\\irene\\Anaconda3\\envs\\saveurproj\\lib\\site-packages\\pyart\\graph\\cm.py:104: FutureWarning: elementwise comparison failed; returning scalar instead, but in the future will perform elementwise comparison\n",
      "  if 'red' in spec:\n",
      "C:\\Users\\irene\\Anaconda3\\envs\\saveurproj\\lib\\site-packages\\pyart\\graph\\cm_colorblind.py:32: FutureWarning: elementwise comparison failed; returning scalar instead, but in the future will perform elementwise comparison\n",
      "  if 'red' in spec:\n",
      "C:\\Users\\irene\\Anaconda3\\envs\\saveurproj\\lib\\site-packages\\botocore\\vendored\\requests\\packages\\urllib3\\_collections.py:1: DeprecationWarning: Using or importing the ABCs from 'collections' instead of from 'collections.abc' is deprecated, and in 3.8 it will stop working\n",
      "  from collections import Mapping, MutableMapping\n"
     ]
    }
   ],
   "source": [
    "%pylab inline\n",
    "\n",
    "import pyart\n",
    "import wradlib as wrl\n",
    "import pandas as pd\n",
    "import tempfile\n",
    "import os\n",
    "import numpy as np\n",
    "\n",
    "import pickle\n",
    "\n",
    "import pytz\n",
    "import datetime as dt\n",
    "\n",
    "from copy import deepcopy\n",
    "import cartopy.crs as ccrs\n",
    "import cartopy.io.shapereader as shpreader\n",
    "import cartopy.feature as cfeature\n",
    "\n",
    "import boto3\n",
    "from botocore.handlers import disable_signing"
   ]
  },
  {
   "cell_type": "markdown",
   "metadata": {},
   "source": [
    "Read the shapefiles."
   ]
  },
  {
   "cell_type": "code",
   "execution_count": 2,
   "metadata": {},
   "outputs": [],
   "source": [
    "reader = shpreader.Reader(r'C:\\Users\\irene\\Documents\\Work\\Data\\GIS\\tl_2016_17_cousub\\tl_2016_17_cousub.shp')\n",
    "counties = list(reader.geometries())\n",
    "COUNTIES = cfeature.ShapelyFeature(counties, ccrs.PlateCarree())"
   ]
  },
  {
   "cell_type": "markdown",
   "metadata": {},
   "source": [
    "Read the gauge locations file and gauge observations file into pandas dataframes, and get the location coordinates."
   ]
  },
  {
   "cell_type": "code",
   "execution_count": 3,
   "metadata": {},
   "outputs": [],
   "source": [
    "# load CCN gauge locations\n",
    "CCN_gauge_locations_fname = 'C:/Users/irene/Documents/Work/Data/Cook_County/CookCounty_gage_locations.csv'\n",
    "# load CCN gauge observations\n",
    "CCN_gauge_observations_fname = 'C:/Users/irene/Documents/Work/Data/Cook_County/WaterYear2013.csv'\n",
    "\n",
    "df_gauge_loc = pd.read_csv(CCN_gauge_locations_fname,header=0)\n",
    "df_gauge = pd.read_csv(CCN_gauge_observations_fname,header=0)\n",
    "\n",
    "x = df_gauge_loc['Longitude - West'].values\n",
    "y = df_gauge_loc['Latitude'].values"
   ]
  },
  {
   "cell_type": "markdown",
   "metadata": {},
   "source": [
    "Define the function to get the file list from Amazon S3."
   ]
  },
  {
   "cell_type": "code",
   "execution_count": 4,
   "metadata": {},
   "outputs": [],
   "source": [
    "def get_radar_scan(station='KLOT', date=None, key_index=-20):\n",
    "    \n",
    "    '''\n",
    "    Function will pull the latest radar scan from any radar site using \n",
    "    Amazon S3.\n",
    "    ----------\n",
    "    Station = Four letter NEXRAD identifier\n",
    "              Example: 'KEPZ'\n",
    "    Date = default is none for current date, else enter date in format \"YYYY/MM/DD\"\n",
    "    Ex: date ='2013/11/17\n",
    "    Key_index = Number of keys you want pulled from most recent scan.\n",
    "    Ex: key_index = -15 would pull ht most recent 15 scans\n",
    "    '''\n",
    "    \n",
    "    # Creating a bucket and a client to be able to pull data from AWS and setting it as unsigned\n",
    "    bucket = 'noaa-nexrad-level2'\n",
    "    s3 = boto3.resource('s3')\n",
    "    s3.meta.client.meta.events.register('choose-signer.s3.*', disable_signing)\n",
    "    \n",
    "    # Connects the bucket create above with radar data\n",
    "    aws_radar = s3.Bucket(bucket)\n",
    "    \n",
    "    # Setting the date and time to current...\n",
    "    # This will allow for allow the current date's radar scands to be pulled\n",
    "    if date == None:\n",
    "        target_string = datetime.datetime.utcnow().strftime('%Y/%m/%d/'+station)\n",
    "    else:\n",
    "        target_string = date+'/'+station\n",
    "    \n",
    "    for obj in aws_radar.objects.filter(Prefix= target_string):\n",
    "        '{0}:{1}'.format(aws_radar.name, obj.key)\n",
    "    my_list_of_keys = [this_object.key for this_object in aws_radar.objects.filter(Prefix= target_string)]\n",
    "    keys = my_list_of_keys[key_index:]\n",
    "    newkeys = []\n",
    "    for key in keys:\n",
    "        if 'MDM' in key:\n",
    "            pass\n",
    "        elif key.endswith('.tar'):\n",
    "            pass\n",
    "        else:\n",
    "            newkeys.append(key)\n",
    "    #print(newkeys)\n",
    "    return aws_radar, newkeys"
   ]
  },
  {
   "cell_type": "code",
   "execution_count": 5,
   "metadata": {},
   "outputs": [],
   "source": [
    "def rounder(t):\n",
    "    \"\"\"\n",
    "    Rounds the time to the nearest hour.\n",
    "    \"\"\"\n",
    "    if t.minute >= 30:\n",
    "        return t.replace(second=0, microsecond=0, minute=0, hour=t.hour+1)\n",
    "    else:\n",
    "        return t.replace(second=0, microsecond=0, minute=0)"
   ]
  },
  {
   "cell_type": "code",
   "execution_count": 6,
   "metadata": {},
   "outputs": [],
   "source": [
    "# Setting radar, date of radar scans needed, and key index (amount of items in list)\n",
    "aws_radar, keys = get_radar_scan(station='KLOT', date='2013/04/18', key_index=-400) "
   ]
  },
  {
   "cell_type": "code",
   "execution_count": 7,
   "metadata": {},
   "outputs": [],
   "source": [
    "newkeys=keys[0:200:10]"
   ]
  },
  {
   "cell_type": "code",
   "execution_count": 8,
   "metadata": {},
   "outputs": [],
   "source": [
    "# loop through the keys by iterating nframe\n",
    "nframe = 14\n",
    "\n",
    "# open a temporary local file\n",
    "localfile = tempfile.NamedTemporaryFile(delete=False)\n",
    "localfile_name = localfile.name\n",
    "localfile.close()\n",
    "\n",
    "# download to temporary file and read to radar object using pyart\n",
    "aws_radar.download_file(newkeys[nframe], localfile_name)\n",
    "radar = pyart.io.read(localfile_name)\n",
    "\n",
    "# delete temporary file to save space\n",
    "os.remove(localfile_name)"
   ]
  },
  {
   "cell_type": "code",
   "execution_count": 9,
   "metadata": {},
   "outputs": [],
   "source": [
    "gatefilter = pyart.filters.GateFilter(radar)\n",
    "# Develop your gatefilter first\n",
    "# exclude masked gates from the gridding\n",
    "#gatefilter = pyart.filters.GateFilter(radar)\n",
    "gatefilter.exclude_transition()\n",
    "gatefilter.exclude_masked('reflectivity')\n",
    "# Mask reflectivity\n",
    "radar.fields[\"corrected_reflectivity\"] = deepcopy(radar.fields[\"reflectivity\"])\n",
    "radar.fields[\"corrected_reflectivity\"][\"data\"] = np.ma.masked_where(\n",
    "    gatefilter._gate_excluded, radar.fields[\"corrected_reflectivity\"][\"data\"])\n",
    "rr = pyart.retrieve.est_rain_rate_z(radar, refl_field=\"corrected_reflectivity\")"
   ]
  },
  {
   "cell_type": "code",
   "execution_count": 10,
   "metadata": {},
   "outputs": [],
   "source": [
    "radar.add_field('rainrate',rr,replace_existing=True)"
   ]
  },
  {
   "cell_type": "code",
   "execution_count": 11,
   "metadata": {},
   "outputs": [],
   "source": [
    "# Mask out last 10 gates of each ray, this removes the \"ring\" around the radar.\n",
    "radar.fields['rainrate']['data'][:, -10:] = np.ma.masked"
   ]
  },
  {
   "cell_type": "code",
   "execution_count": 12,
   "metadata": {},
   "outputs": [
    {
     "name": "stderr",
     "output_type": "stream",
     "text": [
      "C:\\Users\\irene\\Anaconda3\\envs\\saveurproj\\lib\\site-packages\\pyart\\map\\gates_to_grid.py:177: DeprecationWarning: Barnes weighting function is deprecated. Please use Barnes 2 to be consistent with Pauley and Wu 1990.\n",
      "  \" Pauley and Wu 1990.\", DeprecationWarning)\n"
     ]
    }
   ],
   "source": [
    "# perform Cartesian mapping, limit to the reflectivity field.\n",
    "grid = pyart.map.grid_from_radars(\n",
    "    [radar], gatefilters=[gatefilter],\n",
    "    grid_shape=(1, 300, 300),\n",
    "    grid_limits=((2000, 2000), (-123000.0, 123000.0), (-123000.0, 123000.0)),\n",
    "    fields=['rainrate'])"
   ]
  },
  {
   "cell_type": "code",
   "execution_count": 14,
   "metadata": {},
   "outputs": [
    {
     "data": {
      "text/plain": [
       "(1, 300, 300)"
      ]
     },
     "execution_count": 14,
     "metadata": {},
     "output_type": "execute_result"
    }
   ],
   "source": [
    "grid.fields['rainrate']['data'].shape"
   ]
  },
  {
   "cell_type": "code",
   "execution_count": 15,
   "metadata": {},
   "outputs": [
    {
     "data": {
      "image/png": "[encoded data removed]",
      "text/plain": [
       "<Figure size 864x504 with 2 Axes>"
      ]
     },
     "metadata": {
      "needs_background": "light"
     },
     "output_type": "display_data"
    }
   ],
   "source": [
    "projection = ccrs.PlateCarree()\n",
    "\n",
    "fig = plt.figure(figsize=[12,7])\n",
    "display = pyart.graph.GridMapDisplay(grid)\n",
    "display.plot_grid('rainrate', cmap=pyart.graph.cm_colorblind.HomeyerRainbow,\n",
    "                  vmin=0, vmax=75, lat_lines=np.arange(41, 43, .5),\n",
    "                  lon_lines=np.arange(-89, -86.5, .5), projection=projection, embelish=True)"
   ]
  },
  {
   "cell_type": "code",
   "execution_count": 16,
   "metadata": {},
   "outputs": [],
   "source": [
    "# 3.2 Get radar data\n",
    "# Get slice\n",
    "radar_slice0 = radar.get_slice(0)\n",
    "rr_0 = radar.fields['rainrate']['data'][radar_slice0, :]"
   ]
  },
  {
   "cell_type": "code",
   "execution_count": 17,
   "metadata": {},
   "outputs": [],
   "source": [
    "sitecoords = (radar.longitude['data'][0],radar.latitude['data'][0],radar.altitude['data'][0])\n",
    "az = radar.azimuth['data'][radar_slice0]\n",
    "r = radar.range['data']\n",
    "proj = wrl.georef.epsg_to_osr(4326)"
   ]
  },
  {
   "cell_type": "code",
   "execution_count": 18,
   "metadata": {},
   "outputs": [],
   "source": [
    "# save the radar parameters\n",
    "with open('radarparams.pkl','wb') as f:\n",
    "    pickle.dump([sitecoords, az, r],f)"
   ]
  },
  {
   "cell_type": "code",
   "execution_count": 19,
   "metadata": {},
   "outputs": [],
   "source": [
    "radar_depth = wrl.trafo.r_to_depth(rr_0,interval=256)"
   ]
  },
  {
   "cell_type": "code",
   "execution_count": 20,
   "metadata": {},
   "outputs": [
    {
     "data": {
      "text/plain": [
       "<matplotlib.colorbar.Colorbar at 0x28f5521d358>"
      ]
     },
     "execution_count": 20,
     "metadata": {},
     "output_type": "execute_result"
    },
    {
     "data": {
      "image/png": "[encoded data removed]",
      "text/plain": [
       "<Figure size 864x504 with 2 Axes>"
      ]
     },
     "metadata": {
      "needs_background": "light"
     },
     "output_type": "display_data"
    }
   ],
   "source": [
    "fig = plt.figure(figsize=[12,7])\n",
    "ax = fig.add_subplot(111)\n",
    "ax,pm = wrl.vis.plot_ppi(rr_0, r=r, az=az, site=sitecoords,proj=proj, vmin=0, vmax=70, cmap=pyart.graph.cm_colorblind.HomeyerRainbow,ax=ax)\n",
    "plt.xlim(-89,-87)\n",
    "plt.ylim(41,42.5)\n",
    "plt.colorbar(pm)"
   ]
  },
  {
   "cell_type": "code",
   "execution_count": 21,
   "metadata": {},
   "outputs": [],
   "source": [
    "# create an empty dictionary\n",
    "fname_dict = {}\n",
    "for i in arange(1,25,1):\n",
    "    fname_dict[i] = []\n",
    "# fill in dictionary\n",
    "for i in arange(len(keys)):\n",
    "    fname = keys[i].rsplit('/',1)[-1].strip('.gz')\n",
    "    dtime_utc = dt.datetime.strptime(fname,'KLOT%Y%m%d_%H%M%S_V06')\n",
    "    fname_dict[dtime_utc.hour+1].append(keys[i])"
   ]
  },
  {
   "cell_type": "code",
   "execution_count": 22,
   "metadata": {},
   "outputs": [
    {
     "data": {
      "text/plain": [
       "{1: ['2013/04/18/KLOT/KLOT20130418_000354_V06.gz',\n",
       "  '2013/04/18/KLOT/KLOT20130418_000810_V06.gz',\n",
       "  '2013/04/18/KLOT/KLOT20130418_001228_V06.gz',\n",
       "  '2013/04/18/KLOT/KLOT20130418_001645_V06.gz',\n",
       "  '2013/04/18/KLOT/KLOT20130418_002102_V06.gz',\n",
       "  '2013/04/18/KLOT/KLOT20130418_002518_V06.gz',\n",
       "  '2013/04/18/KLOT/KLOT20130418_002934_V06.gz',\n",
       "  '2013/04/18/KLOT/KLOT20130418_003350_V06.gz',\n",
       "  '2013/04/18/KLOT/KLOT20130418_003807_V06.gz',\n",
       "  '2013/04/18/KLOT/KLOT20130418_004223_V06.gz',\n",
       "  '2013/04/18/KLOT/KLOT20130418_004639_V06.gz',\n",
       "  '2013/04/18/KLOT/KLOT20130418_005057_V06.gz',\n",
       "  '2013/04/18/KLOT/KLOT20130418_005514_V06.gz',\n",
       "  '2013/04/18/KLOT/KLOT20130418_005932_V06.gz'],\n",
       " 2: ['2013/04/18/KLOT/KLOT20130418_010349_V06.gz',\n",
       "  '2013/04/18/KLOT/KLOT20130418_010806_V06.gz',\n",
       "  '2013/04/18/KLOT/KLOT20130418_011223_V06.gz',\n",
       "  '2013/04/18/KLOT/KLOT20130418_011640_V06.gz',\n",
       "  '2013/04/18/KLOT/KLOT20130418_012057_V06.gz',\n",
       "  '2013/04/18/KLOT/KLOT20130418_012513_V06.gz',\n",
       "  '2013/04/18/KLOT/KLOT20130418_013141_V06.gz',\n",
       "  '2013/04/18/KLOT/KLOT20130418_013559_V06.gz',\n",
       "  '2013/04/18/KLOT/KLOT20130418_014016_V06.gz',\n",
       "  '2013/04/18/KLOT/KLOT20130418_014432_V06.gz',\n",
       "  '2013/04/18/KLOT/KLOT20130418_014849_V06.gz',\n",
       "  '2013/04/18/KLOT/KLOT20130418_015305_V06.gz',\n",
       "  '2013/04/18/KLOT/KLOT20130418_015722_V06.gz'],\n",
       " 3: ['2013/04/18/KLOT/KLOT20130418_020140_V06.gz',\n",
       "  '2013/04/18/KLOT/KLOT20130418_020557_V06.gz',\n",
       "  '2013/04/18/KLOT/KLOT20130418_021013_V06.gz',\n",
       "  '2013/04/18/KLOT/KLOT20130418_021430_V06.gz',\n",
       "  '2013/04/18/KLOT/KLOT20130418_021847_V06.gz',\n",
       "  '2013/04/18/KLOT/KLOT20130418_022303_V06.gz',\n",
       "  '2013/04/18/KLOT/KLOT20130418_022719_V06.gz',\n",
       "  '2013/04/18/KLOT/KLOT20130418_023138_V06.gz',\n",
       "  '2013/04/18/KLOT/KLOT20130418_023556_V06.gz',\n",
       "  '2013/04/18/KLOT/KLOT20130418_024013_V06.gz',\n",
       "  '2013/04/18/KLOT/KLOT20130418_024430_V06.gz',\n",
       "  '2013/04/18/KLOT/KLOT20130418_024846_V06.gz',\n",
       "  '2013/04/18/KLOT/KLOT20130418_025302_V06.gz',\n",
       "  '2013/04/18/KLOT/KLOT20130418_025718_V06.gz'],\n",
       " 4: ['2013/04/18/KLOT/KLOT20130418_030134_V06.gz',\n",
       "  '2013/04/18/KLOT/KLOT20130418_030551_V06.gz',\n",
       "  '2013/04/18/KLOT/KLOT20130418_031008_V06.gz',\n",
       "  '2013/04/18/KLOT/KLOT20130418_031423_V06.gz',\n",
       "  '2013/04/18/KLOT/KLOT20130418_031839_V06.gz',\n",
       "  '2013/04/18/KLOT/KLOT20130418_032257_V06.gz',\n",
       "  '2013/04/18/KLOT/KLOT20130418_032713_V06.gz',\n",
       "  '2013/04/18/KLOT/KLOT20130418_033131_V06.gz',\n",
       "  '2013/04/18/KLOT/KLOT20130418_033549_V06.gz',\n",
       "  '2013/04/18/KLOT/KLOT20130418_034005_V06.gz',\n",
       "  '2013/04/18/KLOT/KLOT20130418_034421_V06.gz',\n",
       "  '2013/04/18/KLOT/KLOT20130418_034838_V06.gz',\n",
       "  '2013/04/18/KLOT/KLOT20130418_035254_V06.gz',\n",
       "  '2013/04/18/KLOT/KLOT20130418_035711_V06.gz'],\n",
       " 5: ['2013/04/18/KLOT/KLOT20130418_040127_V06.gz',\n",
       "  '2013/04/18/KLOT/KLOT20130418_040544_V06.gz',\n",
       "  '2013/04/18/KLOT/KLOT20130418_041000_V06.gz',\n",
       "  '2013/04/18/KLOT/KLOT20130418_041416_V06.gz',\n",
       "  '2013/04/18/KLOT/KLOT20130418_041833_V06.gz',\n",
       "  '2013/04/18/KLOT/KLOT20130418_042249_V06.gz',\n",
       "  '2013/04/18/KLOT/KLOT20130418_042707_V06.gz',\n",
       "  '2013/04/18/KLOT/KLOT20130418_043123_V06.gz',\n",
       "  '2013/04/18/KLOT/KLOT20130418_043539_V06.gz',\n",
       "  '2013/04/18/KLOT/KLOT20130418_043955_V06.gz',\n",
       "  '2013/04/18/KLOT/KLOT20130418_044412_V06.gz',\n",
       "  '2013/04/18/KLOT/KLOT20130418_044829_V06.gz',\n",
       "  '2013/04/18/KLOT/KLOT20130418_045246_V06.gz',\n",
       "  '2013/04/18/KLOT/KLOT20130418_045703_V06.gz'],\n",
       " 6: ['2013/04/18/KLOT/KLOT20130418_050120_V06.gz',\n",
       "  '2013/04/18/KLOT/KLOT20130418_050536_V06.gz',\n",
       "  '2013/04/18/KLOT/KLOT20130418_050953_V06.gz',\n",
       "  '2013/04/18/KLOT/KLOT20130418_051410_V06.gz',\n",
       "  '2013/04/18/KLOT/KLOT20130418_051826_V06.gz',\n",
       "  '2013/04/18/KLOT/KLOT20130418_052242_V06.gz',\n",
       "  '2013/04/18/KLOT/KLOT20130418_052700_V06.gz',\n",
       "  '2013/04/18/KLOT/KLOT20130418_053116_V06.gz',\n",
       "  '2013/04/18/KLOT/KLOT20130418_053532_V06.gz',\n",
       "  '2013/04/18/KLOT/KLOT20130418_053951_V06.gz',\n",
       "  '2013/04/18/KLOT/KLOT20130418_054407_V06.gz',\n",
       "  '2013/04/18/KLOT/KLOT20130418_054823_V06.gz',\n",
       "  '2013/04/18/KLOT/KLOT20130418_055242_V06.gz',\n",
       "  '2013/04/18/KLOT/KLOT20130418_055659_V06.gz'],\n",
       " 7: ['2013/04/18/KLOT/KLOT20130418_060116_V06.gz',\n",
       "  '2013/04/18/KLOT/KLOT20130418_060531_V06.gz',\n",
       "  '2013/04/18/KLOT/KLOT20130418_060949_V06.gz',\n",
       "  '2013/04/18/KLOT/KLOT20130418_061405_V06.gz',\n",
       "  '2013/04/18/KLOT/KLOT20130418_061822_V06.gz',\n",
       "  '2013/04/18/KLOT/KLOT20130418_062239_V06.gz',\n",
       "  '2013/04/18/KLOT/KLOT20130418_062655_V06.gz',\n",
       "  '2013/04/18/KLOT/KLOT20130418_063111_V06.gz',\n",
       "  '2013/04/18/KLOT/KLOT20130418_063527_V06.gz',\n",
       "  '2013/04/18/KLOT/KLOT20130418_063944_V06.gz',\n",
       "  '2013/04/18/KLOT/KLOT20130418_064400_V06.gz',\n",
       "  '2013/04/18/KLOT/KLOT20130418_064817_V06.gz',\n",
       "  '2013/04/18/KLOT/KLOT20130418_065233_V06.gz',\n",
       "  '2013/04/18/KLOT/KLOT20130418_065649_V06.gz'],\n",
       " 8: ['2013/04/18/KLOT/KLOT20130418_070106_V06.gz',\n",
       "  '2013/04/18/KLOT/KLOT20130418_070523_V06.gz',\n",
       "  '2013/04/18/KLOT/KLOT20130418_070939_V06.gz',\n",
       "  '2013/04/18/KLOT/KLOT20130418_071356_V06.gz',\n",
       "  '2013/04/18/KLOT/KLOT20130418_071812_V06.gz',\n",
       "  '2013/04/18/KLOT/KLOT20130418_072228_V06.gz',\n",
       "  '2013/04/18/KLOT/KLOT20130418_072644_V06.gz',\n",
       "  '2013/04/18/KLOT/KLOT20130418_073101_V06.gz',\n",
       "  '2013/04/18/KLOT/KLOT20130418_073517_V06.gz',\n",
       "  '2013/04/18/KLOT/KLOT20130418_073936_V06.gz',\n",
       "  '2013/04/18/KLOT/KLOT20130418_074352_V06.gz',\n",
       "  '2013/04/18/KLOT/KLOT20130418_074808_V06.gz',\n",
       "  '2013/04/18/KLOT/KLOT20130418_075225_V06.gz',\n",
       "  '2013/04/18/KLOT/KLOT20130418_075642_V06.gz'],\n",
       " 9: ['2013/04/18/KLOT/KLOT20130418_080058_V06.gz',\n",
       "  '2013/04/18/KLOT/KLOT20130418_080514_V06.gz',\n",
       "  '2013/04/18/KLOT/KLOT20130418_080931_V06.gz',\n",
       "  '2013/04/18/KLOT/KLOT20130418_081347_V06.gz',\n",
       "  '2013/04/18/KLOT/KLOT20130418_081803_V06.gz',\n",
       "  '2013/04/18/KLOT/KLOT20130418_082220_V06.gz',\n",
       "  '2013/04/18/KLOT/KLOT20130418_082637_V06.gz',\n",
       "  '2013/04/18/KLOT/KLOT20130418_083053_V06.gz',\n",
       "  '2013/04/18/KLOT/KLOT20130418_083509_V06.gz',\n",
       "  '2013/04/18/KLOT/KLOT20130418_083927_V06.gz',\n",
       "  '2013/04/18/KLOT/KLOT20130418_084342_V06.gz',\n",
       "  '2013/04/18/KLOT/KLOT20130418_084758_V06.gz',\n",
       "  '2013/04/18/KLOT/KLOT20130418_085215_V06.gz',\n",
       "  '2013/04/18/KLOT/KLOT20130418_085631_V06.gz'],\n",
       " 10: ['2013/04/18/KLOT/KLOT20130418_090048_V06.gz',\n",
       "  '2013/04/18/KLOT/KLOT20130418_090504_V06.gz',\n",
       "  '2013/04/18/KLOT/KLOT20130418_090921_V06.gz',\n",
       "  '2013/04/18/KLOT/KLOT20130418_091337_V06.gz',\n",
       "  '2013/04/18/KLOT/KLOT20130418_091753_V06.gz',\n",
       "  '2013/04/18/KLOT/KLOT20130418_092209_V06.gz',\n",
       "  '2013/04/18/KLOT/KLOT20130418_092624_V06.gz',\n",
       "  '2013/04/18/KLOT/KLOT20130418_093251_V06.gz',\n",
       "  '2013/04/18/KLOT/KLOT20130418_093707_V06.gz',\n",
       "  '2013/04/18/KLOT/KLOT20130418_094124_V06.gz',\n",
       "  '2013/04/18/KLOT/KLOT20130418_094541_V06.gz',\n",
       "  '2013/04/18/KLOT/KLOT20130418_094957_V06.gz',\n",
       "  '2013/04/18/KLOT/KLOT20130418_095413_V06.gz',\n",
       "  '2013/04/18/KLOT/KLOT20130418_095831_V06.gz'],\n",
       " 11: ['2013/04/18/KLOT/KLOT20130418_100247_V06.gz',\n",
       "  '2013/04/18/KLOT/KLOT20130418_100702_V06.gz',\n",
       "  '2013/04/18/KLOT/KLOT20130418_101119_V06.gz',\n",
       "  '2013/04/18/KLOT/KLOT20130418_101535_V06.gz',\n",
       "  '2013/04/18/KLOT/KLOT20130418_101952_V06.gz',\n",
       "  '2013/04/18/KLOT/KLOT20130418_102408_V06.gz',\n",
       "  '2013/04/18/KLOT/KLOT20130418_102825_V06.gz',\n",
       "  '2013/04/18/KLOT/KLOT20130418_103242_V06.gz',\n",
       "  '2013/04/18/KLOT/KLOT20130418_103658_V06.gz',\n",
       "  '2013/04/18/KLOT/KLOT20130418_104114_V06.gz',\n",
       "  '2013/04/18/KLOT/KLOT20130418_104530_V06.gz',\n",
       "  '2013/04/18/KLOT/KLOT20130418_104946_V06.gz',\n",
       "  '2013/04/18/KLOT/KLOT20130418_105403_V06.gz',\n",
       "  '2013/04/18/KLOT/KLOT20130418_105819_V06.gz'],\n",
       " 12: ['2013/04/18/KLOT/KLOT20130418_110235_V06.gz',\n",
       "  '2013/04/18/KLOT/KLOT20130418_110651_V06.gz',\n",
       "  '2013/04/18/KLOT/KLOT20130418_111109_V06.gz',\n",
       "  '2013/04/18/KLOT/KLOT20130418_111525_V06.gz',\n",
       "  '2013/04/18/KLOT/KLOT20130418_111940_V06.gz',\n",
       "  '2013/04/18/KLOT/KLOT20130418_112355_V06.gz',\n",
       "  '2013/04/18/KLOT/KLOT20130418_112813_V06.gz',\n",
       "  '2013/04/18/KLOT/KLOT20130418_113229_V06.gz',\n",
       "  '2013/04/18/KLOT/KLOT20130418_113646_V06.gz',\n",
       "  '2013/04/18/KLOT/KLOT20130418_114102_V06.gz',\n",
       "  '2013/04/18/KLOT/KLOT20130418_114518_V06.gz',\n",
       "  '2013/04/18/KLOT/KLOT20130418_114933_V06.gz',\n",
       "  '2013/04/18/KLOT/KLOT20130418_115350_V06.gz',\n",
       "  '2013/04/18/KLOT/KLOT20130418_115806_V06.gz'],\n",
       " 13: ['2013/04/18/KLOT/KLOT20130418_120222_V06.gz',\n",
       "  '2013/04/18/KLOT/KLOT20130418_120638_V06.gz',\n",
       "  '2013/04/18/KLOT/KLOT20130418_121054_V06.gz',\n",
       "  '2013/04/18/KLOT/KLOT20130418_121509_V06.gz',\n",
       "  '2013/04/18/KLOT/KLOT20130418_121926_V06.gz',\n",
       "  '2013/04/18/KLOT/KLOT20130418_122341_V06.gz',\n",
       "  '2013/04/18/KLOT/KLOT20130418_122757_V06.gz',\n",
       "  '2013/04/18/KLOT/KLOT20130418_123212_V06.gz',\n",
       "  '2013/04/18/KLOT/KLOT20130418_123629_V06.gz',\n",
       "  '2013/04/18/KLOT/KLOT20130418_124045_V06.gz',\n",
       "  '2013/04/18/KLOT/KLOT20130418_124500_V06.gz',\n",
       "  '2013/04/18/KLOT/KLOT20130418_124916_V06.gz',\n",
       "  '2013/04/18/KLOT/KLOT20130418_125333_V06.gz',\n",
       "  '2013/04/18/KLOT/KLOT20130418_125748_V06.gz'],\n",
       " 14: ['2013/04/18/KLOT/KLOT20130418_130206_V06.gz',\n",
       "  '2013/04/18/KLOT/KLOT20130418_130623_V06.gz',\n",
       "  '2013/04/18/KLOT/KLOT20130418_131040_V06.gz',\n",
       "  '2013/04/18/KLOT/KLOT20130418_131456_V06.gz',\n",
       "  '2013/04/18/KLOT/KLOT20130418_131912_V06.gz',\n",
       "  '2013/04/18/KLOT/KLOT20130418_132329_V06.gz',\n",
       "  '2013/04/18/KLOT/KLOT20130418_132745_V06.gz',\n",
       "  '2013/04/18/KLOT/KLOT20130418_133203_V06.gz',\n",
       "  '2013/04/18/KLOT/KLOT20130418_133619_V06.gz',\n",
       "  '2013/04/18/KLOT/KLOT20130418_134037_V06.gz',\n",
       "  '2013/04/18/KLOT/KLOT20130418_134452_V06.gz',\n",
       "  '2013/04/18/KLOT/KLOT20130418_134908_V06.gz',\n",
       "  '2013/04/18/KLOT/KLOT20130418_135324_V06.gz',\n",
       "  '2013/04/18/KLOT/KLOT20130418_135740_V06.gz'],\n",
       " 15: ['2013/04/18/KLOT/KLOT20130418_140156_V06.gz',\n",
       "  '2013/04/18/KLOT/KLOT20130418_140613_V06.gz',\n",
       "  '2013/04/18/KLOT/KLOT20130418_141028_V06.gz',\n",
       "  '2013/04/18/KLOT/KLOT20130418_141445_V06.gz',\n",
       "  '2013/04/18/KLOT/KLOT20130418_141901_V06.gz',\n",
       "  '2013/04/18/KLOT/KLOT20130418_142319_V06.gz',\n",
       "  '2013/04/18/KLOT/KLOT20130418_142735_V06.gz',\n",
       "  '2013/04/18/KLOT/KLOT20130418_143150_V06.gz',\n",
       "  '2013/04/18/KLOT/KLOT20130418_143607_V06.gz',\n",
       "  '2013/04/18/KLOT/KLOT20130418_144023_V06.gz',\n",
       "  '2013/04/18/KLOT/KLOT20130418_144439_V06.gz',\n",
       "  '2013/04/18/KLOT/KLOT20130418_144856_V06.gz',\n",
       "  '2013/04/18/KLOT/KLOT20130418_145313_V06.gz',\n",
       "  '2013/04/18/KLOT/KLOT20130418_145728_V06.gz'],\n",
       " 16: ['2013/04/18/KLOT/KLOT20130418_150144_V06.gz',\n",
       "  '2013/04/18/KLOT/KLOT20130418_150602_V06.gz',\n",
       "  '2013/04/18/KLOT/KLOT20130418_151018_V06.gz',\n",
       "  '2013/04/18/KLOT/KLOT20130418_151435_V06.gz',\n",
       "  '2013/04/18/KLOT/KLOT20130418_151851_V06.gz',\n",
       "  '2013/04/18/KLOT/KLOT20130418_152309_V06.gz',\n",
       "  '2013/04/18/KLOT/KLOT20130418_152725_V06.gz',\n",
       "  '2013/04/18/KLOT/KLOT20130418_153142_V06.gz',\n",
       "  '2013/04/18/KLOT/KLOT20130418_153558_V06.gz',\n",
       "  '2013/04/18/KLOT/KLOT20130418_154015_V06.gz',\n",
       "  '2013/04/18/KLOT/KLOT20130418_154433_V06.gz',\n",
       "  '2013/04/18/KLOT/KLOT20130418_154849_V06.gz',\n",
       "  '2013/04/18/KLOT/KLOT20130418_155304_V06.gz',\n",
       "  '2013/04/18/KLOT/KLOT20130418_155719_V06.gz'],\n",
       " 17: ['2013/04/18/KLOT/KLOT20130418_160136_V06.gz',\n",
       "  '2013/04/18/KLOT/KLOT20130418_160552_V06.gz',\n",
       "  '2013/04/18/KLOT/KLOT20130418_161010_V06.gz',\n",
       "  '2013/04/18/KLOT/KLOT20130418_161426_V06.gz',\n",
       "  '2013/04/18/KLOT/KLOT20130418_161842_V06.gz',\n",
       "  '2013/04/18/KLOT/KLOT20130418_162259_V06.gz',\n",
       "  '2013/04/18/KLOT/KLOT20130418_162717_V06.gz',\n",
       "  '2013/04/18/KLOT/KLOT20130418_163134_V06.gz',\n",
       "  '2013/04/18/KLOT/KLOT20130418_163550_V06.gz',\n",
       "  '2013/04/18/KLOT/KLOT20130418_164007_V06.gz',\n",
       "  '2013/04/18/KLOT/KLOT20130418_164423_V06.gz',\n",
       "  '2013/04/18/KLOT/KLOT20130418_164839_V06.gz',\n",
       "  '2013/04/18/KLOT/KLOT20130418_165256_V06.gz',\n",
       "  '2013/04/18/KLOT/KLOT20130418_165714_V06.gz'],\n",
       " 18: ['2013/04/18/KLOT/KLOT20130418_170130_V06.gz',\n",
       "  '2013/04/18/KLOT/KLOT20130418_170548_V06.gz',\n",
       "  '2013/04/18/KLOT/KLOT20130418_171005_V06.gz',\n",
       "  '2013/04/18/KLOT/KLOT20130418_171422_V06.gz',\n",
       "  '2013/04/18/KLOT/KLOT20130418_171838_V06.gz',\n",
       "  '2013/04/18/KLOT/KLOT20130418_172257_V06.gz',\n",
       "  '2013/04/18/KLOT/KLOT20130418_172713_V06.gz',\n",
       "  '2013/04/18/KLOT/KLOT20130418_173334_V06.gz',\n",
       "  '2013/04/18/KLOT/KLOT20130418_173749_V06.gz',\n",
       "  '2013/04/18/KLOT/KLOT20130418_174206_V06.gz',\n",
       "  '2013/04/18/KLOT/KLOT20130418_174624_V06.gz',\n",
       "  '2013/04/18/KLOT/KLOT20130418_175041_V06.gz',\n",
       "  '2013/04/18/KLOT/KLOT20130418_175457_V06.gz',\n",
       "  '2013/04/18/KLOT/KLOT20130418_175913_V06.gz'],\n",
       " 19: ['2013/04/18/KLOT/KLOT20130418_180330_V06.gz',\n",
       "  '2013/04/18/KLOT/KLOT20130418_180747_V06.gz',\n",
       "  '2013/04/18/KLOT/KLOT20130418_181204_V06.gz',\n",
       "  '2013/04/18/KLOT/KLOT20130418_181621_V06.gz',\n",
       "  '2013/04/18/KLOT/KLOT20130418_182038_V06.gz',\n",
       "  '2013/04/18/KLOT/KLOT20130418_182453_V06.gz',\n",
       "  '2013/04/18/KLOT/KLOT20130418_182909_V06.gz',\n",
       "  '2013/04/18/KLOT/KLOT20130418_183326_V06.gz',\n",
       "  '2013/04/18/KLOT/KLOT20130418_183744_V06.gz',\n",
       "  '2013/04/18/KLOT/KLOT20130418_184200_V06.gz',\n",
       "  '2013/04/18/KLOT/KLOT20130418_184617_V06.gz',\n",
       "  '2013/04/18/KLOT/KLOT20130418_185033_V06.gz',\n",
       "  '2013/04/18/KLOT/KLOT20130418_185448_V06.gz',\n",
       "  '2013/04/18/KLOT/KLOT20130418_185905_V06.gz'],\n",
       " 20: ['2013/04/18/KLOT/KLOT20130418_190323_V06.gz',\n",
       "  '2013/04/18/KLOT/KLOT20130418_190739_V06.gz',\n",
       "  '2013/04/18/KLOT/KLOT20130418_191156_V06.gz',\n",
       "  '2013/04/18/KLOT/KLOT20130418_191612_V06.gz',\n",
       "  '2013/04/18/KLOT/KLOT20130418_192030_V06.gz',\n",
       "  '2013/04/18/KLOT/KLOT20130418_192446_V06.gz',\n",
       "  '2013/04/18/KLOT/KLOT20130418_192903_V06.gz',\n",
       "  '2013/04/18/KLOT/KLOT20130418_193319_V06.gz',\n",
       "  '2013/04/18/KLOT/KLOT20130418_193736_V06.gz',\n",
       "  '2013/04/18/KLOT/KLOT20130418_194152_V06.gz',\n",
       "  '2013/04/18/KLOT/KLOT20130418_194609_V06.gz',\n",
       "  '2013/04/18/KLOT/KLOT20130418_195027_V06.gz',\n",
       "  '2013/04/18/KLOT/KLOT20130418_195443_V06.gz',\n",
       "  '2013/04/18/KLOT/KLOT20130418_195900_V06.gz'],\n",
       " 21: ['2013/04/18/KLOT/KLOT20130418_200316_V06.gz',\n",
       "  '2013/04/18/KLOT/KLOT20130418_200732_V06.gz',\n",
       "  '2013/04/18/KLOT/KLOT20130418_201149_V06.gz',\n",
       "  '2013/04/18/KLOT/KLOT20130418_201605_V06.gz',\n",
       "  '2013/04/18/KLOT/KLOT20130418_202020_V06.gz',\n",
       "  '2013/04/18/KLOT/KLOT20130418_202436_V06.gz',\n",
       "  '2013/04/18/KLOT/KLOT20130418_202855_V06.gz',\n",
       "  '2013/04/18/KLOT/KLOT20130418_203310_V06.gz',\n",
       "  '2013/04/18/KLOT/KLOT20130418_203726_V06.gz',\n",
       "  '2013/04/18/KLOT/KLOT20130418_204142_V06.gz',\n",
       "  '2013/04/18/KLOT/KLOT20130418_204557_V06.gz',\n",
       "  '2013/04/18/KLOT/KLOT20130418_205013_V06.gz',\n",
       "  '2013/04/18/KLOT/KLOT20130418_205431_V06.gz',\n",
       "  '2013/04/18/KLOT/KLOT20130418_205846_V06.gz'],\n",
       " 22: ['2013/04/18/KLOT/KLOT20130418_210303_V06.gz',\n",
       "  '2013/04/18/KLOT/KLOT20130418_210706_V06.gz',\n",
       "  '2013/04/18/KLOT/KLOT20130418_211122_V06.gz',\n",
       "  '2013/04/18/KLOT/KLOT20130418_211538_V06.gz',\n",
       "  '2013/04/18/KLOT/KLOT20130418_211957_V06.gz',\n",
       "  '2013/04/18/KLOT/KLOT20130418_212412_V06.gz',\n",
       "  '2013/04/18/KLOT/KLOT20130418_212815_V06.gz',\n",
       "  '2013/04/18/KLOT/KLOT20130418_213219_V06.gz',\n",
       "  '2013/04/18/KLOT/KLOT20130418_213637_V06.gz',\n",
       "  '2013/04/18/KLOT/KLOT20130418_214054_V06.gz',\n",
       "  '2013/04/18/KLOT/KLOT20130418_214511_V06.gz',\n",
       "  '2013/04/18/KLOT/KLOT20130418_214928_V06.gz',\n",
       "  '2013/04/18/KLOT/KLOT20130418_215345_V06.gz',\n",
       "  '2013/04/18/KLOT/KLOT20130418_215801_V06.gz'],\n",
       " 23: ['2013/04/18/KLOT/KLOT20130418_220217_V06.gz',\n",
       "  '2013/04/18/KLOT/KLOT20130418_220634_V06.gz',\n",
       "  '2013/04/18/KLOT/KLOT20130418_221051_V06.gz',\n",
       "  '2013/04/18/KLOT/KLOT20130418_221508_V06.gz',\n",
       "  '2013/04/18/KLOT/KLOT20130418_221925_V06.gz',\n",
       "  '2013/04/18/KLOT/KLOT20130418_222341_V06.gz',\n",
       "  '2013/04/18/KLOT/KLOT20130418_222759_V06.gz',\n",
       "  '2013/04/18/KLOT/KLOT20130418_223216_V06.gz',\n",
       "  '2013/04/18/KLOT/KLOT20130418_223632_V06.gz',\n",
       "  '2013/04/18/KLOT/KLOT20130418_224050_V06.gz',\n",
       "  '2013/04/18/KLOT/KLOT20130418_224507_V06.gz',\n",
       "  '2013/04/18/KLOT/KLOT20130418_224923_V06.gz',\n",
       "  '2013/04/18/KLOT/KLOT20130418_225341_V06.gz',\n",
       "  '2013/04/18/KLOT/KLOT20130418_225758_V06.gz'],\n",
       " 24: ['2013/04/18/KLOT/KLOT20130418_230215_V06.gz',\n",
       "  '2013/04/18/KLOT/KLOT20130418_230620_V06.gz',\n",
       "  '2013/04/18/KLOT/KLOT20130418_231024_V06.gz',\n",
       "  '2013/04/18/KLOT/KLOT20130418_231426_V06.gz',\n",
       "  '2013/04/18/KLOT/KLOT20130418_231829_V06.gz',\n",
       "  '2013/04/18/KLOT/KLOT20130418_232245_V06.gz',\n",
       "  '2013/04/18/KLOT/KLOT20130418_232648_V06.gz',\n",
       "  '2013/04/18/KLOT/KLOT20130418_233039_V06.gz',\n",
       "  '2013/04/18/KLOT/KLOT20130418_233416_V06.gz',\n",
       "  '2013/04/18/KLOT/KLOT20130418_233753_V06.gz',\n",
       "  '2013/04/18/KLOT/KLOT20130418_234129_V06.gz',\n",
       "  '2013/04/18/KLOT/KLOT20130418_234505_V06.gz',\n",
       "  '2013/04/18/KLOT/KLOT20130418_234842_V06.gz',\n",
       "  '2013/04/18/KLOT/KLOT20130418_235219_V06.gz',\n",
       "  '2013/04/18/KLOT/KLOT20130418_235622_V06.gz',\n",
       "  '2013/04/18/KLOT/KLOT20130418_235959_V06.gz']}"
      ]
     },
     "execution_count": 22,
     "metadata": {},
     "output_type": "execute_result"
    }
   ],
   "source": [
    "fname_dict"
   ]
  },
  {
   "cell_type": "code",
   "execution_count": 23,
   "metadata": {
    "scrolled": true
   },
   "outputs": [
    {
     "name": "stdout",
     "output_type": "stream",
     "text": [
      "1\n",
      "."
     ]
    },
    {
     "name": "stderr",
     "output_type": "stream",
     "text": [
      "C:\\Users\\irene\\Anaconda3\\envs\\saveurproj\\lib\\site-packages\\pyart\\map\\gates_to_grid.py:177: DeprecationWarning: Barnes weighting function is deprecated. Please use Barnes 2 to be consistent with Pauley and Wu 1990.\n",
      "  \" Pauley and Wu 1990.\", DeprecationWarning)\n"
     ]
    },
    {
     "name": "stdout",
     "output_type": "stream",
     "text": [
      "."
     ]
    },
    {
     "name": "stderr",
     "output_type": "stream",
     "text": [
      "C:\\Users\\irene\\Anaconda3\\envs\\saveurproj\\lib\\site-packages\\pyart\\map\\gates_to_grid.py:177: DeprecationWarning: Barnes weighting function is deprecated. Please use Barnes 2 to be consistent with Pauley and Wu 1990.\n",
      "  \" Pauley and Wu 1990.\", DeprecationWarning)\n"
     ]
    },
    {
     "name": "stdout",
     "output_type": "stream",
     "text": [
      "."
     ]
    },
    {
     "name": "stderr",
     "output_type": "stream",
     "text": [
      "C:\\Users\\irene\\Anaconda3\\envs\\saveurproj\\lib\\site-packages\\pyart\\map\\gates_to_grid.py:177: DeprecationWarning: Barnes weighting function is deprecated. Please use Barnes 2 to be consistent with Pauley and Wu 1990.\n",
      "  \" Pauley and Wu 1990.\", DeprecationWarning)\n"
     ]
    },
    {
     "name": "stdout",
     "output_type": "stream",
     "text": [
      "."
     ]
    },
    {
     "name": "stderr",
     "output_type": "stream",
     "text": [
      "C:\\Users\\irene\\Anaconda3\\envs\\saveurproj\\lib\\site-packages\\pyart\\map\\gates_to_grid.py:177: DeprecationWarning: Barnes weighting function is deprecated. Please use Barnes 2 to be consistent with Pauley and Wu 1990.\n",
      "  \" Pauley and Wu 1990.\", DeprecationWarning)\n"
     ]
    },
    {
     "name": "stdout",
     "output_type": "stream",
     "text": [
      "."
     ]
    },
    {
     "name": "stderr",
     "output_type": "stream",
     "text": [
      "C:\\Users\\irene\\Anaconda3\\envs\\saveurproj\\lib\\site-packages\\pyart\\map\\gates_to_grid.py:177: DeprecationWarning: Barnes weighting function is deprecated. Please use Barnes 2 to be consistent with Pauley and Wu 1990.\n",
      "  \" Pauley and Wu 1990.\", DeprecationWarning)\n"
     ]
    },
    {
     "name": "stdout",
     "output_type": "stream",
     "text": [
      "."
     ]
    },
    {
     "name": "stderr",
     "output_type": "stream",
     "text": [
      "C:\\Users\\irene\\Anaconda3\\envs\\saveurproj\\lib\\site-packages\\pyart\\map\\gates_to_grid.py:177: DeprecationWarning: Barnes weighting function is deprecated. Please use Barnes 2 to be consistent with Pauley and Wu 1990.\n",
      "  \" Pauley and Wu 1990.\", DeprecationWarning)\n"
     ]
    },
    {
     "name": "stdout",
     "output_type": "stream",
     "text": [
      "."
     ]
    },
    {
     "name": "stderr",
     "output_type": "stream",
     "text": [
      "C:\\Users\\irene\\Anaconda3\\envs\\saveurproj\\lib\\site-packages\\pyart\\map\\gates_to_grid.py:177: DeprecationWarning: Barnes weighting function is deprecated. Please use Barnes 2 to be consistent with Pauley and Wu 1990.\n",
      "  \" Pauley and Wu 1990.\", DeprecationWarning)\n"
     ]
    },
    {
     "name": "stdout",
     "output_type": "stream",
     "text": [
      "."
     ]
    },
    {
     "name": "stderr",
     "output_type": "stream",
     "text": [
      "C:\\Users\\irene\\Anaconda3\\envs\\saveurproj\\lib\\site-packages\\pyart\\map\\gates_to_grid.py:177: DeprecationWarning: Barnes weighting function is deprecated. Please use Barnes 2 to be consistent with Pauley and Wu 1990.\n",
      "  \" Pauley and Wu 1990.\", DeprecationWarning)\n"
     ]
    },
    {
     "name": "stdout",
     "output_type": "stream",
     "text": [
      "."
     ]
    },
    {
     "name": "stderr",
     "output_type": "stream",
     "text": [
      "C:\\Users\\irene\\Anaconda3\\envs\\saveurproj\\lib\\site-packages\\pyart\\map\\gates_to_grid.py:177: DeprecationWarning: Barnes weighting function is deprecated. Please use Barnes 2 to be consistent with Pauley and Wu 1990.\n",
      "  \" Pauley and Wu 1990.\", DeprecationWarning)\n"
     ]
    },
    {
     "name": "stdout",
     "output_type": "stream",
     "text": [
      "."
     ]
    },
    {
     "name": "stderr",
     "output_type": "stream",
     "text": [
      "C:\\Users\\irene\\Anaconda3\\envs\\saveurproj\\lib\\site-packages\\pyart\\map\\gates_to_grid.py:177: DeprecationWarning: Barnes weighting function is deprecated. Please use Barnes 2 to be consistent with Pauley and Wu 1990.\n",
      "  \" Pauley and Wu 1990.\", DeprecationWarning)\n"
     ]
    },
    {
     "name": "stdout",
     "output_type": "stream",
     "text": [
      "."
     ]
    },
    {
     "name": "stderr",
     "output_type": "stream",
     "text": [
      "C:\\Users\\irene\\Anaconda3\\envs\\saveurproj\\lib\\site-packages\\pyart\\map\\gates_to_grid.py:177: DeprecationWarning: Barnes weighting function is deprecated. Please use Barnes 2 to be consistent with Pauley and Wu 1990.\n",
      "  \" Pauley and Wu 1990.\", DeprecationWarning)\n"
     ]
    },
    {
     "name": "stdout",
     "output_type": "stream",
     "text": [
      "."
     ]
    },
    {
     "name": "stderr",
     "output_type": "stream",
     "text": [
      "C:\\Users\\irene\\Anaconda3\\envs\\saveurproj\\lib\\site-packages\\pyart\\map\\gates_to_grid.py:177: DeprecationWarning: Barnes weighting function is deprecated. Please use Barnes 2 to be consistent with Pauley and Wu 1990.\n",
      "  \" Pauley and Wu 1990.\", DeprecationWarning)\n"
     ]
    },
    {
     "name": "stdout",
     "output_type": "stream",
     "text": [
      "."
     ]
    },
    {
     "name": "stderr",
     "output_type": "stream",
     "text": [
      "C:\\Users\\irene\\Anaconda3\\envs\\saveurproj\\lib\\site-packages\\pyart\\map\\gates_to_grid.py:177: DeprecationWarning: Barnes weighting function is deprecated. Please use Barnes 2 to be consistent with Pauley and Wu 1990.\n",
      "  \" Pauley and Wu 1990.\", DeprecationWarning)\n"
     ]
    },
    {
     "name": "stdout",
     "output_type": "stream",
     "text": [
      "."
     ]
    },
    {
     "name": "stderr",
     "output_type": "stream",
     "text": [
      "C:\\Users\\irene\\Anaconda3\\envs\\saveurproj\\lib\\site-packages\\pyart\\map\\gates_to_grid.py:177: DeprecationWarning: Barnes weighting function is deprecated. Please use Barnes 2 to be consistent with Pauley and Wu 1990.\n",
      "  \" Pauley and Wu 1990.\", DeprecationWarning)\n"
     ]
    },
    {
     "name": "stdout",
     "output_type": "stream",
     "text": [
      "\n",
      "2\n",
      "."
     ]
    },
    {
     "name": "stderr",
     "output_type": "stream",
     "text": [
      "C:\\Users\\irene\\Anaconda3\\envs\\saveurproj\\lib\\site-packages\\pyart\\map\\gates_to_grid.py:177: DeprecationWarning: Barnes weighting function is deprecated. Please use Barnes 2 to be consistent with Pauley and Wu 1990.\n",
      "  \" Pauley and Wu 1990.\", DeprecationWarning)\n"
     ]
    },
    {
     "name": "stdout",
     "output_type": "stream",
     "text": [
      "."
     ]
    },
    {
     "name": "stderr",
     "output_type": "stream",
     "text": [
      "C:\\Users\\irene\\Anaconda3\\envs\\saveurproj\\lib\\site-packages\\pyart\\map\\gates_to_grid.py:177: DeprecationWarning: Barnes weighting function is deprecated. Please use Barnes 2 to be consistent with Pauley and Wu 1990.\n",
      "  \" Pauley and Wu 1990.\", DeprecationWarning)\n"
     ]
    },
    {
     "name": "stdout",
     "output_type": "stream",
     "text": [
      "."
     ]
    },
    {
     "name": "stderr",
     "output_type": "stream",
     "text": [
      "C:\\Users\\irene\\Anaconda3\\envs\\saveurproj\\lib\\site-packages\\pyart\\map\\gates_to_grid.py:177: DeprecationWarning: Barnes weighting function is deprecated. Please use Barnes 2 to be consistent with Pauley and Wu 1990.\n",
      "  \" Pauley and Wu 1990.\", DeprecationWarning)\n"
     ]
    },
    {
     "name": "stdout",
     "output_type": "stream",
     "text": [
      "."
     ]
    },
    {
     "name": "stderr",
     "output_type": "stream",
     "text": [
      "C:\\Users\\irene\\Anaconda3\\envs\\saveurproj\\lib\\site-packages\\pyart\\map\\gates_to_grid.py:177: DeprecationWarning: Barnes weighting function is deprecated. Please use Barnes 2 to be consistent with Pauley and Wu 1990.\n",
      "  \" Pauley and Wu 1990.\", DeprecationWarning)\n"
     ]
    },
    {
     "name": "stdout",
     "output_type": "stream",
     "text": [
      "."
     ]
    },
    {
     "name": "stderr",
     "output_type": "stream",
     "text": [
      "C:\\Users\\irene\\Anaconda3\\envs\\saveurproj\\lib\\site-packages\\pyart\\map\\gates_to_grid.py:177: DeprecationWarning: Barnes weighting function is deprecated. Please use Barnes 2 to be consistent with Pauley and Wu 1990.\n",
      "  \" Pauley and Wu 1990.\", DeprecationWarning)\n"
     ]
    },
    {
     "name": "stdout",
     "output_type": "stream",
     "text": [
      "."
     ]
    },
    {
     "name": "stderr",
     "output_type": "stream",
     "text": [
      "C:\\Users\\irene\\Anaconda3\\envs\\saveurproj\\lib\\site-packages\\pyart\\map\\gates_to_grid.py:177: DeprecationWarning: Barnes weighting function is deprecated. Please use Barnes 2 to be consistent with Pauley and Wu 1990.\n",
      "  \" Pauley and Wu 1990.\", DeprecationWarning)\n"
     ]
    },
    {
     "name": "stdout",
     "output_type": "stream",
     "text": [
      "."
     ]
    },
    {
     "name": "stderr",
     "output_type": "stream",
     "text": [
      "C:\\Users\\irene\\Anaconda3\\envs\\saveurproj\\lib\\site-packages\\pyart\\map\\gates_to_grid.py:177: DeprecationWarning: Barnes weighting function is deprecated. Please use Barnes 2 to be consistent with Pauley and Wu 1990.\n",
      "  \" Pauley and Wu 1990.\", DeprecationWarning)\n"
     ]
    },
    {
     "name": "stdout",
     "output_type": "stream",
     "text": [
      "."
     ]
    },
    {
     "name": "stderr",
     "output_type": "stream",
     "text": [
      "C:\\Users\\irene\\Anaconda3\\envs\\saveurproj\\lib\\site-packages\\pyart\\map\\gates_to_grid.py:177: DeprecationWarning: Barnes weighting function is deprecated. Please use Barnes 2 to be consistent with Pauley and Wu 1990.\n",
      "  \" Pauley and Wu 1990.\", DeprecationWarning)\n"
     ]
    },
    {
     "name": "stdout",
     "output_type": "stream",
     "text": [
      "."
     ]
    },
    {
     "name": "stderr",
     "output_type": "stream",
     "text": [
      "C:\\Users\\irene\\Anaconda3\\envs\\saveurproj\\lib\\site-packages\\pyart\\map\\gates_to_grid.py:177: DeprecationWarning: Barnes weighting function is deprecated. Please use Barnes 2 to be consistent with Pauley and Wu 1990.\n",
      "  \" Pauley and Wu 1990.\", DeprecationWarning)\n"
     ]
    },
    {
     "name": "stdout",
     "output_type": "stream",
     "text": [
      "."
     ]
    },
    {
     "name": "stderr",
     "output_type": "stream",
     "text": [
      "C:\\Users\\irene\\Anaconda3\\envs\\saveurproj\\lib\\site-packages\\pyart\\map\\gates_to_grid.py:177: DeprecationWarning: Barnes weighting function is deprecated. Please use Barnes 2 to be consistent with Pauley and Wu 1990.\n",
      "  \" Pauley and Wu 1990.\", DeprecationWarning)\n"
     ]
    },
    {
     "name": "stdout",
     "output_type": "stream",
     "text": [
      "."
     ]
    },
    {
     "name": "stderr",
     "output_type": "stream",
     "text": [
      "C:\\Users\\irene\\Anaconda3\\envs\\saveurproj\\lib\\site-packages\\pyart\\map\\gates_to_grid.py:177: DeprecationWarning: Barnes weighting function is deprecated. Please use Barnes 2 to be consistent with Pauley and Wu 1990.\n",
      "  \" Pauley and Wu 1990.\", DeprecationWarning)\n"
     ]
    },
    {
     "name": "stdout",
     "output_type": "stream",
     "text": [
      "."
     ]
    },
    {
     "name": "stderr",
     "output_type": "stream",
     "text": [
      "C:\\Users\\irene\\Anaconda3\\envs\\saveurproj\\lib\\site-packages\\pyart\\map\\gates_to_grid.py:177: DeprecationWarning: Barnes weighting function is deprecated. Please use Barnes 2 to be consistent with Pauley and Wu 1990.\n",
      "  \" Pauley and Wu 1990.\", DeprecationWarning)\n"
     ]
    },
    {
     "name": "stdout",
     "output_type": "stream",
     "text": [
      "."
     ]
    },
    {
     "name": "stderr",
     "output_type": "stream",
     "text": [
      "C:\\Users\\irene\\Anaconda3\\envs\\saveurproj\\lib\\site-packages\\pyart\\map\\gates_to_grid.py:177: DeprecationWarning: Barnes weighting function is deprecated. Please use Barnes 2 to be consistent with Pauley and Wu 1990.\n",
      "  \" Pauley and Wu 1990.\", DeprecationWarning)\n"
     ]
    },
    {
     "name": "stdout",
     "output_type": "stream",
     "text": [
      "\n",
      "3\n",
      "."
     ]
    },
    {
     "name": "stderr",
     "output_type": "stream",
     "text": [
      "C:\\Users\\irene\\Anaconda3\\envs\\saveurproj\\lib\\site-packages\\pyart\\map\\gates_to_grid.py:177: DeprecationWarning: Barnes weighting function is deprecated. Please use Barnes 2 to be consistent with Pauley and Wu 1990.\n",
      "  \" Pauley and Wu 1990.\", DeprecationWarning)\n"
     ]
    },
    {
     "name": "stdout",
     "output_type": "stream",
     "text": [
      "."
     ]
    },
    {
     "name": "stderr",
     "output_type": "stream",
     "text": [
      "C:\\Users\\irene\\Anaconda3\\envs\\saveurproj\\lib\\site-packages\\pyart\\map\\gates_to_grid.py:177: DeprecationWarning: Barnes weighting function is deprecated. Please use Barnes 2 to be consistent with Pauley and Wu 1990.\n",
      "  \" Pauley and Wu 1990.\", DeprecationWarning)\n"
     ]
    },
    {
     "name": "stdout",
     "output_type": "stream",
     "text": [
      "."
     ]
    },
    {
     "name": "stderr",
     "output_type": "stream",
     "text": [
      "C:\\Users\\irene\\Anaconda3\\envs\\saveurproj\\lib\\site-packages\\pyart\\map\\gates_to_grid.py:177: DeprecationWarning: Barnes weighting function is deprecated. Please use Barnes 2 to be consistent with Pauley and Wu 1990.\n",
      "  \" Pauley and Wu 1990.\", DeprecationWarning)\n"
     ]
    },
    {
     "name": "stdout",
     "output_type": "stream",
     "text": [
      "."
     ]
    },
    {
     "name": "stderr",
     "output_type": "stream",
     "text": [
      "C:\\Users\\irene\\Anaconda3\\envs\\saveurproj\\lib\\site-packages\\pyart\\map\\gates_to_grid.py:177: DeprecationWarning: Barnes weighting function is deprecated. Please use Barnes 2 to be consistent with Pauley and Wu 1990.\n",
      "  \" Pauley and Wu 1990.\", DeprecationWarning)\n"
     ]
    },
    {
     "name": "stdout",
     "output_type": "stream",
     "text": [
      "."
     ]
    },
    {
     "name": "stderr",
     "output_type": "stream",
     "text": [
      "C:\\Users\\irene\\Anaconda3\\envs\\saveurproj\\lib\\site-packages\\pyart\\map\\gates_to_grid.py:177: DeprecationWarning: Barnes weighting function is deprecated. Please use Barnes 2 to be consistent with Pauley and Wu 1990.\n",
      "  \" Pauley and Wu 1990.\", DeprecationWarning)\n"
     ]
    },
    {
     "name": "stdout",
     "output_type": "stream",
     "text": [
      "."
     ]
    },
    {
     "name": "stderr",
     "output_type": "stream",
     "text": [
      "C:\\Users\\irene\\Anaconda3\\envs\\saveurproj\\lib\\site-packages\\pyart\\map\\gates_to_grid.py:177: DeprecationWarning: Barnes weighting function is deprecated. Please use Barnes 2 to be consistent with Pauley and Wu 1990.\n",
      "  \" Pauley and Wu 1990.\", DeprecationWarning)\n"
     ]
    },
    {
     "name": "stdout",
     "output_type": "stream",
     "text": [
      "."
     ]
    },
    {
     "name": "stderr",
     "output_type": "stream",
     "text": [
      "C:\\Users\\irene\\Anaconda3\\envs\\saveurproj\\lib\\site-packages\\pyart\\map\\gates_to_grid.py:177: DeprecationWarning: Barnes weighting function is deprecated. Please use Barnes 2 to be consistent with Pauley and Wu 1990.\n",
      "  \" Pauley and Wu 1990.\", DeprecationWarning)\n"
     ]
    },
    {
     "name": "stdout",
     "output_type": "stream",
     "text": [
      "."
     ]
    },
    {
     "name": "stderr",
     "output_type": "stream",
     "text": [
      "C:\\Users\\irene\\Anaconda3\\envs\\saveurproj\\lib\\site-packages\\pyart\\map\\gates_to_grid.py:177: DeprecationWarning: Barnes weighting function is deprecated. Please use Barnes 2 to be consistent with Pauley and Wu 1990.\n",
      "  \" Pauley and Wu 1990.\", DeprecationWarning)\n"
     ]
    },
    {
     "name": "stdout",
     "output_type": "stream",
     "text": [
      "."
     ]
    },
    {
     "name": "stderr",
     "output_type": "stream",
     "text": [
      "C:\\Users\\irene\\Anaconda3\\envs\\saveurproj\\lib\\site-packages\\pyart\\map\\gates_to_grid.py:177: DeprecationWarning: Barnes weighting function is deprecated. Please use Barnes 2 to be consistent with Pauley and Wu 1990.\n",
      "  \" Pauley and Wu 1990.\", DeprecationWarning)\n"
     ]
    },
    {
     "name": "stdout",
     "output_type": "stream",
     "text": [
      "."
     ]
    },
    {
     "name": "stderr",
     "output_type": "stream",
     "text": [
      "C:\\Users\\irene\\Anaconda3\\envs\\saveurproj\\lib\\site-packages\\pyart\\map\\gates_to_grid.py:177: DeprecationWarning: Barnes weighting function is deprecated. Please use Barnes 2 to be consistent with Pauley and Wu 1990.\n",
      "  \" Pauley and Wu 1990.\", DeprecationWarning)\n"
     ]
    },
    {
     "name": "stdout",
     "output_type": "stream",
     "text": [
      "."
     ]
    },
    {
     "name": "stderr",
     "output_type": "stream",
     "text": [
      "C:\\Users\\irene\\Anaconda3\\envs\\saveurproj\\lib\\site-packages\\pyart\\map\\gates_to_grid.py:177: DeprecationWarning: Barnes weighting function is deprecated. Please use Barnes 2 to be consistent with Pauley and Wu 1990.\n",
      "  \" Pauley and Wu 1990.\", DeprecationWarning)\n"
     ]
    },
    {
     "name": "stdout",
     "output_type": "stream",
     "text": [
      "."
     ]
    },
    {
     "name": "stderr",
     "output_type": "stream",
     "text": [
      "C:\\Users\\irene\\Anaconda3\\envs\\saveurproj\\lib\\site-packages\\pyart\\map\\gates_to_grid.py:177: DeprecationWarning: Barnes weighting function is deprecated. Please use Barnes 2 to be consistent with Pauley and Wu 1990.\n",
      "  \" Pauley and Wu 1990.\", DeprecationWarning)\n"
     ]
    },
    {
     "name": "stdout",
     "output_type": "stream",
     "text": [
      "."
     ]
    },
    {
     "name": "stderr",
     "output_type": "stream",
     "text": [
      "C:\\Users\\irene\\Anaconda3\\envs\\saveurproj\\lib\\site-packages\\pyart\\map\\gates_to_grid.py:177: DeprecationWarning: Barnes weighting function is deprecated. Please use Barnes 2 to be consistent with Pauley and Wu 1990.\n",
      "  \" Pauley and Wu 1990.\", DeprecationWarning)\n"
     ]
    },
    {
     "name": "stdout",
     "output_type": "stream",
     "text": [
      "."
     ]
    },
    {
     "name": "stderr",
     "output_type": "stream",
     "text": [
      "C:\\Users\\irene\\Anaconda3\\envs\\saveurproj\\lib\\site-packages\\pyart\\map\\gates_to_grid.py:177: DeprecationWarning: Barnes weighting function is deprecated. Please use Barnes 2 to be consistent with Pauley and Wu 1990.\n",
      "  \" Pauley and Wu 1990.\", DeprecationWarning)\n"
     ]
    },
    {
     "name": "stdout",
     "output_type": "stream",
     "text": [
      "\n",
      "4\n",
      "."
     ]
    },
    {
     "name": "stderr",
     "output_type": "stream",
     "text": [
      "C:\\Users\\irene\\Anaconda3\\envs\\saveurproj\\lib\\site-packages\\pyart\\map\\gates_to_grid.py:177: DeprecationWarning: Barnes weighting function is deprecated. Please use Barnes 2 to be consistent with Pauley and Wu 1990.\n",
      "  \" Pauley and Wu 1990.\", DeprecationWarning)\n"
     ]
    },
    {
     "name": "stdout",
     "output_type": "stream",
     "text": [
      "."
     ]
    },
    {
     "name": "stderr",
     "output_type": "stream",
     "text": [
      "C:\\Users\\irene\\Anaconda3\\envs\\saveurproj\\lib\\site-packages\\pyart\\map\\gates_to_grid.py:177: DeprecationWarning: Barnes weighting function is deprecated. Please use Barnes 2 to be consistent with Pauley and Wu 1990.\n",
      "  \" Pauley and Wu 1990.\", DeprecationWarning)\n"
     ]
    },
    {
     "name": "stdout",
     "output_type": "stream",
     "text": [
      "."
     ]
    },
    {
     "name": "stderr",
     "output_type": "stream",
     "text": [
      "C:\\Users\\irene\\Anaconda3\\envs\\saveurproj\\lib\\site-packages\\pyart\\map\\gates_to_grid.py:177: DeprecationWarning: Barnes weighting function is deprecated. Please use Barnes 2 to be consistent with Pauley and Wu 1990.\n",
      "  \" Pauley and Wu 1990.\", DeprecationWarning)\n"
     ]
    },
    {
     "name": "stdout",
     "output_type": "stream",
     "text": [
      "."
     ]
    },
    {
     "name": "stderr",
     "output_type": "stream",
     "text": [
      "C:\\Users\\irene\\Anaconda3\\envs\\saveurproj\\lib\\site-packages\\pyart\\map\\gates_to_grid.py:177: DeprecationWarning: Barnes weighting function is deprecated. Please use Barnes 2 to be consistent with Pauley and Wu 1990.\n",
      "  \" Pauley and Wu 1990.\", DeprecationWarning)\n"
     ]
    },
    {
     "name": "stdout",
     "output_type": "stream",
     "text": [
      "."
     ]
    },
    {
     "name": "stderr",
     "output_type": "stream",
     "text": [
      "C:\\Users\\irene\\Anaconda3\\envs\\saveurproj\\lib\\site-packages\\pyart\\map\\gates_to_grid.py:177: DeprecationWarning: Barnes weighting function is deprecated. Please use Barnes 2 to be consistent with Pauley and Wu 1990.\n",
      "  \" Pauley and Wu 1990.\", DeprecationWarning)\n"
     ]
    },
    {
     "name": "stdout",
     "output_type": "stream",
     "text": [
      "."
     ]
    },
    {
     "name": "stderr",
     "output_type": "stream",
     "text": [
      "C:\\Users\\irene\\Anaconda3\\envs\\saveurproj\\lib\\site-packages\\pyart\\map\\gates_to_grid.py:177: DeprecationWarning: Barnes weighting function is deprecated. Please use Barnes 2 to be consistent with Pauley and Wu 1990.\n",
      "  \" Pauley and Wu 1990.\", DeprecationWarning)\n"
     ]
    },
    {
     "name": "stdout",
     "output_type": "stream",
     "text": [
      "."
     ]
    },
    {
     "name": "stderr",
     "output_type": "stream",
     "text": [
      "C:\\Users\\irene\\Anaconda3\\envs\\saveurproj\\lib\\site-packages\\pyart\\map\\gates_to_grid.py:177: DeprecationWarning: Barnes weighting function is deprecated. Please use Barnes 2 to be consistent with Pauley and Wu 1990.\n",
      "  \" Pauley and Wu 1990.\", DeprecationWarning)\n"
     ]
    },
    {
     "name": "stdout",
     "output_type": "stream",
     "text": [
      "."
     ]
    },
    {
     "name": "stderr",
     "output_type": "stream",
     "text": [
      "C:\\Users\\irene\\Anaconda3\\envs\\saveurproj\\lib\\site-packages\\pyart\\map\\gates_to_grid.py:177: DeprecationWarning: Barnes weighting function is deprecated. Please use Barnes 2 to be consistent with Pauley and Wu 1990.\n",
      "  \" Pauley and Wu 1990.\", DeprecationWarning)\n"
     ]
    },
    {
     "name": "stdout",
     "output_type": "stream",
     "text": [
      "."
     ]
    },
    {
     "name": "stderr",
     "output_type": "stream",
     "text": [
      "C:\\Users\\irene\\Anaconda3\\envs\\saveurproj\\lib\\site-packages\\pyart\\map\\gates_to_grid.py:177: DeprecationWarning: Barnes weighting function is deprecated. Please use Barnes 2 to be consistent with Pauley and Wu 1990.\n",
      "  \" Pauley and Wu 1990.\", DeprecationWarning)\n"
     ]
    },
    {
     "name": "stdout",
     "output_type": "stream",
     "text": [
      "."
     ]
    },
    {
     "name": "stderr",
     "output_type": "stream",
     "text": [
      "C:\\Users\\irene\\Anaconda3\\envs\\saveurproj\\lib\\site-packages\\pyart\\map\\gates_to_grid.py:177: DeprecationWarning: Barnes weighting function is deprecated. Please use Barnes 2 to be consistent with Pauley and Wu 1990.\n",
      "  \" Pauley and Wu 1990.\", DeprecationWarning)\n"
     ]
    },
    {
     "name": "stdout",
     "output_type": "stream",
     "text": [
      "."
     ]
    },
    {
     "name": "stderr",
     "output_type": "stream",
     "text": [
      "C:\\Users\\irene\\Anaconda3\\envs\\saveurproj\\lib\\site-packages\\pyart\\map\\gates_to_grid.py:177: DeprecationWarning: Barnes weighting function is deprecated. Please use Barnes 2 to be consistent with Pauley and Wu 1990.\n",
      "  \" Pauley and Wu 1990.\", DeprecationWarning)\n"
     ]
    },
    {
     "name": "stdout",
     "output_type": "stream",
     "text": [
      "."
     ]
    },
    {
     "name": "stderr",
     "output_type": "stream",
     "text": [
      "C:\\Users\\irene\\Anaconda3\\envs\\saveurproj\\lib\\site-packages\\pyart\\map\\gates_to_grid.py:177: DeprecationWarning: Barnes weighting function is deprecated. Please use Barnes 2 to be consistent with Pauley and Wu 1990.\n",
      "  \" Pauley and Wu 1990.\", DeprecationWarning)\n"
     ]
    },
    {
     "name": "stdout",
     "output_type": "stream",
     "text": [
      "."
     ]
    },
    {
     "name": "stderr",
     "output_type": "stream",
     "text": [
      "C:\\Users\\irene\\Anaconda3\\envs\\saveurproj\\lib\\site-packages\\pyart\\map\\gates_to_grid.py:177: DeprecationWarning: Barnes weighting function is deprecated. Please use Barnes 2 to be consistent with Pauley and Wu 1990.\n",
      "  \" Pauley and Wu 1990.\", DeprecationWarning)\n"
     ]
    },
    {
     "name": "stdout",
     "output_type": "stream",
     "text": [
      "."
     ]
    },
    {
     "name": "stderr",
     "output_type": "stream",
     "text": [
      "C:\\Users\\irene\\Anaconda3\\envs\\saveurproj\\lib\\site-packages\\pyart\\map\\gates_to_grid.py:177: DeprecationWarning: Barnes weighting function is deprecated. Please use Barnes 2 to be consistent with Pauley and Wu 1990.\n",
      "  \" Pauley and Wu 1990.\", DeprecationWarning)\n"
     ]
    },
    {
     "name": "stdout",
     "output_type": "stream",
     "text": [
      "\n",
      "5\n",
      "."
     ]
    },
    {
     "name": "stderr",
     "output_type": "stream",
     "text": [
      "C:\\Users\\irene\\Anaconda3\\envs\\saveurproj\\lib\\site-packages\\pyart\\map\\gates_to_grid.py:177: DeprecationWarning: Barnes weighting function is deprecated. Please use Barnes 2 to be consistent with Pauley and Wu 1990.\n",
      "  \" Pauley and Wu 1990.\", DeprecationWarning)\n"
     ]
    },
    {
     "name": "stdout",
     "output_type": "stream",
     "text": [
      "."
     ]
    },
    {
     "name": "stderr",
     "output_type": "stream",
     "text": [
      "C:\\Users\\irene\\Anaconda3\\envs\\saveurproj\\lib\\site-packages\\pyart\\map\\gates_to_grid.py:177: DeprecationWarning: Barnes weighting function is deprecated. Please use Barnes 2 to be consistent with Pauley and Wu 1990.\n",
      "  \" Pauley and Wu 1990.\", DeprecationWarning)\n"
     ]
    },
    {
     "name": "stdout",
     "output_type": "stream",
     "text": [
      "."
     ]
    },
    {
     "name": "stderr",
     "output_type": "stream",
     "text": [
      "C:\\Users\\irene\\Anaconda3\\envs\\saveurproj\\lib\\site-packages\\pyart\\map\\gates_to_grid.py:177: DeprecationWarning: Barnes weighting function is deprecated. Please use Barnes 2 to be consistent with Pauley and Wu 1990.\n",
      "  \" Pauley and Wu 1990.\", DeprecationWarning)\n"
     ]
    },
    {
     "name": "stdout",
     "output_type": "stream",
     "text": [
      "."
     ]
    },
    {
     "name": "stderr",
     "output_type": "stream",
     "text": [
      "C:\\Users\\irene\\Anaconda3\\envs\\saveurproj\\lib\\site-packages\\pyart\\map\\gates_to_grid.py:177: DeprecationWarning: Barnes weighting function is deprecated. Please use Barnes 2 to be consistent with Pauley and Wu 1990.\n",
      "  \" Pauley and Wu 1990.\", DeprecationWarning)\n"
     ]
    },
    {
     "name": "stdout",
     "output_type": "stream",
     "text": [
      "."
     ]
    },
    {
     "name": "stderr",
     "output_type": "stream",
     "text": [
      "C:\\Users\\irene\\Anaconda3\\envs\\saveurproj\\lib\\site-packages\\pyart\\map\\gates_to_grid.py:177: DeprecationWarning: Barnes weighting function is deprecated. Please use Barnes 2 to be consistent with Pauley and Wu 1990.\n",
      "  \" Pauley and Wu 1990.\", DeprecationWarning)\n"
     ]
    },
    {
     "name": "stdout",
     "output_type": "stream",
     "text": [
      "."
     ]
    },
    {
     "name": "stderr",
     "output_type": "stream",
     "text": [
      "C:\\Users\\irene\\Anaconda3\\envs\\saveurproj\\lib\\site-packages\\pyart\\map\\gates_to_grid.py:177: DeprecationWarning: Barnes weighting function is deprecated. Please use Barnes 2 to be consistent with Pauley and Wu 1990.\n",
      "  \" Pauley and Wu 1990.\", DeprecationWarning)\n"
     ]
    },
    {
     "name": "stdout",
     "output_type": "stream",
     "text": [
      "."
     ]
    },
    {
     "name": "stderr",
     "output_type": "stream",
     "text": [
      "C:\\Users\\irene\\Anaconda3\\envs\\saveurproj\\lib\\site-packages\\pyart\\map\\gates_to_grid.py:177: DeprecationWarning: Barnes weighting function is deprecated. Please use Barnes 2 to be consistent with Pauley and Wu 1990.\n",
      "  \" Pauley and Wu 1990.\", DeprecationWarning)\n"
     ]
    },
    {
     "name": "stdout",
     "output_type": "stream",
     "text": [
      "."
     ]
    },
    {
     "name": "stderr",
     "output_type": "stream",
     "text": [
      "C:\\Users\\irene\\Anaconda3\\envs\\saveurproj\\lib\\site-packages\\pyart\\map\\gates_to_grid.py:177: DeprecationWarning: Barnes weighting function is deprecated. Please use Barnes 2 to be consistent with Pauley and Wu 1990.\n",
      "  \" Pauley and Wu 1990.\", DeprecationWarning)\n"
     ]
    },
    {
     "name": "stdout",
     "output_type": "stream",
     "text": [
      "."
     ]
    },
    {
     "name": "stderr",
     "output_type": "stream",
     "text": [
      "C:\\Users\\irene\\Anaconda3\\envs\\saveurproj\\lib\\site-packages\\pyart\\map\\gates_to_grid.py:177: DeprecationWarning: Barnes weighting function is deprecated. Please use Barnes 2 to be consistent with Pauley and Wu 1990.\n",
      "  \" Pauley and Wu 1990.\", DeprecationWarning)\n"
     ]
    },
    {
     "name": "stdout",
     "output_type": "stream",
     "text": [
      "."
     ]
    },
    {
     "name": "stderr",
     "output_type": "stream",
     "text": [
      "C:\\Users\\irene\\Anaconda3\\envs\\saveurproj\\lib\\site-packages\\pyart\\map\\gates_to_grid.py:177: DeprecationWarning: Barnes weighting function is deprecated. Please use Barnes 2 to be consistent with Pauley and Wu 1990.\n",
      "  \" Pauley and Wu 1990.\", DeprecationWarning)\n"
     ]
    },
    {
     "name": "stdout",
     "output_type": "stream",
     "text": [
      "."
     ]
    },
    {
     "name": "stderr",
     "output_type": "stream",
     "text": [
      "C:\\Users\\irene\\Anaconda3\\envs\\saveurproj\\lib\\site-packages\\pyart\\map\\gates_to_grid.py:177: DeprecationWarning: Barnes weighting function is deprecated. Please use Barnes 2 to be consistent with Pauley and Wu 1990.\n",
      "  \" Pauley and Wu 1990.\", DeprecationWarning)\n"
     ]
    },
    {
     "name": "stdout",
     "output_type": "stream",
     "text": [
      "."
     ]
    },
    {
     "name": "stderr",
     "output_type": "stream",
     "text": [
      "C:\\Users\\irene\\Anaconda3\\envs\\saveurproj\\lib\\site-packages\\pyart\\map\\gates_to_grid.py:177: DeprecationWarning: Barnes weighting function is deprecated. Please use Barnes 2 to be consistent with Pauley and Wu 1990.\n",
      "  \" Pauley and Wu 1990.\", DeprecationWarning)\n"
     ]
    },
    {
     "name": "stdout",
     "output_type": "stream",
     "text": [
      "."
     ]
    },
    {
     "name": "stderr",
     "output_type": "stream",
     "text": [
      "C:\\Users\\irene\\Anaconda3\\envs\\saveurproj\\lib\\site-packages\\pyart\\map\\gates_to_grid.py:177: DeprecationWarning: Barnes weighting function is deprecated. Please use Barnes 2 to be consistent with Pauley and Wu 1990.\n",
      "  \" Pauley and Wu 1990.\", DeprecationWarning)\n"
     ]
    },
    {
     "name": "stdout",
     "output_type": "stream",
     "text": [
      "."
     ]
    },
    {
     "name": "stderr",
     "output_type": "stream",
     "text": [
      "C:\\Users\\irene\\Anaconda3\\envs\\saveurproj\\lib\\site-packages\\pyart\\map\\gates_to_grid.py:177: DeprecationWarning: Barnes weighting function is deprecated. Please use Barnes 2 to be consistent with Pauley and Wu 1990.\n",
      "  \" Pauley and Wu 1990.\", DeprecationWarning)\n"
     ]
    },
    {
     "name": "stdout",
     "output_type": "stream",
     "text": [
      "\n",
      "6\n",
      "."
     ]
    },
    {
     "name": "stderr",
     "output_type": "stream",
     "text": [
      "C:\\Users\\irene\\Anaconda3\\envs\\saveurproj\\lib\\site-packages\\pyart\\map\\gates_to_grid.py:177: DeprecationWarning: Barnes weighting function is deprecated. Please use Barnes 2 to be consistent with Pauley and Wu 1990.\n",
      "  \" Pauley and Wu 1990.\", DeprecationWarning)\n"
     ]
    },
    {
     "name": "stdout",
     "output_type": "stream",
     "text": [
      "."
     ]
    },
    {
     "name": "stderr",
     "output_type": "stream",
     "text": [
      "C:\\Users\\irene\\Anaconda3\\envs\\saveurproj\\lib\\site-packages\\pyart\\map\\gates_to_grid.py:177: DeprecationWarning: Barnes weighting function is deprecated. Please use Barnes 2 to be consistent with Pauley and Wu 1990.\n",
      "  \" Pauley and Wu 1990.\", DeprecationWarning)\n"
     ]
    },
    {
     "name": "stdout",
     "output_type": "stream",
     "text": [
      "."
     ]
    },
    {
     "name": "stderr",
     "output_type": "stream",
     "text": [
      "C:\\Users\\irene\\Anaconda3\\envs\\saveurproj\\lib\\site-packages\\pyart\\map\\gates_to_grid.py:177: DeprecationWarning: Barnes weighting function is deprecated. Please use Barnes 2 to be consistent with Pauley and Wu 1990.\n",
      "  \" Pauley and Wu 1990.\", DeprecationWarning)\n"
     ]
    },
    {
     "name": "stdout",
     "output_type": "stream",
     "text": [
      "."
     ]
    },
    {
     "name": "stderr",
     "output_type": "stream",
     "text": [
      "C:\\Users\\irene\\Anaconda3\\envs\\saveurproj\\lib\\site-packages\\pyart\\map\\gates_to_grid.py:177: DeprecationWarning: Barnes weighting function is deprecated. Please use Barnes 2 to be consistent with Pauley and Wu 1990.\n",
      "  \" Pauley and Wu 1990.\", DeprecationWarning)\n"
     ]
    },
    {
     "name": "stdout",
     "output_type": "stream",
     "text": [
      "."
     ]
    },
    {
     "name": "stderr",
     "output_type": "stream",
     "text": [
      "C:\\Users\\irene\\Anaconda3\\envs\\saveurproj\\lib\\site-packages\\pyart\\map\\gates_to_grid.py:177: DeprecationWarning: Barnes weighting function is deprecated. Please use Barnes 2 to be consistent with Pauley and Wu 1990.\n",
      "  \" Pauley and Wu 1990.\", DeprecationWarning)\n"
     ]
    },
    {
     "name": "stdout",
     "output_type": "stream",
     "text": [
      "."
     ]
    },
    {
     "name": "stderr",
     "output_type": "stream",
     "text": [
      "C:\\Users\\irene\\Anaconda3\\envs\\saveurproj\\lib\\site-packages\\pyart\\map\\gates_to_grid.py:177: DeprecationWarning: Barnes weighting function is deprecated. Please use Barnes 2 to be consistent with Pauley and Wu 1990.\n",
      "  \" Pauley and Wu 1990.\", DeprecationWarning)\n"
     ]
    },
    {
     "name": "stdout",
     "output_type": "stream",
     "text": [
      "."
     ]
    },
    {
     "name": "stderr",
     "output_type": "stream",
     "text": [
      "C:\\Users\\irene\\Anaconda3\\envs\\saveurproj\\lib\\site-packages\\pyart\\map\\gates_to_grid.py:177: DeprecationWarning: Barnes weighting function is deprecated. Please use Barnes 2 to be consistent with Pauley and Wu 1990.\n",
      "  \" Pauley and Wu 1990.\", DeprecationWarning)\n"
     ]
    },
    {
     "name": "stdout",
     "output_type": "stream",
     "text": [
      "."
     ]
    },
    {
     "name": "stderr",
     "output_type": "stream",
     "text": [
      "C:\\Users\\irene\\Anaconda3\\envs\\saveurproj\\lib\\site-packages\\pyart\\map\\gates_to_grid.py:177: DeprecationWarning: Barnes weighting function is deprecated. Please use Barnes 2 to be consistent with Pauley and Wu 1990.\n",
      "  \" Pauley and Wu 1990.\", DeprecationWarning)\n"
     ]
    },
    {
     "name": "stdout",
     "output_type": "stream",
     "text": [
      "."
     ]
    },
    {
     "name": "stderr",
     "output_type": "stream",
     "text": [
      "C:\\Users\\irene\\Anaconda3\\envs\\saveurproj\\lib\\site-packages\\pyart\\map\\gates_to_grid.py:177: DeprecationWarning: Barnes weighting function is deprecated. Please use Barnes 2 to be consistent with Pauley and Wu 1990.\n",
      "  \" Pauley and Wu 1990.\", DeprecationWarning)\n"
     ]
    },
    {
     "name": "stdout",
     "output_type": "stream",
     "text": [
      "."
     ]
    },
    {
     "name": "stderr",
     "output_type": "stream",
     "text": [
      "C:\\Users\\irene\\Anaconda3\\envs\\saveurproj\\lib\\site-packages\\pyart\\map\\gates_to_grid.py:177: DeprecationWarning: Barnes weighting function is deprecated. Please use Barnes 2 to be consistent with Pauley and Wu 1990.\n",
      "  \" Pauley and Wu 1990.\", DeprecationWarning)\n"
     ]
    },
    {
     "name": "stdout",
     "output_type": "stream",
     "text": [
      "."
     ]
    },
    {
     "name": "stderr",
     "output_type": "stream",
     "text": [
      "C:\\Users\\irene\\Anaconda3\\envs\\saveurproj\\lib\\site-packages\\pyart\\map\\gates_to_grid.py:177: DeprecationWarning: Barnes weighting function is deprecated. Please use Barnes 2 to be consistent with Pauley and Wu 1990.\n",
      "  \" Pauley and Wu 1990.\", DeprecationWarning)\n"
     ]
    },
    {
     "name": "stdout",
     "output_type": "stream",
     "text": [
      "."
     ]
    },
    {
     "name": "stderr",
     "output_type": "stream",
     "text": [
      "C:\\Users\\irene\\Anaconda3\\envs\\saveurproj\\lib\\site-packages\\pyart\\map\\gates_to_grid.py:177: DeprecationWarning: Barnes weighting function is deprecated. Please use Barnes 2 to be consistent with Pauley and Wu 1990.\n",
      "  \" Pauley and Wu 1990.\", DeprecationWarning)\n"
     ]
    },
    {
     "name": "stdout",
     "output_type": "stream",
     "text": [
      "."
     ]
    },
    {
     "name": "stderr",
     "output_type": "stream",
     "text": [
      "C:\\Users\\irene\\Anaconda3\\envs\\saveurproj\\lib\\site-packages\\pyart\\map\\gates_to_grid.py:177: DeprecationWarning: Barnes weighting function is deprecated. Please use Barnes 2 to be consistent with Pauley and Wu 1990.\n",
      "  \" Pauley and Wu 1990.\", DeprecationWarning)\n"
     ]
    },
    {
     "name": "stdout",
     "output_type": "stream",
     "text": [
      "."
     ]
    },
    {
     "name": "stderr",
     "output_type": "stream",
     "text": [
      "C:\\Users\\irene\\Anaconda3\\envs\\saveurproj\\lib\\site-packages\\pyart\\map\\gates_to_grid.py:177: DeprecationWarning: Barnes weighting function is deprecated. Please use Barnes 2 to be consistent with Pauley and Wu 1990.\n",
      "  \" Pauley and Wu 1990.\", DeprecationWarning)\n"
     ]
    },
    {
     "name": "stdout",
     "output_type": "stream",
     "text": [
      "\n",
      "7\n",
      "."
     ]
    },
    {
     "name": "stderr",
     "output_type": "stream",
     "text": [
      "C:\\Users\\irene\\Anaconda3\\envs\\saveurproj\\lib\\site-packages\\pyart\\map\\gates_to_grid.py:177: DeprecationWarning: Barnes weighting function is deprecated. Please use Barnes 2 to be consistent with Pauley and Wu 1990.\n",
      "  \" Pauley and Wu 1990.\", DeprecationWarning)\n"
     ]
    },
    {
     "name": "stdout",
     "output_type": "stream",
     "text": [
      "."
     ]
    },
    {
     "name": "stderr",
     "output_type": "stream",
     "text": [
      "C:\\Users\\irene\\Anaconda3\\envs\\saveurproj\\lib\\site-packages\\pyart\\map\\gates_to_grid.py:177: DeprecationWarning: Barnes weighting function is deprecated. Please use Barnes 2 to be consistent with Pauley and Wu 1990.\n",
      "  \" Pauley and Wu 1990.\", DeprecationWarning)\n"
     ]
    },
    {
     "name": "stdout",
     "output_type": "stream",
     "text": [
      "."
     ]
    },
    {
     "name": "stderr",
     "output_type": "stream",
     "text": [
      "C:\\Users\\irene\\Anaconda3\\envs\\saveurproj\\lib\\site-packages\\pyart\\map\\gates_to_grid.py:177: DeprecationWarning: Barnes weighting function is deprecated. Please use Barnes 2 to be consistent with Pauley and Wu 1990.\n",
      "  \" Pauley and Wu 1990.\", DeprecationWarning)\n"
     ]
    },
    {
     "name": "stdout",
     "output_type": "stream",
     "text": [
      "."
     ]
    },
    {
     "name": "stderr",
     "output_type": "stream",
     "text": [
      "C:\\Users\\irene\\Anaconda3\\envs\\saveurproj\\lib\\site-packages\\pyart\\map\\gates_to_grid.py:177: DeprecationWarning: Barnes weighting function is deprecated. Please use Barnes 2 to be consistent with Pauley and Wu 1990.\n",
      "  \" Pauley and Wu 1990.\", DeprecationWarning)\n"
     ]
    },
    {
     "name": "stdout",
     "output_type": "stream",
     "text": [
      "."
     ]
    },
    {
     "name": "stderr",
     "output_type": "stream",
     "text": [
      "C:\\Users\\irene\\Anaconda3\\envs\\saveurproj\\lib\\site-packages\\pyart\\map\\gates_to_grid.py:177: DeprecationWarning: Barnes weighting function is deprecated. Please use Barnes 2 to be consistent with Pauley and Wu 1990.\n",
      "  \" Pauley and Wu 1990.\", DeprecationWarning)\n"
     ]
    },
    {
     "name": "stdout",
     "output_type": "stream",
     "text": [
      "."
     ]
    },
    {
     "name": "stderr",
     "output_type": "stream",
     "text": [
      "C:\\Users\\irene\\Anaconda3\\envs\\saveurproj\\lib\\site-packages\\pyart\\map\\gates_to_grid.py:177: DeprecationWarning: Barnes weighting function is deprecated. Please use Barnes 2 to be consistent with Pauley and Wu 1990.\n",
      "  \" Pauley and Wu 1990.\", DeprecationWarning)\n"
     ]
    },
    {
     "name": "stdout",
     "output_type": "stream",
     "text": [
      "."
     ]
    },
    {
     "name": "stderr",
     "output_type": "stream",
     "text": [
      "C:\\Users\\irene\\Anaconda3\\envs\\saveurproj\\lib\\site-packages\\pyart\\map\\gates_to_grid.py:177: DeprecationWarning: Barnes weighting function is deprecated. Please use Barnes 2 to be consistent with Pauley and Wu 1990.\n",
      "  \" Pauley and Wu 1990.\", DeprecationWarning)\n"
     ]
    },
    {
     "name": "stdout",
     "output_type": "stream",
     "text": [
      "."
     ]
    },
    {
     "name": "stderr",
     "output_type": "stream",
     "text": [
      "C:\\Users\\irene\\Anaconda3\\envs\\saveurproj\\lib\\site-packages\\pyart\\map\\gates_to_grid.py:177: DeprecationWarning: Barnes weighting function is deprecated. Please use Barnes 2 to be consistent with Pauley and Wu 1990.\n",
      "  \" Pauley and Wu 1990.\", DeprecationWarning)\n"
     ]
    },
    {
     "name": "stdout",
     "output_type": "stream",
     "text": [
      "."
     ]
    },
    {
     "name": "stderr",
     "output_type": "stream",
     "text": [
      "C:\\Users\\irene\\Anaconda3\\envs\\saveurproj\\lib\\site-packages\\pyart\\map\\gates_to_grid.py:177: DeprecationWarning: Barnes weighting function is deprecated. Please use Barnes 2 to be consistent with Pauley and Wu 1990.\n",
      "  \" Pauley and Wu 1990.\", DeprecationWarning)\n"
     ]
    },
    {
     "name": "stdout",
     "output_type": "stream",
     "text": [
      "."
     ]
    },
    {
     "name": "stderr",
     "output_type": "stream",
     "text": [
      "C:\\Users\\irene\\Anaconda3\\envs\\saveurproj\\lib\\site-packages\\pyart\\map\\gates_to_grid.py:177: DeprecationWarning: Barnes weighting function is deprecated. Please use Barnes 2 to be consistent with Pauley and Wu 1990.\n",
      "  \" Pauley and Wu 1990.\", DeprecationWarning)\n"
     ]
    },
    {
     "name": "stdout",
     "output_type": "stream",
     "text": [
      "."
     ]
    },
    {
     "name": "stderr",
     "output_type": "stream",
     "text": [
      "C:\\Users\\irene\\Anaconda3\\envs\\saveurproj\\lib\\site-packages\\pyart\\map\\gates_to_grid.py:177: DeprecationWarning: Barnes weighting function is deprecated. Please use Barnes 2 to be consistent with Pauley and Wu 1990.\n",
      "  \" Pauley and Wu 1990.\", DeprecationWarning)\n"
     ]
    },
    {
     "name": "stdout",
     "output_type": "stream",
     "text": [
      "."
     ]
    },
    {
     "name": "stderr",
     "output_type": "stream",
     "text": [
      "C:\\Users\\irene\\Anaconda3\\envs\\saveurproj\\lib\\site-packages\\pyart\\map\\gates_to_grid.py:177: DeprecationWarning: Barnes weighting function is deprecated. Please use Barnes 2 to be consistent with Pauley and Wu 1990.\n",
      "  \" Pauley and Wu 1990.\", DeprecationWarning)\n"
     ]
    },
    {
     "name": "stdout",
     "output_type": "stream",
     "text": [
      "."
     ]
    },
    {
     "name": "stderr",
     "output_type": "stream",
     "text": [
      "C:\\Users\\irene\\Anaconda3\\envs\\saveurproj\\lib\\site-packages\\pyart\\map\\gates_to_grid.py:177: DeprecationWarning: Barnes weighting function is deprecated. Please use Barnes 2 to be consistent with Pauley and Wu 1990.\n",
      "  \" Pauley and Wu 1990.\", DeprecationWarning)\n"
     ]
    },
    {
     "name": "stdout",
     "output_type": "stream",
     "text": [
      "."
     ]
    },
    {
     "name": "stderr",
     "output_type": "stream",
     "text": [
      "C:\\Users\\irene\\Anaconda3\\envs\\saveurproj\\lib\\site-packages\\pyart\\map\\gates_to_grid.py:177: DeprecationWarning: Barnes weighting function is deprecated. Please use Barnes 2 to be consistent with Pauley and Wu 1990.\n",
      "  \" Pauley and Wu 1990.\", DeprecationWarning)\n"
     ]
    },
    {
     "name": "stdout",
     "output_type": "stream",
     "text": [
      "\n",
      "8\n",
      "."
     ]
    },
    {
     "name": "stderr",
     "output_type": "stream",
     "text": [
      "C:\\Users\\irene\\Anaconda3\\envs\\saveurproj\\lib\\site-packages\\pyart\\map\\gates_to_grid.py:177: DeprecationWarning: Barnes weighting function is deprecated. Please use Barnes 2 to be consistent with Pauley and Wu 1990.\n",
      "  \" Pauley and Wu 1990.\", DeprecationWarning)\n"
     ]
    },
    {
     "name": "stdout",
     "output_type": "stream",
     "text": [
      "."
     ]
    },
    {
     "name": "stderr",
     "output_type": "stream",
     "text": [
      "C:\\Users\\irene\\Anaconda3\\envs\\saveurproj\\lib\\site-packages\\pyart\\map\\gates_to_grid.py:177: DeprecationWarning: Barnes weighting function is deprecated. Please use Barnes 2 to be consistent with Pauley and Wu 1990.\n",
      "  \" Pauley and Wu 1990.\", DeprecationWarning)\n"
     ]
    },
    {
     "name": "stdout",
     "output_type": "stream",
     "text": [
      "."
     ]
    },
    {
     "name": "stderr",
     "output_type": "stream",
     "text": [
      "C:\\Users\\irene\\Anaconda3\\envs\\saveurproj\\lib\\site-packages\\pyart\\map\\gates_to_grid.py:177: DeprecationWarning: Barnes weighting function is deprecated. Please use Barnes 2 to be consistent with Pauley and Wu 1990.\n",
      "  \" Pauley and Wu 1990.\", DeprecationWarning)\n"
     ]
    },
    {
     "name": "stdout",
     "output_type": "stream",
     "text": [
      "."
     ]
    },
    {
     "name": "stderr",
     "output_type": "stream",
     "text": [
      "C:\\Users\\irene\\Anaconda3\\envs\\saveurproj\\lib\\site-packages\\pyart\\map\\gates_to_grid.py:177: DeprecationWarning: Barnes weighting function is deprecated. Please use Barnes 2 to be consistent with Pauley and Wu 1990.\n",
      "  \" Pauley and Wu 1990.\", DeprecationWarning)\n"
     ]
    },
    {
     "name": "stdout",
     "output_type": "stream",
     "text": [
      "."
     ]
    },
    {
     "name": "stderr",
     "output_type": "stream",
     "text": [
      "C:\\Users\\irene\\Anaconda3\\envs\\saveurproj\\lib\\site-packages\\pyart\\map\\gates_to_grid.py:177: DeprecationWarning: Barnes weighting function is deprecated. Please use Barnes 2 to be consistent with Pauley and Wu 1990.\n",
      "  \" Pauley and Wu 1990.\", DeprecationWarning)\n"
     ]
    },
    {
     "name": "stdout",
     "output_type": "stream",
     "text": [
      "."
     ]
    },
    {
     "name": "stderr",
     "output_type": "stream",
     "text": [
      "C:\\Users\\irene\\Anaconda3\\envs\\saveurproj\\lib\\site-packages\\pyart\\map\\gates_to_grid.py:177: DeprecationWarning: Barnes weighting function is deprecated. Please use Barnes 2 to be consistent with Pauley and Wu 1990.\n",
      "  \" Pauley and Wu 1990.\", DeprecationWarning)\n"
     ]
    },
    {
     "name": "stdout",
     "output_type": "stream",
     "text": [
      "."
     ]
    },
    {
     "name": "stderr",
     "output_type": "stream",
     "text": [
      "C:\\Users\\irene\\Anaconda3\\envs\\saveurproj\\lib\\site-packages\\pyart\\map\\gates_to_grid.py:177: DeprecationWarning: Barnes weighting function is deprecated. Please use Barnes 2 to be consistent with Pauley and Wu 1990.\n",
      "  \" Pauley and Wu 1990.\", DeprecationWarning)\n"
     ]
    },
    {
     "name": "stdout",
     "output_type": "stream",
     "text": [
      "."
     ]
    },
    {
     "name": "stderr",
     "output_type": "stream",
     "text": [
      "C:\\Users\\irene\\Anaconda3\\envs\\saveurproj\\lib\\site-packages\\pyart\\map\\gates_to_grid.py:177: DeprecationWarning: Barnes weighting function is deprecated. Please use Barnes 2 to be consistent with Pauley and Wu 1990.\n",
      "  \" Pauley and Wu 1990.\", DeprecationWarning)\n"
     ]
    },
    {
     "name": "stdout",
     "output_type": "stream",
     "text": [
      "."
     ]
    },
    {
     "name": "stderr",
     "output_type": "stream",
     "text": [
      "C:\\Users\\irene\\Anaconda3\\envs\\saveurproj\\lib\\site-packages\\pyart\\map\\gates_to_grid.py:177: DeprecationWarning: Barnes weighting function is deprecated. Please use Barnes 2 to be consistent with Pauley and Wu 1990.\n",
      "  \" Pauley and Wu 1990.\", DeprecationWarning)\n"
     ]
    },
    {
     "name": "stdout",
     "output_type": "stream",
     "text": [
      "."
     ]
    },
    {
     "name": "stderr",
     "output_type": "stream",
     "text": [
      "C:\\Users\\irene\\Anaconda3\\envs\\saveurproj\\lib\\site-packages\\pyart\\map\\gates_to_grid.py:177: DeprecationWarning: Barnes weighting function is deprecated. Please use Barnes 2 to be consistent with Pauley and Wu 1990.\n",
      "  \" Pauley and Wu 1990.\", DeprecationWarning)\n"
     ]
    },
    {
     "name": "stdout",
     "output_type": "stream",
     "text": [
      "."
     ]
    },
    {
     "name": "stderr",
     "output_type": "stream",
     "text": [
      "C:\\Users\\irene\\Anaconda3\\envs\\saveurproj\\lib\\site-packages\\pyart\\map\\gates_to_grid.py:177: DeprecationWarning: Barnes weighting function is deprecated. Please use Barnes 2 to be consistent with Pauley and Wu 1990.\n",
      "  \" Pauley and Wu 1990.\", DeprecationWarning)\n"
     ]
    },
    {
     "name": "stdout",
     "output_type": "stream",
     "text": [
      "."
     ]
    },
    {
     "name": "stderr",
     "output_type": "stream",
     "text": [
      "C:\\Users\\irene\\Anaconda3\\envs\\saveurproj\\lib\\site-packages\\pyart\\map\\gates_to_grid.py:177: DeprecationWarning: Barnes weighting function is deprecated. Please use Barnes 2 to be consistent with Pauley and Wu 1990.\n",
      "  \" Pauley and Wu 1990.\", DeprecationWarning)\n"
     ]
    },
    {
     "name": "stdout",
     "output_type": "stream",
     "text": [
      "."
     ]
    },
    {
     "name": "stderr",
     "output_type": "stream",
     "text": [
      "C:\\Users\\irene\\Anaconda3\\envs\\saveurproj\\lib\\site-packages\\pyart\\map\\gates_to_grid.py:177: DeprecationWarning: Barnes weighting function is deprecated. Please use Barnes 2 to be consistent with Pauley and Wu 1990.\n",
      "  \" Pauley and Wu 1990.\", DeprecationWarning)\n"
     ]
    },
    {
     "name": "stdout",
     "output_type": "stream",
     "text": [
      "."
     ]
    },
    {
     "name": "stderr",
     "output_type": "stream",
     "text": [
      "C:\\Users\\irene\\Anaconda3\\envs\\saveurproj\\lib\\site-packages\\pyart\\map\\gates_to_grid.py:177: DeprecationWarning: Barnes weighting function is deprecated. Please use Barnes 2 to be consistent with Pauley and Wu 1990.\n",
      "  \" Pauley and Wu 1990.\", DeprecationWarning)\n"
     ]
    },
    {
     "name": "stdout",
     "output_type": "stream",
     "text": [
      "\n",
      "9\n",
      "."
     ]
    },
    {
     "name": "stderr",
     "output_type": "stream",
     "text": [
      "C:\\Users\\irene\\Anaconda3\\envs\\saveurproj\\lib\\site-packages\\pyart\\map\\gates_to_grid.py:177: DeprecationWarning: Barnes weighting function is deprecated. Please use Barnes 2 to be consistent with Pauley and Wu 1990.\n",
      "  \" Pauley and Wu 1990.\", DeprecationWarning)\n"
     ]
    },
    {
     "name": "stdout",
     "output_type": "stream",
     "text": [
      "."
     ]
    },
    {
     "name": "stderr",
     "output_type": "stream",
     "text": [
      "C:\\Users\\irene\\Anaconda3\\envs\\saveurproj\\lib\\site-packages\\pyart\\map\\gates_to_grid.py:177: DeprecationWarning: Barnes weighting function is deprecated. Please use Barnes 2 to be consistent with Pauley and Wu 1990.\n",
      "  \" Pauley and Wu 1990.\", DeprecationWarning)\n"
     ]
    },
    {
     "name": "stdout",
     "output_type": "stream",
     "text": [
      "."
     ]
    },
    {
     "name": "stderr",
     "output_type": "stream",
     "text": [
      "C:\\Users\\irene\\Anaconda3\\envs\\saveurproj\\lib\\site-packages\\pyart\\map\\gates_to_grid.py:177: DeprecationWarning: Barnes weighting function is deprecated. Please use Barnes 2 to be consistent with Pauley and Wu 1990.\n",
      "  \" Pauley and Wu 1990.\", DeprecationWarning)\n"
     ]
    },
    {
     "name": "stdout",
     "output_type": "stream",
     "text": [
      "."
     ]
    },
    {
     "name": "stderr",
     "output_type": "stream",
     "text": [
      "C:\\Users\\irene\\Anaconda3\\envs\\saveurproj\\lib\\site-packages\\pyart\\map\\gates_to_grid.py:177: DeprecationWarning: Barnes weighting function is deprecated. Please use Barnes 2 to be consistent with Pauley and Wu 1990.\n",
      "  \" Pauley and Wu 1990.\", DeprecationWarning)\n"
     ]
    },
    {
     "name": "stdout",
     "output_type": "stream",
     "text": [
      "."
     ]
    },
    {
     "name": "stderr",
     "output_type": "stream",
     "text": [
      "C:\\Users\\irene\\Anaconda3\\envs\\saveurproj\\lib\\site-packages\\pyart\\map\\gates_to_grid.py:177: DeprecationWarning: Barnes weighting function is deprecated. Please use Barnes 2 to be consistent with Pauley and Wu 1990.\n",
      "  \" Pauley and Wu 1990.\", DeprecationWarning)\n"
     ]
    },
    {
     "name": "stdout",
     "output_type": "stream",
     "text": [
      "."
     ]
    },
    {
     "name": "stderr",
     "output_type": "stream",
     "text": [
      "C:\\Users\\irene\\Anaconda3\\envs\\saveurproj\\lib\\site-packages\\pyart\\map\\gates_to_grid.py:177: DeprecationWarning: Barnes weighting function is deprecated. Please use Barnes 2 to be consistent with Pauley and Wu 1990.\n",
      "  \" Pauley and Wu 1990.\", DeprecationWarning)\n"
     ]
    },
    {
     "name": "stdout",
     "output_type": "stream",
     "text": [
      "."
     ]
    },
    {
     "name": "stderr",
     "output_type": "stream",
     "text": [
      "C:\\Users\\irene\\Anaconda3\\envs\\saveurproj\\lib\\site-packages\\pyart\\map\\gates_to_grid.py:177: DeprecationWarning: Barnes weighting function is deprecated. Please use Barnes 2 to be consistent with Pauley and Wu 1990.\n",
      "  \" Pauley and Wu 1990.\", DeprecationWarning)\n"
     ]
    },
    {
     "name": "stdout",
     "output_type": "stream",
     "text": [
      "."
     ]
    },
    {
     "name": "stderr",
     "output_type": "stream",
     "text": [
      "C:\\Users\\irene\\Anaconda3\\envs\\saveurproj\\lib\\site-packages\\pyart\\map\\gates_to_grid.py:177: DeprecationWarning: Barnes weighting function is deprecated. Please use Barnes 2 to be consistent with Pauley and Wu 1990.\n",
      "  \" Pauley and Wu 1990.\", DeprecationWarning)\n"
     ]
    },
    {
     "name": "stdout",
     "output_type": "stream",
     "text": [
      "."
     ]
    },
    {
     "name": "stderr",
     "output_type": "stream",
     "text": [
      "C:\\Users\\irene\\Anaconda3\\envs\\saveurproj\\lib\\site-packages\\pyart\\map\\gates_to_grid.py:177: DeprecationWarning: Barnes weighting function is deprecated. Please use Barnes 2 to be consistent with Pauley and Wu 1990.\n",
      "  \" Pauley and Wu 1990.\", DeprecationWarning)\n"
     ]
    },
    {
     "name": "stdout",
     "output_type": "stream",
     "text": [
      "."
     ]
    },
    {
     "name": "stderr",
     "output_type": "stream",
     "text": [
      "C:\\Users\\irene\\Anaconda3\\envs\\saveurproj\\lib\\site-packages\\pyart\\map\\gates_to_grid.py:177: DeprecationWarning: Barnes weighting function is deprecated. Please use Barnes 2 to be consistent with Pauley and Wu 1990.\n",
      "  \" Pauley and Wu 1990.\", DeprecationWarning)\n"
     ]
    },
    {
     "name": "stdout",
     "output_type": "stream",
     "text": [
      "."
     ]
    },
    {
     "name": "stderr",
     "output_type": "stream",
     "text": [
      "C:\\Users\\irene\\Anaconda3\\envs\\saveurproj\\lib\\site-packages\\pyart\\map\\gates_to_grid.py:177: DeprecationWarning: Barnes weighting function is deprecated. Please use Barnes 2 to be consistent with Pauley and Wu 1990.\n",
      "  \" Pauley and Wu 1990.\", DeprecationWarning)\n"
     ]
    },
    {
     "name": "stdout",
     "output_type": "stream",
     "text": [
      "."
     ]
    },
    {
     "name": "stderr",
     "output_type": "stream",
     "text": [
      "C:\\Users\\irene\\Anaconda3\\envs\\saveurproj\\lib\\site-packages\\pyart\\map\\gates_to_grid.py:177: DeprecationWarning: Barnes weighting function is deprecated. Please use Barnes 2 to be consistent with Pauley and Wu 1990.\n",
      "  \" Pauley and Wu 1990.\", DeprecationWarning)\n"
     ]
    },
    {
     "name": "stdout",
     "output_type": "stream",
     "text": [
      "."
     ]
    },
    {
     "name": "stderr",
     "output_type": "stream",
     "text": [
      "C:\\Users\\irene\\Anaconda3\\envs\\saveurproj\\lib\\site-packages\\pyart\\map\\gates_to_grid.py:177: DeprecationWarning: Barnes weighting function is deprecated. Please use Barnes 2 to be consistent with Pauley and Wu 1990.\n",
      "  \" Pauley and Wu 1990.\", DeprecationWarning)\n"
     ]
    },
    {
     "name": "stdout",
     "output_type": "stream",
     "text": [
      "."
     ]
    },
    {
     "name": "stderr",
     "output_type": "stream",
     "text": [
      "C:\\Users\\irene\\Anaconda3\\envs\\saveurproj\\lib\\site-packages\\pyart\\map\\gates_to_grid.py:177: DeprecationWarning: Barnes weighting function is deprecated. Please use Barnes 2 to be consistent with Pauley and Wu 1990.\n",
      "  \" Pauley and Wu 1990.\", DeprecationWarning)\n"
     ]
    },
    {
     "name": "stdout",
     "output_type": "stream",
     "text": [
      "\n",
      "10\n",
      "."
     ]
    },
    {
     "name": "stderr",
     "output_type": "stream",
     "text": [
      "C:\\Users\\irene\\Anaconda3\\envs\\saveurproj\\lib\\site-packages\\pyart\\map\\gates_to_grid.py:177: DeprecationWarning: Barnes weighting function is deprecated. Please use Barnes 2 to be consistent with Pauley and Wu 1990.\n",
      "  \" Pauley and Wu 1990.\", DeprecationWarning)\n"
     ]
    },
    {
     "name": "stdout",
     "output_type": "stream",
     "text": [
      "."
     ]
    },
    {
     "name": "stderr",
     "output_type": "stream",
     "text": [
      "C:\\Users\\irene\\Anaconda3\\envs\\saveurproj\\lib\\site-packages\\pyart\\map\\gates_to_grid.py:177: DeprecationWarning: Barnes weighting function is deprecated. Please use Barnes 2 to be consistent with Pauley and Wu 1990.\n",
      "  \" Pauley and Wu 1990.\", DeprecationWarning)\n"
     ]
    },
    {
     "name": "stdout",
     "output_type": "stream",
     "text": [
      "."
     ]
    },
    {
     "name": "stderr",
     "output_type": "stream",
     "text": [
      "C:\\Users\\irene\\Anaconda3\\envs\\saveurproj\\lib\\site-packages\\pyart\\map\\gates_to_grid.py:177: DeprecationWarning: Barnes weighting function is deprecated. Please use Barnes 2 to be consistent with Pauley and Wu 1990.\n",
      "  \" Pauley and Wu 1990.\", DeprecationWarning)\n"
     ]
    },
    {
     "name": "stdout",
     "output_type": "stream",
     "text": [
      "."
     ]
    },
    {
     "name": "stderr",
     "output_type": "stream",
     "text": [
      "C:\\Users\\irene\\Anaconda3\\envs\\saveurproj\\lib\\site-packages\\pyart\\map\\gates_to_grid.py:177: DeprecationWarning: Barnes weighting function is deprecated. Please use Barnes 2 to be consistent with Pauley and Wu 1990.\n",
      "  \" Pauley and Wu 1990.\", DeprecationWarning)\n"
     ]
    },
    {
     "name": "stdout",
     "output_type": "stream",
     "text": [
      "."
     ]
    },
    {
     "name": "stderr",
     "output_type": "stream",
     "text": [
      "C:\\Users\\irene\\Anaconda3\\envs\\saveurproj\\lib\\site-packages\\pyart\\map\\gates_to_grid.py:177: DeprecationWarning: Barnes weighting function is deprecated. Please use Barnes 2 to be consistent with Pauley and Wu 1990.\n",
      "  \" Pauley and Wu 1990.\", DeprecationWarning)\n"
     ]
    },
    {
     "name": "stdout",
     "output_type": "stream",
     "text": [
      "."
     ]
    },
    {
     "name": "stderr",
     "output_type": "stream",
     "text": [
      "C:\\Users\\irene\\Anaconda3\\envs\\saveurproj\\lib\\site-packages\\pyart\\map\\gates_to_grid.py:177: DeprecationWarning: Barnes weighting function is deprecated. Please use Barnes 2 to be consistent with Pauley and Wu 1990.\n",
      "  \" Pauley and Wu 1990.\", DeprecationWarning)\n"
     ]
    },
    {
     "name": "stdout",
     "output_type": "stream",
     "text": [
      "."
     ]
    },
    {
     "name": "stderr",
     "output_type": "stream",
     "text": [
      "C:\\Users\\irene\\Anaconda3\\envs\\saveurproj\\lib\\site-packages\\pyart\\map\\gates_to_grid.py:177: DeprecationWarning: Barnes weighting function is deprecated. Please use Barnes 2 to be consistent with Pauley and Wu 1990.\n",
      "  \" Pauley and Wu 1990.\", DeprecationWarning)\n"
     ]
    },
    {
     "name": "stdout",
     "output_type": "stream",
     "text": [
      "."
     ]
    },
    {
     "name": "stderr",
     "output_type": "stream",
     "text": [
      "C:\\Users\\irene\\Anaconda3\\envs\\saveurproj\\lib\\site-packages\\pyart\\map\\gates_to_grid.py:177: DeprecationWarning: Barnes weighting function is deprecated. Please use Barnes 2 to be consistent with Pauley and Wu 1990.\n",
      "  \" Pauley and Wu 1990.\", DeprecationWarning)\n"
     ]
    },
    {
     "name": "stdout",
     "output_type": "stream",
     "text": [
      "."
     ]
    },
    {
     "name": "stderr",
     "output_type": "stream",
     "text": [
      "C:\\Users\\irene\\Anaconda3\\envs\\saveurproj\\lib\\site-packages\\pyart\\map\\gates_to_grid.py:177: DeprecationWarning: Barnes weighting function is deprecated. Please use Barnes 2 to be consistent with Pauley and Wu 1990.\n",
      "  \" Pauley and Wu 1990.\", DeprecationWarning)\n"
     ]
    },
    {
     "name": "stdout",
     "output_type": "stream",
     "text": [
      "."
     ]
    },
    {
     "name": "stderr",
     "output_type": "stream",
     "text": [
      "C:\\Users\\irene\\Anaconda3\\envs\\saveurproj\\lib\\site-packages\\pyart\\map\\gates_to_grid.py:177: DeprecationWarning: Barnes weighting function is deprecated. Please use Barnes 2 to be consistent with Pauley and Wu 1990.\n",
      "  \" Pauley and Wu 1990.\", DeprecationWarning)\n"
     ]
    },
    {
     "name": "stdout",
     "output_type": "stream",
     "text": [
      "."
     ]
    },
    {
     "name": "stderr",
     "output_type": "stream",
     "text": [
      "C:\\Users\\irene\\Anaconda3\\envs\\saveurproj\\lib\\site-packages\\pyart\\map\\gates_to_grid.py:177: DeprecationWarning: Barnes weighting function is deprecated. Please use Barnes 2 to be consistent with Pauley and Wu 1990.\n",
      "  \" Pauley and Wu 1990.\", DeprecationWarning)\n"
     ]
    },
    {
     "name": "stdout",
     "output_type": "stream",
     "text": [
      "."
     ]
    },
    {
     "name": "stderr",
     "output_type": "stream",
     "text": [
      "C:\\Users\\irene\\Anaconda3\\envs\\saveurproj\\lib\\site-packages\\pyart\\map\\gates_to_grid.py:177: DeprecationWarning: Barnes weighting function is deprecated. Please use Barnes 2 to be consistent with Pauley and Wu 1990.\n",
      "  \" Pauley and Wu 1990.\", DeprecationWarning)\n"
     ]
    },
    {
     "name": "stdout",
     "output_type": "stream",
     "text": [
      "."
     ]
    },
    {
     "name": "stderr",
     "output_type": "stream",
     "text": [
      "C:\\Users\\irene\\Anaconda3\\envs\\saveurproj\\lib\\site-packages\\pyart\\map\\gates_to_grid.py:177: DeprecationWarning: Barnes weighting function is deprecated. Please use Barnes 2 to be consistent with Pauley and Wu 1990.\n",
      "  \" Pauley and Wu 1990.\", DeprecationWarning)\n"
     ]
    },
    {
     "name": "stdout",
     "output_type": "stream",
     "text": [
      "."
     ]
    },
    {
     "name": "stderr",
     "output_type": "stream",
     "text": [
      "C:\\Users\\irene\\Anaconda3\\envs\\saveurproj\\lib\\site-packages\\pyart\\map\\gates_to_grid.py:177: DeprecationWarning: Barnes weighting function is deprecated. Please use Barnes 2 to be consistent with Pauley and Wu 1990.\n",
      "  \" Pauley and Wu 1990.\", DeprecationWarning)\n"
     ]
    },
    {
     "name": "stdout",
     "output_type": "stream",
     "text": [
      "\n",
      "11\n",
      "."
     ]
    },
    {
     "name": "stderr",
     "output_type": "stream",
     "text": [
      "C:\\Users\\irene\\Anaconda3\\envs\\saveurproj\\lib\\site-packages\\pyart\\map\\gates_to_grid.py:177: DeprecationWarning: Barnes weighting function is deprecated. Please use Barnes 2 to be consistent with Pauley and Wu 1990.\n",
      "  \" Pauley and Wu 1990.\", DeprecationWarning)\n"
     ]
    },
    {
     "name": "stdout",
     "output_type": "stream",
     "text": [
      "."
     ]
    },
    {
     "name": "stderr",
     "output_type": "stream",
     "text": [
      "C:\\Users\\irene\\Anaconda3\\envs\\saveurproj\\lib\\site-packages\\pyart\\map\\gates_to_grid.py:177: DeprecationWarning: Barnes weighting function is deprecated. Please use Barnes 2 to be consistent with Pauley and Wu 1990.\n",
      "  \" Pauley and Wu 1990.\", DeprecationWarning)\n"
     ]
    },
    {
     "name": "stdout",
     "output_type": "stream",
     "text": [
      "."
     ]
    },
    {
     "name": "stderr",
     "output_type": "stream",
     "text": [
      "C:\\Users\\irene\\Anaconda3\\envs\\saveurproj\\lib\\site-packages\\pyart\\map\\gates_to_grid.py:177: DeprecationWarning: Barnes weighting function is deprecated. Please use Barnes 2 to be consistent with Pauley and Wu 1990.\n",
      "  \" Pauley and Wu 1990.\", DeprecationWarning)\n"
     ]
    },
    {
     "name": "stdout",
     "output_type": "stream",
     "text": [
      "."
     ]
    },
    {
     "name": "stderr",
     "output_type": "stream",
     "text": [
      "C:\\Users\\irene\\Anaconda3\\envs\\saveurproj\\lib\\site-packages\\pyart\\map\\gates_to_grid.py:177: DeprecationWarning: Barnes weighting function is deprecated. Please use Barnes 2 to be consistent with Pauley and Wu 1990.\n",
      "  \" Pauley and Wu 1990.\", DeprecationWarning)\n"
     ]
    },
    {
     "name": "stdout",
     "output_type": "stream",
     "text": [
      "."
     ]
    },
    {
     "name": "stderr",
     "output_type": "stream",
     "text": [
      "C:\\Users\\irene\\Anaconda3\\envs\\saveurproj\\lib\\site-packages\\pyart\\map\\gates_to_grid.py:177: DeprecationWarning: Barnes weighting function is deprecated. Please use Barnes 2 to be consistent with Pauley and Wu 1990.\n",
      "  \" Pauley and Wu 1990.\", DeprecationWarning)\n"
     ]
    },
    {
     "name": "stdout",
     "output_type": "stream",
     "text": [
      "."
     ]
    },
    {
     "name": "stderr",
     "output_type": "stream",
     "text": [
      "C:\\Users\\irene\\Anaconda3\\envs\\saveurproj\\lib\\site-packages\\pyart\\map\\gates_to_grid.py:177: DeprecationWarning: Barnes weighting function is deprecated. Please use Barnes 2 to be consistent with Pauley and Wu 1990.\n",
      "  \" Pauley and Wu 1990.\", DeprecationWarning)\n"
     ]
    },
    {
     "name": "stdout",
     "output_type": "stream",
     "text": [
      "."
     ]
    },
    {
     "name": "stderr",
     "output_type": "stream",
     "text": [
      "C:\\Users\\irene\\Anaconda3\\envs\\saveurproj\\lib\\site-packages\\pyart\\map\\gates_to_grid.py:177: DeprecationWarning: Barnes weighting function is deprecated. Please use Barnes 2 to be consistent with Pauley and Wu 1990.\n",
      "  \" Pauley and Wu 1990.\", DeprecationWarning)\n"
     ]
    },
    {
     "name": "stdout",
     "output_type": "stream",
     "text": [
      "."
     ]
    },
    {
     "name": "stderr",
     "output_type": "stream",
     "text": [
      "C:\\Users\\irene\\Anaconda3\\envs\\saveurproj\\lib\\site-packages\\pyart\\map\\gates_to_grid.py:177: DeprecationWarning: Barnes weighting function is deprecated. Please use Barnes 2 to be consistent with Pauley and Wu 1990.\n",
      "  \" Pauley and Wu 1990.\", DeprecationWarning)\n"
     ]
    },
    {
     "name": "stdout",
     "output_type": "stream",
     "text": [
      "."
     ]
    },
    {
     "name": "stderr",
     "output_type": "stream",
     "text": [
      "C:\\Users\\irene\\Anaconda3\\envs\\saveurproj\\lib\\site-packages\\pyart\\map\\gates_to_grid.py:177: DeprecationWarning: Barnes weighting function is deprecated. Please use Barnes 2 to be consistent with Pauley and Wu 1990.\n",
      "  \" Pauley and Wu 1990.\", DeprecationWarning)\n"
     ]
    },
    {
     "name": "stdout",
     "output_type": "stream",
     "text": [
      "."
     ]
    },
    {
     "name": "stderr",
     "output_type": "stream",
     "text": [
      "C:\\Users\\irene\\Anaconda3\\envs\\saveurproj\\lib\\site-packages\\pyart\\map\\gates_to_grid.py:177: DeprecationWarning: Barnes weighting function is deprecated. Please use Barnes 2 to be consistent with Pauley and Wu 1990.\n",
      "  \" Pauley and Wu 1990.\", DeprecationWarning)\n"
     ]
    },
    {
     "name": "stdout",
     "output_type": "stream",
     "text": [
      "."
     ]
    },
    {
     "name": "stderr",
     "output_type": "stream",
     "text": [
      "C:\\Users\\irene\\Anaconda3\\envs\\saveurproj\\lib\\site-packages\\pyart\\map\\gates_to_grid.py:177: DeprecationWarning: Barnes weighting function is deprecated. Please use Barnes 2 to be consistent with Pauley and Wu 1990.\n",
      "  \" Pauley and Wu 1990.\", DeprecationWarning)\n"
     ]
    },
    {
     "name": "stdout",
     "output_type": "stream",
     "text": [
      "."
     ]
    },
    {
     "name": "stderr",
     "output_type": "stream",
     "text": [
      "C:\\Users\\irene\\Anaconda3\\envs\\saveurproj\\lib\\site-packages\\pyart\\map\\gates_to_grid.py:177: DeprecationWarning: Barnes weighting function is deprecated. Please use Barnes 2 to be consistent with Pauley and Wu 1990.\n",
      "  \" Pauley and Wu 1990.\", DeprecationWarning)\n"
     ]
    },
    {
     "name": "stdout",
     "output_type": "stream",
     "text": [
      "."
     ]
    },
    {
     "name": "stderr",
     "output_type": "stream",
     "text": [
      "C:\\Users\\irene\\Anaconda3\\envs\\saveurproj\\lib\\site-packages\\pyart\\map\\gates_to_grid.py:177: DeprecationWarning: Barnes weighting function is deprecated. Please use Barnes 2 to be consistent with Pauley and Wu 1990.\n",
      "  \" Pauley and Wu 1990.\", DeprecationWarning)\n"
     ]
    },
    {
     "name": "stdout",
     "output_type": "stream",
     "text": [
      "."
     ]
    },
    {
     "name": "stderr",
     "output_type": "stream",
     "text": [
      "C:\\Users\\irene\\Anaconda3\\envs\\saveurproj\\lib\\site-packages\\pyart\\map\\gates_to_grid.py:177: DeprecationWarning: Barnes weighting function is deprecated. Please use Barnes 2 to be consistent with Pauley and Wu 1990.\n",
      "  \" Pauley and Wu 1990.\", DeprecationWarning)\n"
     ]
    },
    {
     "name": "stdout",
     "output_type": "stream",
     "text": [
      "\n",
      "12\n",
      "."
     ]
    },
    {
     "name": "stderr",
     "output_type": "stream",
     "text": [
      "C:\\Users\\irene\\Anaconda3\\envs\\saveurproj\\lib\\site-packages\\pyart\\map\\gates_to_grid.py:177: DeprecationWarning: Barnes weighting function is deprecated. Please use Barnes 2 to be consistent with Pauley and Wu 1990.\n",
      "  \" Pauley and Wu 1990.\", DeprecationWarning)\n"
     ]
    },
    {
     "name": "stdout",
     "output_type": "stream",
     "text": [
      "."
     ]
    },
    {
     "name": "stderr",
     "output_type": "stream",
     "text": [
      "C:\\Users\\irene\\Anaconda3\\envs\\saveurproj\\lib\\site-packages\\pyart\\map\\gates_to_grid.py:177: DeprecationWarning: Barnes weighting function is deprecated. Please use Barnes 2 to be consistent with Pauley and Wu 1990.\n",
      "  \" Pauley and Wu 1990.\", DeprecationWarning)\n"
     ]
    },
    {
     "name": "stdout",
     "output_type": "stream",
     "text": [
      "."
     ]
    },
    {
     "name": "stderr",
     "output_type": "stream",
     "text": [
      "C:\\Users\\irene\\Anaconda3\\envs\\saveurproj\\lib\\site-packages\\pyart\\map\\gates_to_grid.py:177: DeprecationWarning: Barnes weighting function is deprecated. Please use Barnes 2 to be consistent with Pauley and Wu 1990.\n",
      "  \" Pauley and Wu 1990.\", DeprecationWarning)\n"
     ]
    },
    {
     "name": "stdout",
     "output_type": "stream",
     "text": [
      "."
     ]
    },
    {
     "name": "stderr",
     "output_type": "stream",
     "text": [
      "C:\\Users\\irene\\Anaconda3\\envs\\saveurproj\\lib\\site-packages\\pyart\\map\\gates_to_grid.py:177: DeprecationWarning: Barnes weighting function is deprecated. Please use Barnes 2 to be consistent with Pauley and Wu 1990.\n",
      "  \" Pauley and Wu 1990.\", DeprecationWarning)\n"
     ]
    },
    {
     "name": "stdout",
     "output_type": "stream",
     "text": [
      "."
     ]
    },
    {
     "name": "stderr",
     "output_type": "stream",
     "text": [
      "C:\\Users\\irene\\Anaconda3\\envs\\saveurproj\\lib\\site-packages\\pyart\\map\\gates_to_grid.py:177: DeprecationWarning: Barnes weighting function is deprecated. Please use Barnes 2 to be consistent with Pauley and Wu 1990.\n",
      "  \" Pauley and Wu 1990.\", DeprecationWarning)\n"
     ]
    },
    {
     "name": "stdout",
     "output_type": "stream",
     "text": [
      "."
     ]
    },
    {
     "name": "stderr",
     "output_type": "stream",
     "text": [
      "C:\\Users\\irene\\Anaconda3\\envs\\saveurproj\\lib\\site-packages\\pyart\\map\\gates_to_grid.py:177: DeprecationWarning: Barnes weighting function is deprecated. Please use Barnes 2 to be consistent with Pauley and Wu 1990.\n",
      "  \" Pauley and Wu 1990.\", DeprecationWarning)\n"
     ]
    },
    {
     "name": "stdout",
     "output_type": "stream",
     "text": [
      "."
     ]
    },
    {
     "name": "stderr",
     "output_type": "stream",
     "text": [
      "C:\\Users\\irene\\Anaconda3\\envs\\saveurproj\\lib\\site-packages\\pyart\\map\\gates_to_grid.py:177: DeprecationWarning: Barnes weighting function is deprecated. Please use Barnes 2 to be consistent with Pauley and Wu 1990.\n",
      "  \" Pauley and Wu 1990.\", DeprecationWarning)\n"
     ]
    },
    {
     "name": "stdout",
     "output_type": "stream",
     "text": [
      "."
     ]
    },
    {
     "name": "stderr",
     "output_type": "stream",
     "text": [
      "C:\\Users\\irene\\Anaconda3\\envs\\saveurproj\\lib\\site-packages\\pyart\\map\\gates_to_grid.py:177: DeprecationWarning: Barnes weighting function is deprecated. Please use Barnes 2 to be consistent with Pauley and Wu 1990.\n",
      "  \" Pauley and Wu 1990.\", DeprecationWarning)\n"
     ]
    },
    {
     "name": "stdout",
     "output_type": "stream",
     "text": [
      "."
     ]
    },
    {
     "name": "stderr",
     "output_type": "stream",
     "text": [
      "C:\\Users\\irene\\Anaconda3\\envs\\saveurproj\\lib\\site-packages\\pyart\\map\\gates_to_grid.py:177: DeprecationWarning: Barnes weighting function is deprecated. Please use Barnes 2 to be consistent with Pauley and Wu 1990.\n",
      "  \" Pauley and Wu 1990.\", DeprecationWarning)\n"
     ]
    },
    {
     "name": "stdout",
     "output_type": "stream",
     "text": [
      "."
     ]
    },
    {
     "name": "stderr",
     "output_type": "stream",
     "text": [
      "C:\\Users\\irene\\Anaconda3\\envs\\saveurproj\\lib\\site-packages\\pyart\\map\\gates_to_grid.py:177: DeprecationWarning: Barnes weighting function is deprecated. Please use Barnes 2 to be consistent with Pauley and Wu 1990.\n",
      "  \" Pauley and Wu 1990.\", DeprecationWarning)\n"
     ]
    },
    {
     "name": "stdout",
     "output_type": "stream",
     "text": [
      "."
     ]
    },
    {
     "name": "stderr",
     "output_type": "stream",
     "text": [
      "C:\\Users\\irene\\Anaconda3\\envs\\saveurproj\\lib\\site-packages\\pyart\\map\\gates_to_grid.py:177: DeprecationWarning: Barnes weighting function is deprecated. Please use Barnes 2 to be consistent with Pauley and Wu 1990.\n",
      "  \" Pauley and Wu 1990.\", DeprecationWarning)\n"
     ]
    },
    {
     "name": "stdout",
     "output_type": "stream",
     "text": [
      "."
     ]
    },
    {
     "name": "stderr",
     "output_type": "stream",
     "text": [
      "C:\\Users\\irene\\Anaconda3\\envs\\saveurproj\\lib\\site-packages\\pyart\\map\\gates_to_grid.py:177: DeprecationWarning: Barnes weighting function is deprecated. Please use Barnes 2 to be consistent with Pauley and Wu 1990.\n",
      "  \" Pauley and Wu 1990.\", DeprecationWarning)\n"
     ]
    },
    {
     "name": "stdout",
     "output_type": "stream",
     "text": [
      "."
     ]
    },
    {
     "name": "stderr",
     "output_type": "stream",
     "text": [
      "C:\\Users\\irene\\Anaconda3\\envs\\saveurproj\\lib\\site-packages\\pyart\\map\\gates_to_grid.py:177: DeprecationWarning: Barnes weighting function is deprecated. Please use Barnes 2 to be consistent with Pauley and Wu 1990.\n",
      "  \" Pauley and Wu 1990.\", DeprecationWarning)\n"
     ]
    },
    {
     "name": "stdout",
     "output_type": "stream",
     "text": [
      "."
     ]
    },
    {
     "name": "stderr",
     "output_type": "stream",
     "text": [
      "C:\\Users\\irene\\Anaconda3\\envs\\saveurproj\\lib\\site-packages\\pyart\\map\\gates_to_grid.py:177: DeprecationWarning: Barnes weighting function is deprecated. Please use Barnes 2 to be consistent with Pauley and Wu 1990.\n",
      "  \" Pauley and Wu 1990.\", DeprecationWarning)\n"
     ]
    },
    {
     "name": "stdout",
     "output_type": "stream",
     "text": [
      "\n",
      "13\n",
      "."
     ]
    },
    {
     "name": "stderr",
     "output_type": "stream",
     "text": [
      "C:\\Users\\irene\\Anaconda3\\envs\\saveurproj\\lib\\site-packages\\pyart\\map\\gates_to_grid.py:177: DeprecationWarning: Barnes weighting function is deprecated. Please use Barnes 2 to be consistent with Pauley and Wu 1990.\n",
      "  \" Pauley and Wu 1990.\", DeprecationWarning)\n"
     ]
    },
    {
     "name": "stdout",
     "output_type": "stream",
     "text": [
      "."
     ]
    },
    {
     "name": "stderr",
     "output_type": "stream",
     "text": [
      "C:\\Users\\irene\\Anaconda3\\envs\\saveurproj\\lib\\site-packages\\pyart\\map\\gates_to_grid.py:177: DeprecationWarning: Barnes weighting function is deprecated. Please use Barnes 2 to be consistent with Pauley and Wu 1990.\n",
      "  \" Pauley and Wu 1990.\", DeprecationWarning)\n"
     ]
    },
    {
     "name": "stdout",
     "output_type": "stream",
     "text": [
      "."
     ]
    },
    {
     "name": "stderr",
     "output_type": "stream",
     "text": [
      "C:\\Users\\irene\\Anaconda3\\envs\\saveurproj\\lib\\site-packages\\pyart\\map\\gates_to_grid.py:177: DeprecationWarning: Barnes weighting function is deprecated. Please use Barnes 2 to be consistent with Pauley and Wu 1990.\n",
      "  \" Pauley and Wu 1990.\", DeprecationWarning)\n"
     ]
    },
    {
     "name": "stdout",
     "output_type": "stream",
     "text": [
      "."
     ]
    },
    {
     "name": "stderr",
     "output_type": "stream",
     "text": [
      "C:\\Users\\irene\\Anaconda3\\envs\\saveurproj\\lib\\site-packages\\pyart\\map\\gates_to_grid.py:177: DeprecationWarning: Barnes weighting function is deprecated. Please use Barnes 2 to be consistent with Pauley and Wu 1990.\n",
      "  \" Pauley and Wu 1990.\", DeprecationWarning)\n"
     ]
    },
    {
     "name": "stdout",
     "output_type": "stream",
     "text": [
      "."
     ]
    },
    {
     "name": "stderr",
     "output_type": "stream",
     "text": [
      "C:\\Users\\irene\\Anaconda3\\envs\\saveurproj\\lib\\site-packages\\pyart\\map\\gates_to_grid.py:177: DeprecationWarning: Barnes weighting function is deprecated. Please use Barnes 2 to be consistent with Pauley and Wu 1990.\n",
      "  \" Pauley and Wu 1990.\", DeprecationWarning)\n"
     ]
    },
    {
     "name": "stdout",
     "output_type": "stream",
     "text": [
      "."
     ]
    },
    {
     "name": "stderr",
     "output_type": "stream",
     "text": [
      "C:\\Users\\irene\\Anaconda3\\envs\\saveurproj\\lib\\site-packages\\pyart\\map\\gates_to_grid.py:177: DeprecationWarning: Barnes weighting function is deprecated. Please use Barnes 2 to be consistent with Pauley and Wu 1990.\n",
      "  \" Pauley and Wu 1990.\", DeprecationWarning)\n"
     ]
    },
    {
     "name": "stdout",
     "output_type": "stream",
     "text": [
      "."
     ]
    },
    {
     "name": "stderr",
     "output_type": "stream",
     "text": [
      "C:\\Users\\irene\\Anaconda3\\envs\\saveurproj\\lib\\site-packages\\pyart\\map\\gates_to_grid.py:177: DeprecationWarning: Barnes weighting function is deprecated. Please use Barnes 2 to be consistent with Pauley and Wu 1990.\n",
      "  \" Pauley and Wu 1990.\", DeprecationWarning)\n"
     ]
    },
    {
     "name": "stdout",
     "output_type": "stream",
     "text": [
      "."
     ]
    },
    {
     "name": "stderr",
     "output_type": "stream",
     "text": [
      "C:\\Users\\irene\\Anaconda3\\envs\\saveurproj\\lib\\site-packages\\pyart\\map\\gates_to_grid.py:177: DeprecationWarning: Barnes weighting function is deprecated. Please use Barnes 2 to be consistent with Pauley and Wu 1990.\n",
      "  \" Pauley and Wu 1990.\", DeprecationWarning)\n"
     ]
    },
    {
     "name": "stdout",
     "output_type": "stream",
     "text": [
      "."
     ]
    },
    {
     "name": "stderr",
     "output_type": "stream",
     "text": [
      "C:\\Users\\irene\\Anaconda3\\envs\\saveurproj\\lib\\site-packages\\pyart\\map\\gates_to_grid.py:177: DeprecationWarning: Barnes weighting function is deprecated. Please use Barnes 2 to be consistent with Pauley and Wu 1990.\n",
      "  \" Pauley and Wu 1990.\", DeprecationWarning)\n"
     ]
    },
    {
     "name": "stdout",
     "output_type": "stream",
     "text": [
      "."
     ]
    },
    {
     "name": "stderr",
     "output_type": "stream",
     "text": [
      "C:\\Users\\irene\\Anaconda3\\envs\\saveurproj\\lib\\site-packages\\pyart\\map\\gates_to_grid.py:177: DeprecationWarning: Barnes weighting function is deprecated. Please use Barnes 2 to be consistent with Pauley and Wu 1990.\n",
      "  \" Pauley and Wu 1990.\", DeprecationWarning)\n"
     ]
    },
    {
     "name": "stdout",
     "output_type": "stream",
     "text": [
      "."
     ]
    },
    {
     "name": "stderr",
     "output_type": "stream",
     "text": [
      "C:\\Users\\irene\\Anaconda3\\envs\\saveurproj\\lib\\site-packages\\pyart\\map\\gates_to_grid.py:177: DeprecationWarning: Barnes weighting function is deprecated. Please use Barnes 2 to be consistent with Pauley and Wu 1990.\n",
      "  \" Pauley and Wu 1990.\", DeprecationWarning)\n"
     ]
    },
    {
     "name": "stdout",
     "output_type": "stream",
     "text": [
      "."
     ]
    },
    {
     "name": "stderr",
     "output_type": "stream",
     "text": [
      "C:\\Users\\irene\\Anaconda3\\envs\\saveurproj\\lib\\site-packages\\pyart\\map\\gates_to_grid.py:177: DeprecationWarning: Barnes weighting function is deprecated. Please use Barnes 2 to be consistent with Pauley and Wu 1990.\n",
      "  \" Pauley and Wu 1990.\", DeprecationWarning)\n"
     ]
    },
    {
     "name": "stdout",
     "output_type": "stream",
     "text": [
      "."
     ]
    },
    {
     "name": "stderr",
     "output_type": "stream",
     "text": [
      "C:\\Users\\irene\\Anaconda3\\envs\\saveurproj\\lib\\site-packages\\pyart\\map\\gates_to_grid.py:177: DeprecationWarning: Barnes weighting function is deprecated. Please use Barnes 2 to be consistent with Pauley and Wu 1990.\n",
      "  \" Pauley and Wu 1990.\", DeprecationWarning)\n"
     ]
    },
    {
     "name": "stdout",
     "output_type": "stream",
     "text": [
      "."
     ]
    },
    {
     "name": "stderr",
     "output_type": "stream",
     "text": [
      "C:\\Users\\irene\\Anaconda3\\envs\\saveurproj\\lib\\site-packages\\pyart\\map\\gates_to_grid.py:177: DeprecationWarning: Barnes weighting function is deprecated. Please use Barnes 2 to be consistent with Pauley and Wu 1990.\n",
      "  \" Pauley and Wu 1990.\", DeprecationWarning)\n"
     ]
    },
    {
     "name": "stdout",
     "output_type": "stream",
     "text": [
      "\n",
      "14\n",
      "."
     ]
    },
    {
     "name": "stderr",
     "output_type": "stream",
     "text": [
      "C:\\Users\\irene\\Anaconda3\\envs\\saveurproj\\lib\\site-packages\\pyart\\map\\gates_to_grid.py:177: DeprecationWarning: Barnes weighting function is deprecated. Please use Barnes 2 to be consistent with Pauley and Wu 1990.\n",
      "  \" Pauley and Wu 1990.\", DeprecationWarning)\n"
     ]
    },
    {
     "name": "stdout",
     "output_type": "stream",
     "text": [
      "."
     ]
    },
    {
     "name": "stderr",
     "output_type": "stream",
     "text": [
      "C:\\Users\\irene\\Anaconda3\\envs\\saveurproj\\lib\\site-packages\\pyart\\map\\gates_to_grid.py:177: DeprecationWarning: Barnes weighting function is deprecated. Please use Barnes 2 to be consistent with Pauley and Wu 1990.\n",
      "  \" Pauley and Wu 1990.\", DeprecationWarning)\n"
     ]
    },
    {
     "name": "stdout",
     "output_type": "stream",
     "text": [
      "."
     ]
    },
    {
     "name": "stderr",
     "output_type": "stream",
     "text": [
      "C:\\Users\\irene\\Anaconda3\\envs\\saveurproj\\lib\\site-packages\\pyart\\map\\gates_to_grid.py:177: DeprecationWarning: Barnes weighting function is deprecated. Please use Barnes 2 to be consistent with Pauley and Wu 1990.\n",
      "  \" Pauley and Wu 1990.\", DeprecationWarning)\n"
     ]
    },
    {
     "name": "stdout",
     "output_type": "stream",
     "text": [
      "."
     ]
    },
    {
     "name": "stderr",
     "output_type": "stream",
     "text": [
      "C:\\Users\\irene\\Anaconda3\\envs\\saveurproj\\lib\\site-packages\\pyart\\map\\gates_to_grid.py:177: DeprecationWarning: Barnes weighting function is deprecated. Please use Barnes 2 to be consistent with Pauley and Wu 1990.\n",
      "  \" Pauley and Wu 1990.\", DeprecationWarning)\n"
     ]
    },
    {
     "name": "stdout",
     "output_type": "stream",
     "text": [
      "."
     ]
    },
    {
     "name": "stderr",
     "output_type": "stream",
     "text": [
      "C:\\Users\\irene\\Anaconda3\\envs\\saveurproj\\lib\\site-packages\\pyart\\map\\gates_to_grid.py:177: DeprecationWarning: Barnes weighting function is deprecated. Please use Barnes 2 to be consistent with Pauley and Wu 1990.\n",
      "  \" Pauley and Wu 1990.\", DeprecationWarning)\n"
     ]
    },
    {
     "name": "stdout",
     "output_type": "stream",
     "text": [
      "."
     ]
    },
    {
     "name": "stderr",
     "output_type": "stream",
     "text": [
      "C:\\Users\\irene\\Anaconda3\\envs\\saveurproj\\lib\\site-packages\\pyart\\map\\gates_to_grid.py:177: DeprecationWarning: Barnes weighting function is deprecated. Please use Barnes 2 to be consistent with Pauley and Wu 1990.\n",
      "  \" Pauley and Wu 1990.\", DeprecationWarning)\n"
     ]
    },
    {
     "name": "stdout",
     "output_type": "stream",
     "text": [
      "."
     ]
    },
    {
     "name": "stderr",
     "output_type": "stream",
     "text": [
      "C:\\Users\\irene\\Anaconda3\\envs\\saveurproj\\lib\\site-packages\\pyart\\map\\gates_to_grid.py:177: DeprecationWarning: Barnes weighting function is deprecated. Please use Barnes 2 to be consistent with Pauley and Wu 1990.\n",
      "  \" Pauley and Wu 1990.\", DeprecationWarning)\n"
     ]
    },
    {
     "name": "stdout",
     "output_type": "stream",
     "text": [
      "."
     ]
    },
    {
     "name": "stderr",
     "output_type": "stream",
     "text": [
      "C:\\Users\\irene\\Anaconda3\\envs\\saveurproj\\lib\\site-packages\\pyart\\map\\gates_to_grid.py:177: DeprecationWarning: Barnes weighting function is deprecated. Please use Barnes 2 to be consistent with Pauley and Wu 1990.\n",
      "  \" Pauley and Wu 1990.\", DeprecationWarning)\n"
     ]
    },
    {
     "name": "stdout",
     "output_type": "stream",
     "text": [
      "."
     ]
    },
    {
     "name": "stderr",
     "output_type": "stream",
     "text": [
      "C:\\Users\\irene\\Anaconda3\\envs\\saveurproj\\lib\\site-packages\\pyart\\map\\gates_to_grid.py:177: DeprecationWarning: Barnes weighting function is deprecated. Please use Barnes 2 to be consistent with Pauley and Wu 1990.\n",
      "  \" Pauley and Wu 1990.\", DeprecationWarning)\n"
     ]
    },
    {
     "name": "stdout",
     "output_type": "stream",
     "text": [
      "."
     ]
    },
    {
     "name": "stderr",
     "output_type": "stream",
     "text": [
      "C:\\Users\\irene\\Anaconda3\\envs\\saveurproj\\lib\\site-packages\\pyart\\map\\gates_to_grid.py:177: DeprecationWarning: Barnes weighting function is deprecated. Please use Barnes 2 to be consistent with Pauley and Wu 1990.\n",
      "  \" Pauley and Wu 1990.\", DeprecationWarning)\n"
     ]
    },
    {
     "name": "stdout",
     "output_type": "stream",
     "text": [
      "."
     ]
    },
    {
     "name": "stderr",
     "output_type": "stream",
     "text": [
      "C:\\Users\\irene\\Anaconda3\\envs\\saveurproj\\lib\\site-packages\\pyart\\map\\gates_to_grid.py:177: DeprecationWarning: Barnes weighting function is deprecated. Please use Barnes 2 to be consistent with Pauley and Wu 1990.\n",
      "  \" Pauley and Wu 1990.\", DeprecationWarning)\n"
     ]
    },
    {
     "name": "stdout",
     "output_type": "stream",
     "text": [
      "."
     ]
    },
    {
     "name": "stderr",
     "output_type": "stream",
     "text": [
      "C:\\Users\\irene\\Anaconda3\\envs\\saveurproj\\lib\\site-packages\\pyart\\map\\gates_to_grid.py:177: DeprecationWarning: Barnes weighting function is deprecated. Please use Barnes 2 to be consistent with Pauley and Wu 1990.\n",
      "  \" Pauley and Wu 1990.\", DeprecationWarning)\n"
     ]
    },
    {
     "name": "stdout",
     "output_type": "stream",
     "text": [
      "."
     ]
    },
    {
     "name": "stderr",
     "output_type": "stream",
     "text": [
      "C:\\Users\\irene\\Anaconda3\\envs\\saveurproj\\lib\\site-packages\\pyart\\map\\gates_to_grid.py:177: DeprecationWarning: Barnes weighting function is deprecated. Please use Barnes 2 to be consistent with Pauley and Wu 1990.\n",
      "  \" Pauley and Wu 1990.\", DeprecationWarning)\n"
     ]
    },
    {
     "name": "stdout",
     "output_type": "stream",
     "text": [
      "."
     ]
    },
    {
     "name": "stderr",
     "output_type": "stream",
     "text": [
      "C:\\Users\\irene\\Anaconda3\\envs\\saveurproj\\lib\\site-packages\\pyart\\map\\gates_to_grid.py:177: DeprecationWarning: Barnes weighting function is deprecated. Please use Barnes 2 to be consistent with Pauley and Wu 1990.\n",
      "  \" Pauley and Wu 1990.\", DeprecationWarning)\n"
     ]
    },
    {
     "name": "stdout",
     "output_type": "stream",
     "text": [
      "\n",
      "15\n",
      "."
     ]
    },
    {
     "name": "stderr",
     "output_type": "stream",
     "text": [
      "C:\\Users\\irene\\Anaconda3\\envs\\saveurproj\\lib\\site-packages\\pyart\\map\\gates_to_grid.py:177: DeprecationWarning: Barnes weighting function is deprecated. Please use Barnes 2 to be consistent with Pauley and Wu 1990.\n",
      "  \" Pauley and Wu 1990.\", DeprecationWarning)\n"
     ]
    },
    {
     "name": "stdout",
     "output_type": "stream",
     "text": [
      "."
     ]
    },
    {
     "name": "stderr",
     "output_type": "stream",
     "text": [
      "C:\\Users\\irene\\Anaconda3\\envs\\saveurproj\\lib\\site-packages\\pyart\\map\\gates_to_grid.py:177: DeprecationWarning: Barnes weighting function is deprecated. Please use Barnes 2 to be consistent with Pauley and Wu 1990.\n",
      "  \" Pauley and Wu 1990.\", DeprecationWarning)\n"
     ]
    },
    {
     "name": "stdout",
     "output_type": "stream",
     "text": [
      "."
     ]
    },
    {
     "name": "stderr",
     "output_type": "stream",
     "text": [
      "C:\\Users\\irene\\Anaconda3\\envs\\saveurproj\\lib\\site-packages\\pyart\\map\\gates_to_grid.py:177: DeprecationWarning: Barnes weighting function is deprecated. Please use Barnes 2 to be consistent with Pauley and Wu 1990.\n",
      "  \" Pauley and Wu 1990.\", DeprecationWarning)\n"
     ]
    },
    {
     "name": "stdout",
     "output_type": "stream",
     "text": [
      "."
     ]
    },
    {
     "name": "stderr",
     "output_type": "stream",
     "text": [
      "C:\\Users\\irene\\Anaconda3\\envs\\saveurproj\\lib\\site-packages\\pyart\\map\\gates_to_grid.py:177: DeprecationWarning: Barnes weighting function is deprecated. Please use Barnes 2 to be consistent with Pauley and Wu 1990.\n",
      "  \" Pauley and Wu 1990.\", DeprecationWarning)\n"
     ]
    },
    {
     "name": "stdout",
     "output_type": "stream",
     "text": [
      "."
     ]
    },
    {
     "name": "stderr",
     "output_type": "stream",
     "text": [
      "C:\\Users\\irene\\Anaconda3\\envs\\saveurproj\\lib\\site-packages\\pyart\\map\\gates_to_grid.py:177: DeprecationWarning: Barnes weighting function is deprecated. Please use Barnes 2 to be consistent with Pauley and Wu 1990.\n",
      "  \" Pauley and Wu 1990.\", DeprecationWarning)\n"
     ]
    },
    {
     "name": "stdout",
     "output_type": "stream",
     "text": [
      "."
     ]
    },
    {
     "name": "stderr",
     "output_type": "stream",
     "text": [
      "C:\\Users\\irene\\Anaconda3\\envs\\saveurproj\\lib\\site-packages\\pyart\\map\\gates_to_grid.py:177: DeprecationWarning: Barnes weighting function is deprecated. Please use Barnes 2 to be consistent with Pauley and Wu 1990.\n",
      "  \" Pauley and Wu 1990.\", DeprecationWarning)\n"
     ]
    },
    {
     "name": "stdout",
     "output_type": "stream",
     "text": [
      "."
     ]
    },
    {
     "name": "stderr",
     "output_type": "stream",
     "text": [
      "C:\\Users\\irene\\Anaconda3\\envs\\saveurproj\\lib\\site-packages\\pyart\\map\\gates_to_grid.py:177: DeprecationWarning: Barnes weighting function is deprecated. Please use Barnes 2 to be consistent with Pauley and Wu 1990.\n",
      "  \" Pauley and Wu 1990.\", DeprecationWarning)\n"
     ]
    },
    {
     "name": "stdout",
     "output_type": "stream",
     "text": [
      "."
     ]
    },
    {
     "name": "stderr",
     "output_type": "stream",
     "text": [
      "C:\\Users\\irene\\Anaconda3\\envs\\saveurproj\\lib\\site-packages\\pyart\\map\\gates_to_grid.py:177: DeprecationWarning: Barnes weighting function is deprecated. Please use Barnes 2 to be consistent with Pauley and Wu 1990.\n",
      "  \" Pauley and Wu 1990.\", DeprecationWarning)\n"
     ]
    },
    {
     "name": "stdout",
     "output_type": "stream",
     "text": [
      "."
     ]
    },
    {
     "name": "stderr",
     "output_type": "stream",
     "text": [
      "C:\\Users\\irene\\Anaconda3\\envs\\saveurproj\\lib\\site-packages\\pyart\\map\\gates_to_grid.py:177: DeprecationWarning: Barnes weighting function is deprecated. Please use Barnes 2 to be consistent with Pauley and Wu 1990.\n",
      "  \" Pauley and Wu 1990.\", DeprecationWarning)\n"
     ]
    },
    {
     "name": "stdout",
     "output_type": "stream",
     "text": [
      "."
     ]
    },
    {
     "name": "stderr",
     "output_type": "stream",
     "text": [
      "C:\\Users\\irene\\Anaconda3\\envs\\saveurproj\\lib\\site-packages\\pyart\\map\\gates_to_grid.py:177: DeprecationWarning: Barnes weighting function is deprecated. Please use Barnes 2 to be consistent with Pauley and Wu 1990.\n",
      "  \" Pauley and Wu 1990.\", DeprecationWarning)\n"
     ]
    },
    {
     "name": "stdout",
     "output_type": "stream",
     "text": [
      "."
     ]
    },
    {
     "name": "stderr",
     "output_type": "stream",
     "text": [
      "C:\\Users\\irene\\Anaconda3\\envs\\saveurproj\\lib\\site-packages\\pyart\\map\\gates_to_grid.py:177: DeprecationWarning: Barnes weighting function is deprecated. Please use Barnes 2 to be consistent with Pauley and Wu 1990.\n",
      "  \" Pauley and Wu 1990.\", DeprecationWarning)\n"
     ]
    },
    {
     "name": "stdout",
     "output_type": "stream",
     "text": [
      "."
     ]
    },
    {
     "name": "stderr",
     "output_type": "stream",
     "text": [
      "C:\\Users\\irene\\Anaconda3\\envs\\saveurproj\\lib\\site-packages\\pyart\\map\\gates_to_grid.py:177: DeprecationWarning: Barnes weighting function is deprecated. Please use Barnes 2 to be consistent with Pauley and Wu 1990.\n",
      "  \" Pauley and Wu 1990.\", DeprecationWarning)\n"
     ]
    },
    {
     "name": "stdout",
     "output_type": "stream",
     "text": [
      "."
     ]
    },
    {
     "name": "stderr",
     "output_type": "stream",
     "text": [
      "C:\\Users\\irene\\Anaconda3\\envs\\saveurproj\\lib\\site-packages\\pyart\\map\\gates_to_grid.py:177: DeprecationWarning: Barnes weighting function is deprecated. Please use Barnes 2 to be consistent with Pauley and Wu 1990.\n",
      "  \" Pauley and Wu 1990.\", DeprecationWarning)\n"
     ]
    },
    {
     "name": "stdout",
     "output_type": "stream",
     "text": [
      "."
     ]
    },
    {
     "name": "stderr",
     "output_type": "stream",
     "text": [
      "C:\\Users\\irene\\Anaconda3\\envs\\saveurproj\\lib\\site-packages\\pyart\\map\\gates_to_grid.py:177: DeprecationWarning: Barnes weighting function is deprecated. Please use Barnes 2 to be consistent with Pauley and Wu 1990.\n",
      "  \" Pauley and Wu 1990.\", DeprecationWarning)\n"
     ]
    },
    {
     "name": "stdout",
     "output_type": "stream",
     "text": [
      "\n",
      "16\n",
      "."
     ]
    },
    {
     "name": "stderr",
     "output_type": "stream",
     "text": [
      "C:\\Users\\irene\\Anaconda3\\envs\\saveurproj\\lib\\site-packages\\pyart\\map\\gates_to_grid.py:177: DeprecationWarning: Barnes weighting function is deprecated. Please use Barnes 2 to be consistent with Pauley and Wu 1990.\n",
      "  \" Pauley and Wu 1990.\", DeprecationWarning)\n"
     ]
    },
    {
     "name": "stdout",
     "output_type": "stream",
     "text": [
      "."
     ]
    },
    {
     "name": "stderr",
     "output_type": "stream",
     "text": [
      "C:\\Users\\irene\\Anaconda3\\envs\\saveurproj\\lib\\site-packages\\pyart\\map\\gates_to_grid.py:177: DeprecationWarning: Barnes weighting function is deprecated. Please use Barnes 2 to be consistent with Pauley and Wu 1990.\n",
      "  \" Pauley and Wu 1990.\", DeprecationWarning)\n"
     ]
    },
    {
     "name": "stdout",
     "output_type": "stream",
     "text": [
      "."
     ]
    },
    {
     "name": "stderr",
     "output_type": "stream",
     "text": [
      "C:\\Users\\irene\\Anaconda3\\envs\\saveurproj\\lib\\site-packages\\pyart\\map\\gates_to_grid.py:177: DeprecationWarning: Barnes weighting function is deprecated. Please use Barnes 2 to be consistent with Pauley and Wu 1990.\n",
      "  \" Pauley and Wu 1990.\", DeprecationWarning)\n"
     ]
    },
    {
     "name": "stdout",
     "output_type": "stream",
     "text": [
      "."
     ]
    },
    {
     "name": "stderr",
     "output_type": "stream",
     "text": [
      "C:\\Users\\irene\\Anaconda3\\envs\\saveurproj\\lib\\site-packages\\pyart\\map\\gates_to_grid.py:177: DeprecationWarning: Barnes weighting function is deprecated. Please use Barnes 2 to be consistent with Pauley and Wu 1990.\n",
      "  \" Pauley and Wu 1990.\", DeprecationWarning)\n"
     ]
    },
    {
     "name": "stdout",
     "output_type": "stream",
     "text": [
      "."
     ]
    },
    {
     "name": "stderr",
     "output_type": "stream",
     "text": [
      "C:\\Users\\irene\\Anaconda3\\envs\\saveurproj\\lib\\site-packages\\pyart\\map\\gates_to_grid.py:177: DeprecationWarning: Barnes weighting function is deprecated. Please use Barnes 2 to be consistent with Pauley and Wu 1990.\n",
      "  \" Pauley and Wu 1990.\", DeprecationWarning)\n"
     ]
    },
    {
     "name": "stdout",
     "output_type": "stream",
     "text": [
      "."
     ]
    },
    {
     "name": "stderr",
     "output_type": "stream",
     "text": [
      "C:\\Users\\irene\\Anaconda3\\envs\\saveurproj\\lib\\site-packages\\pyart\\map\\gates_to_grid.py:177: DeprecationWarning: Barnes weighting function is deprecated. Please use Barnes 2 to be consistent with Pauley and Wu 1990.\n",
      "  \" Pauley and Wu 1990.\", DeprecationWarning)\n"
     ]
    },
    {
     "name": "stdout",
     "output_type": "stream",
     "text": [
      "."
     ]
    },
    {
     "name": "stderr",
     "output_type": "stream",
     "text": [
      "C:\\Users\\irene\\Anaconda3\\envs\\saveurproj\\lib\\site-packages\\pyart\\map\\gates_to_grid.py:177: DeprecationWarning: Barnes weighting function is deprecated. Please use Barnes 2 to be consistent with Pauley and Wu 1990.\n",
      "  \" Pauley and Wu 1990.\", DeprecationWarning)\n"
     ]
    },
    {
     "name": "stdout",
     "output_type": "stream",
     "text": [
      "."
     ]
    },
    {
     "name": "stderr",
     "output_type": "stream",
     "text": [
      "C:\\Users\\irene\\Anaconda3\\envs\\saveurproj\\lib\\site-packages\\pyart\\map\\gates_to_grid.py:177: DeprecationWarning: Barnes weighting function is deprecated. Please use Barnes 2 to be consistent with Pauley and Wu 1990.\n",
      "  \" Pauley and Wu 1990.\", DeprecationWarning)\n"
     ]
    },
    {
     "name": "stdout",
     "output_type": "stream",
     "text": [
      "."
     ]
    },
    {
     "name": "stderr",
     "output_type": "stream",
     "text": [
      "C:\\Users\\irene\\Anaconda3\\envs\\saveurproj\\lib\\site-packages\\pyart\\map\\gates_to_grid.py:177: DeprecationWarning: Barnes weighting function is deprecated. Please use Barnes 2 to be consistent with Pauley and Wu 1990.\n",
      "  \" Pauley and Wu 1990.\", DeprecationWarning)\n"
     ]
    },
    {
     "name": "stdout",
     "output_type": "stream",
     "text": [
      "."
     ]
    },
    {
     "name": "stderr",
     "output_type": "stream",
     "text": [
      "C:\\Users\\irene\\Anaconda3\\envs\\saveurproj\\lib\\site-packages\\pyart\\map\\gates_to_grid.py:177: DeprecationWarning: Barnes weighting function is deprecated. Please use Barnes 2 to be consistent with Pauley and Wu 1990.\n",
      "  \" Pauley and Wu 1990.\", DeprecationWarning)\n"
     ]
    },
    {
     "name": "stdout",
     "output_type": "stream",
     "text": [
      "."
     ]
    },
    {
     "name": "stderr",
     "output_type": "stream",
     "text": [
      "C:\\Users\\irene\\Anaconda3\\envs\\saveurproj\\lib\\site-packages\\pyart\\map\\gates_to_grid.py:177: DeprecationWarning: Barnes weighting function is deprecated. Please use Barnes 2 to be consistent with Pauley and Wu 1990.\n",
      "  \" Pauley and Wu 1990.\", DeprecationWarning)\n"
     ]
    },
    {
     "name": "stdout",
     "output_type": "stream",
     "text": [
      "."
     ]
    },
    {
     "name": "stderr",
     "output_type": "stream",
     "text": [
      "C:\\Users\\irene\\Anaconda3\\envs\\saveurproj\\lib\\site-packages\\pyart\\map\\gates_to_grid.py:177: DeprecationWarning: Barnes weighting function is deprecated. Please use Barnes 2 to be consistent with Pauley and Wu 1990.\n",
      "  \" Pauley and Wu 1990.\", DeprecationWarning)\n"
     ]
    },
    {
     "name": "stdout",
     "output_type": "stream",
     "text": [
      "."
     ]
    },
    {
     "name": "stderr",
     "output_type": "stream",
     "text": [
      "C:\\Users\\irene\\Anaconda3\\envs\\saveurproj\\lib\\site-packages\\pyart\\map\\gates_to_grid.py:177: DeprecationWarning: Barnes weighting function is deprecated. Please use Barnes 2 to be consistent with Pauley and Wu 1990.\n",
      "  \" Pauley and Wu 1990.\", DeprecationWarning)\n"
     ]
    },
    {
     "name": "stdout",
     "output_type": "stream",
     "text": [
      "."
     ]
    },
    {
     "name": "stderr",
     "output_type": "stream",
     "text": [
      "C:\\Users\\irene\\Anaconda3\\envs\\saveurproj\\lib\\site-packages\\pyart\\map\\gates_to_grid.py:177: DeprecationWarning: Barnes weighting function is deprecated. Please use Barnes 2 to be consistent with Pauley and Wu 1990.\n",
      "  \" Pauley and Wu 1990.\", DeprecationWarning)\n"
     ]
    },
    {
     "name": "stdout",
     "output_type": "stream",
     "text": [
      "\n",
      "17\n",
      "."
     ]
    },
    {
     "name": "stderr",
     "output_type": "stream",
     "text": [
      "C:\\Users\\irene\\Anaconda3\\envs\\saveurproj\\lib\\site-packages\\pyart\\map\\gates_to_grid.py:177: DeprecationWarning: Barnes weighting function is deprecated. Please use Barnes 2 to be consistent with Pauley and Wu 1990.\n",
      "  \" Pauley and Wu 1990.\", DeprecationWarning)\n"
     ]
    },
    {
     "name": "stdout",
     "output_type": "stream",
     "text": [
      "."
     ]
    },
    {
     "name": "stderr",
     "output_type": "stream",
     "text": [
      "C:\\Users\\irene\\Anaconda3\\envs\\saveurproj\\lib\\site-packages\\pyart\\map\\gates_to_grid.py:177: DeprecationWarning: Barnes weighting function is deprecated. Please use Barnes 2 to be consistent with Pauley and Wu 1990.\n",
      "  \" Pauley and Wu 1990.\", DeprecationWarning)\n"
     ]
    },
    {
     "name": "stdout",
     "output_type": "stream",
     "text": [
      "."
     ]
    },
    {
     "name": "stderr",
     "output_type": "stream",
     "text": [
      "C:\\Users\\irene\\Anaconda3\\envs\\saveurproj\\lib\\site-packages\\pyart\\map\\gates_to_grid.py:177: DeprecationWarning: Barnes weighting function is deprecated. Please use Barnes 2 to be consistent with Pauley and Wu 1990.\n",
      "  \" Pauley and Wu 1990.\", DeprecationWarning)\n"
     ]
    },
    {
     "name": "stdout",
     "output_type": "stream",
     "text": [
      "."
     ]
    },
    {
     "name": "stderr",
     "output_type": "stream",
     "text": [
      "C:\\Users\\irene\\Anaconda3\\envs\\saveurproj\\lib\\site-packages\\pyart\\map\\gates_to_grid.py:177: DeprecationWarning: Barnes weighting function is deprecated. Please use Barnes 2 to be consistent with Pauley and Wu 1990.\n",
      "  \" Pauley and Wu 1990.\", DeprecationWarning)\n"
     ]
    },
    {
     "name": "stdout",
     "output_type": "stream",
     "text": [
      "."
     ]
    },
    {
     "name": "stderr",
     "output_type": "stream",
     "text": [
      "C:\\Users\\irene\\Anaconda3\\envs\\saveurproj\\lib\\site-packages\\pyart\\map\\gates_to_grid.py:177: DeprecationWarning: Barnes weighting function is deprecated. Please use Barnes 2 to be consistent with Pauley and Wu 1990.\n",
      "  \" Pauley and Wu 1990.\", DeprecationWarning)\n"
     ]
    },
    {
     "name": "stdout",
     "output_type": "stream",
     "text": [
      "."
     ]
    },
    {
     "name": "stderr",
     "output_type": "stream",
     "text": [
      "C:\\Users\\irene\\Anaconda3\\envs\\saveurproj\\lib\\site-packages\\pyart\\map\\gates_to_grid.py:177: DeprecationWarning: Barnes weighting function is deprecated. Please use Barnes 2 to be consistent with Pauley and Wu 1990.\n",
      "  \" Pauley and Wu 1990.\", DeprecationWarning)\n"
     ]
    },
    {
     "name": "stdout",
     "output_type": "stream",
     "text": [
      "."
     ]
    },
    {
     "name": "stderr",
     "output_type": "stream",
     "text": [
      "C:\\Users\\irene\\Anaconda3\\envs\\saveurproj\\lib\\site-packages\\pyart\\map\\gates_to_grid.py:177: DeprecationWarning: Barnes weighting function is deprecated. Please use Barnes 2 to be consistent with Pauley and Wu 1990.\n",
      "  \" Pauley and Wu 1990.\", DeprecationWarning)\n"
     ]
    },
    {
     "name": "stdout",
     "output_type": "stream",
     "text": [
      "."
     ]
    },
    {
     "name": "stderr",
     "output_type": "stream",
     "text": [
      "C:\\Users\\irene\\Anaconda3\\envs\\saveurproj\\lib\\site-packages\\pyart\\map\\gates_to_grid.py:177: DeprecationWarning: Barnes weighting function is deprecated. Please use Barnes 2 to be consistent with Pauley and Wu 1990.\n",
      "  \" Pauley and Wu 1990.\", DeprecationWarning)\n"
     ]
    },
    {
     "name": "stdout",
     "output_type": "stream",
     "text": [
      "."
     ]
    },
    {
     "name": "stderr",
     "output_type": "stream",
     "text": [
      "C:\\Users\\irene\\Anaconda3\\envs\\saveurproj\\lib\\site-packages\\pyart\\map\\gates_to_grid.py:177: DeprecationWarning: Barnes weighting function is deprecated. Please use Barnes 2 to be consistent with Pauley and Wu 1990.\n",
      "  \" Pauley and Wu 1990.\", DeprecationWarning)\n"
     ]
    },
    {
     "name": "stdout",
     "output_type": "stream",
     "text": [
      "."
     ]
    },
    {
     "name": "stderr",
     "output_type": "stream",
     "text": [
      "C:\\Users\\irene\\Anaconda3\\envs\\saveurproj\\lib\\site-packages\\pyart\\map\\gates_to_grid.py:177: DeprecationWarning: Barnes weighting function is deprecated. Please use Barnes 2 to be consistent with Pauley and Wu 1990.\n",
      "  \" Pauley and Wu 1990.\", DeprecationWarning)\n"
     ]
    },
    {
     "name": "stdout",
     "output_type": "stream",
     "text": [
      "."
     ]
    },
    {
     "name": "stderr",
     "output_type": "stream",
     "text": [
      "C:\\Users\\irene\\Anaconda3\\envs\\saveurproj\\lib\\site-packages\\pyart\\map\\gates_to_grid.py:177: DeprecationWarning: Barnes weighting function is deprecated. Please use Barnes 2 to be consistent with Pauley and Wu 1990.\n",
      "  \" Pauley and Wu 1990.\", DeprecationWarning)\n"
     ]
    },
    {
     "name": "stdout",
     "output_type": "stream",
     "text": [
      "."
     ]
    },
    {
     "name": "stderr",
     "output_type": "stream",
     "text": [
      "C:\\Users\\irene\\Anaconda3\\envs\\saveurproj\\lib\\site-packages\\pyart\\map\\gates_to_grid.py:177: DeprecationWarning: Barnes weighting function is deprecated. Please use Barnes 2 to be consistent with Pauley and Wu 1990.\n",
      "  \" Pauley and Wu 1990.\", DeprecationWarning)\n"
     ]
    },
    {
     "name": "stdout",
     "output_type": "stream",
     "text": [
      "."
     ]
    },
    {
     "name": "stderr",
     "output_type": "stream",
     "text": [
      "C:\\Users\\irene\\Anaconda3\\envs\\saveurproj\\lib\\site-packages\\pyart\\map\\gates_to_grid.py:177: DeprecationWarning: Barnes weighting function is deprecated. Please use Barnes 2 to be consistent with Pauley and Wu 1990.\n",
      "  \" Pauley and Wu 1990.\", DeprecationWarning)\n"
     ]
    },
    {
     "name": "stdout",
     "output_type": "stream",
     "text": [
      "."
     ]
    },
    {
     "name": "stderr",
     "output_type": "stream",
     "text": [
      "C:\\Users\\irene\\Anaconda3\\envs\\saveurproj\\lib\\site-packages\\pyart\\map\\gates_to_grid.py:177: DeprecationWarning: Barnes weighting function is deprecated. Please use Barnes 2 to be consistent with Pauley and Wu 1990.\n",
      "  \" Pauley and Wu 1990.\", DeprecationWarning)\n"
     ]
    },
    {
     "name": "stdout",
     "output_type": "stream",
     "text": [
      "\n",
      "18\n",
      "."
     ]
    },
    {
     "name": "stderr",
     "output_type": "stream",
     "text": [
      "C:\\Users\\irene\\Anaconda3\\envs\\saveurproj\\lib\\site-packages\\pyart\\map\\gates_to_grid.py:177: DeprecationWarning: Barnes weighting function is deprecated. Please use Barnes 2 to be consistent with Pauley and Wu 1990.\n",
      "  \" Pauley and Wu 1990.\", DeprecationWarning)\n"
     ]
    },
    {
     "name": "stdout",
     "output_type": "stream",
     "text": [
      "."
     ]
    },
    {
     "name": "stderr",
     "output_type": "stream",
     "text": [
      "C:\\Users\\irene\\Anaconda3\\envs\\saveurproj\\lib\\site-packages\\pyart\\map\\gates_to_grid.py:177: DeprecationWarning: Barnes weighting function is deprecated. Please use Barnes 2 to be consistent with Pauley and Wu 1990.\n",
      "  \" Pauley and Wu 1990.\", DeprecationWarning)\n"
     ]
    },
    {
     "name": "stdout",
     "output_type": "stream",
     "text": [
      "."
     ]
    },
    {
     "name": "stderr",
     "output_type": "stream",
     "text": [
      "C:\\Users\\irene\\Anaconda3\\envs\\saveurproj\\lib\\site-packages\\pyart\\map\\gates_to_grid.py:177: DeprecationWarning: Barnes weighting function is deprecated. Please use Barnes 2 to be consistent with Pauley and Wu 1990.\n",
      "  \" Pauley and Wu 1990.\", DeprecationWarning)\n"
     ]
    },
    {
     "name": "stdout",
     "output_type": "stream",
     "text": [
      "."
     ]
    },
    {
     "name": "stderr",
     "output_type": "stream",
     "text": [
      "C:\\Users\\irene\\Anaconda3\\envs\\saveurproj\\lib\\site-packages\\pyart\\map\\gates_to_grid.py:177: DeprecationWarning: Barnes weighting function is deprecated. Please use Barnes 2 to be consistent with Pauley and Wu 1990.\n",
      "  \" Pauley and Wu 1990.\", DeprecationWarning)\n"
     ]
    },
    {
     "name": "stdout",
     "output_type": "stream",
     "text": [
      "."
     ]
    },
    {
     "name": "stderr",
     "output_type": "stream",
     "text": [
      "C:\\Users\\irene\\Anaconda3\\envs\\saveurproj\\lib\\site-packages\\pyart\\map\\gates_to_grid.py:177: DeprecationWarning: Barnes weighting function is deprecated. Please use Barnes 2 to be consistent with Pauley and Wu 1990.\n",
      "  \" Pauley and Wu 1990.\", DeprecationWarning)\n"
     ]
    },
    {
     "name": "stdout",
     "output_type": "stream",
     "text": [
      "."
     ]
    },
    {
     "name": "stderr",
     "output_type": "stream",
     "text": [
      "C:\\Users\\irene\\Anaconda3\\envs\\saveurproj\\lib\\site-packages\\pyart\\map\\gates_to_grid.py:177: DeprecationWarning: Barnes weighting function is deprecated. Please use Barnes 2 to be consistent with Pauley and Wu 1990.\n",
      "  \" Pauley and Wu 1990.\", DeprecationWarning)\n"
     ]
    },
    {
     "name": "stdout",
     "output_type": "stream",
     "text": [
      "."
     ]
    },
    {
     "name": "stderr",
     "output_type": "stream",
     "text": [
      "C:\\Users\\irene\\Anaconda3\\envs\\saveurproj\\lib\\site-packages\\pyart\\map\\gates_to_grid.py:177: DeprecationWarning: Barnes weighting function is deprecated. Please use Barnes 2 to be consistent with Pauley and Wu 1990.\n",
      "  \" Pauley and Wu 1990.\", DeprecationWarning)\n"
     ]
    },
    {
     "name": "stdout",
     "output_type": "stream",
     "text": [
      "."
     ]
    },
    {
     "name": "stderr",
     "output_type": "stream",
     "text": [
      "C:\\Users\\irene\\Anaconda3\\envs\\saveurproj\\lib\\site-packages\\pyart\\map\\gates_to_grid.py:177: DeprecationWarning: Barnes weighting function is deprecated. Please use Barnes 2 to be consistent with Pauley and Wu 1990.\n",
      "  \" Pauley and Wu 1990.\", DeprecationWarning)\n"
     ]
    },
    {
     "name": "stdout",
     "output_type": "stream",
     "text": [
      "."
     ]
    },
    {
     "name": "stderr",
     "output_type": "stream",
     "text": [
      "C:\\Users\\irene\\Anaconda3\\envs\\saveurproj\\lib\\site-packages\\pyart\\map\\gates_to_grid.py:177: DeprecationWarning: Barnes weighting function is deprecated. Please use Barnes 2 to be consistent with Pauley and Wu 1990.\n",
      "  \" Pauley and Wu 1990.\", DeprecationWarning)\n"
     ]
    },
    {
     "name": "stdout",
     "output_type": "stream",
     "text": [
      "."
     ]
    },
    {
     "name": "stderr",
     "output_type": "stream",
     "text": [
      "C:\\Users\\irene\\Anaconda3\\envs\\saveurproj\\lib\\site-packages\\pyart\\map\\gates_to_grid.py:177: DeprecationWarning: Barnes weighting function is deprecated. Please use Barnes 2 to be consistent with Pauley and Wu 1990.\n",
      "  \" Pauley and Wu 1990.\", DeprecationWarning)\n"
     ]
    },
    {
     "name": "stdout",
     "output_type": "stream",
     "text": [
      "."
     ]
    },
    {
     "name": "stderr",
     "output_type": "stream",
     "text": [
      "C:\\Users\\irene\\Anaconda3\\envs\\saveurproj\\lib\\site-packages\\pyart\\map\\gates_to_grid.py:177: DeprecationWarning: Barnes weighting function is deprecated. Please use Barnes 2 to be consistent with Pauley and Wu 1990.\n",
      "  \" Pauley and Wu 1990.\", DeprecationWarning)\n"
     ]
    },
    {
     "name": "stdout",
     "output_type": "stream",
     "text": [
      "."
     ]
    },
    {
     "name": "stderr",
     "output_type": "stream",
     "text": [
      "C:\\Users\\irene\\Anaconda3\\envs\\saveurproj\\lib\\site-packages\\pyart\\map\\gates_to_grid.py:177: DeprecationWarning: Barnes weighting function is deprecated. Please use Barnes 2 to be consistent with Pauley and Wu 1990.\n",
      "  \" Pauley and Wu 1990.\", DeprecationWarning)\n"
     ]
    },
    {
     "name": "stdout",
     "output_type": "stream",
     "text": [
      "."
     ]
    },
    {
     "name": "stderr",
     "output_type": "stream",
     "text": [
      "C:\\Users\\irene\\Anaconda3\\envs\\saveurproj\\lib\\site-packages\\pyart\\map\\gates_to_grid.py:177: DeprecationWarning: Barnes weighting function is deprecated. Please use Barnes 2 to be consistent with Pauley and Wu 1990.\n",
      "  \" Pauley and Wu 1990.\", DeprecationWarning)\n"
     ]
    },
    {
     "name": "stdout",
     "output_type": "stream",
     "text": [
      "."
     ]
    },
    {
     "name": "stderr",
     "output_type": "stream",
     "text": [
      "C:\\Users\\irene\\Anaconda3\\envs\\saveurproj\\lib\\site-packages\\pyart\\map\\gates_to_grid.py:177: DeprecationWarning: Barnes weighting function is deprecated. Please use Barnes 2 to be consistent with Pauley and Wu 1990.\n",
      "  \" Pauley and Wu 1990.\", DeprecationWarning)\n"
     ]
    },
    {
     "name": "stdout",
     "output_type": "stream",
     "text": [
      "\n",
      "19\n",
      "."
     ]
    },
    {
     "name": "stderr",
     "output_type": "stream",
     "text": [
      "C:\\Users\\irene\\Anaconda3\\envs\\saveurproj\\lib\\site-packages\\pyart\\map\\gates_to_grid.py:177: DeprecationWarning: Barnes weighting function is deprecated. Please use Barnes 2 to be consistent with Pauley and Wu 1990.\n",
      "  \" Pauley and Wu 1990.\", DeprecationWarning)\n"
     ]
    },
    {
     "name": "stdout",
     "output_type": "stream",
     "text": [
      "."
     ]
    },
    {
     "name": "stderr",
     "output_type": "stream",
     "text": [
      "C:\\Users\\irene\\Anaconda3\\envs\\saveurproj\\lib\\site-packages\\pyart\\map\\gates_to_grid.py:177: DeprecationWarning: Barnes weighting function is deprecated. Please use Barnes 2 to be consistent with Pauley and Wu 1990.\n",
      "  \" Pauley and Wu 1990.\", DeprecationWarning)\n"
     ]
    },
    {
     "name": "stdout",
     "output_type": "stream",
     "text": [
      "."
     ]
    },
    {
     "name": "stderr",
     "output_type": "stream",
     "text": [
      "C:\\Users\\irene\\Anaconda3\\envs\\saveurproj\\lib\\site-packages\\pyart\\map\\gates_to_grid.py:177: DeprecationWarning: Barnes weighting function is deprecated. Please use Barnes 2 to be consistent with Pauley and Wu 1990.\n",
      "  \" Pauley and Wu 1990.\", DeprecationWarning)\n"
     ]
    },
    {
     "name": "stdout",
     "output_type": "stream",
     "text": [
      "."
     ]
    },
    {
     "name": "stderr",
     "output_type": "stream",
     "text": [
      "C:\\Users\\irene\\Anaconda3\\envs\\saveurproj\\lib\\site-packages\\pyart\\map\\gates_to_grid.py:177: DeprecationWarning: Barnes weighting function is deprecated. Please use Barnes 2 to be consistent with Pauley and Wu 1990.\n",
      "  \" Pauley and Wu 1990.\", DeprecationWarning)\n"
     ]
    },
    {
     "name": "stdout",
     "output_type": "stream",
     "text": [
      "."
     ]
    },
    {
     "name": "stderr",
     "output_type": "stream",
     "text": [
      "C:\\Users\\irene\\Anaconda3\\envs\\saveurproj\\lib\\site-packages\\pyart\\map\\gates_to_grid.py:177: DeprecationWarning: Barnes weighting function is deprecated. Please use Barnes 2 to be consistent with Pauley and Wu 1990.\n",
      "  \" Pauley and Wu 1990.\", DeprecationWarning)\n"
     ]
    },
    {
     "name": "stdout",
     "output_type": "stream",
     "text": [
      "."
     ]
    },
    {
     "name": "stderr",
     "output_type": "stream",
     "text": [
      "C:\\Users\\irene\\Anaconda3\\envs\\saveurproj\\lib\\site-packages\\pyart\\map\\gates_to_grid.py:177: DeprecationWarning: Barnes weighting function is deprecated. Please use Barnes 2 to be consistent with Pauley and Wu 1990.\n",
      "  \" Pauley and Wu 1990.\", DeprecationWarning)\n"
     ]
    },
    {
     "name": "stdout",
     "output_type": "stream",
     "text": [
      "."
     ]
    },
    {
     "name": "stderr",
     "output_type": "stream",
     "text": [
      "C:\\Users\\irene\\Anaconda3\\envs\\saveurproj\\lib\\site-packages\\pyart\\map\\gates_to_grid.py:177: DeprecationWarning: Barnes weighting function is deprecated. Please use Barnes 2 to be consistent with Pauley and Wu 1990.\n",
      "  \" Pauley and Wu 1990.\", DeprecationWarning)\n"
     ]
    },
    {
     "name": "stdout",
     "output_type": "stream",
     "text": [
      "."
     ]
    },
    {
     "name": "stderr",
     "output_type": "stream",
     "text": [
      "C:\\Users\\irene\\Anaconda3\\envs\\saveurproj\\lib\\site-packages\\pyart\\map\\gates_to_grid.py:177: DeprecationWarning: Barnes weighting function is deprecated. Please use Barnes 2 to be consistent with Pauley and Wu 1990.\n",
      "  \" Pauley and Wu 1990.\", DeprecationWarning)\n"
     ]
    },
    {
     "name": "stdout",
     "output_type": "stream",
     "text": [
      "."
     ]
    },
    {
     "name": "stderr",
     "output_type": "stream",
     "text": [
      "C:\\Users\\irene\\Anaconda3\\envs\\saveurproj\\lib\\site-packages\\pyart\\map\\gates_to_grid.py:177: DeprecationWarning: Barnes weighting function is deprecated. Please use Barnes 2 to be consistent with Pauley and Wu 1990.\n",
      "  \" Pauley and Wu 1990.\", DeprecationWarning)\n"
     ]
    },
    {
     "name": "stdout",
     "output_type": "stream",
     "text": [
      "."
     ]
    },
    {
     "name": "stderr",
     "output_type": "stream",
     "text": [
      "C:\\Users\\irene\\Anaconda3\\envs\\saveurproj\\lib\\site-packages\\pyart\\map\\gates_to_grid.py:177: DeprecationWarning: Barnes weighting function is deprecated. Please use Barnes 2 to be consistent with Pauley and Wu 1990.\n",
      "  \" Pauley and Wu 1990.\", DeprecationWarning)\n"
     ]
    },
    {
     "name": "stdout",
     "output_type": "stream",
     "text": [
      "."
     ]
    },
    {
     "name": "stderr",
     "output_type": "stream",
     "text": [
      "C:\\Users\\irene\\Anaconda3\\envs\\saveurproj\\lib\\site-packages\\pyart\\map\\gates_to_grid.py:177: DeprecationWarning: Barnes weighting function is deprecated. Please use Barnes 2 to be consistent with Pauley and Wu 1990.\n",
      "  \" Pauley and Wu 1990.\", DeprecationWarning)\n"
     ]
    },
    {
     "name": "stdout",
     "output_type": "stream",
     "text": [
      "."
     ]
    },
    {
     "name": "stderr",
     "output_type": "stream",
     "text": [
      "C:\\Users\\irene\\Anaconda3\\envs\\saveurproj\\lib\\site-packages\\pyart\\map\\gates_to_grid.py:177: DeprecationWarning: Barnes weighting function is deprecated. Please use Barnes 2 to be consistent with Pauley and Wu 1990.\n",
      "  \" Pauley and Wu 1990.\", DeprecationWarning)\n"
     ]
    },
    {
     "name": "stdout",
     "output_type": "stream",
     "text": [
      "."
     ]
    },
    {
     "name": "stderr",
     "output_type": "stream",
     "text": [
      "C:\\Users\\irene\\Anaconda3\\envs\\saveurproj\\lib\\site-packages\\pyart\\map\\gates_to_grid.py:177: DeprecationWarning: Barnes weighting function is deprecated. Please use Barnes 2 to be consistent with Pauley and Wu 1990.\n",
      "  \" Pauley and Wu 1990.\", DeprecationWarning)\n"
     ]
    },
    {
     "name": "stdout",
     "output_type": "stream",
     "text": [
      "."
     ]
    },
    {
     "name": "stderr",
     "output_type": "stream",
     "text": [
      "C:\\Users\\irene\\Anaconda3\\envs\\saveurproj\\lib\\site-packages\\pyart\\map\\gates_to_grid.py:177: DeprecationWarning: Barnes weighting function is deprecated. Please use Barnes 2 to be consistent with Pauley and Wu 1990.\n",
      "  \" Pauley and Wu 1990.\", DeprecationWarning)\n"
     ]
    },
    {
     "name": "stdout",
     "output_type": "stream",
     "text": [
      "\n",
      "20\n",
      "."
     ]
    },
    {
     "name": "stderr",
     "output_type": "stream",
     "text": [
      "C:\\Users\\irene\\Anaconda3\\envs\\saveurproj\\lib\\site-packages\\pyart\\map\\gates_to_grid.py:177: DeprecationWarning: Barnes weighting function is deprecated. Please use Barnes 2 to be consistent with Pauley and Wu 1990.\n",
      "  \" Pauley and Wu 1990.\", DeprecationWarning)\n"
     ]
    },
    {
     "name": "stdout",
     "output_type": "stream",
     "text": [
      "."
     ]
    },
    {
     "name": "stderr",
     "output_type": "stream",
     "text": [
      "C:\\Users\\irene\\Anaconda3\\envs\\saveurproj\\lib\\site-packages\\pyart\\map\\gates_to_grid.py:177: DeprecationWarning: Barnes weighting function is deprecated. Please use Barnes 2 to be consistent with Pauley and Wu 1990.\n",
      "  \" Pauley and Wu 1990.\", DeprecationWarning)\n"
     ]
    },
    {
     "name": "stdout",
     "output_type": "stream",
     "text": [
      "."
     ]
    },
    {
     "name": "stderr",
     "output_type": "stream",
     "text": [
      "C:\\Users\\irene\\Anaconda3\\envs\\saveurproj\\lib\\site-packages\\pyart\\map\\gates_to_grid.py:177: DeprecationWarning: Barnes weighting function is deprecated. Please use Barnes 2 to be consistent with Pauley and Wu 1990.\n",
      "  \" Pauley and Wu 1990.\", DeprecationWarning)\n"
     ]
    },
    {
     "name": "stdout",
     "output_type": "stream",
     "text": [
      "."
     ]
    },
    {
     "name": "stderr",
     "output_type": "stream",
     "text": [
      "C:\\Users\\irene\\Anaconda3\\envs\\saveurproj\\lib\\site-packages\\pyart\\map\\gates_to_grid.py:177: DeprecationWarning: Barnes weighting function is deprecated. Please use Barnes 2 to be consistent with Pauley and Wu 1990.\n",
      "  \" Pauley and Wu 1990.\", DeprecationWarning)\n"
     ]
    },
    {
     "name": "stdout",
     "output_type": "stream",
     "text": [
      "."
     ]
    },
    {
     "name": "stderr",
     "output_type": "stream",
     "text": [
      "C:\\Users\\irene\\Anaconda3\\envs\\saveurproj\\lib\\site-packages\\pyart\\map\\gates_to_grid.py:177: DeprecationWarning: Barnes weighting function is deprecated. Please use Barnes 2 to be consistent with Pauley and Wu 1990.\n",
      "  \" Pauley and Wu 1990.\", DeprecationWarning)\n"
     ]
    },
    {
     "name": "stdout",
     "output_type": "stream",
     "text": [
      "."
     ]
    },
    {
     "name": "stderr",
     "output_type": "stream",
     "text": [
      "C:\\Users\\irene\\Anaconda3\\envs\\saveurproj\\lib\\site-packages\\pyart\\map\\gates_to_grid.py:177: DeprecationWarning: Barnes weighting function is deprecated. Please use Barnes 2 to be consistent with Pauley and Wu 1990.\n",
      "  \" Pauley and Wu 1990.\", DeprecationWarning)\n"
     ]
    },
    {
     "name": "stdout",
     "output_type": "stream",
     "text": [
      "."
     ]
    },
    {
     "name": "stderr",
     "output_type": "stream",
     "text": [
      "C:\\Users\\irene\\Anaconda3\\envs\\saveurproj\\lib\\site-packages\\pyart\\map\\gates_to_grid.py:177: DeprecationWarning: Barnes weighting function is deprecated. Please use Barnes 2 to be consistent with Pauley and Wu 1990.\n",
      "  \" Pauley and Wu 1990.\", DeprecationWarning)\n"
     ]
    },
    {
     "name": "stdout",
     "output_type": "stream",
     "text": [
      "."
     ]
    },
    {
     "name": "stderr",
     "output_type": "stream",
     "text": [
      "C:\\Users\\irene\\Anaconda3\\envs\\saveurproj\\lib\\site-packages\\pyart\\map\\gates_to_grid.py:177: DeprecationWarning: Barnes weighting function is deprecated. Please use Barnes 2 to be consistent with Pauley and Wu 1990.\n",
      "  \" Pauley and Wu 1990.\", DeprecationWarning)\n"
     ]
    },
    {
     "name": "stdout",
     "output_type": "stream",
     "text": [
      "."
     ]
    },
    {
     "name": "stderr",
     "output_type": "stream",
     "text": [
      "C:\\Users\\irene\\Anaconda3\\envs\\saveurproj\\lib\\site-packages\\pyart\\map\\gates_to_grid.py:177: DeprecationWarning: Barnes weighting function is deprecated. Please use Barnes 2 to be consistent with Pauley and Wu 1990.\n",
      "  \" Pauley and Wu 1990.\", DeprecationWarning)\n"
     ]
    },
    {
     "name": "stdout",
     "output_type": "stream",
     "text": [
      "."
     ]
    },
    {
     "name": "stderr",
     "output_type": "stream",
     "text": [
      "C:\\Users\\irene\\Anaconda3\\envs\\saveurproj\\lib\\site-packages\\pyart\\map\\gates_to_grid.py:177: DeprecationWarning: Barnes weighting function is deprecated. Please use Barnes 2 to be consistent with Pauley and Wu 1990.\n",
      "  \" Pauley and Wu 1990.\", DeprecationWarning)\n"
     ]
    },
    {
     "name": "stdout",
     "output_type": "stream",
     "text": [
      "."
     ]
    },
    {
     "name": "stderr",
     "output_type": "stream",
     "text": [
      "C:\\Users\\irene\\Anaconda3\\envs\\saveurproj\\lib\\site-packages\\pyart\\map\\gates_to_grid.py:177: DeprecationWarning: Barnes weighting function is deprecated. Please use Barnes 2 to be consistent with Pauley and Wu 1990.\n",
      "  \" Pauley and Wu 1990.\", DeprecationWarning)\n"
     ]
    },
    {
     "name": "stdout",
     "output_type": "stream",
     "text": [
      "."
     ]
    },
    {
     "name": "stderr",
     "output_type": "stream",
     "text": [
      "C:\\Users\\irene\\Anaconda3\\envs\\saveurproj\\lib\\site-packages\\pyart\\map\\gates_to_grid.py:177: DeprecationWarning: Barnes weighting function is deprecated. Please use Barnes 2 to be consistent with Pauley and Wu 1990.\n",
      "  \" Pauley and Wu 1990.\", DeprecationWarning)\n"
     ]
    },
    {
     "name": "stdout",
     "output_type": "stream",
     "text": [
      "."
     ]
    },
    {
     "name": "stderr",
     "output_type": "stream",
     "text": [
      "C:\\Users\\irene\\Anaconda3\\envs\\saveurproj\\lib\\site-packages\\pyart\\map\\gates_to_grid.py:177: DeprecationWarning: Barnes weighting function is deprecated. Please use Barnes 2 to be consistent with Pauley and Wu 1990.\n",
      "  \" Pauley and Wu 1990.\", DeprecationWarning)\n"
     ]
    },
    {
     "name": "stdout",
     "output_type": "stream",
     "text": [
      "."
     ]
    },
    {
     "name": "stderr",
     "output_type": "stream",
     "text": [
      "C:\\Users\\irene\\Anaconda3\\envs\\saveurproj\\lib\\site-packages\\pyart\\map\\gates_to_grid.py:177: DeprecationWarning: Barnes weighting function is deprecated. Please use Barnes 2 to be consistent with Pauley and Wu 1990.\n",
      "  \" Pauley and Wu 1990.\", DeprecationWarning)\n"
     ]
    },
    {
     "name": "stdout",
     "output_type": "stream",
     "text": [
      "\n",
      "21\n",
      "."
     ]
    },
    {
     "name": "stderr",
     "output_type": "stream",
     "text": [
      "C:\\Users\\irene\\Anaconda3\\envs\\saveurproj\\lib\\site-packages\\pyart\\map\\gates_to_grid.py:177: DeprecationWarning: Barnes weighting function is deprecated. Please use Barnes 2 to be consistent with Pauley and Wu 1990.\n",
      "  \" Pauley and Wu 1990.\", DeprecationWarning)\n"
     ]
    },
    {
     "name": "stdout",
     "output_type": "stream",
     "text": [
      "."
     ]
    },
    {
     "name": "stderr",
     "output_type": "stream",
     "text": [
      "C:\\Users\\irene\\Anaconda3\\envs\\saveurproj\\lib\\site-packages\\pyart\\map\\gates_to_grid.py:177: DeprecationWarning: Barnes weighting function is deprecated. Please use Barnes 2 to be consistent with Pauley and Wu 1990.\n",
      "  \" Pauley and Wu 1990.\", DeprecationWarning)\n"
     ]
    },
    {
     "name": "stdout",
     "output_type": "stream",
     "text": [
      "."
     ]
    },
    {
     "name": "stderr",
     "output_type": "stream",
     "text": [
      "C:\\Users\\irene\\Anaconda3\\envs\\saveurproj\\lib\\site-packages\\pyart\\map\\gates_to_grid.py:177: DeprecationWarning: Barnes weighting function is deprecated. Please use Barnes 2 to be consistent with Pauley and Wu 1990.\n",
      "  \" Pauley and Wu 1990.\", DeprecationWarning)\n"
     ]
    },
    {
     "name": "stdout",
     "output_type": "stream",
     "text": [
      "."
     ]
    },
    {
     "name": "stderr",
     "output_type": "stream",
     "text": [
      "C:\\Users\\irene\\Anaconda3\\envs\\saveurproj\\lib\\site-packages\\pyart\\map\\gates_to_grid.py:177: DeprecationWarning: Barnes weighting function is deprecated. Please use Barnes 2 to be consistent with Pauley and Wu 1990.\n",
      "  \" Pauley and Wu 1990.\", DeprecationWarning)\n"
     ]
    },
    {
     "name": "stdout",
     "output_type": "stream",
     "text": [
      "."
     ]
    },
    {
     "name": "stderr",
     "output_type": "stream",
     "text": [
      "C:\\Users\\irene\\Anaconda3\\envs\\saveurproj\\lib\\site-packages\\pyart\\map\\gates_to_grid.py:177: DeprecationWarning: Barnes weighting function is deprecated. Please use Barnes 2 to be consistent with Pauley and Wu 1990.\n",
      "  \" Pauley and Wu 1990.\", DeprecationWarning)\n"
     ]
    },
    {
     "name": "stdout",
     "output_type": "stream",
     "text": [
      "."
     ]
    },
    {
     "name": "stderr",
     "output_type": "stream",
     "text": [
      "C:\\Users\\irene\\Anaconda3\\envs\\saveurproj\\lib\\site-packages\\pyart\\map\\gates_to_grid.py:177: DeprecationWarning: Barnes weighting function is deprecated. Please use Barnes 2 to be consistent with Pauley and Wu 1990.\n",
      "  \" Pauley and Wu 1990.\", DeprecationWarning)\n"
     ]
    },
    {
     "name": "stdout",
     "output_type": "stream",
     "text": [
      "."
     ]
    },
    {
     "name": "stderr",
     "output_type": "stream",
     "text": [
      "C:\\Users\\irene\\Anaconda3\\envs\\saveurproj\\lib\\site-packages\\pyart\\map\\gates_to_grid.py:177: DeprecationWarning: Barnes weighting function is deprecated. Please use Barnes 2 to be consistent with Pauley and Wu 1990.\n",
      "  \" Pauley and Wu 1990.\", DeprecationWarning)\n"
     ]
    },
    {
     "name": "stdout",
     "output_type": "stream",
     "text": [
      "."
     ]
    },
    {
     "name": "stderr",
     "output_type": "stream",
     "text": [
      "C:\\Users\\irene\\Anaconda3\\envs\\saveurproj\\lib\\site-packages\\pyart\\map\\gates_to_grid.py:177: DeprecationWarning: Barnes weighting function is deprecated. Please use Barnes 2 to be consistent with Pauley and Wu 1990.\n",
      "  \" Pauley and Wu 1990.\", DeprecationWarning)\n"
     ]
    },
    {
     "name": "stdout",
     "output_type": "stream",
     "text": [
      "."
     ]
    },
    {
     "name": "stderr",
     "output_type": "stream",
     "text": [
      "C:\\Users\\irene\\Anaconda3\\envs\\saveurproj\\lib\\site-packages\\pyart\\map\\gates_to_grid.py:177: DeprecationWarning: Barnes weighting function is deprecated. Please use Barnes 2 to be consistent with Pauley and Wu 1990.\n",
      "  \" Pauley and Wu 1990.\", DeprecationWarning)\n"
     ]
    },
    {
     "name": "stdout",
     "output_type": "stream",
     "text": [
      "."
     ]
    },
    {
     "name": "stderr",
     "output_type": "stream",
     "text": [
      "C:\\Users\\irene\\Anaconda3\\envs\\saveurproj\\lib\\site-packages\\pyart\\map\\gates_to_grid.py:177: DeprecationWarning: Barnes weighting function is deprecated. Please use Barnes 2 to be consistent with Pauley and Wu 1990.\n",
      "  \" Pauley and Wu 1990.\", DeprecationWarning)\n"
     ]
    },
    {
     "name": "stdout",
     "output_type": "stream",
     "text": [
      "."
     ]
    },
    {
     "name": "stderr",
     "output_type": "stream",
     "text": [
      "C:\\Users\\irene\\Anaconda3\\envs\\saveurproj\\lib\\site-packages\\pyart\\map\\gates_to_grid.py:177: DeprecationWarning: Barnes weighting function is deprecated. Please use Barnes 2 to be consistent with Pauley and Wu 1990.\n",
      "  \" Pauley and Wu 1990.\", DeprecationWarning)\n"
     ]
    },
    {
     "name": "stdout",
     "output_type": "stream",
     "text": [
      "."
     ]
    },
    {
     "name": "stderr",
     "output_type": "stream",
     "text": [
      "C:\\Users\\irene\\Anaconda3\\envs\\saveurproj\\lib\\site-packages\\pyart\\map\\gates_to_grid.py:177: DeprecationWarning: Barnes weighting function is deprecated. Please use Barnes 2 to be consistent with Pauley and Wu 1990.\n",
      "  \" Pauley and Wu 1990.\", DeprecationWarning)\n"
     ]
    },
    {
     "name": "stdout",
     "output_type": "stream",
     "text": [
      "."
     ]
    },
    {
     "name": "stderr",
     "output_type": "stream",
     "text": [
      "C:\\Users\\irene\\Anaconda3\\envs\\saveurproj\\lib\\site-packages\\pyart\\map\\gates_to_grid.py:177: DeprecationWarning: Barnes weighting function is deprecated. Please use Barnes 2 to be consistent with Pauley and Wu 1990.\n",
      "  \" Pauley and Wu 1990.\", DeprecationWarning)\n"
     ]
    },
    {
     "name": "stdout",
     "output_type": "stream",
     "text": [
      "."
     ]
    },
    {
     "name": "stderr",
     "output_type": "stream",
     "text": [
      "C:\\Users\\irene\\Anaconda3\\envs\\saveurproj\\lib\\site-packages\\pyart\\map\\gates_to_grid.py:177: DeprecationWarning: Barnes weighting function is deprecated. Please use Barnes 2 to be consistent with Pauley and Wu 1990.\n",
      "  \" Pauley and Wu 1990.\", DeprecationWarning)\n"
     ]
    },
    {
     "name": "stdout",
     "output_type": "stream",
     "text": [
      "\n",
      "22\n",
      "."
     ]
    },
    {
     "name": "stderr",
     "output_type": "stream",
     "text": [
      "C:\\Users\\irene\\Anaconda3\\envs\\saveurproj\\lib\\site-packages\\pyart\\map\\gates_to_grid.py:177: DeprecationWarning: Barnes weighting function is deprecated. Please use Barnes 2 to be consistent with Pauley and Wu 1990.\n",
      "  \" Pauley and Wu 1990.\", DeprecationWarning)\n"
     ]
    },
    {
     "name": "stdout",
     "output_type": "stream",
     "text": [
      "."
     ]
    },
    {
     "name": "stderr",
     "output_type": "stream",
     "text": [
      "C:\\Users\\irene\\Anaconda3\\envs\\saveurproj\\lib\\site-packages\\pyart\\map\\gates_to_grid.py:177: DeprecationWarning: Barnes weighting function is deprecated. Please use Barnes 2 to be consistent with Pauley and Wu 1990.\n",
      "  \" Pauley and Wu 1990.\", DeprecationWarning)\n"
     ]
    },
    {
     "name": "stdout",
     "output_type": "stream",
     "text": [
      "."
     ]
    },
    {
     "name": "stderr",
     "output_type": "stream",
     "text": [
      "C:\\Users\\irene\\Anaconda3\\envs\\saveurproj\\lib\\site-packages\\pyart\\map\\gates_to_grid.py:177: DeprecationWarning: Barnes weighting function is deprecated. Please use Barnes 2 to be consistent with Pauley and Wu 1990.\n",
      "  \" Pauley and Wu 1990.\", DeprecationWarning)\n"
     ]
    },
    {
     "name": "stdout",
     "output_type": "stream",
     "text": [
      "."
     ]
    },
    {
     "name": "stderr",
     "output_type": "stream",
     "text": [
      "C:\\Users\\irene\\Anaconda3\\envs\\saveurproj\\lib\\site-packages\\pyart\\map\\gates_to_grid.py:177: DeprecationWarning: Barnes weighting function is deprecated. Please use Barnes 2 to be consistent with Pauley and Wu 1990.\n",
      "  \" Pauley and Wu 1990.\", DeprecationWarning)\n"
     ]
    },
    {
     "name": "stdout",
     "output_type": "stream",
     "text": [
      "."
     ]
    },
    {
     "name": "stderr",
     "output_type": "stream",
     "text": [
      "C:\\Users\\irene\\Anaconda3\\envs\\saveurproj\\lib\\site-packages\\pyart\\map\\gates_to_grid.py:177: DeprecationWarning: Barnes weighting function is deprecated. Please use Barnes 2 to be consistent with Pauley and Wu 1990.\n",
      "  \" Pauley and Wu 1990.\", DeprecationWarning)\n"
     ]
    },
    {
     "name": "stdout",
     "output_type": "stream",
     "text": [
      "."
     ]
    },
    {
     "name": "stderr",
     "output_type": "stream",
     "text": [
      "C:\\Users\\irene\\Anaconda3\\envs\\saveurproj\\lib\\site-packages\\pyart\\map\\gates_to_grid.py:177: DeprecationWarning: Barnes weighting function is deprecated. Please use Barnes 2 to be consistent with Pauley and Wu 1990.\n",
      "  \" Pauley and Wu 1990.\", DeprecationWarning)\n"
     ]
    },
    {
     "name": "stdout",
     "output_type": "stream",
     "text": [
      "."
     ]
    },
    {
     "name": "stderr",
     "output_type": "stream",
     "text": [
      "C:\\Users\\irene\\Anaconda3\\envs\\saveurproj\\lib\\site-packages\\pyart\\map\\gates_to_grid.py:177: DeprecationWarning: Barnes weighting function is deprecated. Please use Barnes 2 to be consistent with Pauley and Wu 1990.\n",
      "  \" Pauley and Wu 1990.\", DeprecationWarning)\n"
     ]
    },
    {
     "name": "stdout",
     "output_type": "stream",
     "text": [
      "."
     ]
    },
    {
     "name": "stderr",
     "output_type": "stream",
     "text": [
      "C:\\Users\\irene\\Anaconda3\\envs\\saveurproj\\lib\\site-packages\\pyart\\map\\gates_to_grid.py:177: DeprecationWarning: Barnes weighting function is deprecated. Please use Barnes 2 to be consistent with Pauley and Wu 1990.\n",
      "  \" Pauley and Wu 1990.\", DeprecationWarning)\n"
     ]
    },
    {
     "name": "stdout",
     "output_type": "stream",
     "text": [
      "."
     ]
    },
    {
     "name": "stderr",
     "output_type": "stream",
     "text": [
      "C:\\Users\\irene\\Anaconda3\\envs\\saveurproj\\lib\\site-packages\\pyart\\map\\gates_to_grid.py:177: DeprecationWarning: Barnes weighting function is deprecated. Please use Barnes 2 to be consistent with Pauley and Wu 1990.\n",
      "  \" Pauley and Wu 1990.\", DeprecationWarning)\n"
     ]
    },
    {
     "name": "stdout",
     "output_type": "stream",
     "text": [
      "."
     ]
    },
    {
     "name": "stderr",
     "output_type": "stream",
     "text": [
      "C:\\Users\\irene\\Anaconda3\\envs\\saveurproj\\lib\\site-packages\\pyart\\map\\gates_to_grid.py:177: DeprecationWarning: Barnes weighting function is deprecated. Please use Barnes 2 to be consistent with Pauley and Wu 1990.\n",
      "  \" Pauley and Wu 1990.\", DeprecationWarning)\n"
     ]
    },
    {
     "name": "stdout",
     "output_type": "stream",
     "text": [
      "."
     ]
    },
    {
     "name": "stderr",
     "output_type": "stream",
     "text": [
      "C:\\Users\\irene\\Anaconda3\\envs\\saveurproj\\lib\\site-packages\\pyart\\map\\gates_to_grid.py:177: DeprecationWarning: Barnes weighting function is deprecated. Please use Barnes 2 to be consistent with Pauley and Wu 1990.\n",
      "  \" Pauley and Wu 1990.\", DeprecationWarning)\n"
     ]
    },
    {
     "name": "stdout",
     "output_type": "stream",
     "text": [
      "."
     ]
    },
    {
     "name": "stderr",
     "output_type": "stream",
     "text": [
      "C:\\Users\\irene\\Anaconda3\\envs\\saveurproj\\lib\\site-packages\\pyart\\map\\gates_to_grid.py:177: DeprecationWarning: Barnes weighting function is deprecated. Please use Barnes 2 to be consistent with Pauley and Wu 1990.\n",
      "  \" Pauley and Wu 1990.\", DeprecationWarning)\n"
     ]
    },
    {
     "name": "stdout",
     "output_type": "stream",
     "text": [
      "."
     ]
    },
    {
     "name": "stderr",
     "output_type": "stream",
     "text": [
      "C:\\Users\\irene\\Anaconda3\\envs\\saveurproj\\lib\\site-packages\\pyart\\map\\gates_to_grid.py:177: DeprecationWarning: Barnes weighting function is deprecated. Please use Barnes 2 to be consistent with Pauley and Wu 1990.\n",
      "  \" Pauley and Wu 1990.\", DeprecationWarning)\n"
     ]
    },
    {
     "name": "stdout",
     "output_type": "stream",
     "text": [
      "."
     ]
    },
    {
     "name": "stderr",
     "output_type": "stream",
     "text": [
      "C:\\Users\\irene\\Anaconda3\\envs\\saveurproj\\lib\\site-packages\\pyart\\map\\gates_to_grid.py:177: DeprecationWarning: Barnes weighting function is deprecated. Please use Barnes 2 to be consistent with Pauley and Wu 1990.\n",
      "  \" Pauley and Wu 1990.\", DeprecationWarning)\n"
     ]
    },
    {
     "name": "stdout",
     "output_type": "stream",
     "text": [
      "\n",
      "23\n",
      "."
     ]
    },
    {
     "name": "stderr",
     "output_type": "stream",
     "text": [
      "C:\\Users\\irene\\Anaconda3\\envs\\saveurproj\\lib\\site-packages\\pyart\\map\\gates_to_grid.py:177: DeprecationWarning: Barnes weighting function is deprecated. Please use Barnes 2 to be consistent with Pauley and Wu 1990.\n",
      "  \" Pauley and Wu 1990.\", DeprecationWarning)\n"
     ]
    },
    {
     "name": "stdout",
     "output_type": "stream",
     "text": [
      "."
     ]
    },
    {
     "name": "stderr",
     "output_type": "stream",
     "text": [
      "C:\\Users\\irene\\Anaconda3\\envs\\saveurproj\\lib\\site-packages\\pyart\\map\\gates_to_grid.py:177: DeprecationWarning: Barnes weighting function is deprecated. Please use Barnes 2 to be consistent with Pauley and Wu 1990.\n",
      "  \" Pauley and Wu 1990.\", DeprecationWarning)\n"
     ]
    },
    {
     "name": "stdout",
     "output_type": "stream",
     "text": [
      "."
     ]
    },
    {
     "name": "stderr",
     "output_type": "stream",
     "text": [
      "C:\\Users\\irene\\Anaconda3\\envs\\saveurproj\\lib\\site-packages\\pyart\\map\\gates_to_grid.py:177: DeprecationWarning: Barnes weighting function is deprecated. Please use Barnes 2 to be consistent with Pauley and Wu 1990.\n",
      "  \" Pauley and Wu 1990.\", DeprecationWarning)\n"
     ]
    },
    {
     "name": "stdout",
     "output_type": "stream",
     "text": [
      "."
     ]
    },
    {
     "name": "stderr",
     "output_type": "stream",
     "text": [
      "C:\\Users\\irene\\Anaconda3\\envs\\saveurproj\\lib\\site-packages\\pyart\\map\\gates_to_grid.py:177: DeprecationWarning: Barnes weighting function is deprecated. Please use Barnes 2 to be consistent with Pauley and Wu 1990.\n",
      "  \" Pauley and Wu 1990.\", DeprecationWarning)\n"
     ]
    },
    {
     "name": "stdout",
     "output_type": "stream",
     "text": [
      "."
     ]
    },
    {
     "name": "stderr",
     "output_type": "stream",
     "text": [
      "C:\\Users\\irene\\Anaconda3\\envs\\saveurproj\\lib\\site-packages\\pyart\\map\\gates_to_grid.py:177: DeprecationWarning: Barnes weighting function is deprecated. Please use Barnes 2 to be consistent with Pauley and Wu 1990.\n",
      "  \" Pauley and Wu 1990.\", DeprecationWarning)\n"
     ]
    },
    {
     "name": "stdout",
     "output_type": "stream",
     "text": [
      "."
     ]
    },
    {
     "name": "stderr",
     "output_type": "stream",
     "text": [
      "C:\\Users\\irene\\Anaconda3\\envs\\saveurproj\\lib\\site-packages\\pyart\\map\\gates_to_grid.py:177: DeprecationWarning: Barnes weighting function is deprecated. Please use Barnes 2 to be consistent with Pauley and Wu 1990.\n",
      "  \" Pauley and Wu 1990.\", DeprecationWarning)\n"
     ]
    },
    {
     "name": "stdout",
     "output_type": "stream",
     "text": [
      "."
     ]
    },
    {
     "name": "stderr",
     "output_type": "stream",
     "text": [
      "C:\\Users\\irene\\Anaconda3\\envs\\saveurproj\\lib\\site-packages\\pyart\\map\\gates_to_grid.py:177: DeprecationWarning: Barnes weighting function is deprecated. Please use Barnes 2 to be consistent with Pauley and Wu 1990.\n",
      "  \" Pauley and Wu 1990.\", DeprecationWarning)\n"
     ]
    },
    {
     "name": "stdout",
     "output_type": "stream",
     "text": [
      "."
     ]
    },
    {
     "name": "stderr",
     "output_type": "stream",
     "text": [
      "C:\\Users\\irene\\Anaconda3\\envs\\saveurproj\\lib\\site-packages\\pyart\\map\\gates_to_grid.py:177: DeprecationWarning: Barnes weighting function is deprecated. Please use Barnes 2 to be consistent with Pauley and Wu 1990.\n",
      "  \" Pauley and Wu 1990.\", DeprecationWarning)\n"
     ]
    },
    {
     "name": "stdout",
     "output_type": "stream",
     "text": [
      "."
     ]
    },
    {
     "name": "stderr",
     "output_type": "stream",
     "text": [
      "C:\\Users\\irene\\Anaconda3\\envs\\saveurproj\\lib\\site-packages\\pyart\\map\\gates_to_grid.py:177: DeprecationWarning: Barnes weighting function is deprecated. Please use Barnes 2 to be consistent with Pauley and Wu 1990.\n",
      "  \" Pauley and Wu 1990.\", DeprecationWarning)\n"
     ]
    },
    {
     "name": "stdout",
     "output_type": "stream",
     "text": [
      "."
     ]
    },
    {
     "name": "stderr",
     "output_type": "stream",
     "text": [
      "C:\\Users\\irene\\Anaconda3\\envs\\saveurproj\\lib\\site-packages\\pyart\\map\\gates_to_grid.py:177: DeprecationWarning: Barnes weighting function is deprecated. Please use Barnes 2 to be consistent with Pauley and Wu 1990.\n",
      "  \" Pauley and Wu 1990.\", DeprecationWarning)\n"
     ]
    },
    {
     "name": "stdout",
     "output_type": "stream",
     "text": [
      "."
     ]
    },
    {
     "name": "stderr",
     "output_type": "stream",
     "text": [
      "C:\\Users\\irene\\Anaconda3\\envs\\saveurproj\\lib\\site-packages\\pyart\\map\\gates_to_grid.py:177: DeprecationWarning: Barnes weighting function is deprecated. Please use Barnes 2 to be consistent with Pauley and Wu 1990.\n",
      "  \" Pauley and Wu 1990.\", DeprecationWarning)\n"
     ]
    },
    {
     "name": "stdout",
     "output_type": "stream",
     "text": [
      "."
     ]
    },
    {
     "name": "stderr",
     "output_type": "stream",
     "text": [
      "C:\\Users\\irene\\Anaconda3\\envs\\saveurproj\\lib\\site-packages\\pyart\\map\\gates_to_grid.py:177: DeprecationWarning: Barnes weighting function is deprecated. Please use Barnes 2 to be consistent with Pauley and Wu 1990.\n",
      "  \" Pauley and Wu 1990.\", DeprecationWarning)\n"
     ]
    },
    {
     "name": "stdout",
     "output_type": "stream",
     "text": [
      "."
     ]
    },
    {
     "name": "stderr",
     "output_type": "stream",
     "text": [
      "C:\\Users\\irene\\Anaconda3\\envs\\saveurproj\\lib\\site-packages\\pyart\\map\\gates_to_grid.py:177: DeprecationWarning: Barnes weighting function is deprecated. Please use Barnes 2 to be consistent with Pauley and Wu 1990.\n",
      "  \" Pauley and Wu 1990.\", DeprecationWarning)\n"
     ]
    },
    {
     "name": "stdout",
     "output_type": "stream",
     "text": [
      "."
     ]
    },
    {
     "name": "stderr",
     "output_type": "stream",
     "text": [
      "C:\\Users\\irene\\Anaconda3\\envs\\saveurproj\\lib\\site-packages\\pyart\\map\\gates_to_grid.py:177: DeprecationWarning: Barnes weighting function is deprecated. Please use Barnes 2 to be consistent with Pauley and Wu 1990.\n",
      "  \" Pauley and Wu 1990.\", DeprecationWarning)\n"
     ]
    },
    {
     "name": "stdout",
     "output_type": "stream",
     "text": [
      "\n",
      "24\n",
      "."
     ]
    },
    {
     "name": "stderr",
     "output_type": "stream",
     "text": [
      "C:\\Users\\irene\\Anaconda3\\envs\\saveurproj\\lib\\site-packages\\pyart\\map\\gates_to_grid.py:177: DeprecationWarning: Barnes weighting function is deprecated. Please use Barnes 2 to be consistent with Pauley and Wu 1990.\n",
      "  \" Pauley and Wu 1990.\", DeprecationWarning)\n"
     ]
    },
    {
     "name": "stdout",
     "output_type": "stream",
     "text": [
      "."
     ]
    },
    {
     "name": "stderr",
     "output_type": "stream",
     "text": [
      "C:\\Users\\irene\\Anaconda3\\envs\\saveurproj\\lib\\site-packages\\pyart\\map\\gates_to_grid.py:177: DeprecationWarning: Barnes weighting function is deprecated. Please use Barnes 2 to be consistent with Pauley and Wu 1990.\n",
      "  \" Pauley and Wu 1990.\", DeprecationWarning)\n"
     ]
    },
    {
     "name": "stdout",
     "output_type": "stream",
     "text": [
      "."
     ]
    },
    {
     "name": "stderr",
     "output_type": "stream",
     "text": [
      "C:\\Users\\irene\\Anaconda3\\envs\\saveurproj\\lib\\site-packages\\pyart\\map\\gates_to_grid.py:177: DeprecationWarning: Barnes weighting function is deprecated. Please use Barnes 2 to be consistent with Pauley and Wu 1990.\n",
      "  \" Pauley and Wu 1990.\", DeprecationWarning)\n"
     ]
    },
    {
     "name": "stdout",
     "output_type": "stream",
     "text": [
      "."
     ]
    },
    {
     "name": "stderr",
     "output_type": "stream",
     "text": [
      "C:\\Users\\irene\\Anaconda3\\envs\\saveurproj\\lib\\site-packages\\pyart\\map\\gates_to_grid.py:177: DeprecationWarning: Barnes weighting function is deprecated. Please use Barnes 2 to be consistent with Pauley and Wu 1990.\n",
      "  \" Pauley and Wu 1990.\", DeprecationWarning)\n"
     ]
    },
    {
     "name": "stdout",
     "output_type": "stream",
     "text": [
      "."
     ]
    },
    {
     "name": "stderr",
     "output_type": "stream",
     "text": [
      "C:\\Users\\irene\\Anaconda3\\envs\\saveurproj\\lib\\site-packages\\pyart\\map\\gates_to_grid.py:177: DeprecationWarning: Barnes weighting function is deprecated. Please use Barnes 2 to be consistent with Pauley and Wu 1990.\n",
      "  \" Pauley and Wu 1990.\", DeprecationWarning)\n"
     ]
    },
    {
     "name": "stdout",
     "output_type": "stream",
     "text": [
      "."
     ]
    },
    {
     "name": "stderr",
     "output_type": "stream",
     "text": [
      "C:\\Users\\irene\\Anaconda3\\envs\\saveurproj\\lib\\site-packages\\pyart\\map\\gates_to_grid.py:177: DeprecationWarning: Barnes weighting function is deprecated. Please use Barnes 2 to be consistent with Pauley and Wu 1990.\n",
      "  \" Pauley and Wu 1990.\", DeprecationWarning)\n"
     ]
    },
    {
     "name": "stdout",
     "output_type": "stream",
     "text": [
      "."
     ]
    },
    {
     "name": "stderr",
     "output_type": "stream",
     "text": [
      "C:\\Users\\irene\\Anaconda3\\envs\\saveurproj\\lib\\site-packages\\pyart\\map\\gates_to_grid.py:177: DeprecationWarning: Barnes weighting function is deprecated. Please use Barnes 2 to be consistent with Pauley and Wu 1990.\n",
      "  \" Pauley and Wu 1990.\", DeprecationWarning)\n"
     ]
    },
    {
     "name": "stdout",
     "output_type": "stream",
     "text": [
      "."
     ]
    },
    {
     "name": "stderr",
     "output_type": "stream",
     "text": [
      "C:\\Users\\irene\\Anaconda3\\envs\\saveurproj\\lib\\site-packages\\pyart\\map\\gates_to_grid.py:177: DeprecationWarning: Barnes weighting function is deprecated. Please use Barnes 2 to be consistent with Pauley and Wu 1990.\n",
      "  \" Pauley and Wu 1990.\", DeprecationWarning)\n"
     ]
    },
    {
     "name": "stdout",
     "output_type": "stream",
     "text": [
      "."
     ]
    },
    {
     "name": "stderr",
     "output_type": "stream",
     "text": [
      "C:\\Users\\irene\\Anaconda3\\envs\\saveurproj\\lib\\site-packages\\pyart\\map\\gates_to_grid.py:177: DeprecationWarning: Barnes weighting function is deprecated. Please use Barnes 2 to be consistent with Pauley and Wu 1990.\n",
      "  \" Pauley and Wu 1990.\", DeprecationWarning)\n"
     ]
    },
    {
     "name": "stdout",
     "output_type": "stream",
     "text": [
      "."
     ]
    },
    {
     "name": "stderr",
     "output_type": "stream",
     "text": [
      "C:\\Users\\irene\\Anaconda3\\envs\\saveurproj\\lib\\site-packages\\pyart\\map\\gates_to_grid.py:177: DeprecationWarning: Barnes weighting function is deprecated. Please use Barnes 2 to be consistent with Pauley and Wu 1990.\n",
      "  \" Pauley and Wu 1990.\", DeprecationWarning)\n"
     ]
    },
    {
     "name": "stdout",
     "output_type": "stream",
     "text": [
      "."
     ]
    },
    {
     "name": "stderr",
     "output_type": "stream",
     "text": [
      "C:\\Users\\irene\\Anaconda3\\envs\\saveurproj\\lib\\site-packages\\pyart\\map\\gates_to_grid.py:177: DeprecationWarning: Barnes weighting function is deprecated. Please use Barnes 2 to be consistent with Pauley and Wu 1990.\n",
      "  \" Pauley and Wu 1990.\", DeprecationWarning)\n"
     ]
    },
    {
     "name": "stdout",
     "output_type": "stream",
     "text": [
      "."
     ]
    },
    {
     "name": "stderr",
     "output_type": "stream",
     "text": [
      "C:\\Users\\irene\\Anaconda3\\envs\\saveurproj\\lib\\site-packages\\pyart\\map\\gates_to_grid.py:177: DeprecationWarning: Barnes weighting function is deprecated. Please use Barnes 2 to be consistent with Pauley and Wu 1990.\n",
      "  \" Pauley and Wu 1990.\", DeprecationWarning)\n"
     ]
    },
    {
     "name": "stdout",
     "output_type": "stream",
     "text": [
      "."
     ]
    },
    {
     "name": "stderr",
     "output_type": "stream",
     "text": [
      "C:\\Users\\irene\\Anaconda3\\envs\\saveurproj\\lib\\site-packages\\pyart\\map\\gates_to_grid.py:177: DeprecationWarning: Barnes weighting function is deprecated. Please use Barnes 2 to be consistent with Pauley and Wu 1990.\n",
      "  \" Pauley and Wu 1990.\", DeprecationWarning)\n"
     ]
    },
    {
     "name": "stdout",
     "output_type": "stream",
     "text": [
      "."
     ]
    },
    {
     "name": "stderr",
     "output_type": "stream",
     "text": [
      "C:\\Users\\irene\\Anaconda3\\envs\\saveurproj\\lib\\site-packages\\pyart\\map\\gates_to_grid.py:177: DeprecationWarning: Barnes weighting function is deprecated. Please use Barnes 2 to be consistent with Pauley and Wu 1990.\n",
      "  \" Pauley and Wu 1990.\", DeprecationWarning)\n"
     ]
    },
    {
     "name": "stdout",
     "output_type": "stream",
     "text": [
      "."
     ]
    },
    {
     "name": "stderr",
     "output_type": "stream",
     "text": [
      "C:\\Users\\irene\\Anaconda3\\envs\\saveurproj\\lib\\site-packages\\pyart\\map\\gates_to_grid.py:177: DeprecationWarning: Barnes weighting function is deprecated. Please use Barnes 2 to be consistent with Pauley and Wu 1990.\n",
      "  \" Pauley and Wu 1990.\", DeprecationWarning)\n"
     ]
    },
    {
     "name": "stdout",
     "output_type": "stream",
     "text": [
      "."
     ]
    },
    {
     "name": "stderr",
     "output_type": "stream",
     "text": [
      "C:\\Users\\irene\\Anaconda3\\envs\\saveurproj\\lib\\site-packages\\pyart\\map\\gates_to_grid.py:177: DeprecationWarning: Barnes weighting function is deprecated. Please use Barnes 2 to be consistent with Pauley and Wu 1990.\n",
      "  \" Pauley and Wu 1990.\", DeprecationWarning)\n"
     ]
    },
    {
     "name": "stdout",
     "output_type": "stream",
     "text": [
      "\n"
     ]
    }
   ],
   "source": [
    "for hour in list(fname_dict):\n",
    "    print(hour)\n",
    "    fnames_within_hour = fname_dict[hour]\n",
    "    hour_accum = np.zeros((300,300))\n",
    "    for fname in fnames_within_hour:\n",
    "        print('.',end='')\n",
    "        # open a temporary local file\n",
    "        localfile = tempfile.NamedTemporaryFile(delete=False)\n",
    "        localfile_name = localfile.name\n",
    "        localfile.close()\n",
    "\n",
    "        # download to temporary file and read to radar object using pyart\n",
    "        aws_radar.download_file(fname, localfile_name)\n",
    "        radar = pyart.io.read(localfile_name)\n",
    "\n",
    "        # delete temporary file to save space\n",
    "        os.remove(localfile_name)\n",
    "        \n",
    "        # get local time of radar\n",
    "        fname = fname.rsplit('/',1)[-1].strip('.gz')\n",
    "        dtime_utc = dt.datetime.strptime(fname,'KLOT%Y%m%d_%H%M%S_V06')\n",
    "        dtime_utc = pytz.utc.localize(dtime_utc)\n",
    "\n",
    "        # 2. Convert reflectivity to rain rate\n",
    "        gatefilter = pyart.filters.GateFilter(radar)\n",
    "        # Develop your gatefilter first\n",
    "        # exclude masked gates from the gridding\n",
    "        #gatefilter = pyart.filters.GateFilter(radar)\n",
    "        gatefilter.exclude_transition()\n",
    "        gatefilter.exclude_masked('reflectivity')\n",
    "        # Mask reflectivity\n",
    "        radar.fields[\"corrected_reflectivity\"] = deepcopy(radar.fields[\"reflectivity\"])\n",
    "        radar.fields[\"corrected_reflectivity\"][\"data\"] = np.ma.masked_where(\n",
    "            gatefilter._gate_excluded, radar.fields[\"corrected_reflectivity\"][\"data\"])\n",
    "        rr = pyart.retrieve.est_rain_rate_z(radar, refl_field=\"corrected_reflectivity\")\n",
    "\n",
    "        radar.add_field('rainrate',rr,replace_existing=True)\n",
    "\n",
    "        # Mask out last 10 gates of each ray, this removes the \"ring\" around the radar.\n",
    "        radar.fields['rainrate']['data'][:, -10:] = np.ma.masked\n",
    "        \n",
    "        # perform Cartesian mapping, limit to the reflectivity field.\n",
    "        grid = pyart.map.grid_from_radars(\n",
    "            [radar], gatefilters=[gatefilter],\n",
    "            grid_shape=(1, 300, 300),\n",
    "            grid_limits=((2000, 2000), (-123000.0, 123000.0), (-123000.0, 123000.0)),\n",
    "            fields=['rainrate'])\n",
    "\n",
    "        # 3.2 Get radar data\n",
    "        # Get slice\n",
    "        #radar_slice0 = radar.get_slice(0)\n",
    "        rr_0 = grid.fields['rainrate']['data']\n",
    "        \n",
    "        # convert rain rate to rain amount\n",
    "        radar_at_gages_amount = wrl.trafo.r_to_depth(rr_0,interval=256)\n",
    "        \n",
    "        hour_accum += radar_at_gages_amount[0]\n",
    "\n",
    "    savefname = dt.datetime.strftime(dtime_utc.replace(microsecond=0,second=0,minute=0)+dt.timedelta(hours=1), '%Y%m%d_%H%M%S')\n",
    "    wrl.io.to_hdf5('gridded_KLOT'+savefname+'.hdf5', hour_accum)\n",
    "\n",
    "    print('')"
   ]
  },
  {
   "cell_type": "code",
   "execution_count": 24,
   "metadata": {},
   "outputs": [
    {
     "data": {
      "text/plain": [
       "(300, 300)"
      ]
     },
     "execution_count": 24,
     "metadata": {},
     "output_type": "execute_result"
    }
   ],
   "source": [
    "x_rad, y_rad = grid.get_point_longitude_latitude()\n",
    "\n",
    "# Saving the objects:\n",
    "with open('radar_grid.pkl', 'wb') as f:  # Python 3: open(..., 'wb')\n",
    "    pickle.dump([x_rad, y_rad], f)"
   ]
  },
  {
   "cell_type": "code",
   "execution_count": null,
   "metadata": {},
   "outputs": [],
   "source": []
  }
 ],
 "metadata": {
  "kernelspec": {
   "display_name": "Python 3",
   "language": "python",
   "name": "python3"
  },
  "language_info": {
   "codemirror_mode": {
    "name": "ipython",
    "version": 3
   },
   "file_extension": ".py",
   "mimetype": "text/x-python",
   "name": "python",
   "nbconvert_exporter": "python",
   "pygments_lexer": "ipython3",
   "version": "3.7.3"
  }
 },
 "nbformat": 4,
 "nbformat_minor": 2
}
