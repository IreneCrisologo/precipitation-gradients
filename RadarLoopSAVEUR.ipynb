{
 "cells": [
  {
   "cell_type": "markdown",
   "metadata": {},
   "source": [
    "# Obtaining and Plotting NEXRAD Radar Data to Create Animations"
   ]
  },
  {
   "cell_type": "code",
   "execution_count": null,
   "metadata": {},
   "outputs": [],
   "source": [
    "from pylab import *\n",
    "import pyart, boto3, tempfile, os, shutil, datetime, matplotlib\n",
    "import numpy as np\n",
    "import pandas as pd\n",
    "import cartopy.crs as ccrs\n",
    "import cartopy.feature as cfeature\n",
    "import matplotlib.pyplot as plt\n",
    "from matplotlib import animation\n",
    "from botocore.handlers import disable_signing\n",
    "from glob import glob"
   ]
  },
  {
   "cell_type": "code",
   "execution_count": null,
   "metadata": {},
   "outputs": [],
   "source": [
    "def get_radar_scan(station='KLOT', date=None, key_index=-20):\n",
    "    \n",
    "    '''\n",
    "    Function will pull the latest radar scan from any radar site using \n",
    "    Amazon S3.\n",
    "    ----------\n",
    "    Station = Four letter NEXRAD identifier\n",
    "              Example: 'KEPZ'\n",
    "    Date = default is none for current date, else enter date in format \"YYYY/MM/DD\"\n",
    "    Ex: date ='2013/11/17\n",
    "    Key_index = Number of keys you want pulled from most recent scan.\n",
    "    Ex: key_index = -15 would pull ht most recent 15 scans\n",
    "    '''\n",
    "    \n",
    "    # Creating a bucket and a client to be able to pull data from AWS and setting it as unsigned\n",
    "    bucket = 'noaa-nexrad-level2'\n",
    "    s3 = boto3.resource('s3')\n",
    "    s3.meta.client.meta.events.register('choose-signer.s3.*', disable_signing)\n",
    "    \n",
    "    # Connects the bucket create above with radar data\n",
    "    aws_radar = s3.Bucket(bucket)\n",
    "    \n",
    "    # Setting the date and time to current...\n",
    "    # This will allow for allow the current date's radar scands to be pulled\n",
    "    if date == None:\n",
    "        target_string = datetime.datetime.utcnow().strftime('%Y/%m/%d/'+station)\n",
    "    else:\n",
    "        target_string = date+'/'+station\n",
    "    \n",
    "    for obj in aws_radar.objects.filter(Prefix= target_string):\n",
    "        '{0}:{1}'.format(aws_radar.name, obj.key)\n",
    "    my_list_of_keys = [this_object.key for this_object in aws_radar.objects.filter(Prefix= target_string)]\n",
    "    keys = my_list_of_keys[key_index:]\n",
    "    for key in keys:\n",
    "        if 'MDM' in key:\n",
    "            keys.remove(key)\n",
    "    print(keys)\n",
    "    return aws_radar, keys"
   ]
  },
  {
   "cell_type": "code",
   "execution_count": null,
   "metadata": {
    "scrolled": true
   },
   "outputs": [],
   "source": [
    "# Setting radar, date of radar scans needed, and key index (amount of items in list)\n",
    "aws_radar, keys = get_radar_scan(station='KLOT', date='2013/04/18', key_index=-400) \n",
    "out_path_dir = 'home/amedendorp/Desktop/april182013'"
   ]
  },
  {
   "cell_type": "code",
   "execution_count": null,
   "metadata": {},
   "outputs": [],
   "source": [
    "# Obtaining every 7th step (approximately every half hour). \n",
    "# Leave blank bracket to include all timesteps\n",
    "newkeys=keys[0:600:7]\n",
    "print(newkeys)"
   ]
  },
  {
   "cell_type": "code",
   "execution_count": null,
   "metadata": {},
   "outputs": [],
   "source": [
    "def radar_keys_to_data(newkeys):\n",
    "    # Stores keys into temporary localfile to be read with pyart. \n",
    "    localfile = tempfile.NamedTemporaryFile()\n",
    "    keys.get_contents_to_filename(localfile.name)\n",
    "    # Only pulling two scans for the sake of time and memory.\n",
    "    radar = pyart.io.read_nexrad_archive(localfile.name)\n",
    "    return radar"
   ]
  },
  {
   "cell_type": "code",
   "execution_count": null,
   "metadata": {},
   "outputs": [],
   "source": [
    "import cartopy.io.shapereader as shpreader\n",
    "\n",
    "reader = shpreader.Reader('/home/amedendorp/Downloads/countyl010g_shp_nt00964/countyl010g.shp')\n",
    "counties = list(reader.geometries())\n",
    "COUNTIES = cfeature.ShapelyFeature(counties, ccrs.PlateCarree())"
   ]
  },
  {
   "cell_type": "code",
   "execution_count": null,
   "metadata": {},
   "outputs": [],
   "source": [
    "# Animation code:\n",
    "def animate(nframe):\n",
    "    plt.clf()\n",
    "    localfile = tempfile.NamedTemporaryFile()\n",
    "    aws_radar.download_file(newkeys[nframe], localfile.name)\n",
    "    radar = pyart.io.read(localfile.name)\n",
    "    ax = plt.axes(projection=ccrs.PlateCarree())\n",
    "    display = pyart.graph.RadarMapDisplay(radar)\n",
    "    \n",
    "    # Delete radar after use to save memory.\n",
    "    del radar\n",
    "    display.plot_ppi_map('reflectivity', sweep=0, resolution='10m',\n",
    "                         vmin=-8, vmax=64, mask_outside=False, \n",
    "                         fig=fig, height=200000, width=150000) \n",
    "\n",
    "    display.plot_point(-87.981810, 41.713969, label_text='ANL', symbol='ko')\n",
    "    display.plot_point(-87.675885, 42.057888, label_text='Northwestern', symbol='ko')\n",
    "    display.plot_point(-88.181798, 41.738107, label_text='NPR', symbol='ko') #Naperville\n",
    "    display.plot_point(-87.687151, 41.606367, label_text='IBP', symbol='ko')\n",
    "    \n",
    "    ax.add_feature(cfeature.LAKES, zorder=0.5)\n",
    "    ax.add_feature(COUNTIES, facecolor='none', edgecolor='gray')\n",
    "\n",
    "fig = plt.figure(figsize=(10, 8))\n",
    "\n",
    "anim_klot = animation.FuncAnimation(fig, animate,\n",
    "                                    frames=len(newkeys))\n",
    "anim_klot.save('/home/amedendorp/Desktop/reflectivity_animation_three.gif', \n",
    "               writer='imagemagick', fps=3)\n",
    "plt.show()\n",
    "plt.close()"
   ]
  },
  {
   "cell_type": "code",
   "execution_count": null,
   "metadata": {},
   "outputs": [],
   "source": []
  }
 ],
 "metadata": {
  "kernelspec": {
   "display_name": "Python 3",
   "language": "python",
   "name": "python3"
  },
  "language_info": {
   "codemirror_mode": {
    "name": "ipython",
    "version": 3
   },
   "file_extension": ".py",
   "mimetype": "text/x-python",
   "name": "python",
   "nbconvert_exporter": "python",
   "pygments_lexer": "ipython3",
   "version": "3.6.7"
  }
 },
 "nbformat": 4,
 "nbformat_minor": 2
}
