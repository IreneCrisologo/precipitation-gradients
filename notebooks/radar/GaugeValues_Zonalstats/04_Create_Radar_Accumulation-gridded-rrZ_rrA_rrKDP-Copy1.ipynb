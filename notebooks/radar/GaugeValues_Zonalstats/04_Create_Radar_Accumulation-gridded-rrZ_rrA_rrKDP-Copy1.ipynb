{
 "cells": [
  {
   "cell_type": "markdown",
   "metadata": {},
   "source": [
    "# Hourly accumulations\n",
    "\n",
    "This notebook takes the scans within the hour, converts them to rain rate then to rainfall amount, then adds it up until the end of the hour. The hour totals are saved in a hdf file."
   ]
  },
  {
   "cell_type": "markdown",
   "metadata": {},
   "source": [
    "Import libraries."
   ]
  },
  {
   "cell_type": "code",
   "execution_count": 1,
   "metadata": {
    "ExecuteTime": {
     "end_time": "2019-11-27T18:06:06.953009Z",
     "start_time": "2019-11-27T18:05:58.294707Z"
    }
   },
   "outputs": [
    {
     "name": "stdout",
     "output_type": "stream",
     "text": [
      "Populating the interactive namespace from numpy and matplotlib\n",
      "\n",
      "## You are using the Python ARM Radar Toolkit (Py-ART), an open source\n",
      "## library for working with weather radar data. Py-ART is partly\n",
      "## supported by the U.S. Department of Energy as part of the Atmospheric\n",
      "## Radiation Measurement (ARM) Climate Research Facility, an Office of\n",
      "## Science user facility.\n",
      "##\n",
      "## If you use this software to prepare a publication, please cite:\n",
      "##\n",
      "##     JJ Helmus and SM Collis, JORS 2016, doi: 10.5334/jors.119\n",
      "\n"
     ]
    },
    {
     "name": "stderr",
     "output_type": "stream",
     "text": [
      "C:\\Users\\iac6311\\AppData\\Local\\Continuum\\anaconda3\\envs\\saveur\\lib\\site-packages\\pyart\\graph\\cm.py:104: FutureWarning: elementwise comparison failed; returning scalar instead, but in the future will perform elementwise comparison\n",
      "  if 'red' in spec:\n",
      "C:\\Users\\iac6311\\AppData\\Local\\Continuum\\anaconda3\\envs\\saveur\\lib\\site-packages\\pyart\\graph\\cm_colorblind.py:32: FutureWarning: elementwise comparison failed; returning scalar instead, but in the future will perform elementwise comparison\n",
      "  if 'red' in spec:\n",
      "C:\\Users\\iac6311\\AppData\\Local\\Continuum\\anaconda3\\envs\\saveur\\lib\\site-packages\\botocore\\vendored\\requests\\packages\\urllib3\\_collections.py:1: DeprecationWarning: Using or importing the ABCs from 'collections' instead of from 'collections.abc' is deprecated, and in 3.8 it will stop working\n",
      "  from collections import Mapping, MutableMapping\n"
     ]
    }
   ],
   "source": [
    "%pylab inline\n",
    "\n",
    "import pyart\n",
    "import wradlib as wrl\n",
    "import pandas as pd\n",
    "import tempfile\n",
    "import os\n",
    "import numpy as np\n",
    "\n",
    "import pickle\n",
    "\n",
    "import pytz\n",
    "import datetime as dt\n",
    "\n",
    "from copy import deepcopy\n",
    "import cartopy.crs as ccrs\n",
    "import cartopy.io.shapereader as shpreader\n",
    "import cartopy.feature as cfeature\n",
    "\n",
    "import boto3\n",
    "from botocore.handlers import disable_signing"
   ]
  },
  {
   "cell_type": "markdown",
   "metadata": {},
   "source": [
    "Read the shapefiles."
   ]
  },
  {
   "cell_type": "code",
   "execution_count": 2,
   "metadata": {
    "ExecuteTime": {
     "end_time": "2019-11-27T18:06:09.702697Z",
     "start_time": "2019-11-27T18:06:06.954018Z"
    }
   },
   "outputs": [],
   "source": [
    "reader = shpreader.Reader(r'C:\\Users\\iac6311\\Documents\\Work\\Data\\GIS\\USA\\tl_2016_17_cousub\\tl_2016_17_cousub.shp')\n",
    "counties = list(reader.geometries())\n",
    "COUNTIES = cfeature.ShapelyFeature(counties, ccrs.PlateCarree())"
   ]
  },
  {
   "cell_type": "markdown",
   "metadata": {},
   "source": [
    "Read the gauge locations file and gauge observations file into pandas dataframes, and get the location coordinates."
   ]
  },
  {
   "cell_type": "code",
   "execution_count": 3,
   "metadata": {
    "ExecuteTime": {
     "end_time": "2019-11-27T18:06:09.778868Z",
     "start_time": "2019-11-27T18:06:09.703702Z"
    }
   },
   "outputs": [],
   "source": [
    "# load CCN gauge locations\n",
    "CCN_gauge_locations_fname = 'C:/Users/iac6311/Documents/Work/Data/Cook_County/CookCounty_gage_locations.csv'\n",
    "# load CCN gauge observations\n",
    "CCN_gauge_observations_fname = 'C:/Users/iac6311/Documents/Work/Data/Cook_County/WaterYear2013.csv'\n",
    "\n",
    "df_gauge_loc = pd.read_csv(CCN_gauge_locations_fname,header=0)\n",
    "df_gauge = pd.read_csv(CCN_gauge_observations_fname,header=0)\n",
    "\n",
    "x = df_gauge_loc['Longitude - West'].values\n",
    "y = df_gauge_loc['Latitude'].values"
   ]
  },
  {
   "cell_type": "code",
   "execution_count": 4,
   "metadata": {
    "ExecuteTime": {
     "end_time": "2019-11-27T18:06:09.785850Z",
     "start_time": "2019-11-27T18:06:09.780862Z"
    }
   },
   "outputs": [],
   "source": [
    "def rounder(t):\n",
    "    \"\"\"\n",
    "    Rounds the time to the nearest hour.\n",
    "    \"\"\"\n",
    "    if t.minute >= 30:\n",
    "        return t.replace(second=0, microsecond=0, minute=0, hour=t.hour+1)\n",
    "    else:\n",
    "        return t.replace(second=0, microsecond=0, minute=0)"
   ]
  },
  {
   "cell_type": "code",
   "execution_count": 5,
   "metadata": {
    "ExecuteTime": {
     "end_time": "2019-11-27T18:06:09.795822Z",
     "start_time": "2019-11-27T18:06:09.787843Z"
    }
   },
   "outputs": [],
   "source": [
    "path_rrfiles = r'C:\\Users\\iac6311\\Documents\\Work\\SAVEUR\\Processed_RainRetrievals\\2013\\04\\18'"
   ]
  },
  {
   "cell_type": "code",
   "execution_count": 6,
   "metadata": {
    "ExecuteTime": {
     "end_time": "2019-11-27T18:06:09.851701Z",
     "start_time": "2019-11-27T18:06:09.797817Z"
    }
   },
   "outputs": [],
   "source": [
    "rrfiles = os.listdir(path_rrfiles)"
   ]
  },
  {
   "cell_type": "code",
   "execution_count": 7,
   "metadata": {
    "ExecuteTime": {
     "end_time": "2019-11-27T18:06:17.419610Z",
     "start_time": "2019-11-27T18:06:09.852670Z"
    }
   },
   "outputs": [
    {
     "name": "stderr",
     "output_type": "stream",
     "text": [
      "C:\\Users\\iac6311\\AppData\\Local\\Continuum\\anaconda3\\envs\\saveur\\lib\\site-packages\\pyart\\io\\cfradial.py:384: RuntimeWarning: invalid value encountered in less\n",
      "  data = self.ncvar[:]\n",
      "C:\\Users\\iac6311\\AppData\\Local\\Continuum\\anaconda3\\envs\\saveur\\lib\\site-packages\\pyart\\io\\cfradial.py:384: RuntimeWarning: invalid value encountered in greater\n",
      "  data = self.ncvar[:]\n"
     ]
    }
   ],
   "source": [
    "rrfile = rrfiles[0]\n",
    "\n",
    "radar = pyart.io.read_cfradial(os.path.join(path_rrfiles,rrfile))"
   ]
  },
  {
   "cell_type": "code",
   "execution_count": 8,
   "metadata": {
    "ExecuteTime": {
     "end_time": "2019-11-27T18:06:17.469886Z",
     "start_time": "2019-11-27T18:06:17.420641Z"
    }
   },
   "outputs": [],
   "source": [
    "gatefilter = pyart.filters.GateFilter(radar)\n",
    "# Develop your gatefilter first\n",
    "# exclude masked gates from the gridding\n",
    "#gatefilter = pyart.filters.GateFilter(radar)\n",
    "gatefilter.exclude_transition()\n",
    "gatefilter.exclude_masked('reflectivity')"
   ]
  },
  {
   "cell_type": "code",
   "execution_count": 9,
   "metadata": {
    "ExecuteTime": {
     "end_time": "2019-11-27T18:06:17.477484Z",
     "start_time": "2019-11-27T18:06:17.470394Z"
    }
   },
   "outputs": [
    {
     "data": {
      "text/plain": [
       "dict_keys(['differential_reflectivity', 'spectrum_width', 'velocity', 'differential_phase', 'reflectivity', 'cross_correlation_ratio', 'corrected_reflectivity', 'normalized_coherent_power', 'unfolded_differential_phase', 'corrected_differential_phase', 'specific_differential_phase', 'attenuation', 'rainrate_from_kdp', 'rainrate_from_attenuation', 'rainrate'])"
      ]
     },
     "execution_count": 9,
     "metadata": {},
     "output_type": "execute_result"
    }
   ],
   "source": [
    "radar.fields.keys()"
   ]
  },
  {
   "cell_type": "code",
   "execution_count": 10,
   "metadata": {
    "ExecuteTime": {
     "end_time": "2019-11-27T18:06:22.856855Z",
     "start_time": "2019-11-27T18:06:17.479479Z"
    }
   },
   "outputs": [
    {
     "name": "stderr",
     "output_type": "stream",
     "text": [
      "C:\\Users\\iac6311\\AppData\\Local\\Continuum\\anaconda3\\envs\\saveur\\lib\\site-packages\\pyart\\map\\gates_to_grid.py:177: DeprecationWarning: Barnes weighting function is deprecated. Please use Barnes 2 to be consistent with Pauley and Wu 1990.\n",
      "  \" Pauley and Wu 1990.\", DeprecationWarning)\n"
     ]
    }
   ],
   "source": [
    "# perform Cartesian mapping, limit to the reflectivity field.\n",
    "grid = pyart.map.grid_from_radars(\n",
    "    [radar], gatefilters=[gatefilter],\n",
    "    grid_shape=(1, 300, 300),\n",
    "    grid_limits=((2000, 2000), (-123000.0, 123000.0), (-123000.0, 123000.0)),\n",
    "    fields=['rainrate','rainrate_from_attenuation','rainrate_from_kdp'])"
   ]
  },
  {
   "cell_type": "code",
   "execution_count": 11,
   "metadata": {
    "ExecuteTime": {
     "end_time": "2019-11-27T18:06:22.875809Z",
     "start_time": "2019-11-27T18:06:22.858825Z"
    }
   },
   "outputs": [],
   "source": [
    "x_rad, y_rad = grid.get_point_longitude_latitude()"
   ]
  },
  {
   "cell_type": "code",
   "execution_count": 12,
   "metadata": {
    "ExecuteTime": {
     "end_time": "2019-11-27T18:06:22.883757Z",
     "start_time": "2019-11-27T18:06:22.877772Z"
    }
   },
   "outputs": [],
   "source": [
    "# 3.2 Get radar data\n",
    "# Get slice\n",
    "radar_slice0 = radar.get_slice(0)\n",
    "rr_0 = radar.fields['rainrate']['data'][radar_slice0, :]"
   ]
  },
  {
   "cell_type": "code",
   "execution_count": 13,
   "metadata": {
    "ExecuteTime": {
     "end_time": "2019-11-27T18:06:22.927639Z",
     "start_time": "2019-11-27T18:06:22.885751Z"
    }
   },
   "outputs": [],
   "source": [
    "sitecoords = (radar.longitude['data'][0],radar.latitude['data'][0],radar.altitude['data'][0])\n",
    "az = radar.azimuth['data'][radar_slice0]\n",
    "r = radar.range['data']\n",
    "proj = wrl.georef.epsg_to_osr(4326)"
   ]
  },
  {
   "cell_type": "code",
   "execution_count": 14,
   "metadata": {
    "ExecuteTime": {
     "end_time": "2019-11-27T18:06:22.938611Z",
     "start_time": "2019-11-27T18:06:22.929634Z"
    }
   },
   "outputs": [],
   "source": [
    "# save the radar parameters\n",
    "with open('radarparams.pkl','wb') as f:\n",
    "    pickle.dump([sitecoords, az, r],f)"
   ]
  },
  {
   "cell_type": "code",
   "execution_count": 15,
   "metadata": {
    "ExecuteTime": {
     "end_time": "2019-11-27T18:06:23.052307Z",
     "start_time": "2019-11-27T18:06:22.941602Z"
    }
   },
   "outputs": [
    {
     "name": "stderr",
     "output_type": "stream",
     "text": [
      "C:\\Users\\iac6311\\AppData\\Local\\Continuum\\anaconda3\\envs\\saveur\\lib\\site-packages\\numpy\\ma\\core.py:1018: RuntimeWarning: overflow encountered in multiply\n",
      "  result = self.f(da, db, *args, **kwargs)\n"
     ]
    }
   ],
   "source": [
    "radar_depth = wrl.trafo.r_to_depth(rr_0,interval=256)"
   ]
  },
  {
   "cell_type": "code",
   "execution_count": 16,
   "metadata": {
    "ExecuteTime": {
     "end_time": "2019-11-27T18:06:23.068264Z",
     "start_time": "2019-11-27T18:06:23.054301Z"
    }
   },
   "outputs": [],
   "source": [
    "# create an empty dictionary\n",
    "fname_dict = {}\n",
    "for i in arange(1,25,1):\n",
    "    fname_dict[i] = []\n",
    "# fill in dictionary\n",
    "for i in arange(len(rrfiles)):\n",
    "    fname = rrfiles[i]\n",
    "    dtime_utc = dt.datetime.strptime(fname,'radar_KLOT_%Y%m%d_%H%M%S.nc')\n",
    "    fname_dict[dtime_utc.hour+1].append(dt.datetime.strftime(dtime_utc,'%Y/%m/%d/')+rrfiles[i])"
   ]
  },
  {
   "cell_type": "code",
   "execution_count": 17,
   "metadata": {
    "ExecuteTime": {
     "end_time": "2019-11-27T18:06:23.082226Z",
     "start_time": "2019-11-27T18:06:23.070259Z"
    }
   },
   "outputs": [
    {
     "data": {
      "text/plain": [
       "{1: ['2013/04/18/radar_KLOT_20130418_000354.nc',\n",
       "  '2013/04/18/radar_KLOT_20130418_000810.nc',\n",
       "  '2013/04/18/radar_KLOT_20130418_001228.nc',\n",
       "  '2013/04/18/radar_KLOT_20130418_001645.nc',\n",
       "  '2013/04/18/radar_KLOT_20130418_002102.nc',\n",
       "  '2013/04/18/radar_KLOT_20130418_002518.nc',\n",
       "  '2013/04/18/radar_KLOT_20130418_002934.nc',\n",
       "  '2013/04/18/radar_KLOT_20130418_003350.nc',\n",
       "  '2013/04/18/radar_KLOT_20130418_003807.nc',\n",
       "  '2013/04/18/radar_KLOT_20130418_004223.nc',\n",
       "  '2013/04/18/radar_KLOT_20130418_004639.nc',\n",
       "  '2013/04/18/radar_KLOT_20130418_005057.nc',\n",
       "  '2013/04/18/radar_KLOT_20130418_005514.nc',\n",
       "  '2013/04/18/radar_KLOT_20130418_005932.nc'],\n",
       " 2: ['2013/04/18/radar_KLOT_20130418_010349.nc',\n",
       "  '2013/04/18/radar_KLOT_20130418_010806.nc',\n",
       "  '2013/04/18/radar_KLOT_20130418_011223.nc',\n",
       "  '2013/04/18/radar_KLOT_20130418_011640.nc',\n",
       "  '2013/04/18/radar_KLOT_20130418_012057.nc',\n",
       "  '2013/04/18/radar_KLOT_20130418_012513.nc',\n",
       "  '2013/04/18/radar_KLOT_20130418_013141.nc',\n",
       "  '2013/04/18/radar_KLOT_20130418_013559.nc',\n",
       "  '2013/04/18/radar_KLOT_20130418_014016.nc',\n",
       "  '2013/04/18/radar_KLOT_20130418_014432.nc',\n",
       "  '2013/04/18/radar_KLOT_20130418_014849.nc',\n",
       "  '2013/04/18/radar_KLOT_20130418_015305.nc',\n",
       "  '2013/04/18/radar_KLOT_20130418_015722.nc'],\n",
       " 3: ['2013/04/18/radar_KLOT_20130418_020140.nc',\n",
       "  '2013/04/18/radar_KLOT_20130418_020557.nc',\n",
       "  '2013/04/18/radar_KLOT_20130418_021013.nc',\n",
       "  '2013/04/18/radar_KLOT_20130418_021430.nc',\n",
       "  '2013/04/18/radar_KLOT_20130418_021847.nc',\n",
       "  '2013/04/18/radar_KLOT_20130418_022303.nc',\n",
       "  '2013/04/18/radar_KLOT_20130418_022719.nc',\n",
       "  '2013/04/18/radar_KLOT_20130418_023138.nc',\n",
       "  '2013/04/18/radar_KLOT_20130418_023556.nc',\n",
       "  '2013/04/18/radar_KLOT_20130418_024013.nc',\n",
       "  '2013/04/18/radar_KLOT_20130418_024430.nc',\n",
       "  '2013/04/18/radar_KLOT_20130418_024846.nc',\n",
       "  '2013/04/18/radar_KLOT_20130418_025302.nc',\n",
       "  '2013/04/18/radar_KLOT_20130418_025718.nc'],\n",
       " 4: ['2013/04/18/radar_KLOT_20130418_030134.nc',\n",
       "  '2013/04/18/radar_KLOT_20130418_030551.nc',\n",
       "  '2013/04/18/radar_KLOT_20130418_031008.nc',\n",
       "  '2013/04/18/radar_KLOT_20130418_031423.nc',\n",
       "  '2013/04/18/radar_KLOT_20130418_031839.nc',\n",
       "  '2013/04/18/radar_KLOT_20130418_032257.nc',\n",
       "  '2013/04/18/radar_KLOT_20130418_032713.nc',\n",
       "  '2013/04/18/radar_KLOT_20130418_033131.nc',\n",
       "  '2013/04/18/radar_KLOT_20130418_033549.nc',\n",
       "  '2013/04/18/radar_KLOT_20130418_034005.nc',\n",
       "  '2013/04/18/radar_KLOT_20130418_034421.nc',\n",
       "  '2013/04/18/radar_KLOT_20130418_034838.nc',\n",
       "  '2013/04/18/radar_KLOT_20130418_035254.nc',\n",
       "  '2013/04/18/radar_KLOT_20130418_035711.nc'],\n",
       " 5: ['2013/04/18/radar_KLOT_20130418_040127.nc',\n",
       "  '2013/04/18/radar_KLOT_20130418_040544.nc',\n",
       "  '2013/04/18/radar_KLOT_20130418_041000.nc',\n",
       "  '2013/04/18/radar_KLOT_20130418_041416.nc',\n",
       "  '2013/04/18/radar_KLOT_20130418_041833.nc',\n",
       "  '2013/04/18/radar_KLOT_20130418_042249.nc',\n",
       "  '2013/04/18/radar_KLOT_20130418_042707.nc',\n",
       "  '2013/04/18/radar_KLOT_20130418_043123.nc',\n",
       "  '2013/04/18/radar_KLOT_20130418_043539.nc',\n",
       "  '2013/04/18/radar_KLOT_20130418_043955.nc',\n",
       "  '2013/04/18/radar_KLOT_20130418_044412.nc',\n",
       "  '2013/04/18/radar_KLOT_20130418_044829.nc',\n",
       "  '2013/04/18/radar_KLOT_20130418_045246.nc',\n",
       "  '2013/04/18/radar_KLOT_20130418_045703.nc'],\n",
       " 6: ['2013/04/18/radar_KLOT_20130418_050120.nc',\n",
       "  '2013/04/18/radar_KLOT_20130418_050536.nc',\n",
       "  '2013/04/18/radar_KLOT_20130418_050953.nc',\n",
       "  '2013/04/18/radar_KLOT_20130418_051410.nc',\n",
       "  '2013/04/18/radar_KLOT_20130418_051826.nc',\n",
       "  '2013/04/18/radar_KLOT_20130418_052242.nc',\n",
       "  '2013/04/18/radar_KLOT_20130418_052700.nc',\n",
       "  '2013/04/18/radar_KLOT_20130418_053116.nc',\n",
       "  '2013/04/18/radar_KLOT_20130418_053532.nc',\n",
       "  '2013/04/18/radar_KLOT_20130418_053951.nc',\n",
       "  '2013/04/18/radar_KLOT_20130418_054407.nc',\n",
       "  '2013/04/18/radar_KLOT_20130418_054823.nc',\n",
       "  '2013/04/18/radar_KLOT_20130418_055242.nc',\n",
       "  '2013/04/18/radar_KLOT_20130418_055659.nc'],\n",
       " 7: ['2013/04/18/radar_KLOT_20130418_060116.nc',\n",
       "  '2013/04/18/radar_KLOT_20130418_060531.nc',\n",
       "  '2013/04/18/radar_KLOT_20130418_060949.nc',\n",
       "  '2013/04/18/radar_KLOT_20130418_061405.nc',\n",
       "  '2013/04/18/radar_KLOT_20130418_061822.nc',\n",
       "  '2013/04/18/radar_KLOT_20130418_062239.nc',\n",
       "  '2013/04/18/radar_KLOT_20130418_062655.nc',\n",
       "  '2013/04/18/radar_KLOT_20130418_063111.nc',\n",
       "  '2013/04/18/radar_KLOT_20130418_063527.nc',\n",
       "  '2013/04/18/radar_KLOT_20130418_063944.nc',\n",
       "  '2013/04/18/radar_KLOT_20130418_064400.nc',\n",
       "  '2013/04/18/radar_KLOT_20130418_064817.nc',\n",
       "  '2013/04/18/radar_KLOT_20130418_065233.nc',\n",
       "  '2013/04/18/radar_KLOT_20130418_065649.nc'],\n",
       " 8: ['2013/04/18/radar_KLOT_20130418_070106.nc',\n",
       "  '2013/04/18/radar_KLOT_20130418_070523.nc',\n",
       "  '2013/04/18/radar_KLOT_20130418_070939.nc',\n",
       "  '2013/04/18/radar_KLOT_20130418_071356.nc',\n",
       "  '2013/04/18/radar_KLOT_20130418_071812.nc',\n",
       "  '2013/04/18/radar_KLOT_20130418_072228.nc',\n",
       "  '2013/04/18/radar_KLOT_20130418_072644.nc',\n",
       "  '2013/04/18/radar_KLOT_20130418_073101.nc',\n",
       "  '2013/04/18/radar_KLOT_20130418_073517.nc',\n",
       "  '2013/04/18/radar_KLOT_20130418_073936.nc',\n",
       "  '2013/04/18/radar_KLOT_20130418_074352.nc',\n",
       "  '2013/04/18/radar_KLOT_20130418_074808.nc',\n",
       "  '2013/04/18/radar_KLOT_20130418_075225.nc',\n",
       "  '2013/04/18/radar_KLOT_20130418_075642.nc'],\n",
       " 9: ['2013/04/18/radar_KLOT_20130418_080058.nc',\n",
       "  '2013/04/18/radar_KLOT_20130418_080514.nc',\n",
       "  '2013/04/18/radar_KLOT_20130418_080931.nc',\n",
       "  '2013/04/18/radar_KLOT_20130418_081347.nc',\n",
       "  '2013/04/18/radar_KLOT_20130418_081803.nc',\n",
       "  '2013/04/18/radar_KLOT_20130418_082220.nc',\n",
       "  '2013/04/18/radar_KLOT_20130418_082637.nc',\n",
       "  '2013/04/18/radar_KLOT_20130418_083053.nc',\n",
       "  '2013/04/18/radar_KLOT_20130418_083509.nc',\n",
       "  '2013/04/18/radar_KLOT_20130418_083927.nc',\n",
       "  '2013/04/18/radar_KLOT_20130418_084342.nc',\n",
       "  '2013/04/18/radar_KLOT_20130418_084758.nc',\n",
       "  '2013/04/18/radar_KLOT_20130418_085215.nc',\n",
       "  '2013/04/18/radar_KLOT_20130418_085631.nc'],\n",
       " 10: ['2013/04/18/radar_KLOT_20130418_090048.nc',\n",
       "  '2013/04/18/radar_KLOT_20130418_090504.nc',\n",
       "  '2013/04/18/radar_KLOT_20130418_090921.nc',\n",
       "  '2013/04/18/radar_KLOT_20130418_091337.nc',\n",
       "  '2013/04/18/radar_KLOT_20130418_091753.nc',\n",
       "  '2013/04/18/radar_KLOT_20130418_092209.nc',\n",
       "  '2013/04/18/radar_KLOT_20130418_092624.nc',\n",
       "  '2013/04/18/radar_KLOT_20130418_093251.nc',\n",
       "  '2013/04/18/radar_KLOT_20130418_093707.nc',\n",
       "  '2013/04/18/radar_KLOT_20130418_094124.nc',\n",
       "  '2013/04/18/radar_KLOT_20130418_094541.nc',\n",
       "  '2013/04/18/radar_KLOT_20130418_094957.nc',\n",
       "  '2013/04/18/radar_KLOT_20130418_095413.nc',\n",
       "  '2013/04/18/radar_KLOT_20130418_095831.nc'],\n",
       " 11: ['2013/04/18/radar_KLOT_20130418_100247.nc',\n",
       "  '2013/04/18/radar_KLOT_20130418_100702.nc',\n",
       "  '2013/04/18/radar_KLOT_20130418_101119.nc',\n",
       "  '2013/04/18/radar_KLOT_20130418_101535.nc',\n",
       "  '2013/04/18/radar_KLOT_20130418_101952.nc',\n",
       "  '2013/04/18/radar_KLOT_20130418_102408.nc',\n",
       "  '2013/04/18/radar_KLOT_20130418_102825.nc',\n",
       "  '2013/04/18/radar_KLOT_20130418_103242.nc',\n",
       "  '2013/04/18/radar_KLOT_20130418_103658.nc',\n",
       "  '2013/04/18/radar_KLOT_20130418_104114.nc',\n",
       "  '2013/04/18/radar_KLOT_20130418_104530.nc',\n",
       "  '2013/04/18/radar_KLOT_20130418_104946.nc',\n",
       "  '2013/04/18/radar_KLOT_20130418_105403.nc',\n",
       "  '2013/04/18/radar_KLOT_20130418_105819.nc'],\n",
       " 12: ['2013/04/18/radar_KLOT_20130418_110235.nc',\n",
       "  '2013/04/18/radar_KLOT_20130418_110651.nc',\n",
       "  '2013/04/18/radar_KLOT_20130418_111109.nc',\n",
       "  '2013/04/18/radar_KLOT_20130418_111525.nc',\n",
       "  '2013/04/18/radar_KLOT_20130418_111940.nc',\n",
       "  '2013/04/18/radar_KLOT_20130418_112355.nc',\n",
       "  '2013/04/18/radar_KLOT_20130418_112813.nc',\n",
       "  '2013/04/18/radar_KLOT_20130418_113229.nc',\n",
       "  '2013/04/18/radar_KLOT_20130418_113646.nc',\n",
       "  '2013/04/18/radar_KLOT_20130418_114102.nc',\n",
       "  '2013/04/18/radar_KLOT_20130418_114518.nc',\n",
       "  '2013/04/18/radar_KLOT_20130418_114933.nc',\n",
       "  '2013/04/18/radar_KLOT_20130418_115350.nc',\n",
       "  '2013/04/18/radar_KLOT_20130418_115806.nc'],\n",
       " 13: ['2013/04/18/radar_KLOT_20130418_120222.nc',\n",
       "  '2013/04/18/radar_KLOT_20130418_120638.nc',\n",
       "  '2013/04/18/radar_KLOT_20130418_121054.nc',\n",
       "  '2013/04/18/radar_KLOT_20130418_121509.nc',\n",
       "  '2013/04/18/radar_KLOT_20130418_121926.nc',\n",
       "  '2013/04/18/radar_KLOT_20130418_122341.nc',\n",
       "  '2013/04/18/radar_KLOT_20130418_122757.nc',\n",
       "  '2013/04/18/radar_KLOT_20130418_123212.nc',\n",
       "  '2013/04/18/radar_KLOT_20130418_123629.nc',\n",
       "  '2013/04/18/radar_KLOT_20130418_124045.nc',\n",
       "  '2013/04/18/radar_KLOT_20130418_124500.nc',\n",
       "  '2013/04/18/radar_KLOT_20130418_124916.nc',\n",
       "  '2013/04/18/radar_KLOT_20130418_125333.nc',\n",
       "  '2013/04/18/radar_KLOT_20130418_125748.nc'],\n",
       " 14: ['2013/04/18/radar_KLOT_20130418_130206.nc',\n",
       "  '2013/04/18/radar_KLOT_20130418_130623.nc',\n",
       "  '2013/04/18/radar_KLOT_20130418_131040.nc',\n",
       "  '2013/04/18/radar_KLOT_20130418_131456.nc',\n",
       "  '2013/04/18/radar_KLOT_20130418_131912.nc',\n",
       "  '2013/04/18/radar_KLOT_20130418_132329.nc',\n",
       "  '2013/04/18/radar_KLOT_20130418_132745.nc',\n",
       "  '2013/04/18/radar_KLOT_20130418_133203.nc',\n",
       "  '2013/04/18/radar_KLOT_20130418_133619.nc',\n",
       "  '2013/04/18/radar_KLOT_20130418_134037.nc',\n",
       "  '2013/04/18/radar_KLOT_20130418_134452.nc',\n",
       "  '2013/04/18/radar_KLOT_20130418_134908.nc',\n",
       "  '2013/04/18/radar_KLOT_20130418_135324.nc',\n",
       "  '2013/04/18/radar_KLOT_20130418_135740.nc'],\n",
       " 15: ['2013/04/18/radar_KLOT_20130418_140156.nc',\n",
       "  '2013/04/18/radar_KLOT_20130418_140613.nc',\n",
       "  '2013/04/18/radar_KLOT_20130418_141028.nc',\n",
       "  '2013/04/18/radar_KLOT_20130418_141445.nc',\n",
       "  '2013/04/18/radar_KLOT_20130418_141901.nc',\n",
       "  '2013/04/18/radar_KLOT_20130418_142319.nc',\n",
       "  '2013/04/18/radar_KLOT_20130418_142735.nc',\n",
       "  '2013/04/18/radar_KLOT_20130418_143150.nc',\n",
       "  '2013/04/18/radar_KLOT_20130418_143607.nc',\n",
       "  '2013/04/18/radar_KLOT_20130418_144023.nc',\n",
       "  '2013/04/18/radar_KLOT_20130418_144439.nc',\n",
       "  '2013/04/18/radar_KLOT_20130418_144856.nc',\n",
       "  '2013/04/18/radar_KLOT_20130418_145313.nc',\n",
       "  '2013/04/18/radar_KLOT_20130418_145728.nc'],\n",
       " 16: ['2013/04/18/radar_KLOT_20130418_150144.nc',\n",
       "  '2013/04/18/radar_KLOT_20130418_150602.nc',\n",
       "  '2013/04/18/radar_KLOT_20130418_151018.nc',\n",
       "  '2013/04/18/radar_KLOT_20130418_151435.nc',\n",
       "  '2013/04/18/radar_KLOT_20130418_151851.nc',\n",
       "  '2013/04/18/radar_KLOT_20130418_152309.nc',\n",
       "  '2013/04/18/radar_KLOT_20130418_152725.nc',\n",
       "  '2013/04/18/radar_KLOT_20130418_153142.nc',\n",
       "  '2013/04/18/radar_KLOT_20130418_153558.nc',\n",
       "  '2013/04/18/radar_KLOT_20130418_154015.nc',\n",
       "  '2013/04/18/radar_KLOT_20130418_154433.nc',\n",
       "  '2013/04/18/radar_KLOT_20130418_154849.nc',\n",
       "  '2013/04/18/radar_KLOT_20130418_155304.nc',\n",
       "  '2013/04/18/radar_KLOT_20130418_155719.nc'],\n",
       " 17: ['2013/04/18/radar_KLOT_20130418_160136.nc',\n",
       "  '2013/04/18/radar_KLOT_20130418_160552.nc',\n",
       "  '2013/04/18/radar_KLOT_20130418_161010.nc',\n",
       "  '2013/04/18/radar_KLOT_20130418_161426.nc',\n",
       "  '2013/04/18/radar_KLOT_20130418_161842.nc',\n",
       "  '2013/04/18/radar_KLOT_20130418_162259.nc',\n",
       "  '2013/04/18/radar_KLOT_20130418_162717.nc',\n",
       "  '2013/04/18/radar_KLOT_20130418_163134.nc',\n",
       "  '2013/04/18/radar_KLOT_20130418_163550.nc',\n",
       "  '2013/04/18/radar_KLOT_20130418_164007.nc',\n",
       "  '2013/04/18/radar_KLOT_20130418_164423.nc',\n",
       "  '2013/04/18/radar_KLOT_20130418_164839.nc',\n",
       "  '2013/04/18/radar_KLOT_20130418_165256.nc',\n",
       "  '2013/04/18/radar_KLOT_20130418_165714.nc'],\n",
       " 18: ['2013/04/18/radar_KLOT_20130418_170130.nc',\n",
       "  '2013/04/18/radar_KLOT_20130418_170548.nc',\n",
       "  '2013/04/18/radar_KLOT_20130418_171005.nc',\n",
       "  '2013/04/18/radar_KLOT_20130418_171422.nc',\n",
       "  '2013/04/18/radar_KLOT_20130418_171838.nc',\n",
       "  '2013/04/18/radar_KLOT_20130418_172257.nc',\n",
       "  '2013/04/18/radar_KLOT_20130418_172713.nc',\n",
       "  '2013/04/18/radar_KLOT_20130418_173334.nc',\n",
       "  '2013/04/18/radar_KLOT_20130418_173749.nc',\n",
       "  '2013/04/18/radar_KLOT_20130418_174206.nc',\n",
       "  '2013/04/18/radar_KLOT_20130418_174624.nc',\n",
       "  '2013/04/18/radar_KLOT_20130418_175041.nc',\n",
       "  '2013/04/18/radar_KLOT_20130418_175457.nc',\n",
       "  '2013/04/18/radar_KLOT_20130418_175913.nc'],\n",
       " 19: ['2013/04/18/radar_KLOT_20130418_180330.nc',\n",
       "  '2013/04/18/radar_KLOT_20130418_180747.nc',\n",
       "  '2013/04/18/radar_KLOT_20130418_181204.nc',\n",
       "  '2013/04/18/radar_KLOT_20130418_181621.nc',\n",
       "  '2013/04/18/radar_KLOT_20130418_182038.nc',\n",
       "  '2013/04/18/radar_KLOT_20130418_182453.nc',\n",
       "  '2013/04/18/radar_KLOT_20130418_182909.nc',\n",
       "  '2013/04/18/radar_KLOT_20130418_183326.nc',\n",
       "  '2013/04/18/radar_KLOT_20130418_183744.nc',\n",
       "  '2013/04/18/radar_KLOT_20130418_184200.nc',\n",
       "  '2013/04/18/radar_KLOT_20130418_184617.nc',\n",
       "  '2013/04/18/radar_KLOT_20130418_185033.nc',\n",
       "  '2013/04/18/radar_KLOT_20130418_185448.nc',\n",
       "  '2013/04/18/radar_KLOT_20130418_185905.nc'],\n",
       " 20: ['2013/04/18/radar_KLOT_20130418_190323.nc',\n",
       "  '2013/04/18/radar_KLOT_20130418_190739.nc',\n",
       "  '2013/04/18/radar_KLOT_20130418_191156.nc',\n",
       "  '2013/04/18/radar_KLOT_20130418_191612.nc',\n",
       "  '2013/04/18/radar_KLOT_20130418_192030.nc',\n",
       "  '2013/04/18/radar_KLOT_20130418_192446.nc',\n",
       "  '2013/04/18/radar_KLOT_20130418_192903.nc',\n",
       "  '2013/04/18/radar_KLOT_20130418_193319.nc',\n",
       "  '2013/04/18/radar_KLOT_20130418_193736.nc',\n",
       "  '2013/04/18/radar_KLOT_20130418_194152.nc',\n",
       "  '2013/04/18/radar_KLOT_20130418_194609.nc',\n",
       "  '2013/04/18/radar_KLOT_20130418_195027.nc',\n",
       "  '2013/04/18/radar_KLOT_20130418_195443.nc',\n",
       "  '2013/04/18/radar_KLOT_20130418_195900.nc'],\n",
       " 21: ['2013/04/18/radar_KLOT_20130418_200316.nc',\n",
       "  '2013/04/18/radar_KLOT_20130418_200732.nc',\n",
       "  '2013/04/18/radar_KLOT_20130418_201149.nc',\n",
       "  '2013/04/18/radar_KLOT_20130418_201605.nc',\n",
       "  '2013/04/18/radar_KLOT_20130418_202020.nc',\n",
       "  '2013/04/18/radar_KLOT_20130418_202436.nc',\n",
       "  '2013/04/18/radar_KLOT_20130418_202855.nc',\n",
       "  '2013/04/18/radar_KLOT_20130418_203310.nc',\n",
       "  '2013/04/18/radar_KLOT_20130418_203726.nc',\n",
       "  '2013/04/18/radar_KLOT_20130418_204142.nc',\n",
       "  '2013/04/18/radar_KLOT_20130418_204557.nc',\n",
       "  '2013/04/18/radar_KLOT_20130418_205013.nc',\n",
       "  '2013/04/18/radar_KLOT_20130418_205431.nc',\n",
       "  '2013/04/18/radar_KLOT_20130418_205846.nc'],\n",
       " 22: ['2013/04/18/radar_KLOT_20130418_210303.nc',\n",
       "  '2013/04/18/radar_KLOT_20130418_210706.nc',\n",
       "  '2013/04/18/radar_KLOT_20130418_211122.nc',\n",
       "  '2013/04/18/radar_KLOT_20130418_211538.nc',\n",
       "  '2013/04/18/radar_KLOT_20130418_211957.nc',\n",
       "  '2013/04/18/radar_KLOT_20130418_212412.nc',\n",
       "  '2013/04/18/radar_KLOT_20130418_212815.nc',\n",
       "  '2013/04/18/radar_KLOT_20130418_213219.nc',\n",
       "  '2013/04/18/radar_KLOT_20130418_213637.nc',\n",
       "  '2013/04/18/radar_KLOT_20130418_214054.nc',\n",
       "  '2013/04/18/radar_KLOT_20130418_214511.nc',\n",
       "  '2013/04/18/radar_KLOT_20130418_214928.nc',\n",
       "  '2013/04/18/radar_KLOT_20130418_215345.nc',\n",
       "  '2013/04/18/radar_KLOT_20130418_215801.nc'],\n",
       " 23: ['2013/04/18/radar_KLOT_20130418_220217.nc',\n",
       "  '2013/04/18/radar_KLOT_20130418_220634.nc',\n",
       "  '2013/04/18/radar_KLOT_20130418_221051.nc',\n",
       "  '2013/04/18/radar_KLOT_20130418_221508.nc',\n",
       "  '2013/04/18/radar_KLOT_20130418_221925.nc',\n",
       "  '2013/04/18/radar_KLOT_20130418_222341.nc',\n",
       "  '2013/04/18/radar_KLOT_20130418_222759.nc',\n",
       "  '2013/04/18/radar_KLOT_20130418_223216.nc',\n",
       "  '2013/04/18/radar_KLOT_20130418_223632.nc',\n",
       "  '2013/04/18/radar_KLOT_20130418_224050.nc',\n",
       "  '2013/04/18/radar_KLOT_20130418_224507.nc',\n",
       "  '2013/04/18/radar_KLOT_20130418_224923.nc',\n",
       "  '2013/04/18/radar_KLOT_20130418_225341.nc',\n",
       "  '2013/04/18/radar_KLOT_20130418_225758.nc'],\n",
       " 24: ['2013/04/18/radar_KLOT_20130418_230215.nc',\n",
       "  '2013/04/18/radar_KLOT_20130418_230620.nc',\n",
       "  '2013/04/18/radar_KLOT_20130418_231024.nc',\n",
       "  '2013/04/18/radar_KLOT_20130418_231426.nc',\n",
       "  '2013/04/18/radar_KLOT_20130418_231829.nc',\n",
       "  '2013/04/18/radar_KLOT_20130418_232245.nc',\n",
       "  '2013/04/18/radar_KLOT_20130418_232648.nc',\n",
       "  '2013/04/18/radar_KLOT_20130418_233039.nc',\n",
       "  '2013/04/18/radar_KLOT_20130418_233416.nc',\n",
       "  '2013/04/18/radar_KLOT_20130418_233753.nc',\n",
       "  '2013/04/18/radar_KLOT_20130418_234129.nc',\n",
       "  '2013/04/18/radar_KLOT_20130418_234505.nc',\n",
       "  '2013/04/18/radar_KLOT_20130418_234842.nc',\n",
       "  '2013/04/18/radar_KLOT_20130418_235219.nc',\n",
       "  '2013/04/18/radar_KLOT_20130418_235622.nc',\n",
       "  '2013/04/18/radar_KLOT_20130418_235959.nc']}"
      ]
     },
     "execution_count": 17,
     "metadata": {},
     "output_type": "execute_result"
    }
   ],
   "source": [
    "fname_dict"
   ]
  },
  {
   "cell_type": "code",
   "execution_count": 18,
   "metadata": {
    "ExecuteTime": {
     "end_time": "2019-11-27T18:47:58.683566Z",
     "start_time": "2019-11-27T18:06:23.084221Z"
    },
    "scrolled": true
   },
   "outputs": [
    {
     "name": "stdout",
     "output_type": "stream",
     "text": [
      "13\n",
      "."
     ]
    },
    {
     "name": "stderr",
     "output_type": "stream",
     "text": [
      "C:\\Users\\iac6311\\AppData\\Local\\Continuum\\anaconda3\\envs\\saveur\\lib\\site-packages\\pyart\\io\\cfradial.py:384: RuntimeWarning: invalid value encountered in less\n",
      "  data = self.ncvar[:]\n",
      "C:\\Users\\iac6311\\AppData\\Local\\Continuum\\anaconda3\\envs\\saveur\\lib\\site-packages\\pyart\\io\\cfradial.py:384: RuntimeWarning: invalid value encountered in greater\n",
      "  data = self.ncvar[:]\n",
      "C:\\Users\\iac6311\\AppData\\Local\\Continuum\\anaconda3\\envs\\saveur\\lib\\site-packages\\pyart\\map\\gates_to_grid.py:177: DeprecationWarning: Barnes weighting function is deprecated. Please use Barnes 2 to be consistent with Pauley and Wu 1990.\n",
      "  \" Pauley and Wu 1990.\", DeprecationWarning)\n"
     ]
    },
    {
     "name": "stdout",
     "output_type": "stream",
     "text": [
      "."
     ]
    },
    {
     "name": "stderr",
     "output_type": "stream",
     "text": [
      "C:\\Users\\iac6311\\AppData\\Local\\Continuum\\anaconda3\\envs\\saveur\\lib\\site-packages\\pyart\\io\\cfradial.py:384: RuntimeWarning: invalid value encountered in less\n",
      "  data = self.ncvar[:]\n",
      "C:\\Users\\iac6311\\AppData\\Local\\Continuum\\anaconda3\\envs\\saveur\\lib\\site-packages\\pyart\\io\\cfradial.py:384: RuntimeWarning: invalid value encountered in greater\n",
      "  data = self.ncvar[:]\n",
      "C:\\Users\\iac6311\\AppData\\Local\\Continuum\\anaconda3\\envs\\saveur\\lib\\site-packages\\pyart\\map\\gates_to_grid.py:177: DeprecationWarning: Barnes weighting function is deprecated. Please use Barnes 2 to be consistent with Pauley and Wu 1990.\n",
      "  \" Pauley and Wu 1990.\", DeprecationWarning)\n"
     ]
    },
    {
     "name": "stdout",
     "output_type": "stream",
     "text": [
      "."
     ]
    },
    {
     "name": "stderr",
     "output_type": "stream",
     "text": [
      "C:\\Users\\iac6311\\AppData\\Local\\Continuum\\anaconda3\\envs\\saveur\\lib\\site-packages\\pyart\\io\\cfradial.py:384: RuntimeWarning: invalid value encountered in less\n",
      "  data = self.ncvar[:]\n",
      "C:\\Users\\iac6311\\AppData\\Local\\Continuum\\anaconda3\\envs\\saveur\\lib\\site-packages\\pyart\\io\\cfradial.py:384: RuntimeWarning: invalid value encountered in greater\n",
      "  data = self.ncvar[:]\n",
      "C:\\Users\\iac6311\\AppData\\Local\\Continuum\\anaconda3\\envs\\saveur\\lib\\site-packages\\pyart\\map\\gates_to_grid.py:177: DeprecationWarning: Barnes weighting function is deprecated. Please use Barnes 2 to be consistent with Pauley and Wu 1990.\n",
      "  \" Pauley and Wu 1990.\", DeprecationWarning)\n"
     ]
    },
    {
     "name": "stdout",
     "output_type": "stream",
     "text": [
      "."
     ]
    },
    {
     "name": "stderr",
     "output_type": "stream",
     "text": [
      "C:\\Users\\iac6311\\AppData\\Local\\Continuum\\anaconda3\\envs\\saveur\\lib\\site-packages\\pyart\\io\\cfradial.py:384: RuntimeWarning: invalid value encountered in less\n",
      "  data = self.ncvar[:]\n",
      "C:\\Users\\iac6311\\AppData\\Local\\Continuum\\anaconda3\\envs\\saveur\\lib\\site-packages\\pyart\\io\\cfradial.py:384: RuntimeWarning: invalid value encountered in greater\n",
      "  data = self.ncvar[:]\n",
      "C:\\Users\\iac6311\\AppData\\Local\\Continuum\\anaconda3\\envs\\saveur\\lib\\site-packages\\pyart\\map\\gates_to_grid.py:177: DeprecationWarning: Barnes weighting function is deprecated. Please use Barnes 2 to be consistent with Pauley and Wu 1990.\n",
      "  \" Pauley and Wu 1990.\", DeprecationWarning)\n"
     ]
    },
    {
     "name": "stdout",
     "output_type": "stream",
     "text": [
      "."
     ]
    },
    {
     "name": "stderr",
     "output_type": "stream",
     "text": [
      "C:\\Users\\iac6311\\AppData\\Local\\Continuum\\anaconda3\\envs\\saveur\\lib\\site-packages\\pyart\\io\\cfradial.py:384: RuntimeWarning: invalid value encountered in less\n",
      "  data = self.ncvar[:]\n",
      "C:\\Users\\iac6311\\AppData\\Local\\Continuum\\anaconda3\\envs\\saveur\\lib\\site-packages\\pyart\\io\\cfradial.py:384: RuntimeWarning: invalid value encountered in greater\n",
      "  data = self.ncvar[:]\n",
      "C:\\Users\\iac6311\\AppData\\Local\\Continuum\\anaconda3\\envs\\saveur\\lib\\site-packages\\pyart\\map\\gates_to_grid.py:177: DeprecationWarning: Barnes weighting function is deprecated. Please use Barnes 2 to be consistent with Pauley and Wu 1990.\n",
      "  \" Pauley and Wu 1990.\", DeprecationWarning)\n"
     ]
    },
    {
     "name": "stdout",
     "output_type": "stream",
     "text": [
      "."
     ]
    },
    {
     "name": "stderr",
     "output_type": "stream",
     "text": [
      "C:\\Users\\iac6311\\AppData\\Local\\Continuum\\anaconda3\\envs\\saveur\\lib\\site-packages\\pyart\\io\\cfradial.py:384: RuntimeWarning: invalid value encountered in less\n",
      "  data = self.ncvar[:]\n",
      "C:\\Users\\iac6311\\AppData\\Local\\Continuum\\anaconda3\\envs\\saveur\\lib\\site-packages\\pyart\\io\\cfradial.py:384: RuntimeWarning: invalid value encountered in greater\n",
      "  data = self.ncvar[:]\n",
      "C:\\Users\\iac6311\\AppData\\Local\\Continuum\\anaconda3\\envs\\saveur\\lib\\site-packages\\pyart\\map\\gates_to_grid.py:177: DeprecationWarning: Barnes weighting function is deprecated. Please use Barnes 2 to be consistent with Pauley and Wu 1990.\n",
      "  \" Pauley and Wu 1990.\", DeprecationWarning)\n"
     ]
    },
    {
     "name": "stdout",
     "output_type": "stream",
     "text": [
      "."
     ]
    },
    {
     "name": "stderr",
     "output_type": "stream",
     "text": [
      "C:\\Users\\iac6311\\AppData\\Local\\Continuum\\anaconda3\\envs\\saveur\\lib\\site-packages\\pyart\\io\\cfradial.py:384: RuntimeWarning: invalid value encountered in less\n",
      "  data = self.ncvar[:]\n",
      "C:\\Users\\iac6311\\AppData\\Local\\Continuum\\anaconda3\\envs\\saveur\\lib\\site-packages\\pyart\\io\\cfradial.py:384: RuntimeWarning: invalid value encountered in greater\n",
      "  data = self.ncvar[:]\n",
      "C:\\Users\\iac6311\\AppData\\Local\\Continuum\\anaconda3\\envs\\saveur\\lib\\site-packages\\pyart\\map\\gates_to_grid.py:177: DeprecationWarning: Barnes weighting function is deprecated. Please use Barnes 2 to be consistent with Pauley and Wu 1990.\n",
      "  \" Pauley and Wu 1990.\", DeprecationWarning)\n"
     ]
    },
    {
     "name": "stdout",
     "output_type": "stream",
     "text": [
      "."
     ]
    },
    {
     "name": "stderr",
     "output_type": "stream",
     "text": [
      "C:\\Users\\iac6311\\AppData\\Local\\Continuum\\anaconda3\\envs\\saveur\\lib\\site-packages\\pyart\\io\\cfradial.py:384: RuntimeWarning: invalid value encountered in less\n",
      "  data = self.ncvar[:]\n",
      "C:\\Users\\iac6311\\AppData\\Local\\Continuum\\anaconda3\\envs\\saveur\\lib\\site-packages\\pyart\\io\\cfradial.py:384: RuntimeWarning: invalid value encountered in greater\n",
      "  data = self.ncvar[:]\n",
      "C:\\Users\\iac6311\\AppData\\Local\\Continuum\\anaconda3\\envs\\saveur\\lib\\site-packages\\pyart\\map\\gates_to_grid.py:177: DeprecationWarning: Barnes weighting function is deprecated. Please use Barnes 2 to be consistent with Pauley and Wu 1990.\n",
      "  \" Pauley and Wu 1990.\", DeprecationWarning)\n"
     ]
    },
    {
     "name": "stdout",
     "output_type": "stream",
     "text": [
      "."
     ]
    },
    {
     "name": "stderr",
     "output_type": "stream",
     "text": [
      "C:\\Users\\iac6311\\AppData\\Local\\Continuum\\anaconda3\\envs\\saveur\\lib\\site-packages\\pyart\\io\\cfradial.py:384: RuntimeWarning: invalid value encountered in less\n",
      "  data = self.ncvar[:]\n",
      "C:\\Users\\iac6311\\AppData\\Local\\Continuum\\anaconda3\\envs\\saveur\\lib\\site-packages\\pyart\\io\\cfradial.py:384: RuntimeWarning: invalid value encountered in greater\n",
      "  data = self.ncvar[:]\n",
      "C:\\Users\\iac6311\\AppData\\Local\\Continuum\\anaconda3\\envs\\saveur\\lib\\site-packages\\pyart\\map\\gates_to_grid.py:177: DeprecationWarning: Barnes weighting function is deprecated. Please use Barnes 2 to be consistent with Pauley and Wu 1990.\n",
      "  \" Pauley and Wu 1990.\", DeprecationWarning)\n"
     ]
    },
    {
     "name": "stdout",
     "output_type": "stream",
     "text": [
      "."
     ]
    },
    {
     "name": "stderr",
     "output_type": "stream",
     "text": [
      "C:\\Users\\iac6311\\AppData\\Local\\Continuum\\anaconda3\\envs\\saveur\\lib\\site-packages\\pyart\\io\\cfradial.py:384: RuntimeWarning: invalid value encountered in less\n",
      "  data = self.ncvar[:]\n",
      "C:\\Users\\iac6311\\AppData\\Local\\Continuum\\anaconda3\\envs\\saveur\\lib\\site-packages\\pyart\\io\\cfradial.py:384: RuntimeWarning: invalid value encountered in greater\n",
      "  data = self.ncvar[:]\n",
      "C:\\Users\\iac6311\\AppData\\Local\\Continuum\\anaconda3\\envs\\saveur\\lib\\site-packages\\pyart\\map\\gates_to_grid.py:177: DeprecationWarning: Barnes weighting function is deprecated. Please use Barnes 2 to be consistent with Pauley and Wu 1990.\n",
      "  \" Pauley and Wu 1990.\", DeprecationWarning)\n"
     ]
    },
    {
     "name": "stdout",
     "output_type": "stream",
     "text": [
      "."
     ]
    },
    {
     "name": "stderr",
     "output_type": "stream",
     "text": [
      "C:\\Users\\iac6311\\AppData\\Local\\Continuum\\anaconda3\\envs\\saveur\\lib\\site-packages\\pyart\\io\\cfradial.py:384: RuntimeWarning: invalid value encountered in less\n",
      "  data = self.ncvar[:]\n",
      "C:\\Users\\iac6311\\AppData\\Local\\Continuum\\anaconda3\\envs\\saveur\\lib\\site-packages\\pyart\\io\\cfradial.py:384: RuntimeWarning: invalid value encountered in greater\n",
      "  data = self.ncvar[:]\n",
      "C:\\Users\\iac6311\\AppData\\Local\\Continuum\\anaconda3\\envs\\saveur\\lib\\site-packages\\pyart\\map\\gates_to_grid.py:177: DeprecationWarning: Barnes weighting function is deprecated. Please use Barnes 2 to be consistent with Pauley and Wu 1990.\n",
      "  \" Pauley and Wu 1990.\", DeprecationWarning)\n"
     ]
    },
    {
     "name": "stdout",
     "output_type": "stream",
     "text": [
      "."
     ]
    },
    {
     "name": "stderr",
     "output_type": "stream",
     "text": [
      "C:\\Users\\iac6311\\AppData\\Local\\Continuum\\anaconda3\\envs\\saveur\\lib\\site-packages\\pyart\\io\\cfradial.py:384: RuntimeWarning: invalid value encountered in less\n",
      "  data = self.ncvar[:]\n",
      "C:\\Users\\iac6311\\AppData\\Local\\Continuum\\anaconda3\\envs\\saveur\\lib\\site-packages\\pyart\\io\\cfradial.py:384: RuntimeWarning: invalid value encountered in greater\n",
      "  data = self.ncvar[:]\n",
      "C:\\Users\\iac6311\\AppData\\Local\\Continuum\\anaconda3\\envs\\saveur\\lib\\site-packages\\pyart\\map\\gates_to_grid.py:177: DeprecationWarning: Barnes weighting function is deprecated. Please use Barnes 2 to be consistent with Pauley and Wu 1990.\n",
      "  \" Pauley and Wu 1990.\", DeprecationWarning)\n"
     ]
    },
    {
     "name": "stdout",
     "output_type": "stream",
     "text": [
      "."
     ]
    },
    {
     "name": "stderr",
     "output_type": "stream",
     "text": [
      "C:\\Users\\iac6311\\AppData\\Local\\Continuum\\anaconda3\\envs\\saveur\\lib\\site-packages\\pyart\\io\\cfradial.py:384: RuntimeWarning: invalid value encountered in less\n",
      "  data = self.ncvar[:]\n",
      "C:\\Users\\iac6311\\AppData\\Local\\Continuum\\anaconda3\\envs\\saveur\\lib\\site-packages\\pyart\\io\\cfradial.py:384: RuntimeWarning: invalid value encountered in greater\n",
      "  data = self.ncvar[:]\n",
      "C:\\Users\\iac6311\\AppData\\Local\\Continuum\\anaconda3\\envs\\saveur\\lib\\site-packages\\pyart\\map\\gates_to_grid.py:177: DeprecationWarning: Barnes weighting function is deprecated. Please use Barnes 2 to be consistent with Pauley and Wu 1990.\n",
      "  \" Pauley and Wu 1990.\", DeprecationWarning)\n"
     ]
    },
    {
     "name": "stdout",
     "output_type": "stream",
     "text": [
      "."
     ]
    },
    {
     "name": "stderr",
     "output_type": "stream",
     "text": [
      "C:\\Users\\iac6311\\AppData\\Local\\Continuum\\anaconda3\\envs\\saveur\\lib\\site-packages\\pyart\\io\\cfradial.py:384: RuntimeWarning: invalid value encountered in less\n",
      "  data = self.ncvar[:]\n",
      "C:\\Users\\iac6311\\AppData\\Local\\Continuum\\anaconda3\\envs\\saveur\\lib\\site-packages\\pyart\\io\\cfradial.py:384: RuntimeWarning: invalid value encountered in greater\n",
      "  data = self.ncvar[:]\n",
      "C:\\Users\\iac6311\\AppData\\Local\\Continuum\\anaconda3\\envs\\saveur\\lib\\site-packages\\pyart\\map\\gates_to_grid.py:177: DeprecationWarning: Barnes weighting function is deprecated. Please use Barnes 2 to be consistent with Pauley and Wu 1990.\n",
      "  \" Pauley and Wu 1990.\", DeprecationWarning)\n"
     ]
    },
    {
     "name": "stdout",
     "output_type": "stream",
     "text": [
      "\n",
      "14\n",
      "."
     ]
    },
    {
     "name": "stderr",
     "output_type": "stream",
     "text": [
      "C:\\Users\\iac6311\\AppData\\Local\\Continuum\\anaconda3\\envs\\saveur\\lib\\site-packages\\pyart\\io\\cfradial.py:384: RuntimeWarning: invalid value encountered in less\n",
      "  data = self.ncvar[:]\n",
      "C:\\Users\\iac6311\\AppData\\Local\\Continuum\\anaconda3\\envs\\saveur\\lib\\site-packages\\pyart\\io\\cfradial.py:384: RuntimeWarning: invalid value encountered in greater\n",
      "  data = self.ncvar[:]\n",
      "C:\\Users\\iac6311\\AppData\\Local\\Continuum\\anaconda3\\envs\\saveur\\lib\\site-packages\\pyart\\map\\gates_to_grid.py:177: DeprecationWarning: Barnes weighting function is deprecated. Please use Barnes 2 to be consistent with Pauley and Wu 1990.\n",
      "  \" Pauley and Wu 1990.\", DeprecationWarning)\n"
     ]
    },
    {
     "name": "stdout",
     "output_type": "stream",
     "text": [
      "."
     ]
    },
    {
     "name": "stderr",
     "output_type": "stream",
     "text": [
      "C:\\Users\\iac6311\\AppData\\Local\\Continuum\\anaconda3\\envs\\saveur\\lib\\site-packages\\pyart\\io\\cfradial.py:384: RuntimeWarning: invalid value encountered in less\n",
      "  data = self.ncvar[:]\n",
      "C:\\Users\\iac6311\\AppData\\Local\\Continuum\\anaconda3\\envs\\saveur\\lib\\site-packages\\pyart\\io\\cfradial.py:384: RuntimeWarning: invalid value encountered in greater\n",
      "  data = self.ncvar[:]\n",
      "C:\\Users\\iac6311\\AppData\\Local\\Continuum\\anaconda3\\envs\\saveur\\lib\\site-packages\\pyart\\map\\gates_to_grid.py:177: DeprecationWarning: Barnes weighting function is deprecated. Please use Barnes 2 to be consistent with Pauley and Wu 1990.\n",
      "  \" Pauley and Wu 1990.\", DeprecationWarning)\n"
     ]
    },
    {
     "name": "stdout",
     "output_type": "stream",
     "text": [
      "."
     ]
    },
    {
     "name": "stderr",
     "output_type": "stream",
     "text": [
      "C:\\Users\\iac6311\\AppData\\Local\\Continuum\\anaconda3\\envs\\saveur\\lib\\site-packages\\pyart\\io\\cfradial.py:384: RuntimeWarning: invalid value encountered in less\n",
      "  data = self.ncvar[:]\n",
      "C:\\Users\\iac6311\\AppData\\Local\\Continuum\\anaconda3\\envs\\saveur\\lib\\site-packages\\pyart\\io\\cfradial.py:384: RuntimeWarning: invalid value encountered in greater\n",
      "  data = self.ncvar[:]\n",
      "C:\\Users\\iac6311\\AppData\\Local\\Continuum\\anaconda3\\envs\\saveur\\lib\\site-packages\\pyart\\map\\gates_to_grid.py:177: DeprecationWarning: Barnes weighting function is deprecated. Please use Barnes 2 to be consistent with Pauley and Wu 1990.\n",
      "  \" Pauley and Wu 1990.\", DeprecationWarning)\n"
     ]
    },
    {
     "name": "stdout",
     "output_type": "stream",
     "text": [
      "."
     ]
    },
    {
     "name": "stderr",
     "output_type": "stream",
     "text": [
      "C:\\Users\\iac6311\\AppData\\Local\\Continuum\\anaconda3\\envs\\saveur\\lib\\site-packages\\pyart\\io\\cfradial.py:384: RuntimeWarning: invalid value encountered in less\n",
      "  data = self.ncvar[:]\n",
      "C:\\Users\\iac6311\\AppData\\Local\\Continuum\\anaconda3\\envs\\saveur\\lib\\site-packages\\pyart\\io\\cfradial.py:384: RuntimeWarning: invalid value encountered in greater\n",
      "  data = self.ncvar[:]\n",
      "C:\\Users\\iac6311\\AppData\\Local\\Continuum\\anaconda3\\envs\\saveur\\lib\\site-packages\\pyart\\map\\gates_to_grid.py:177: DeprecationWarning: Barnes weighting function is deprecated. Please use Barnes 2 to be consistent with Pauley and Wu 1990.\n",
      "  \" Pauley and Wu 1990.\", DeprecationWarning)\n"
     ]
    },
    {
     "name": "stdout",
     "output_type": "stream",
     "text": [
      "."
     ]
    },
    {
     "name": "stderr",
     "output_type": "stream",
     "text": [
      "C:\\Users\\iac6311\\AppData\\Local\\Continuum\\anaconda3\\envs\\saveur\\lib\\site-packages\\pyart\\io\\cfradial.py:384: RuntimeWarning: invalid value encountered in less\n",
      "  data = self.ncvar[:]\n",
      "C:\\Users\\iac6311\\AppData\\Local\\Continuum\\anaconda3\\envs\\saveur\\lib\\site-packages\\pyart\\io\\cfradial.py:384: RuntimeWarning: invalid value encountered in greater\n",
      "  data = self.ncvar[:]\n",
      "C:\\Users\\iac6311\\AppData\\Local\\Continuum\\anaconda3\\envs\\saveur\\lib\\site-packages\\pyart\\map\\gates_to_grid.py:177: DeprecationWarning: Barnes weighting function is deprecated. Please use Barnes 2 to be consistent with Pauley and Wu 1990.\n",
      "  \" Pauley and Wu 1990.\", DeprecationWarning)\n"
     ]
    },
    {
     "name": "stdout",
     "output_type": "stream",
     "text": [
      "."
     ]
    },
    {
     "name": "stderr",
     "output_type": "stream",
     "text": [
      "C:\\Users\\iac6311\\AppData\\Local\\Continuum\\anaconda3\\envs\\saveur\\lib\\site-packages\\pyart\\io\\cfradial.py:384: RuntimeWarning: invalid value encountered in less\n",
      "  data = self.ncvar[:]\n",
      "C:\\Users\\iac6311\\AppData\\Local\\Continuum\\anaconda3\\envs\\saveur\\lib\\site-packages\\pyart\\io\\cfradial.py:384: RuntimeWarning: invalid value encountered in greater\n",
      "  data = self.ncvar[:]\n",
      "C:\\Users\\iac6311\\AppData\\Local\\Continuum\\anaconda3\\envs\\saveur\\lib\\site-packages\\pyart\\map\\gates_to_grid.py:177: DeprecationWarning: Barnes weighting function is deprecated. Please use Barnes 2 to be consistent with Pauley and Wu 1990.\n",
      "  \" Pauley and Wu 1990.\", DeprecationWarning)\n"
     ]
    },
    {
     "name": "stdout",
     "output_type": "stream",
     "text": [
      "."
     ]
    },
    {
     "name": "stderr",
     "output_type": "stream",
     "text": [
      "C:\\Users\\iac6311\\AppData\\Local\\Continuum\\anaconda3\\envs\\saveur\\lib\\site-packages\\pyart\\io\\cfradial.py:384: RuntimeWarning: invalid value encountered in less\n",
      "  data = self.ncvar[:]\n",
      "C:\\Users\\iac6311\\AppData\\Local\\Continuum\\anaconda3\\envs\\saveur\\lib\\site-packages\\pyart\\io\\cfradial.py:384: RuntimeWarning: invalid value encountered in greater\n",
      "  data = self.ncvar[:]\n",
      "C:\\Users\\iac6311\\AppData\\Local\\Continuum\\anaconda3\\envs\\saveur\\lib\\site-packages\\pyart\\map\\gates_to_grid.py:177: DeprecationWarning: Barnes weighting function is deprecated. Please use Barnes 2 to be consistent with Pauley and Wu 1990.\n",
      "  \" Pauley and Wu 1990.\", DeprecationWarning)\n"
     ]
    },
    {
     "name": "stdout",
     "output_type": "stream",
     "text": [
      "."
     ]
    },
    {
     "name": "stderr",
     "output_type": "stream",
     "text": [
      "C:\\Users\\iac6311\\AppData\\Local\\Continuum\\anaconda3\\envs\\saveur\\lib\\site-packages\\pyart\\io\\cfradial.py:384: RuntimeWarning: invalid value encountered in less\n",
      "  data = self.ncvar[:]\n",
      "C:\\Users\\iac6311\\AppData\\Local\\Continuum\\anaconda3\\envs\\saveur\\lib\\site-packages\\pyart\\io\\cfradial.py:384: RuntimeWarning: invalid value encountered in greater\n",
      "  data = self.ncvar[:]\n",
      "C:\\Users\\iac6311\\AppData\\Local\\Continuum\\anaconda3\\envs\\saveur\\lib\\site-packages\\pyart\\map\\gates_to_grid.py:177: DeprecationWarning: Barnes weighting function is deprecated. Please use Barnes 2 to be consistent with Pauley and Wu 1990.\n",
      "  \" Pauley and Wu 1990.\", DeprecationWarning)\n"
     ]
    },
    {
     "name": "stdout",
     "output_type": "stream",
     "text": [
      "."
     ]
    },
    {
     "name": "stderr",
     "output_type": "stream",
     "text": [
      "C:\\Users\\iac6311\\AppData\\Local\\Continuum\\anaconda3\\envs\\saveur\\lib\\site-packages\\pyart\\io\\cfradial.py:384: RuntimeWarning: invalid value encountered in less\n",
      "  data = self.ncvar[:]\n",
      "C:\\Users\\iac6311\\AppData\\Local\\Continuum\\anaconda3\\envs\\saveur\\lib\\site-packages\\pyart\\io\\cfradial.py:384: RuntimeWarning: invalid value encountered in greater\n",
      "  data = self.ncvar[:]\n",
      "C:\\Users\\iac6311\\AppData\\Local\\Continuum\\anaconda3\\envs\\saveur\\lib\\site-packages\\pyart\\map\\gates_to_grid.py:177: DeprecationWarning: Barnes weighting function is deprecated. Please use Barnes 2 to be consistent with Pauley and Wu 1990.\n",
      "  \" Pauley and Wu 1990.\", DeprecationWarning)\n"
     ]
    },
    {
     "name": "stdout",
     "output_type": "stream",
     "text": [
      "."
     ]
    },
    {
     "name": "stderr",
     "output_type": "stream",
     "text": [
      "C:\\Users\\iac6311\\AppData\\Local\\Continuum\\anaconda3\\envs\\saveur\\lib\\site-packages\\pyart\\io\\cfradial.py:384: RuntimeWarning: invalid value encountered in less\n",
      "  data = self.ncvar[:]\n",
      "C:\\Users\\iac6311\\AppData\\Local\\Continuum\\anaconda3\\envs\\saveur\\lib\\site-packages\\pyart\\io\\cfradial.py:384: RuntimeWarning: invalid value encountered in greater\n",
      "  data = self.ncvar[:]\n",
      "C:\\Users\\iac6311\\AppData\\Local\\Continuum\\anaconda3\\envs\\saveur\\lib\\site-packages\\pyart\\map\\gates_to_grid.py:177: DeprecationWarning: Barnes weighting function is deprecated. Please use Barnes 2 to be consistent with Pauley and Wu 1990.\n",
      "  \" Pauley and Wu 1990.\", DeprecationWarning)\n"
     ]
    },
    {
     "name": "stdout",
     "output_type": "stream",
     "text": [
      "."
     ]
    },
    {
     "name": "stderr",
     "output_type": "stream",
     "text": [
      "C:\\Users\\iac6311\\AppData\\Local\\Continuum\\anaconda3\\envs\\saveur\\lib\\site-packages\\pyart\\io\\cfradial.py:384: RuntimeWarning: invalid value encountered in less\n",
      "  data = self.ncvar[:]\n",
      "C:\\Users\\iac6311\\AppData\\Local\\Continuum\\anaconda3\\envs\\saveur\\lib\\site-packages\\pyart\\io\\cfradial.py:384: RuntimeWarning: invalid value encountered in greater\n",
      "  data = self.ncvar[:]\n",
      "C:\\Users\\iac6311\\AppData\\Local\\Continuum\\anaconda3\\envs\\saveur\\lib\\site-packages\\pyart\\map\\gates_to_grid.py:177: DeprecationWarning: Barnes weighting function is deprecated. Please use Barnes 2 to be consistent with Pauley and Wu 1990.\n",
      "  \" Pauley and Wu 1990.\", DeprecationWarning)\n"
     ]
    },
    {
     "name": "stdout",
     "output_type": "stream",
     "text": [
      "."
     ]
    },
    {
     "name": "stderr",
     "output_type": "stream",
     "text": [
      "C:\\Users\\iac6311\\AppData\\Local\\Continuum\\anaconda3\\envs\\saveur\\lib\\site-packages\\pyart\\io\\cfradial.py:384: RuntimeWarning: invalid value encountered in less\n",
      "  data = self.ncvar[:]\n",
      "C:\\Users\\iac6311\\AppData\\Local\\Continuum\\anaconda3\\envs\\saveur\\lib\\site-packages\\pyart\\io\\cfradial.py:384: RuntimeWarning: invalid value encountered in greater\n",
      "  data = self.ncvar[:]\n",
      "C:\\Users\\iac6311\\AppData\\Local\\Continuum\\anaconda3\\envs\\saveur\\lib\\site-packages\\pyart\\map\\gates_to_grid.py:177: DeprecationWarning: Barnes weighting function is deprecated. Please use Barnes 2 to be consistent with Pauley and Wu 1990.\n",
      "  \" Pauley and Wu 1990.\", DeprecationWarning)\n"
     ]
    },
    {
     "name": "stdout",
     "output_type": "stream",
     "text": [
      "."
     ]
    },
    {
     "name": "stderr",
     "output_type": "stream",
     "text": [
      "C:\\Users\\iac6311\\AppData\\Local\\Continuum\\anaconda3\\envs\\saveur\\lib\\site-packages\\pyart\\io\\cfradial.py:384: RuntimeWarning: invalid value encountered in less\n",
      "  data = self.ncvar[:]\n",
      "C:\\Users\\iac6311\\AppData\\Local\\Continuum\\anaconda3\\envs\\saveur\\lib\\site-packages\\pyart\\io\\cfradial.py:384: RuntimeWarning: invalid value encountered in greater\n",
      "  data = self.ncvar[:]\n",
      "C:\\Users\\iac6311\\AppData\\Local\\Continuum\\anaconda3\\envs\\saveur\\lib\\site-packages\\pyart\\map\\gates_to_grid.py:177: DeprecationWarning: Barnes weighting function is deprecated. Please use Barnes 2 to be consistent with Pauley and Wu 1990.\n",
      "  \" Pauley and Wu 1990.\", DeprecationWarning)\n"
     ]
    },
    {
     "name": "stdout",
     "output_type": "stream",
     "text": [
      "."
     ]
    },
    {
     "name": "stderr",
     "output_type": "stream",
     "text": [
      "C:\\Users\\iac6311\\AppData\\Local\\Continuum\\anaconda3\\envs\\saveur\\lib\\site-packages\\pyart\\io\\cfradial.py:384: RuntimeWarning: invalid value encountered in less\n",
      "  data = self.ncvar[:]\n",
      "C:\\Users\\iac6311\\AppData\\Local\\Continuum\\anaconda3\\envs\\saveur\\lib\\site-packages\\pyart\\io\\cfradial.py:384: RuntimeWarning: invalid value encountered in greater\n",
      "  data = self.ncvar[:]\n",
      "C:\\Users\\iac6311\\AppData\\Local\\Continuum\\anaconda3\\envs\\saveur\\lib\\site-packages\\pyart\\map\\gates_to_grid.py:177: DeprecationWarning: Barnes weighting function is deprecated. Please use Barnes 2 to be consistent with Pauley and Wu 1990.\n",
      "  \" Pauley and Wu 1990.\", DeprecationWarning)\n"
     ]
    },
    {
     "name": "stdout",
     "output_type": "stream",
     "text": [
      "\n",
      "15\n",
      "."
     ]
    },
    {
     "name": "stderr",
     "output_type": "stream",
     "text": [
      "C:\\Users\\iac6311\\AppData\\Local\\Continuum\\anaconda3\\envs\\saveur\\lib\\site-packages\\pyart\\io\\cfradial.py:384: RuntimeWarning: invalid value encountered in less\n",
      "  data = self.ncvar[:]\n",
      "C:\\Users\\iac6311\\AppData\\Local\\Continuum\\anaconda3\\envs\\saveur\\lib\\site-packages\\pyart\\io\\cfradial.py:384: RuntimeWarning: invalid value encountered in greater\n",
      "  data = self.ncvar[:]\n",
      "C:\\Users\\iac6311\\AppData\\Local\\Continuum\\anaconda3\\envs\\saveur\\lib\\site-packages\\pyart\\map\\gates_to_grid.py:177: DeprecationWarning: Barnes weighting function is deprecated. Please use Barnes 2 to be consistent with Pauley and Wu 1990.\n",
      "  \" Pauley and Wu 1990.\", DeprecationWarning)\n"
     ]
    },
    {
     "name": "stdout",
     "output_type": "stream",
     "text": [
      "."
     ]
    },
    {
     "name": "stderr",
     "output_type": "stream",
     "text": [
      "C:\\Users\\iac6311\\AppData\\Local\\Continuum\\anaconda3\\envs\\saveur\\lib\\site-packages\\pyart\\io\\cfradial.py:384: RuntimeWarning: invalid value encountered in less\n",
      "  data = self.ncvar[:]\n",
      "C:\\Users\\iac6311\\AppData\\Local\\Continuum\\anaconda3\\envs\\saveur\\lib\\site-packages\\pyart\\io\\cfradial.py:384: RuntimeWarning: invalid value encountered in greater\n",
      "  data = self.ncvar[:]\n",
      "C:\\Users\\iac6311\\AppData\\Local\\Continuum\\anaconda3\\envs\\saveur\\lib\\site-packages\\pyart\\map\\gates_to_grid.py:177: DeprecationWarning: Barnes weighting function is deprecated. Please use Barnes 2 to be consistent with Pauley and Wu 1990.\n",
      "  \" Pauley and Wu 1990.\", DeprecationWarning)\n"
     ]
    },
    {
     "name": "stdout",
     "output_type": "stream",
     "text": [
      "."
     ]
    },
    {
     "name": "stderr",
     "output_type": "stream",
     "text": [
      "C:\\Users\\iac6311\\AppData\\Local\\Continuum\\anaconda3\\envs\\saveur\\lib\\site-packages\\pyart\\io\\cfradial.py:384: RuntimeWarning: invalid value encountered in less\n",
      "  data = self.ncvar[:]\n",
      "C:\\Users\\iac6311\\AppData\\Local\\Continuum\\anaconda3\\envs\\saveur\\lib\\site-packages\\pyart\\io\\cfradial.py:384: RuntimeWarning: invalid value encountered in greater\n",
      "  data = self.ncvar[:]\n",
      "C:\\Users\\iac6311\\AppData\\Local\\Continuum\\anaconda3\\envs\\saveur\\lib\\site-packages\\pyart\\map\\gates_to_grid.py:177: DeprecationWarning: Barnes weighting function is deprecated. Please use Barnes 2 to be consistent with Pauley and Wu 1990.\n",
      "  \" Pauley and Wu 1990.\", DeprecationWarning)\n"
     ]
    },
    {
     "name": "stdout",
     "output_type": "stream",
     "text": [
      "."
     ]
    },
    {
     "name": "stderr",
     "output_type": "stream",
     "text": [
      "C:\\Users\\iac6311\\AppData\\Local\\Continuum\\anaconda3\\envs\\saveur\\lib\\site-packages\\pyart\\io\\cfradial.py:384: RuntimeWarning: invalid value encountered in less\n",
      "  data = self.ncvar[:]\n",
      "C:\\Users\\iac6311\\AppData\\Local\\Continuum\\anaconda3\\envs\\saveur\\lib\\site-packages\\pyart\\io\\cfradial.py:384: RuntimeWarning: invalid value encountered in greater\n",
      "  data = self.ncvar[:]\n",
      "C:\\Users\\iac6311\\AppData\\Local\\Continuum\\anaconda3\\envs\\saveur\\lib\\site-packages\\pyart\\map\\gates_to_grid.py:177: DeprecationWarning: Barnes weighting function is deprecated. Please use Barnes 2 to be consistent with Pauley and Wu 1990.\n",
      "  \" Pauley and Wu 1990.\", DeprecationWarning)\n"
     ]
    },
    {
     "name": "stdout",
     "output_type": "stream",
     "text": [
      "."
     ]
    },
    {
     "name": "stderr",
     "output_type": "stream",
     "text": [
      "C:\\Users\\iac6311\\AppData\\Local\\Continuum\\anaconda3\\envs\\saveur\\lib\\site-packages\\pyart\\io\\cfradial.py:384: RuntimeWarning: invalid value encountered in less\n",
      "  data = self.ncvar[:]\n",
      "C:\\Users\\iac6311\\AppData\\Local\\Continuum\\anaconda3\\envs\\saveur\\lib\\site-packages\\pyart\\io\\cfradial.py:384: RuntimeWarning: invalid value encountered in greater\n",
      "  data = self.ncvar[:]\n",
      "C:\\Users\\iac6311\\AppData\\Local\\Continuum\\anaconda3\\envs\\saveur\\lib\\site-packages\\pyart\\map\\gates_to_grid.py:177: DeprecationWarning: Barnes weighting function is deprecated. Please use Barnes 2 to be consistent with Pauley and Wu 1990.\n",
      "  \" Pauley and Wu 1990.\", DeprecationWarning)\n"
     ]
    },
    {
     "name": "stdout",
     "output_type": "stream",
     "text": [
      "."
     ]
    },
    {
     "name": "stderr",
     "output_type": "stream",
     "text": [
      "C:\\Users\\iac6311\\AppData\\Local\\Continuum\\anaconda3\\envs\\saveur\\lib\\site-packages\\pyart\\io\\cfradial.py:384: RuntimeWarning: invalid value encountered in less\n",
      "  data = self.ncvar[:]\n",
      "C:\\Users\\iac6311\\AppData\\Local\\Continuum\\anaconda3\\envs\\saveur\\lib\\site-packages\\pyart\\io\\cfradial.py:384: RuntimeWarning: invalid value encountered in greater\n",
      "  data = self.ncvar[:]\n",
      "C:\\Users\\iac6311\\AppData\\Local\\Continuum\\anaconda3\\envs\\saveur\\lib\\site-packages\\pyart\\map\\gates_to_grid.py:177: DeprecationWarning: Barnes weighting function is deprecated. Please use Barnes 2 to be consistent with Pauley and Wu 1990.\n",
      "  \" Pauley and Wu 1990.\", DeprecationWarning)\n"
     ]
    },
    {
     "name": "stdout",
     "output_type": "stream",
     "text": [
      "."
     ]
    },
    {
     "name": "stderr",
     "output_type": "stream",
     "text": [
      "C:\\Users\\iac6311\\AppData\\Local\\Continuum\\anaconda3\\envs\\saveur\\lib\\site-packages\\pyart\\io\\cfradial.py:384: RuntimeWarning: invalid value encountered in less\n",
      "  data = self.ncvar[:]\n",
      "C:\\Users\\iac6311\\AppData\\Local\\Continuum\\anaconda3\\envs\\saveur\\lib\\site-packages\\pyart\\io\\cfradial.py:384: RuntimeWarning: invalid value encountered in greater\n",
      "  data = self.ncvar[:]\n",
      "C:\\Users\\iac6311\\AppData\\Local\\Continuum\\anaconda3\\envs\\saveur\\lib\\site-packages\\pyart\\map\\gates_to_grid.py:177: DeprecationWarning: Barnes weighting function is deprecated. Please use Barnes 2 to be consistent with Pauley and Wu 1990.\n",
      "  \" Pauley and Wu 1990.\", DeprecationWarning)\n"
     ]
    },
    {
     "name": "stdout",
     "output_type": "stream",
     "text": [
      "."
     ]
    },
    {
     "name": "stderr",
     "output_type": "stream",
     "text": [
      "C:\\Users\\iac6311\\AppData\\Local\\Continuum\\anaconda3\\envs\\saveur\\lib\\site-packages\\pyart\\io\\cfradial.py:384: RuntimeWarning: invalid value encountered in less\n",
      "  data = self.ncvar[:]\n",
      "C:\\Users\\iac6311\\AppData\\Local\\Continuum\\anaconda3\\envs\\saveur\\lib\\site-packages\\pyart\\io\\cfradial.py:384: RuntimeWarning: invalid value encountered in greater\n",
      "  data = self.ncvar[:]\n",
      "C:\\Users\\iac6311\\AppData\\Local\\Continuum\\anaconda3\\envs\\saveur\\lib\\site-packages\\pyart\\map\\gates_to_grid.py:177: DeprecationWarning: Barnes weighting function is deprecated. Please use Barnes 2 to be consistent with Pauley and Wu 1990.\n",
      "  \" Pauley and Wu 1990.\", DeprecationWarning)\n"
     ]
    },
    {
     "name": "stdout",
     "output_type": "stream",
     "text": [
      "."
     ]
    },
    {
     "name": "stderr",
     "output_type": "stream",
     "text": [
      "C:\\Users\\iac6311\\AppData\\Local\\Continuum\\anaconda3\\envs\\saveur\\lib\\site-packages\\pyart\\io\\cfradial.py:384: RuntimeWarning: invalid value encountered in less\n",
      "  data = self.ncvar[:]\n",
      "C:\\Users\\iac6311\\AppData\\Local\\Continuum\\anaconda3\\envs\\saveur\\lib\\site-packages\\pyart\\io\\cfradial.py:384: RuntimeWarning: invalid value encountered in greater\n",
      "  data = self.ncvar[:]\n",
      "C:\\Users\\iac6311\\AppData\\Local\\Continuum\\anaconda3\\envs\\saveur\\lib\\site-packages\\pyart\\map\\gates_to_grid.py:177: DeprecationWarning: Barnes weighting function is deprecated. Please use Barnes 2 to be consistent with Pauley and Wu 1990.\n",
      "  \" Pauley and Wu 1990.\", DeprecationWarning)\n"
     ]
    },
    {
     "name": "stdout",
     "output_type": "stream",
     "text": [
      "."
     ]
    },
    {
     "name": "stderr",
     "output_type": "stream",
     "text": [
      "C:\\Users\\iac6311\\AppData\\Local\\Continuum\\anaconda3\\envs\\saveur\\lib\\site-packages\\pyart\\io\\cfradial.py:384: RuntimeWarning: invalid value encountered in less\n",
      "  data = self.ncvar[:]\n",
      "C:\\Users\\iac6311\\AppData\\Local\\Continuum\\anaconda3\\envs\\saveur\\lib\\site-packages\\pyart\\io\\cfradial.py:384: RuntimeWarning: invalid value encountered in greater\n",
      "  data = self.ncvar[:]\n",
      "C:\\Users\\iac6311\\AppData\\Local\\Continuum\\anaconda3\\envs\\saveur\\lib\\site-packages\\pyart\\map\\gates_to_grid.py:177: DeprecationWarning: Barnes weighting function is deprecated. Please use Barnes 2 to be consistent with Pauley and Wu 1990.\n",
      "  \" Pauley and Wu 1990.\", DeprecationWarning)\n"
     ]
    },
    {
     "name": "stdout",
     "output_type": "stream",
     "text": [
      "."
     ]
    },
    {
     "name": "stderr",
     "output_type": "stream",
     "text": [
      "C:\\Users\\iac6311\\AppData\\Local\\Continuum\\anaconda3\\envs\\saveur\\lib\\site-packages\\pyart\\io\\cfradial.py:384: RuntimeWarning: invalid value encountered in less\n",
      "  data = self.ncvar[:]\n",
      "C:\\Users\\iac6311\\AppData\\Local\\Continuum\\anaconda3\\envs\\saveur\\lib\\site-packages\\pyart\\io\\cfradial.py:384: RuntimeWarning: invalid value encountered in greater\n",
      "  data = self.ncvar[:]\n",
      "C:\\Users\\iac6311\\AppData\\Local\\Continuum\\anaconda3\\envs\\saveur\\lib\\site-packages\\pyart\\map\\gates_to_grid.py:177: DeprecationWarning: Barnes weighting function is deprecated. Please use Barnes 2 to be consistent with Pauley and Wu 1990.\n",
      "  \" Pauley and Wu 1990.\", DeprecationWarning)\n"
     ]
    },
    {
     "name": "stdout",
     "output_type": "stream",
     "text": [
      "."
     ]
    },
    {
     "name": "stderr",
     "output_type": "stream",
     "text": [
      "C:\\Users\\iac6311\\AppData\\Local\\Continuum\\anaconda3\\envs\\saveur\\lib\\site-packages\\pyart\\io\\cfradial.py:384: RuntimeWarning: invalid value encountered in less\n",
      "  data = self.ncvar[:]\n",
      "C:\\Users\\iac6311\\AppData\\Local\\Continuum\\anaconda3\\envs\\saveur\\lib\\site-packages\\pyart\\io\\cfradial.py:384: RuntimeWarning: invalid value encountered in greater\n",
      "  data = self.ncvar[:]\n",
      "C:\\Users\\iac6311\\AppData\\Local\\Continuum\\anaconda3\\envs\\saveur\\lib\\site-packages\\pyart\\map\\gates_to_grid.py:177: DeprecationWarning: Barnes weighting function is deprecated. Please use Barnes 2 to be consistent with Pauley and Wu 1990.\n",
      "  \" Pauley and Wu 1990.\", DeprecationWarning)\n"
     ]
    },
    {
     "name": "stdout",
     "output_type": "stream",
     "text": [
      "."
     ]
    },
    {
     "name": "stderr",
     "output_type": "stream",
     "text": [
      "C:\\Users\\iac6311\\AppData\\Local\\Continuum\\anaconda3\\envs\\saveur\\lib\\site-packages\\pyart\\io\\cfradial.py:384: RuntimeWarning: invalid value encountered in less\n",
      "  data = self.ncvar[:]\n",
      "C:\\Users\\iac6311\\AppData\\Local\\Continuum\\anaconda3\\envs\\saveur\\lib\\site-packages\\pyart\\io\\cfradial.py:384: RuntimeWarning: invalid value encountered in greater\n",
      "  data = self.ncvar[:]\n",
      "C:\\Users\\iac6311\\AppData\\Local\\Continuum\\anaconda3\\envs\\saveur\\lib\\site-packages\\pyart\\map\\gates_to_grid.py:177: DeprecationWarning: Barnes weighting function is deprecated. Please use Barnes 2 to be consistent with Pauley and Wu 1990.\n",
      "  \" Pauley and Wu 1990.\", DeprecationWarning)\n"
     ]
    },
    {
     "name": "stdout",
     "output_type": "stream",
     "text": [
      "."
     ]
    },
    {
     "name": "stderr",
     "output_type": "stream",
     "text": [
      "C:\\Users\\iac6311\\AppData\\Local\\Continuum\\anaconda3\\envs\\saveur\\lib\\site-packages\\pyart\\io\\cfradial.py:384: RuntimeWarning: invalid value encountered in less\n",
      "  data = self.ncvar[:]\n",
      "C:\\Users\\iac6311\\AppData\\Local\\Continuum\\anaconda3\\envs\\saveur\\lib\\site-packages\\pyart\\io\\cfradial.py:384: RuntimeWarning: invalid value encountered in greater\n",
      "  data = self.ncvar[:]\n",
      "C:\\Users\\iac6311\\AppData\\Local\\Continuum\\anaconda3\\envs\\saveur\\lib\\site-packages\\pyart\\map\\gates_to_grid.py:177: DeprecationWarning: Barnes weighting function is deprecated. Please use Barnes 2 to be consistent with Pauley and Wu 1990.\n",
      "  \" Pauley and Wu 1990.\", DeprecationWarning)\n"
     ]
    },
    {
     "name": "stdout",
     "output_type": "stream",
     "text": [
      "\n",
      "16\n",
      "."
     ]
    },
    {
     "name": "stderr",
     "output_type": "stream",
     "text": [
      "C:\\Users\\iac6311\\AppData\\Local\\Continuum\\anaconda3\\envs\\saveur\\lib\\site-packages\\pyart\\io\\cfradial.py:384: RuntimeWarning: invalid value encountered in less\n",
      "  data = self.ncvar[:]\n",
      "C:\\Users\\iac6311\\AppData\\Local\\Continuum\\anaconda3\\envs\\saveur\\lib\\site-packages\\pyart\\io\\cfradial.py:384: RuntimeWarning: invalid value encountered in greater\n",
      "  data = self.ncvar[:]\n",
      "C:\\Users\\iac6311\\AppData\\Local\\Continuum\\anaconda3\\envs\\saveur\\lib\\site-packages\\pyart\\map\\gates_to_grid.py:177: DeprecationWarning: Barnes weighting function is deprecated. Please use Barnes 2 to be consistent with Pauley and Wu 1990.\n",
      "  \" Pauley and Wu 1990.\", DeprecationWarning)\n"
     ]
    },
    {
     "name": "stdout",
     "output_type": "stream",
     "text": [
      "."
     ]
    },
    {
     "name": "stderr",
     "output_type": "stream",
     "text": [
      "C:\\Users\\iac6311\\AppData\\Local\\Continuum\\anaconda3\\envs\\saveur\\lib\\site-packages\\pyart\\io\\cfradial.py:384: RuntimeWarning: invalid value encountered in less\n",
      "  data = self.ncvar[:]\n",
      "C:\\Users\\iac6311\\AppData\\Local\\Continuum\\anaconda3\\envs\\saveur\\lib\\site-packages\\pyart\\io\\cfradial.py:384: RuntimeWarning: invalid value encountered in greater\n",
      "  data = self.ncvar[:]\n",
      "C:\\Users\\iac6311\\AppData\\Local\\Continuum\\anaconda3\\envs\\saveur\\lib\\site-packages\\pyart\\map\\gates_to_grid.py:177: DeprecationWarning: Barnes weighting function is deprecated. Please use Barnes 2 to be consistent with Pauley and Wu 1990.\n",
      "  \" Pauley and Wu 1990.\", DeprecationWarning)\n"
     ]
    },
    {
     "name": "stdout",
     "output_type": "stream",
     "text": [
      "."
     ]
    },
    {
     "name": "stderr",
     "output_type": "stream",
     "text": [
      "C:\\Users\\iac6311\\AppData\\Local\\Continuum\\anaconda3\\envs\\saveur\\lib\\site-packages\\pyart\\io\\cfradial.py:384: RuntimeWarning: invalid value encountered in less\n",
      "  data = self.ncvar[:]\n",
      "C:\\Users\\iac6311\\AppData\\Local\\Continuum\\anaconda3\\envs\\saveur\\lib\\site-packages\\pyart\\io\\cfradial.py:384: RuntimeWarning: invalid value encountered in greater\n",
      "  data = self.ncvar[:]\n",
      "C:\\Users\\iac6311\\AppData\\Local\\Continuum\\anaconda3\\envs\\saveur\\lib\\site-packages\\pyart\\map\\gates_to_grid.py:177: DeprecationWarning: Barnes weighting function is deprecated. Please use Barnes 2 to be consistent with Pauley and Wu 1990.\n",
      "  \" Pauley and Wu 1990.\", DeprecationWarning)\n"
     ]
    },
    {
     "name": "stdout",
     "output_type": "stream",
     "text": [
      "."
     ]
    },
    {
     "name": "stderr",
     "output_type": "stream",
     "text": [
      "C:\\Users\\iac6311\\AppData\\Local\\Continuum\\anaconda3\\envs\\saveur\\lib\\site-packages\\pyart\\io\\cfradial.py:384: RuntimeWarning: invalid value encountered in less\n",
      "  data = self.ncvar[:]\n",
      "C:\\Users\\iac6311\\AppData\\Local\\Continuum\\anaconda3\\envs\\saveur\\lib\\site-packages\\pyart\\io\\cfradial.py:384: RuntimeWarning: invalid value encountered in greater\n",
      "  data = self.ncvar[:]\n",
      "C:\\Users\\iac6311\\AppData\\Local\\Continuum\\anaconda3\\envs\\saveur\\lib\\site-packages\\pyart\\map\\gates_to_grid.py:177: DeprecationWarning: Barnes weighting function is deprecated. Please use Barnes 2 to be consistent with Pauley and Wu 1990.\n",
      "  \" Pauley and Wu 1990.\", DeprecationWarning)\n"
     ]
    },
    {
     "name": "stdout",
     "output_type": "stream",
     "text": [
      "."
     ]
    },
    {
     "name": "stderr",
     "output_type": "stream",
     "text": [
      "C:\\Users\\iac6311\\AppData\\Local\\Continuum\\anaconda3\\envs\\saveur\\lib\\site-packages\\pyart\\io\\cfradial.py:384: RuntimeWarning: invalid value encountered in less\n",
      "  data = self.ncvar[:]\n",
      "C:\\Users\\iac6311\\AppData\\Local\\Continuum\\anaconda3\\envs\\saveur\\lib\\site-packages\\pyart\\io\\cfradial.py:384: RuntimeWarning: invalid value encountered in greater\n",
      "  data = self.ncvar[:]\n",
      "C:\\Users\\iac6311\\AppData\\Local\\Continuum\\anaconda3\\envs\\saveur\\lib\\site-packages\\pyart\\map\\gates_to_grid.py:177: DeprecationWarning: Barnes weighting function is deprecated. Please use Barnes 2 to be consistent with Pauley and Wu 1990.\n",
      "  \" Pauley and Wu 1990.\", DeprecationWarning)\n"
     ]
    },
    {
     "name": "stdout",
     "output_type": "stream",
     "text": [
      "."
     ]
    },
    {
     "name": "stderr",
     "output_type": "stream",
     "text": [
      "C:\\Users\\iac6311\\AppData\\Local\\Continuum\\anaconda3\\envs\\saveur\\lib\\site-packages\\pyart\\io\\cfradial.py:384: RuntimeWarning: invalid value encountered in less\n",
      "  data = self.ncvar[:]\n",
      "C:\\Users\\iac6311\\AppData\\Local\\Continuum\\anaconda3\\envs\\saveur\\lib\\site-packages\\pyart\\io\\cfradial.py:384: RuntimeWarning: invalid value encountered in greater\n",
      "  data = self.ncvar[:]\n",
      "C:\\Users\\iac6311\\AppData\\Local\\Continuum\\anaconda3\\envs\\saveur\\lib\\site-packages\\pyart\\map\\gates_to_grid.py:177: DeprecationWarning: Barnes weighting function is deprecated. Please use Barnes 2 to be consistent with Pauley and Wu 1990.\n",
      "  \" Pauley and Wu 1990.\", DeprecationWarning)\n"
     ]
    },
    {
     "name": "stdout",
     "output_type": "stream",
     "text": [
      "."
     ]
    },
    {
     "name": "stderr",
     "output_type": "stream",
     "text": [
      "C:\\Users\\iac6311\\AppData\\Local\\Continuum\\anaconda3\\envs\\saveur\\lib\\site-packages\\pyart\\io\\cfradial.py:384: RuntimeWarning: invalid value encountered in less\n",
      "  data = self.ncvar[:]\n",
      "C:\\Users\\iac6311\\AppData\\Local\\Continuum\\anaconda3\\envs\\saveur\\lib\\site-packages\\pyart\\io\\cfradial.py:384: RuntimeWarning: invalid value encountered in greater\n",
      "  data = self.ncvar[:]\n",
      "C:\\Users\\iac6311\\AppData\\Local\\Continuum\\anaconda3\\envs\\saveur\\lib\\site-packages\\pyart\\map\\gates_to_grid.py:177: DeprecationWarning: Barnes weighting function is deprecated. Please use Barnes 2 to be consistent with Pauley and Wu 1990.\n",
      "  \" Pauley and Wu 1990.\", DeprecationWarning)\n"
     ]
    },
    {
     "name": "stdout",
     "output_type": "stream",
     "text": [
      "."
     ]
    },
    {
     "name": "stderr",
     "output_type": "stream",
     "text": [
      "C:\\Users\\iac6311\\AppData\\Local\\Continuum\\anaconda3\\envs\\saveur\\lib\\site-packages\\pyart\\io\\cfradial.py:384: RuntimeWarning: invalid value encountered in less\n",
      "  data = self.ncvar[:]\n",
      "C:\\Users\\iac6311\\AppData\\Local\\Continuum\\anaconda3\\envs\\saveur\\lib\\site-packages\\pyart\\io\\cfradial.py:384: RuntimeWarning: invalid value encountered in greater\n",
      "  data = self.ncvar[:]\n",
      "C:\\Users\\iac6311\\AppData\\Local\\Continuum\\anaconda3\\envs\\saveur\\lib\\site-packages\\pyart\\map\\gates_to_grid.py:177: DeprecationWarning: Barnes weighting function is deprecated. Please use Barnes 2 to be consistent with Pauley and Wu 1990.\n",
      "  \" Pauley and Wu 1990.\", DeprecationWarning)\n"
     ]
    },
    {
     "name": "stdout",
     "output_type": "stream",
     "text": [
      "."
     ]
    },
    {
     "name": "stderr",
     "output_type": "stream",
     "text": [
      "C:\\Users\\iac6311\\AppData\\Local\\Continuum\\anaconda3\\envs\\saveur\\lib\\site-packages\\pyart\\io\\cfradial.py:384: RuntimeWarning: invalid value encountered in less\n",
      "  data = self.ncvar[:]\n",
      "C:\\Users\\iac6311\\AppData\\Local\\Continuum\\anaconda3\\envs\\saveur\\lib\\site-packages\\pyart\\io\\cfradial.py:384: RuntimeWarning: invalid value encountered in greater\n",
      "  data = self.ncvar[:]\n",
      "C:\\Users\\iac6311\\AppData\\Local\\Continuum\\anaconda3\\envs\\saveur\\lib\\site-packages\\pyart\\map\\gates_to_grid.py:177: DeprecationWarning: Barnes weighting function is deprecated. Please use Barnes 2 to be consistent with Pauley and Wu 1990.\n",
      "  \" Pauley and Wu 1990.\", DeprecationWarning)\n"
     ]
    },
    {
     "name": "stdout",
     "output_type": "stream",
     "text": [
      "."
     ]
    },
    {
     "name": "stderr",
     "output_type": "stream",
     "text": [
      "C:\\Users\\iac6311\\AppData\\Local\\Continuum\\anaconda3\\envs\\saveur\\lib\\site-packages\\pyart\\io\\cfradial.py:384: RuntimeWarning: invalid value encountered in less\n",
      "  data = self.ncvar[:]\n",
      "C:\\Users\\iac6311\\AppData\\Local\\Continuum\\anaconda3\\envs\\saveur\\lib\\site-packages\\pyart\\io\\cfradial.py:384: RuntimeWarning: invalid value encountered in greater\n",
      "  data = self.ncvar[:]\n",
      "C:\\Users\\iac6311\\AppData\\Local\\Continuum\\anaconda3\\envs\\saveur\\lib\\site-packages\\pyart\\map\\gates_to_grid.py:177: DeprecationWarning: Barnes weighting function is deprecated. Please use Barnes 2 to be consistent with Pauley and Wu 1990.\n",
      "  \" Pauley and Wu 1990.\", DeprecationWarning)\n"
     ]
    },
    {
     "name": "stdout",
     "output_type": "stream",
     "text": [
      "."
     ]
    },
    {
     "name": "stderr",
     "output_type": "stream",
     "text": [
      "C:\\Users\\iac6311\\AppData\\Local\\Continuum\\anaconda3\\envs\\saveur\\lib\\site-packages\\pyart\\io\\cfradial.py:384: RuntimeWarning: invalid value encountered in less\n",
      "  data = self.ncvar[:]\n",
      "C:\\Users\\iac6311\\AppData\\Local\\Continuum\\anaconda3\\envs\\saveur\\lib\\site-packages\\pyart\\io\\cfradial.py:384: RuntimeWarning: invalid value encountered in greater\n",
      "  data = self.ncvar[:]\n",
      "C:\\Users\\iac6311\\AppData\\Local\\Continuum\\anaconda3\\envs\\saveur\\lib\\site-packages\\pyart\\map\\gates_to_grid.py:177: DeprecationWarning: Barnes weighting function is deprecated. Please use Barnes 2 to be consistent with Pauley and Wu 1990.\n",
      "  \" Pauley and Wu 1990.\", DeprecationWarning)\n"
     ]
    },
    {
     "name": "stdout",
     "output_type": "stream",
     "text": [
      "."
     ]
    },
    {
     "name": "stderr",
     "output_type": "stream",
     "text": [
      "C:\\Users\\iac6311\\AppData\\Local\\Continuum\\anaconda3\\envs\\saveur\\lib\\site-packages\\pyart\\io\\cfradial.py:384: RuntimeWarning: invalid value encountered in less\n",
      "  data = self.ncvar[:]\n",
      "C:\\Users\\iac6311\\AppData\\Local\\Continuum\\anaconda3\\envs\\saveur\\lib\\site-packages\\pyart\\io\\cfradial.py:384: RuntimeWarning: invalid value encountered in greater\n",
      "  data = self.ncvar[:]\n",
      "C:\\Users\\iac6311\\AppData\\Local\\Continuum\\anaconda3\\envs\\saveur\\lib\\site-packages\\pyart\\map\\gates_to_grid.py:177: DeprecationWarning: Barnes weighting function is deprecated. Please use Barnes 2 to be consistent with Pauley and Wu 1990.\n",
      "  \" Pauley and Wu 1990.\", DeprecationWarning)\n"
     ]
    },
    {
     "name": "stdout",
     "output_type": "stream",
     "text": [
      "."
     ]
    },
    {
     "name": "stderr",
     "output_type": "stream",
     "text": [
      "C:\\Users\\iac6311\\AppData\\Local\\Continuum\\anaconda3\\envs\\saveur\\lib\\site-packages\\pyart\\io\\cfradial.py:384: RuntimeWarning: invalid value encountered in less\n",
      "  data = self.ncvar[:]\n",
      "C:\\Users\\iac6311\\AppData\\Local\\Continuum\\anaconda3\\envs\\saveur\\lib\\site-packages\\pyart\\io\\cfradial.py:384: RuntimeWarning: invalid value encountered in greater\n",
      "  data = self.ncvar[:]\n",
      "C:\\Users\\iac6311\\AppData\\Local\\Continuum\\anaconda3\\envs\\saveur\\lib\\site-packages\\pyart\\map\\gates_to_grid.py:177: DeprecationWarning: Barnes weighting function is deprecated. Please use Barnes 2 to be consistent with Pauley and Wu 1990.\n",
      "  \" Pauley and Wu 1990.\", DeprecationWarning)\n"
     ]
    },
    {
     "name": "stdout",
     "output_type": "stream",
     "text": [
      "."
     ]
    },
    {
     "name": "stderr",
     "output_type": "stream",
     "text": [
      "C:\\Users\\iac6311\\AppData\\Local\\Continuum\\anaconda3\\envs\\saveur\\lib\\site-packages\\pyart\\io\\cfradial.py:384: RuntimeWarning: invalid value encountered in less\n",
      "  data = self.ncvar[:]\n",
      "C:\\Users\\iac6311\\AppData\\Local\\Continuum\\anaconda3\\envs\\saveur\\lib\\site-packages\\pyart\\io\\cfradial.py:384: RuntimeWarning: invalid value encountered in greater\n",
      "  data = self.ncvar[:]\n",
      "C:\\Users\\iac6311\\AppData\\Local\\Continuum\\anaconda3\\envs\\saveur\\lib\\site-packages\\pyart\\map\\gates_to_grid.py:177: DeprecationWarning: Barnes weighting function is deprecated. Please use Barnes 2 to be consistent with Pauley and Wu 1990.\n",
      "  \" Pauley and Wu 1990.\", DeprecationWarning)\n"
     ]
    },
    {
     "name": "stdout",
     "output_type": "stream",
     "text": [
      "\n",
      "17\n",
      "."
     ]
    },
    {
     "name": "stderr",
     "output_type": "stream",
     "text": [
      "C:\\Users\\iac6311\\AppData\\Local\\Continuum\\anaconda3\\envs\\saveur\\lib\\site-packages\\pyart\\io\\cfradial.py:384: RuntimeWarning: invalid value encountered in less\n",
      "  data = self.ncvar[:]\n",
      "C:\\Users\\iac6311\\AppData\\Local\\Continuum\\anaconda3\\envs\\saveur\\lib\\site-packages\\pyart\\io\\cfradial.py:384: RuntimeWarning: invalid value encountered in greater\n",
      "  data = self.ncvar[:]\n",
      "C:\\Users\\iac6311\\AppData\\Local\\Continuum\\anaconda3\\envs\\saveur\\lib\\site-packages\\pyart\\map\\gates_to_grid.py:177: DeprecationWarning: Barnes weighting function is deprecated. Please use Barnes 2 to be consistent with Pauley and Wu 1990.\n",
      "  \" Pauley and Wu 1990.\", DeprecationWarning)\n"
     ]
    },
    {
     "name": "stdout",
     "output_type": "stream",
     "text": [
      "."
     ]
    },
    {
     "name": "stderr",
     "output_type": "stream",
     "text": [
      "C:\\Users\\iac6311\\AppData\\Local\\Continuum\\anaconda3\\envs\\saveur\\lib\\site-packages\\pyart\\io\\cfradial.py:384: RuntimeWarning: invalid value encountered in less\n",
      "  data = self.ncvar[:]\n",
      "C:\\Users\\iac6311\\AppData\\Local\\Continuum\\anaconda3\\envs\\saveur\\lib\\site-packages\\pyart\\io\\cfradial.py:384: RuntimeWarning: invalid value encountered in greater\n",
      "  data = self.ncvar[:]\n",
      "C:\\Users\\iac6311\\AppData\\Local\\Continuum\\anaconda3\\envs\\saveur\\lib\\site-packages\\pyart\\map\\gates_to_grid.py:177: DeprecationWarning: Barnes weighting function is deprecated. Please use Barnes 2 to be consistent with Pauley and Wu 1990.\n",
      "  \" Pauley and Wu 1990.\", DeprecationWarning)\n"
     ]
    },
    {
     "name": "stdout",
     "output_type": "stream",
     "text": [
      "."
     ]
    },
    {
     "name": "stderr",
     "output_type": "stream",
     "text": [
      "C:\\Users\\iac6311\\AppData\\Local\\Continuum\\anaconda3\\envs\\saveur\\lib\\site-packages\\pyart\\io\\cfradial.py:384: RuntimeWarning: invalid value encountered in less\n",
      "  data = self.ncvar[:]\n",
      "C:\\Users\\iac6311\\AppData\\Local\\Continuum\\anaconda3\\envs\\saveur\\lib\\site-packages\\pyart\\io\\cfradial.py:384: RuntimeWarning: invalid value encountered in greater\n",
      "  data = self.ncvar[:]\n",
      "C:\\Users\\iac6311\\AppData\\Local\\Continuum\\anaconda3\\envs\\saveur\\lib\\site-packages\\pyart\\map\\gates_to_grid.py:177: DeprecationWarning: Barnes weighting function is deprecated. Please use Barnes 2 to be consistent with Pauley and Wu 1990.\n",
      "  \" Pauley and Wu 1990.\", DeprecationWarning)\n"
     ]
    },
    {
     "name": "stdout",
     "output_type": "stream",
     "text": [
      "."
     ]
    },
    {
     "name": "stderr",
     "output_type": "stream",
     "text": [
      "C:\\Users\\iac6311\\AppData\\Local\\Continuum\\anaconda3\\envs\\saveur\\lib\\site-packages\\pyart\\io\\cfradial.py:384: RuntimeWarning: invalid value encountered in less\n",
      "  data = self.ncvar[:]\n",
      "C:\\Users\\iac6311\\AppData\\Local\\Continuum\\anaconda3\\envs\\saveur\\lib\\site-packages\\pyart\\io\\cfradial.py:384: RuntimeWarning: invalid value encountered in greater\n",
      "  data = self.ncvar[:]\n",
      "C:\\Users\\iac6311\\AppData\\Local\\Continuum\\anaconda3\\envs\\saveur\\lib\\site-packages\\pyart\\map\\gates_to_grid.py:177: DeprecationWarning: Barnes weighting function is deprecated. Please use Barnes 2 to be consistent with Pauley and Wu 1990.\n",
      "  \" Pauley and Wu 1990.\", DeprecationWarning)\n"
     ]
    },
    {
     "name": "stdout",
     "output_type": "stream",
     "text": [
      "."
     ]
    },
    {
     "name": "stderr",
     "output_type": "stream",
     "text": [
      "C:\\Users\\iac6311\\AppData\\Local\\Continuum\\anaconda3\\envs\\saveur\\lib\\site-packages\\pyart\\io\\cfradial.py:384: RuntimeWarning: invalid value encountered in less\n",
      "  data = self.ncvar[:]\n",
      "C:\\Users\\iac6311\\AppData\\Local\\Continuum\\anaconda3\\envs\\saveur\\lib\\site-packages\\pyart\\io\\cfradial.py:384: RuntimeWarning: invalid value encountered in greater\n",
      "  data = self.ncvar[:]\n",
      "C:\\Users\\iac6311\\AppData\\Local\\Continuum\\anaconda3\\envs\\saveur\\lib\\site-packages\\pyart\\map\\gates_to_grid.py:177: DeprecationWarning: Barnes weighting function is deprecated. Please use Barnes 2 to be consistent with Pauley and Wu 1990.\n",
      "  \" Pauley and Wu 1990.\", DeprecationWarning)\n"
     ]
    },
    {
     "name": "stdout",
     "output_type": "stream",
     "text": [
      "."
     ]
    },
    {
     "name": "stderr",
     "output_type": "stream",
     "text": [
      "C:\\Users\\iac6311\\AppData\\Local\\Continuum\\anaconda3\\envs\\saveur\\lib\\site-packages\\pyart\\io\\cfradial.py:384: RuntimeWarning: invalid value encountered in less\n",
      "  data = self.ncvar[:]\n",
      "C:\\Users\\iac6311\\AppData\\Local\\Continuum\\anaconda3\\envs\\saveur\\lib\\site-packages\\pyart\\io\\cfradial.py:384: RuntimeWarning: invalid value encountered in greater\n",
      "  data = self.ncvar[:]\n",
      "C:\\Users\\iac6311\\AppData\\Local\\Continuum\\anaconda3\\envs\\saveur\\lib\\site-packages\\pyart\\map\\gates_to_grid.py:177: DeprecationWarning: Barnes weighting function is deprecated. Please use Barnes 2 to be consistent with Pauley and Wu 1990.\n",
      "  \" Pauley and Wu 1990.\", DeprecationWarning)\n"
     ]
    },
    {
     "name": "stdout",
     "output_type": "stream",
     "text": [
      "."
     ]
    },
    {
     "name": "stderr",
     "output_type": "stream",
     "text": [
      "C:\\Users\\iac6311\\AppData\\Local\\Continuum\\anaconda3\\envs\\saveur\\lib\\site-packages\\pyart\\io\\cfradial.py:384: RuntimeWarning: invalid value encountered in less\n",
      "  data = self.ncvar[:]\n",
      "C:\\Users\\iac6311\\AppData\\Local\\Continuum\\anaconda3\\envs\\saveur\\lib\\site-packages\\pyart\\io\\cfradial.py:384: RuntimeWarning: invalid value encountered in greater\n",
      "  data = self.ncvar[:]\n",
      "C:\\Users\\iac6311\\AppData\\Local\\Continuum\\anaconda3\\envs\\saveur\\lib\\site-packages\\pyart\\map\\gates_to_grid.py:177: DeprecationWarning: Barnes weighting function is deprecated. Please use Barnes 2 to be consistent with Pauley and Wu 1990.\n",
      "  \" Pauley and Wu 1990.\", DeprecationWarning)\n"
     ]
    },
    {
     "name": "stdout",
     "output_type": "stream",
     "text": [
      "."
     ]
    },
    {
     "name": "stderr",
     "output_type": "stream",
     "text": [
      "C:\\Users\\iac6311\\AppData\\Local\\Continuum\\anaconda3\\envs\\saveur\\lib\\site-packages\\pyart\\io\\cfradial.py:384: RuntimeWarning: invalid value encountered in less\n",
      "  data = self.ncvar[:]\n",
      "C:\\Users\\iac6311\\AppData\\Local\\Continuum\\anaconda3\\envs\\saveur\\lib\\site-packages\\pyart\\io\\cfradial.py:384: RuntimeWarning: invalid value encountered in greater\n",
      "  data = self.ncvar[:]\n",
      "C:\\Users\\iac6311\\AppData\\Local\\Continuum\\anaconda3\\envs\\saveur\\lib\\site-packages\\pyart\\map\\gates_to_grid.py:177: DeprecationWarning: Barnes weighting function is deprecated. Please use Barnes 2 to be consistent with Pauley and Wu 1990.\n",
      "  \" Pauley and Wu 1990.\", DeprecationWarning)\n"
     ]
    },
    {
     "name": "stdout",
     "output_type": "stream",
     "text": [
      "."
     ]
    },
    {
     "name": "stderr",
     "output_type": "stream",
     "text": [
      "C:\\Users\\iac6311\\AppData\\Local\\Continuum\\anaconda3\\envs\\saveur\\lib\\site-packages\\pyart\\io\\cfradial.py:384: RuntimeWarning: invalid value encountered in less\n",
      "  data = self.ncvar[:]\n",
      "C:\\Users\\iac6311\\AppData\\Local\\Continuum\\anaconda3\\envs\\saveur\\lib\\site-packages\\pyart\\io\\cfradial.py:384: RuntimeWarning: invalid value encountered in greater\n",
      "  data = self.ncvar[:]\n",
      "C:\\Users\\iac6311\\AppData\\Local\\Continuum\\anaconda3\\envs\\saveur\\lib\\site-packages\\pyart\\map\\gates_to_grid.py:177: DeprecationWarning: Barnes weighting function is deprecated. Please use Barnes 2 to be consistent with Pauley and Wu 1990.\n",
      "  \" Pauley and Wu 1990.\", DeprecationWarning)\n"
     ]
    },
    {
     "name": "stdout",
     "output_type": "stream",
     "text": [
      "."
     ]
    },
    {
     "name": "stderr",
     "output_type": "stream",
     "text": [
      "C:\\Users\\iac6311\\AppData\\Local\\Continuum\\anaconda3\\envs\\saveur\\lib\\site-packages\\pyart\\io\\cfradial.py:384: RuntimeWarning: invalid value encountered in less\n",
      "  data = self.ncvar[:]\n",
      "C:\\Users\\iac6311\\AppData\\Local\\Continuum\\anaconda3\\envs\\saveur\\lib\\site-packages\\pyart\\io\\cfradial.py:384: RuntimeWarning: invalid value encountered in greater\n",
      "  data = self.ncvar[:]\n",
      "C:\\Users\\iac6311\\AppData\\Local\\Continuum\\anaconda3\\envs\\saveur\\lib\\site-packages\\pyart\\map\\gates_to_grid.py:177: DeprecationWarning: Barnes weighting function is deprecated. Please use Barnes 2 to be consistent with Pauley and Wu 1990.\n",
      "  \" Pauley and Wu 1990.\", DeprecationWarning)\n"
     ]
    },
    {
     "name": "stdout",
     "output_type": "stream",
     "text": [
      "."
     ]
    },
    {
     "name": "stderr",
     "output_type": "stream",
     "text": [
      "C:\\Users\\iac6311\\AppData\\Local\\Continuum\\anaconda3\\envs\\saveur\\lib\\site-packages\\pyart\\io\\cfradial.py:384: RuntimeWarning: invalid value encountered in less\n",
      "  data = self.ncvar[:]\n",
      "C:\\Users\\iac6311\\AppData\\Local\\Continuum\\anaconda3\\envs\\saveur\\lib\\site-packages\\pyart\\io\\cfradial.py:384: RuntimeWarning: invalid value encountered in greater\n",
      "  data = self.ncvar[:]\n",
      "C:\\Users\\iac6311\\AppData\\Local\\Continuum\\anaconda3\\envs\\saveur\\lib\\site-packages\\pyart\\map\\gates_to_grid.py:177: DeprecationWarning: Barnes weighting function is deprecated. Please use Barnes 2 to be consistent with Pauley and Wu 1990.\n",
      "  \" Pauley and Wu 1990.\", DeprecationWarning)\n"
     ]
    },
    {
     "name": "stdout",
     "output_type": "stream",
     "text": [
      "."
     ]
    },
    {
     "name": "stderr",
     "output_type": "stream",
     "text": [
      "C:\\Users\\iac6311\\AppData\\Local\\Continuum\\anaconda3\\envs\\saveur\\lib\\site-packages\\pyart\\io\\cfradial.py:384: RuntimeWarning: invalid value encountered in less\n",
      "  data = self.ncvar[:]\n",
      "C:\\Users\\iac6311\\AppData\\Local\\Continuum\\anaconda3\\envs\\saveur\\lib\\site-packages\\pyart\\io\\cfradial.py:384: RuntimeWarning: invalid value encountered in greater\n",
      "  data = self.ncvar[:]\n",
      "C:\\Users\\iac6311\\AppData\\Local\\Continuum\\anaconda3\\envs\\saveur\\lib\\site-packages\\pyart\\map\\gates_to_grid.py:177: DeprecationWarning: Barnes weighting function is deprecated. Please use Barnes 2 to be consistent with Pauley and Wu 1990.\n",
      "  \" Pauley and Wu 1990.\", DeprecationWarning)\n"
     ]
    },
    {
     "name": "stdout",
     "output_type": "stream",
     "text": [
      "."
     ]
    },
    {
     "name": "stderr",
     "output_type": "stream",
     "text": [
      "C:\\Users\\iac6311\\AppData\\Local\\Continuum\\anaconda3\\envs\\saveur\\lib\\site-packages\\pyart\\io\\cfradial.py:384: RuntimeWarning: invalid value encountered in less\n",
      "  data = self.ncvar[:]\n",
      "C:\\Users\\iac6311\\AppData\\Local\\Continuum\\anaconda3\\envs\\saveur\\lib\\site-packages\\pyart\\io\\cfradial.py:384: RuntimeWarning: invalid value encountered in greater\n",
      "  data = self.ncvar[:]\n",
      "C:\\Users\\iac6311\\AppData\\Local\\Continuum\\anaconda3\\envs\\saveur\\lib\\site-packages\\pyart\\map\\gates_to_grid.py:177: DeprecationWarning: Barnes weighting function is deprecated. Please use Barnes 2 to be consistent with Pauley and Wu 1990.\n",
      "  \" Pauley and Wu 1990.\", DeprecationWarning)\n"
     ]
    },
    {
     "name": "stdout",
     "output_type": "stream",
     "text": [
      "."
     ]
    },
    {
     "name": "stderr",
     "output_type": "stream",
     "text": [
      "C:\\Users\\iac6311\\AppData\\Local\\Continuum\\anaconda3\\envs\\saveur\\lib\\site-packages\\pyart\\io\\cfradial.py:384: RuntimeWarning: invalid value encountered in less\n",
      "  data = self.ncvar[:]\n",
      "C:\\Users\\iac6311\\AppData\\Local\\Continuum\\anaconda3\\envs\\saveur\\lib\\site-packages\\pyart\\io\\cfradial.py:384: RuntimeWarning: invalid value encountered in greater\n",
      "  data = self.ncvar[:]\n",
      "C:\\Users\\iac6311\\AppData\\Local\\Continuum\\anaconda3\\envs\\saveur\\lib\\site-packages\\pyart\\map\\gates_to_grid.py:177: DeprecationWarning: Barnes weighting function is deprecated. Please use Barnes 2 to be consistent with Pauley and Wu 1990.\n",
      "  \" Pauley and Wu 1990.\", DeprecationWarning)\n"
     ]
    },
    {
     "name": "stdout",
     "output_type": "stream",
     "text": [
      "\n",
      "18\n",
      "."
     ]
    },
    {
     "name": "stderr",
     "output_type": "stream",
     "text": [
      "C:\\Users\\iac6311\\AppData\\Local\\Continuum\\anaconda3\\envs\\saveur\\lib\\site-packages\\pyart\\io\\cfradial.py:384: RuntimeWarning: invalid value encountered in less\n",
      "  data = self.ncvar[:]\n",
      "C:\\Users\\iac6311\\AppData\\Local\\Continuum\\anaconda3\\envs\\saveur\\lib\\site-packages\\pyart\\io\\cfradial.py:384: RuntimeWarning: invalid value encountered in greater\n",
      "  data = self.ncvar[:]\n",
      "C:\\Users\\iac6311\\AppData\\Local\\Continuum\\anaconda3\\envs\\saveur\\lib\\site-packages\\pyart\\map\\gates_to_grid.py:177: DeprecationWarning: Barnes weighting function is deprecated. Please use Barnes 2 to be consistent with Pauley and Wu 1990.\n",
      "  \" Pauley and Wu 1990.\", DeprecationWarning)\n"
     ]
    },
    {
     "name": "stdout",
     "output_type": "stream",
     "text": [
      "."
     ]
    },
    {
     "name": "stderr",
     "output_type": "stream",
     "text": [
      "C:\\Users\\iac6311\\AppData\\Local\\Continuum\\anaconda3\\envs\\saveur\\lib\\site-packages\\pyart\\io\\cfradial.py:384: RuntimeWarning: invalid value encountered in less\n",
      "  data = self.ncvar[:]\n",
      "C:\\Users\\iac6311\\AppData\\Local\\Continuum\\anaconda3\\envs\\saveur\\lib\\site-packages\\pyart\\io\\cfradial.py:384: RuntimeWarning: invalid value encountered in greater\n",
      "  data = self.ncvar[:]\n",
      "C:\\Users\\iac6311\\AppData\\Local\\Continuum\\anaconda3\\envs\\saveur\\lib\\site-packages\\pyart\\map\\gates_to_grid.py:177: DeprecationWarning: Barnes weighting function is deprecated. Please use Barnes 2 to be consistent with Pauley and Wu 1990.\n",
      "  \" Pauley and Wu 1990.\", DeprecationWarning)\n"
     ]
    },
    {
     "name": "stdout",
     "output_type": "stream",
     "text": [
      "."
     ]
    },
    {
     "name": "stderr",
     "output_type": "stream",
     "text": [
      "C:\\Users\\iac6311\\AppData\\Local\\Continuum\\anaconda3\\envs\\saveur\\lib\\site-packages\\pyart\\io\\cfradial.py:384: RuntimeWarning: invalid value encountered in less\n",
      "  data = self.ncvar[:]\n",
      "C:\\Users\\iac6311\\AppData\\Local\\Continuum\\anaconda3\\envs\\saveur\\lib\\site-packages\\pyart\\io\\cfradial.py:384: RuntimeWarning: invalid value encountered in greater\n",
      "  data = self.ncvar[:]\n",
      "C:\\Users\\iac6311\\AppData\\Local\\Continuum\\anaconda3\\envs\\saveur\\lib\\site-packages\\pyart\\map\\gates_to_grid.py:177: DeprecationWarning: Barnes weighting function is deprecated. Please use Barnes 2 to be consistent with Pauley and Wu 1990.\n",
      "  \" Pauley and Wu 1990.\", DeprecationWarning)\n"
     ]
    },
    {
     "name": "stdout",
     "output_type": "stream",
     "text": [
      "."
     ]
    },
    {
     "name": "stderr",
     "output_type": "stream",
     "text": [
      "C:\\Users\\iac6311\\AppData\\Local\\Continuum\\anaconda3\\envs\\saveur\\lib\\site-packages\\pyart\\io\\cfradial.py:384: RuntimeWarning: invalid value encountered in less\n",
      "  data = self.ncvar[:]\n",
      "C:\\Users\\iac6311\\AppData\\Local\\Continuum\\anaconda3\\envs\\saveur\\lib\\site-packages\\pyart\\io\\cfradial.py:384: RuntimeWarning: invalid value encountered in greater\n",
      "  data = self.ncvar[:]\n",
      "C:\\Users\\iac6311\\AppData\\Local\\Continuum\\anaconda3\\envs\\saveur\\lib\\site-packages\\pyart\\map\\gates_to_grid.py:177: DeprecationWarning: Barnes weighting function is deprecated. Please use Barnes 2 to be consistent with Pauley and Wu 1990.\n",
      "  \" Pauley and Wu 1990.\", DeprecationWarning)\n"
     ]
    },
    {
     "name": "stdout",
     "output_type": "stream",
     "text": [
      "."
     ]
    },
    {
     "name": "stderr",
     "output_type": "stream",
     "text": [
      "C:\\Users\\iac6311\\AppData\\Local\\Continuum\\anaconda3\\envs\\saveur\\lib\\site-packages\\pyart\\io\\cfradial.py:384: RuntimeWarning: invalid value encountered in less\n",
      "  data = self.ncvar[:]\n",
      "C:\\Users\\iac6311\\AppData\\Local\\Continuum\\anaconda3\\envs\\saveur\\lib\\site-packages\\pyart\\io\\cfradial.py:384: RuntimeWarning: invalid value encountered in greater\n",
      "  data = self.ncvar[:]\n",
      "C:\\Users\\iac6311\\AppData\\Local\\Continuum\\anaconda3\\envs\\saveur\\lib\\site-packages\\pyart\\map\\gates_to_grid.py:177: DeprecationWarning: Barnes weighting function is deprecated. Please use Barnes 2 to be consistent with Pauley and Wu 1990.\n",
      "  \" Pauley and Wu 1990.\", DeprecationWarning)\n"
     ]
    },
    {
     "name": "stdout",
     "output_type": "stream",
     "text": [
      "."
     ]
    },
    {
     "name": "stderr",
     "output_type": "stream",
     "text": [
      "C:\\Users\\iac6311\\AppData\\Local\\Continuum\\anaconda3\\envs\\saveur\\lib\\site-packages\\pyart\\io\\cfradial.py:384: RuntimeWarning: invalid value encountered in less\n",
      "  data = self.ncvar[:]\n",
      "C:\\Users\\iac6311\\AppData\\Local\\Continuum\\anaconda3\\envs\\saveur\\lib\\site-packages\\pyart\\io\\cfradial.py:384: RuntimeWarning: invalid value encountered in greater\n",
      "  data = self.ncvar[:]\n",
      "C:\\Users\\iac6311\\AppData\\Local\\Continuum\\anaconda3\\envs\\saveur\\lib\\site-packages\\pyart\\map\\gates_to_grid.py:177: DeprecationWarning: Barnes weighting function is deprecated. Please use Barnes 2 to be consistent with Pauley and Wu 1990.\n",
      "  \" Pauley and Wu 1990.\", DeprecationWarning)\n"
     ]
    },
    {
     "name": "stdout",
     "output_type": "stream",
     "text": [
      "."
     ]
    },
    {
     "name": "stderr",
     "output_type": "stream",
     "text": [
      "C:\\Users\\iac6311\\AppData\\Local\\Continuum\\anaconda3\\envs\\saveur\\lib\\site-packages\\pyart\\io\\cfradial.py:384: RuntimeWarning: invalid value encountered in less\n",
      "  data = self.ncvar[:]\n",
      "C:\\Users\\iac6311\\AppData\\Local\\Continuum\\anaconda3\\envs\\saveur\\lib\\site-packages\\pyart\\io\\cfradial.py:384: RuntimeWarning: invalid value encountered in greater\n",
      "  data = self.ncvar[:]\n",
      "C:\\Users\\iac6311\\AppData\\Local\\Continuum\\anaconda3\\envs\\saveur\\lib\\site-packages\\pyart\\map\\gates_to_grid.py:177: DeprecationWarning: Barnes weighting function is deprecated. Please use Barnes 2 to be consistent with Pauley and Wu 1990.\n",
      "  \" Pauley and Wu 1990.\", DeprecationWarning)\n"
     ]
    },
    {
     "name": "stdout",
     "output_type": "stream",
     "text": [
      "."
     ]
    },
    {
     "name": "stderr",
     "output_type": "stream",
     "text": [
      "C:\\Users\\iac6311\\AppData\\Local\\Continuum\\anaconda3\\envs\\saveur\\lib\\site-packages\\pyart\\io\\cfradial.py:384: RuntimeWarning: invalid value encountered in less\n",
      "  data = self.ncvar[:]\n",
      "C:\\Users\\iac6311\\AppData\\Local\\Continuum\\anaconda3\\envs\\saveur\\lib\\site-packages\\pyart\\io\\cfradial.py:384: RuntimeWarning: invalid value encountered in greater\n",
      "  data = self.ncvar[:]\n",
      "C:\\Users\\iac6311\\AppData\\Local\\Continuum\\anaconda3\\envs\\saveur\\lib\\site-packages\\pyart\\map\\gates_to_grid.py:177: DeprecationWarning: Barnes weighting function is deprecated. Please use Barnes 2 to be consistent with Pauley and Wu 1990.\n",
      "  \" Pauley and Wu 1990.\", DeprecationWarning)\n"
     ]
    },
    {
     "name": "stdout",
     "output_type": "stream",
     "text": [
      "."
     ]
    },
    {
     "name": "stderr",
     "output_type": "stream",
     "text": [
      "C:\\Users\\iac6311\\AppData\\Local\\Continuum\\anaconda3\\envs\\saveur\\lib\\site-packages\\pyart\\io\\cfradial.py:384: RuntimeWarning: invalid value encountered in less\n",
      "  data = self.ncvar[:]\n",
      "C:\\Users\\iac6311\\AppData\\Local\\Continuum\\anaconda3\\envs\\saveur\\lib\\site-packages\\pyart\\io\\cfradial.py:384: RuntimeWarning: invalid value encountered in greater\n",
      "  data = self.ncvar[:]\n",
      "C:\\Users\\iac6311\\AppData\\Local\\Continuum\\anaconda3\\envs\\saveur\\lib\\site-packages\\pyart\\map\\gates_to_grid.py:177: DeprecationWarning: Barnes weighting function is deprecated. Please use Barnes 2 to be consistent with Pauley and Wu 1990.\n",
      "  \" Pauley and Wu 1990.\", DeprecationWarning)\n"
     ]
    },
    {
     "name": "stdout",
     "output_type": "stream",
     "text": [
      "."
     ]
    },
    {
     "name": "stderr",
     "output_type": "stream",
     "text": [
      "C:\\Users\\iac6311\\AppData\\Local\\Continuum\\anaconda3\\envs\\saveur\\lib\\site-packages\\pyart\\io\\cfradial.py:384: RuntimeWarning: invalid value encountered in less\n",
      "  data = self.ncvar[:]\n",
      "C:\\Users\\iac6311\\AppData\\Local\\Continuum\\anaconda3\\envs\\saveur\\lib\\site-packages\\pyart\\io\\cfradial.py:384: RuntimeWarning: invalid value encountered in greater\n",
      "  data = self.ncvar[:]\n",
      "C:\\Users\\iac6311\\AppData\\Local\\Continuum\\anaconda3\\envs\\saveur\\lib\\site-packages\\pyart\\map\\gates_to_grid.py:177: DeprecationWarning: Barnes weighting function is deprecated. Please use Barnes 2 to be consistent with Pauley and Wu 1990.\n",
      "  \" Pauley and Wu 1990.\", DeprecationWarning)\n"
     ]
    },
    {
     "name": "stdout",
     "output_type": "stream",
     "text": [
      "."
     ]
    },
    {
     "name": "stderr",
     "output_type": "stream",
     "text": [
      "C:\\Users\\iac6311\\AppData\\Local\\Continuum\\anaconda3\\envs\\saveur\\lib\\site-packages\\pyart\\io\\cfradial.py:384: RuntimeWarning: invalid value encountered in less\n",
      "  data = self.ncvar[:]\n",
      "C:\\Users\\iac6311\\AppData\\Local\\Continuum\\anaconda3\\envs\\saveur\\lib\\site-packages\\pyart\\io\\cfradial.py:384: RuntimeWarning: invalid value encountered in greater\n",
      "  data = self.ncvar[:]\n",
      "C:\\Users\\iac6311\\AppData\\Local\\Continuum\\anaconda3\\envs\\saveur\\lib\\site-packages\\pyart\\map\\gates_to_grid.py:177: DeprecationWarning: Barnes weighting function is deprecated. Please use Barnes 2 to be consistent with Pauley and Wu 1990.\n",
      "  \" Pauley and Wu 1990.\", DeprecationWarning)\n"
     ]
    },
    {
     "name": "stdout",
     "output_type": "stream",
     "text": [
      "."
     ]
    },
    {
     "name": "stderr",
     "output_type": "stream",
     "text": [
      "C:\\Users\\iac6311\\AppData\\Local\\Continuum\\anaconda3\\envs\\saveur\\lib\\site-packages\\pyart\\io\\cfradial.py:384: RuntimeWarning: invalid value encountered in less\n",
      "  data = self.ncvar[:]\n",
      "C:\\Users\\iac6311\\AppData\\Local\\Continuum\\anaconda3\\envs\\saveur\\lib\\site-packages\\pyart\\io\\cfradial.py:384: RuntimeWarning: invalid value encountered in greater\n",
      "  data = self.ncvar[:]\n",
      "C:\\Users\\iac6311\\AppData\\Local\\Continuum\\anaconda3\\envs\\saveur\\lib\\site-packages\\pyart\\map\\gates_to_grid.py:177: DeprecationWarning: Barnes weighting function is deprecated. Please use Barnes 2 to be consistent with Pauley and Wu 1990.\n",
      "  \" Pauley and Wu 1990.\", DeprecationWarning)\n"
     ]
    },
    {
     "name": "stdout",
     "output_type": "stream",
     "text": [
      "."
     ]
    },
    {
     "name": "stderr",
     "output_type": "stream",
     "text": [
      "C:\\Users\\iac6311\\AppData\\Local\\Continuum\\anaconda3\\envs\\saveur\\lib\\site-packages\\pyart\\io\\cfradial.py:384: RuntimeWarning: invalid value encountered in less\n",
      "  data = self.ncvar[:]\n",
      "C:\\Users\\iac6311\\AppData\\Local\\Continuum\\anaconda3\\envs\\saveur\\lib\\site-packages\\pyart\\io\\cfradial.py:384: RuntimeWarning: invalid value encountered in greater\n",
      "  data = self.ncvar[:]\n",
      "C:\\Users\\iac6311\\AppData\\Local\\Continuum\\anaconda3\\envs\\saveur\\lib\\site-packages\\pyart\\map\\gates_to_grid.py:177: DeprecationWarning: Barnes weighting function is deprecated. Please use Barnes 2 to be consistent with Pauley and Wu 1990.\n",
      "  \" Pauley and Wu 1990.\", DeprecationWarning)\n"
     ]
    },
    {
     "name": "stdout",
     "output_type": "stream",
     "text": [
      "."
     ]
    },
    {
     "name": "stderr",
     "output_type": "stream",
     "text": [
      "C:\\Users\\iac6311\\AppData\\Local\\Continuum\\anaconda3\\envs\\saveur\\lib\\site-packages\\pyart\\io\\cfradial.py:384: RuntimeWarning: invalid value encountered in less\n",
      "  data = self.ncvar[:]\n",
      "C:\\Users\\iac6311\\AppData\\Local\\Continuum\\anaconda3\\envs\\saveur\\lib\\site-packages\\pyart\\io\\cfradial.py:384: RuntimeWarning: invalid value encountered in greater\n",
      "  data = self.ncvar[:]\n",
      "C:\\Users\\iac6311\\AppData\\Local\\Continuum\\anaconda3\\envs\\saveur\\lib\\site-packages\\pyart\\map\\gates_to_grid.py:177: DeprecationWarning: Barnes weighting function is deprecated. Please use Barnes 2 to be consistent with Pauley and Wu 1990.\n",
      "  \" Pauley and Wu 1990.\", DeprecationWarning)\n"
     ]
    },
    {
     "name": "stdout",
     "output_type": "stream",
     "text": [
      "\n",
      "19\n",
      "."
     ]
    },
    {
     "name": "stderr",
     "output_type": "stream",
     "text": [
      "C:\\Users\\iac6311\\AppData\\Local\\Continuum\\anaconda3\\envs\\saveur\\lib\\site-packages\\pyart\\io\\cfradial.py:384: RuntimeWarning: invalid value encountered in less\n",
      "  data = self.ncvar[:]\n",
      "C:\\Users\\iac6311\\AppData\\Local\\Continuum\\anaconda3\\envs\\saveur\\lib\\site-packages\\pyart\\io\\cfradial.py:384: RuntimeWarning: invalid value encountered in greater\n",
      "  data = self.ncvar[:]\n",
      "C:\\Users\\iac6311\\AppData\\Local\\Continuum\\anaconda3\\envs\\saveur\\lib\\site-packages\\pyart\\map\\gates_to_grid.py:177: DeprecationWarning: Barnes weighting function is deprecated. Please use Barnes 2 to be consistent with Pauley and Wu 1990.\n",
      "  \" Pauley and Wu 1990.\", DeprecationWarning)\n"
     ]
    },
    {
     "name": "stdout",
     "output_type": "stream",
     "text": [
      "."
     ]
    },
    {
     "name": "stderr",
     "output_type": "stream",
     "text": [
      "C:\\Users\\iac6311\\AppData\\Local\\Continuum\\anaconda3\\envs\\saveur\\lib\\site-packages\\pyart\\io\\cfradial.py:384: RuntimeWarning: invalid value encountered in less\n",
      "  data = self.ncvar[:]\n",
      "C:\\Users\\iac6311\\AppData\\Local\\Continuum\\anaconda3\\envs\\saveur\\lib\\site-packages\\pyart\\io\\cfradial.py:384: RuntimeWarning: invalid value encountered in greater\n",
      "  data = self.ncvar[:]\n",
      "C:\\Users\\iac6311\\AppData\\Local\\Continuum\\anaconda3\\envs\\saveur\\lib\\site-packages\\pyart\\map\\gates_to_grid.py:177: DeprecationWarning: Barnes weighting function is deprecated. Please use Barnes 2 to be consistent with Pauley and Wu 1990.\n",
      "  \" Pauley and Wu 1990.\", DeprecationWarning)\n"
     ]
    },
    {
     "name": "stdout",
     "output_type": "stream",
     "text": [
      "."
     ]
    },
    {
     "name": "stderr",
     "output_type": "stream",
     "text": [
      "C:\\Users\\iac6311\\AppData\\Local\\Continuum\\anaconda3\\envs\\saveur\\lib\\site-packages\\pyart\\io\\cfradial.py:384: RuntimeWarning: invalid value encountered in less\n",
      "  data = self.ncvar[:]\n",
      "C:\\Users\\iac6311\\AppData\\Local\\Continuum\\anaconda3\\envs\\saveur\\lib\\site-packages\\pyart\\io\\cfradial.py:384: RuntimeWarning: invalid value encountered in greater\n",
      "  data = self.ncvar[:]\n",
      "C:\\Users\\iac6311\\AppData\\Local\\Continuum\\anaconda3\\envs\\saveur\\lib\\site-packages\\pyart\\map\\gates_to_grid.py:177: DeprecationWarning: Barnes weighting function is deprecated. Please use Barnes 2 to be consistent with Pauley and Wu 1990.\n",
      "  \" Pauley and Wu 1990.\", DeprecationWarning)\n"
     ]
    },
    {
     "name": "stdout",
     "output_type": "stream",
     "text": [
      "."
     ]
    },
    {
     "name": "stderr",
     "output_type": "stream",
     "text": [
      "C:\\Users\\iac6311\\AppData\\Local\\Continuum\\anaconda3\\envs\\saveur\\lib\\site-packages\\pyart\\io\\cfradial.py:384: RuntimeWarning: invalid value encountered in less\n",
      "  data = self.ncvar[:]\n",
      "C:\\Users\\iac6311\\AppData\\Local\\Continuum\\anaconda3\\envs\\saveur\\lib\\site-packages\\pyart\\io\\cfradial.py:384: RuntimeWarning: invalid value encountered in greater\n",
      "  data = self.ncvar[:]\n",
      "C:\\Users\\iac6311\\AppData\\Local\\Continuum\\anaconda3\\envs\\saveur\\lib\\site-packages\\pyart\\map\\gates_to_grid.py:177: DeprecationWarning: Barnes weighting function is deprecated. Please use Barnes 2 to be consistent with Pauley and Wu 1990.\n",
      "  \" Pauley and Wu 1990.\", DeprecationWarning)\n"
     ]
    },
    {
     "name": "stdout",
     "output_type": "stream",
     "text": [
      "."
     ]
    },
    {
     "name": "stderr",
     "output_type": "stream",
     "text": [
      "C:\\Users\\iac6311\\AppData\\Local\\Continuum\\anaconda3\\envs\\saveur\\lib\\site-packages\\pyart\\io\\cfradial.py:384: RuntimeWarning: invalid value encountered in less\n",
      "  data = self.ncvar[:]\n",
      "C:\\Users\\iac6311\\AppData\\Local\\Continuum\\anaconda3\\envs\\saveur\\lib\\site-packages\\pyart\\io\\cfradial.py:384: RuntimeWarning: invalid value encountered in greater\n",
      "  data = self.ncvar[:]\n",
      "C:\\Users\\iac6311\\AppData\\Local\\Continuum\\anaconda3\\envs\\saveur\\lib\\site-packages\\pyart\\map\\gates_to_grid.py:177: DeprecationWarning: Barnes weighting function is deprecated. Please use Barnes 2 to be consistent with Pauley and Wu 1990.\n",
      "  \" Pauley and Wu 1990.\", DeprecationWarning)\n"
     ]
    },
    {
     "name": "stdout",
     "output_type": "stream",
     "text": [
      "."
     ]
    },
    {
     "name": "stderr",
     "output_type": "stream",
     "text": [
      "C:\\Users\\iac6311\\AppData\\Local\\Continuum\\anaconda3\\envs\\saveur\\lib\\site-packages\\pyart\\io\\cfradial.py:384: RuntimeWarning: invalid value encountered in less\n",
      "  data = self.ncvar[:]\n",
      "C:\\Users\\iac6311\\AppData\\Local\\Continuum\\anaconda3\\envs\\saveur\\lib\\site-packages\\pyart\\io\\cfradial.py:384: RuntimeWarning: invalid value encountered in greater\n",
      "  data = self.ncvar[:]\n",
      "C:\\Users\\iac6311\\AppData\\Local\\Continuum\\anaconda3\\envs\\saveur\\lib\\site-packages\\pyart\\map\\gates_to_grid.py:177: DeprecationWarning: Barnes weighting function is deprecated. Please use Barnes 2 to be consistent with Pauley and Wu 1990.\n",
      "  \" Pauley and Wu 1990.\", DeprecationWarning)\n"
     ]
    },
    {
     "name": "stdout",
     "output_type": "stream",
     "text": [
      "."
     ]
    },
    {
     "name": "stderr",
     "output_type": "stream",
     "text": [
      "C:\\Users\\iac6311\\AppData\\Local\\Continuum\\anaconda3\\envs\\saveur\\lib\\site-packages\\pyart\\io\\cfradial.py:384: RuntimeWarning: invalid value encountered in less\n",
      "  data = self.ncvar[:]\n",
      "C:\\Users\\iac6311\\AppData\\Local\\Continuum\\anaconda3\\envs\\saveur\\lib\\site-packages\\pyart\\io\\cfradial.py:384: RuntimeWarning: invalid value encountered in greater\n",
      "  data = self.ncvar[:]\n",
      "C:\\Users\\iac6311\\AppData\\Local\\Continuum\\anaconda3\\envs\\saveur\\lib\\site-packages\\pyart\\map\\gates_to_grid.py:177: DeprecationWarning: Barnes weighting function is deprecated. Please use Barnes 2 to be consistent with Pauley and Wu 1990.\n",
      "  \" Pauley and Wu 1990.\", DeprecationWarning)\n"
     ]
    },
    {
     "name": "stdout",
     "output_type": "stream",
     "text": [
      "."
     ]
    },
    {
     "name": "stderr",
     "output_type": "stream",
     "text": [
      "C:\\Users\\iac6311\\AppData\\Local\\Continuum\\anaconda3\\envs\\saveur\\lib\\site-packages\\pyart\\io\\cfradial.py:384: RuntimeWarning: invalid value encountered in less\n",
      "  data = self.ncvar[:]\n",
      "C:\\Users\\iac6311\\AppData\\Local\\Continuum\\anaconda3\\envs\\saveur\\lib\\site-packages\\pyart\\io\\cfradial.py:384: RuntimeWarning: invalid value encountered in greater\n",
      "  data = self.ncvar[:]\n",
      "C:\\Users\\iac6311\\AppData\\Local\\Continuum\\anaconda3\\envs\\saveur\\lib\\site-packages\\pyart\\map\\gates_to_grid.py:177: DeprecationWarning: Barnes weighting function is deprecated. Please use Barnes 2 to be consistent with Pauley and Wu 1990.\n",
      "  \" Pauley and Wu 1990.\", DeprecationWarning)\n"
     ]
    },
    {
     "name": "stdout",
     "output_type": "stream",
     "text": [
      "."
     ]
    },
    {
     "name": "stderr",
     "output_type": "stream",
     "text": [
      "C:\\Users\\iac6311\\AppData\\Local\\Continuum\\anaconda3\\envs\\saveur\\lib\\site-packages\\pyart\\io\\cfradial.py:384: RuntimeWarning: invalid value encountered in less\n",
      "  data = self.ncvar[:]\n",
      "C:\\Users\\iac6311\\AppData\\Local\\Continuum\\anaconda3\\envs\\saveur\\lib\\site-packages\\pyart\\io\\cfradial.py:384: RuntimeWarning: invalid value encountered in greater\n",
      "  data = self.ncvar[:]\n",
      "C:\\Users\\iac6311\\AppData\\Local\\Continuum\\anaconda3\\envs\\saveur\\lib\\site-packages\\pyart\\map\\gates_to_grid.py:177: DeprecationWarning: Barnes weighting function is deprecated. Please use Barnes 2 to be consistent with Pauley and Wu 1990.\n",
      "  \" Pauley and Wu 1990.\", DeprecationWarning)\n"
     ]
    },
    {
     "name": "stdout",
     "output_type": "stream",
     "text": [
      "."
     ]
    },
    {
     "name": "stderr",
     "output_type": "stream",
     "text": [
      "C:\\Users\\iac6311\\AppData\\Local\\Continuum\\anaconda3\\envs\\saveur\\lib\\site-packages\\pyart\\io\\cfradial.py:384: RuntimeWarning: invalid value encountered in less\n",
      "  data = self.ncvar[:]\n",
      "C:\\Users\\iac6311\\AppData\\Local\\Continuum\\anaconda3\\envs\\saveur\\lib\\site-packages\\pyart\\io\\cfradial.py:384: RuntimeWarning: invalid value encountered in greater\n",
      "  data = self.ncvar[:]\n",
      "C:\\Users\\iac6311\\AppData\\Local\\Continuum\\anaconda3\\envs\\saveur\\lib\\site-packages\\pyart\\map\\gates_to_grid.py:177: DeprecationWarning: Barnes weighting function is deprecated. Please use Barnes 2 to be consistent with Pauley and Wu 1990.\n",
      "  \" Pauley and Wu 1990.\", DeprecationWarning)\n"
     ]
    },
    {
     "name": "stdout",
     "output_type": "stream",
     "text": [
      "."
     ]
    },
    {
     "name": "stderr",
     "output_type": "stream",
     "text": [
      "C:\\Users\\iac6311\\AppData\\Local\\Continuum\\anaconda3\\envs\\saveur\\lib\\site-packages\\pyart\\io\\cfradial.py:384: RuntimeWarning: invalid value encountered in less\n",
      "  data = self.ncvar[:]\n",
      "C:\\Users\\iac6311\\AppData\\Local\\Continuum\\anaconda3\\envs\\saveur\\lib\\site-packages\\pyart\\io\\cfradial.py:384: RuntimeWarning: invalid value encountered in greater\n",
      "  data = self.ncvar[:]\n",
      "C:\\Users\\iac6311\\AppData\\Local\\Continuum\\anaconda3\\envs\\saveur\\lib\\site-packages\\pyart\\map\\gates_to_grid.py:177: DeprecationWarning: Barnes weighting function is deprecated. Please use Barnes 2 to be consistent with Pauley and Wu 1990.\n",
      "  \" Pauley and Wu 1990.\", DeprecationWarning)\n"
     ]
    },
    {
     "name": "stdout",
     "output_type": "stream",
     "text": [
      "."
     ]
    },
    {
     "name": "stderr",
     "output_type": "stream",
     "text": [
      "C:\\Users\\iac6311\\AppData\\Local\\Continuum\\anaconda3\\envs\\saveur\\lib\\site-packages\\pyart\\io\\cfradial.py:384: RuntimeWarning: invalid value encountered in less\n",
      "  data = self.ncvar[:]\n",
      "C:\\Users\\iac6311\\AppData\\Local\\Continuum\\anaconda3\\envs\\saveur\\lib\\site-packages\\pyart\\io\\cfradial.py:384: RuntimeWarning: invalid value encountered in greater\n",
      "  data = self.ncvar[:]\n",
      "C:\\Users\\iac6311\\AppData\\Local\\Continuum\\anaconda3\\envs\\saveur\\lib\\site-packages\\pyart\\map\\gates_to_grid.py:177: DeprecationWarning: Barnes weighting function is deprecated. Please use Barnes 2 to be consistent with Pauley and Wu 1990.\n",
      "  \" Pauley and Wu 1990.\", DeprecationWarning)\n"
     ]
    },
    {
     "name": "stdout",
     "output_type": "stream",
     "text": [
      "."
     ]
    },
    {
     "name": "stderr",
     "output_type": "stream",
     "text": [
      "C:\\Users\\iac6311\\AppData\\Local\\Continuum\\anaconda3\\envs\\saveur\\lib\\site-packages\\pyart\\io\\cfradial.py:384: RuntimeWarning: invalid value encountered in less\n",
      "  data = self.ncvar[:]\n",
      "C:\\Users\\iac6311\\AppData\\Local\\Continuum\\anaconda3\\envs\\saveur\\lib\\site-packages\\pyart\\io\\cfradial.py:384: RuntimeWarning: invalid value encountered in greater\n",
      "  data = self.ncvar[:]\n",
      "C:\\Users\\iac6311\\AppData\\Local\\Continuum\\anaconda3\\envs\\saveur\\lib\\site-packages\\pyart\\map\\gates_to_grid.py:177: DeprecationWarning: Barnes weighting function is deprecated. Please use Barnes 2 to be consistent with Pauley and Wu 1990.\n",
      "  \" Pauley and Wu 1990.\", DeprecationWarning)\n"
     ]
    },
    {
     "name": "stdout",
     "output_type": "stream",
     "text": [
      "."
     ]
    },
    {
     "name": "stderr",
     "output_type": "stream",
     "text": [
      "C:\\Users\\iac6311\\AppData\\Local\\Continuum\\anaconda3\\envs\\saveur\\lib\\site-packages\\pyart\\io\\cfradial.py:384: RuntimeWarning: invalid value encountered in less\n",
      "  data = self.ncvar[:]\n",
      "C:\\Users\\iac6311\\AppData\\Local\\Continuum\\anaconda3\\envs\\saveur\\lib\\site-packages\\pyart\\io\\cfradial.py:384: RuntimeWarning: invalid value encountered in greater\n",
      "  data = self.ncvar[:]\n",
      "C:\\Users\\iac6311\\AppData\\Local\\Continuum\\anaconda3\\envs\\saveur\\lib\\site-packages\\pyart\\map\\gates_to_grid.py:177: DeprecationWarning: Barnes weighting function is deprecated. Please use Barnes 2 to be consistent with Pauley and Wu 1990.\n",
      "  \" Pauley and Wu 1990.\", DeprecationWarning)\n"
     ]
    },
    {
     "name": "stdout",
     "output_type": "stream",
     "text": [
      "\n",
      "20\n",
      "."
     ]
    },
    {
     "name": "stderr",
     "output_type": "stream",
     "text": [
      "C:\\Users\\iac6311\\AppData\\Local\\Continuum\\anaconda3\\envs\\saveur\\lib\\site-packages\\pyart\\io\\cfradial.py:384: RuntimeWarning: invalid value encountered in less\n",
      "  data = self.ncvar[:]\n",
      "C:\\Users\\iac6311\\AppData\\Local\\Continuum\\anaconda3\\envs\\saveur\\lib\\site-packages\\pyart\\io\\cfradial.py:384: RuntimeWarning: invalid value encountered in greater\n",
      "  data = self.ncvar[:]\n",
      "C:\\Users\\iac6311\\AppData\\Local\\Continuum\\anaconda3\\envs\\saveur\\lib\\site-packages\\pyart\\map\\gates_to_grid.py:177: DeprecationWarning: Barnes weighting function is deprecated. Please use Barnes 2 to be consistent with Pauley and Wu 1990.\n",
      "  \" Pauley and Wu 1990.\", DeprecationWarning)\n"
     ]
    },
    {
     "name": "stdout",
     "output_type": "stream",
     "text": [
      "."
     ]
    },
    {
     "name": "stderr",
     "output_type": "stream",
     "text": [
      "C:\\Users\\iac6311\\AppData\\Local\\Continuum\\anaconda3\\envs\\saveur\\lib\\site-packages\\pyart\\io\\cfradial.py:384: RuntimeWarning: invalid value encountered in less\n",
      "  data = self.ncvar[:]\n",
      "C:\\Users\\iac6311\\AppData\\Local\\Continuum\\anaconda3\\envs\\saveur\\lib\\site-packages\\pyart\\io\\cfradial.py:384: RuntimeWarning: invalid value encountered in greater\n",
      "  data = self.ncvar[:]\n",
      "C:\\Users\\iac6311\\AppData\\Local\\Continuum\\anaconda3\\envs\\saveur\\lib\\site-packages\\pyart\\map\\gates_to_grid.py:177: DeprecationWarning: Barnes weighting function is deprecated. Please use Barnes 2 to be consistent with Pauley and Wu 1990.\n",
      "  \" Pauley and Wu 1990.\", DeprecationWarning)\n"
     ]
    },
    {
     "name": "stdout",
     "output_type": "stream",
     "text": [
      "."
     ]
    },
    {
     "name": "stderr",
     "output_type": "stream",
     "text": [
      "C:\\Users\\iac6311\\AppData\\Local\\Continuum\\anaconda3\\envs\\saveur\\lib\\site-packages\\pyart\\io\\cfradial.py:384: RuntimeWarning: invalid value encountered in less\n",
      "  data = self.ncvar[:]\n",
      "C:\\Users\\iac6311\\AppData\\Local\\Continuum\\anaconda3\\envs\\saveur\\lib\\site-packages\\pyart\\io\\cfradial.py:384: RuntimeWarning: invalid value encountered in greater\n",
      "  data = self.ncvar[:]\n",
      "C:\\Users\\iac6311\\AppData\\Local\\Continuum\\anaconda3\\envs\\saveur\\lib\\site-packages\\pyart\\map\\gates_to_grid.py:177: DeprecationWarning: Barnes weighting function is deprecated. Please use Barnes 2 to be consistent with Pauley and Wu 1990.\n",
      "  \" Pauley and Wu 1990.\", DeprecationWarning)\n"
     ]
    },
    {
     "name": "stdout",
     "output_type": "stream",
     "text": [
      "."
     ]
    },
    {
     "name": "stderr",
     "output_type": "stream",
     "text": [
      "C:\\Users\\iac6311\\AppData\\Local\\Continuum\\anaconda3\\envs\\saveur\\lib\\site-packages\\pyart\\io\\cfradial.py:384: RuntimeWarning: invalid value encountered in less\n",
      "  data = self.ncvar[:]\n",
      "C:\\Users\\iac6311\\AppData\\Local\\Continuum\\anaconda3\\envs\\saveur\\lib\\site-packages\\pyart\\io\\cfradial.py:384: RuntimeWarning: invalid value encountered in greater\n",
      "  data = self.ncvar[:]\n",
      "C:\\Users\\iac6311\\AppData\\Local\\Continuum\\anaconda3\\envs\\saveur\\lib\\site-packages\\pyart\\map\\gates_to_grid.py:177: DeprecationWarning: Barnes weighting function is deprecated. Please use Barnes 2 to be consistent with Pauley and Wu 1990.\n",
      "  \" Pauley and Wu 1990.\", DeprecationWarning)\n"
     ]
    },
    {
     "name": "stdout",
     "output_type": "stream",
     "text": [
      "."
     ]
    },
    {
     "name": "stderr",
     "output_type": "stream",
     "text": [
      "C:\\Users\\iac6311\\AppData\\Local\\Continuum\\anaconda3\\envs\\saveur\\lib\\site-packages\\pyart\\io\\cfradial.py:384: RuntimeWarning: invalid value encountered in less\n",
      "  data = self.ncvar[:]\n",
      "C:\\Users\\iac6311\\AppData\\Local\\Continuum\\anaconda3\\envs\\saveur\\lib\\site-packages\\pyart\\io\\cfradial.py:384: RuntimeWarning: invalid value encountered in greater\n",
      "  data = self.ncvar[:]\n",
      "C:\\Users\\iac6311\\AppData\\Local\\Continuum\\anaconda3\\envs\\saveur\\lib\\site-packages\\pyart\\map\\gates_to_grid.py:177: DeprecationWarning: Barnes weighting function is deprecated. Please use Barnes 2 to be consistent with Pauley and Wu 1990.\n",
      "  \" Pauley and Wu 1990.\", DeprecationWarning)\n"
     ]
    },
    {
     "name": "stdout",
     "output_type": "stream",
     "text": [
      "."
     ]
    },
    {
     "name": "stderr",
     "output_type": "stream",
     "text": [
      "C:\\Users\\iac6311\\AppData\\Local\\Continuum\\anaconda3\\envs\\saveur\\lib\\site-packages\\pyart\\io\\cfradial.py:384: RuntimeWarning: invalid value encountered in less\n",
      "  data = self.ncvar[:]\n",
      "C:\\Users\\iac6311\\AppData\\Local\\Continuum\\anaconda3\\envs\\saveur\\lib\\site-packages\\pyart\\io\\cfradial.py:384: RuntimeWarning: invalid value encountered in greater\n",
      "  data = self.ncvar[:]\n",
      "C:\\Users\\iac6311\\AppData\\Local\\Continuum\\anaconda3\\envs\\saveur\\lib\\site-packages\\pyart\\map\\gates_to_grid.py:177: DeprecationWarning: Barnes weighting function is deprecated. Please use Barnes 2 to be consistent with Pauley and Wu 1990.\n",
      "  \" Pauley and Wu 1990.\", DeprecationWarning)\n"
     ]
    },
    {
     "name": "stdout",
     "output_type": "stream",
     "text": [
      "."
     ]
    },
    {
     "name": "stderr",
     "output_type": "stream",
     "text": [
      "C:\\Users\\iac6311\\AppData\\Local\\Continuum\\anaconda3\\envs\\saveur\\lib\\site-packages\\pyart\\io\\cfradial.py:384: RuntimeWarning: invalid value encountered in less\n",
      "  data = self.ncvar[:]\n",
      "C:\\Users\\iac6311\\AppData\\Local\\Continuum\\anaconda3\\envs\\saveur\\lib\\site-packages\\pyart\\io\\cfradial.py:384: RuntimeWarning: invalid value encountered in greater\n",
      "  data = self.ncvar[:]\n",
      "C:\\Users\\iac6311\\AppData\\Local\\Continuum\\anaconda3\\envs\\saveur\\lib\\site-packages\\pyart\\map\\gates_to_grid.py:177: DeprecationWarning: Barnes weighting function is deprecated. Please use Barnes 2 to be consistent with Pauley and Wu 1990.\n",
      "  \" Pauley and Wu 1990.\", DeprecationWarning)\n"
     ]
    },
    {
     "name": "stdout",
     "output_type": "stream",
     "text": [
      "."
     ]
    },
    {
     "name": "stderr",
     "output_type": "stream",
     "text": [
      "C:\\Users\\iac6311\\AppData\\Local\\Continuum\\anaconda3\\envs\\saveur\\lib\\site-packages\\pyart\\io\\cfradial.py:384: RuntimeWarning: invalid value encountered in less\n",
      "  data = self.ncvar[:]\n",
      "C:\\Users\\iac6311\\AppData\\Local\\Continuum\\anaconda3\\envs\\saveur\\lib\\site-packages\\pyart\\io\\cfradial.py:384: RuntimeWarning: invalid value encountered in greater\n",
      "  data = self.ncvar[:]\n",
      "C:\\Users\\iac6311\\AppData\\Local\\Continuum\\anaconda3\\envs\\saveur\\lib\\site-packages\\pyart\\map\\gates_to_grid.py:177: DeprecationWarning: Barnes weighting function is deprecated. Please use Barnes 2 to be consistent with Pauley and Wu 1990.\n",
      "  \" Pauley and Wu 1990.\", DeprecationWarning)\n"
     ]
    },
    {
     "name": "stdout",
     "output_type": "stream",
     "text": [
      "."
     ]
    },
    {
     "name": "stderr",
     "output_type": "stream",
     "text": [
      "C:\\Users\\iac6311\\AppData\\Local\\Continuum\\anaconda3\\envs\\saveur\\lib\\site-packages\\pyart\\io\\cfradial.py:384: RuntimeWarning: invalid value encountered in less\n",
      "  data = self.ncvar[:]\n",
      "C:\\Users\\iac6311\\AppData\\Local\\Continuum\\anaconda3\\envs\\saveur\\lib\\site-packages\\pyart\\io\\cfradial.py:384: RuntimeWarning: invalid value encountered in greater\n",
      "  data = self.ncvar[:]\n",
      "C:\\Users\\iac6311\\AppData\\Local\\Continuum\\anaconda3\\envs\\saveur\\lib\\site-packages\\pyart\\map\\gates_to_grid.py:177: DeprecationWarning: Barnes weighting function is deprecated. Please use Barnes 2 to be consistent with Pauley and Wu 1990.\n",
      "  \" Pauley and Wu 1990.\", DeprecationWarning)\n"
     ]
    },
    {
     "name": "stdout",
     "output_type": "stream",
     "text": [
      "."
     ]
    },
    {
     "name": "stderr",
     "output_type": "stream",
     "text": [
      "C:\\Users\\iac6311\\AppData\\Local\\Continuum\\anaconda3\\envs\\saveur\\lib\\site-packages\\pyart\\io\\cfradial.py:384: RuntimeWarning: invalid value encountered in less\n",
      "  data = self.ncvar[:]\n",
      "C:\\Users\\iac6311\\AppData\\Local\\Continuum\\anaconda3\\envs\\saveur\\lib\\site-packages\\pyart\\io\\cfradial.py:384: RuntimeWarning: invalid value encountered in greater\n",
      "  data = self.ncvar[:]\n",
      "C:\\Users\\iac6311\\AppData\\Local\\Continuum\\anaconda3\\envs\\saveur\\lib\\site-packages\\pyart\\map\\gates_to_grid.py:177: DeprecationWarning: Barnes weighting function is deprecated. Please use Barnes 2 to be consistent with Pauley and Wu 1990.\n",
      "  \" Pauley and Wu 1990.\", DeprecationWarning)\n"
     ]
    },
    {
     "name": "stdout",
     "output_type": "stream",
     "text": [
      "."
     ]
    },
    {
     "name": "stderr",
     "output_type": "stream",
     "text": [
      "C:\\Users\\iac6311\\AppData\\Local\\Continuum\\anaconda3\\envs\\saveur\\lib\\site-packages\\pyart\\io\\cfradial.py:384: RuntimeWarning: invalid value encountered in less\n",
      "  data = self.ncvar[:]\n",
      "C:\\Users\\iac6311\\AppData\\Local\\Continuum\\anaconda3\\envs\\saveur\\lib\\site-packages\\pyart\\io\\cfradial.py:384: RuntimeWarning: invalid value encountered in greater\n",
      "  data = self.ncvar[:]\n",
      "C:\\Users\\iac6311\\AppData\\Local\\Continuum\\anaconda3\\envs\\saveur\\lib\\site-packages\\pyart\\map\\gates_to_grid.py:177: DeprecationWarning: Barnes weighting function is deprecated. Please use Barnes 2 to be consistent with Pauley and Wu 1990.\n",
      "  \" Pauley and Wu 1990.\", DeprecationWarning)\n"
     ]
    },
    {
     "name": "stdout",
     "output_type": "stream",
     "text": [
      "."
     ]
    },
    {
     "name": "stderr",
     "output_type": "stream",
     "text": [
      "C:\\Users\\iac6311\\AppData\\Local\\Continuum\\anaconda3\\envs\\saveur\\lib\\site-packages\\pyart\\io\\cfradial.py:384: RuntimeWarning: invalid value encountered in less\n",
      "  data = self.ncvar[:]\n",
      "C:\\Users\\iac6311\\AppData\\Local\\Continuum\\anaconda3\\envs\\saveur\\lib\\site-packages\\pyart\\io\\cfradial.py:384: RuntimeWarning: invalid value encountered in greater\n",
      "  data = self.ncvar[:]\n",
      "C:\\Users\\iac6311\\AppData\\Local\\Continuum\\anaconda3\\envs\\saveur\\lib\\site-packages\\pyart\\map\\gates_to_grid.py:177: DeprecationWarning: Barnes weighting function is deprecated. Please use Barnes 2 to be consistent with Pauley and Wu 1990.\n",
      "  \" Pauley and Wu 1990.\", DeprecationWarning)\n"
     ]
    },
    {
     "name": "stdout",
     "output_type": "stream",
     "text": [
      "."
     ]
    },
    {
     "name": "stderr",
     "output_type": "stream",
     "text": [
      "C:\\Users\\iac6311\\AppData\\Local\\Continuum\\anaconda3\\envs\\saveur\\lib\\site-packages\\pyart\\io\\cfradial.py:384: RuntimeWarning: invalid value encountered in less\n",
      "  data = self.ncvar[:]\n",
      "C:\\Users\\iac6311\\AppData\\Local\\Continuum\\anaconda3\\envs\\saveur\\lib\\site-packages\\pyart\\io\\cfradial.py:384: RuntimeWarning: invalid value encountered in greater\n",
      "  data = self.ncvar[:]\n",
      "C:\\Users\\iac6311\\AppData\\Local\\Continuum\\anaconda3\\envs\\saveur\\lib\\site-packages\\pyart\\map\\gates_to_grid.py:177: DeprecationWarning: Barnes weighting function is deprecated. Please use Barnes 2 to be consistent with Pauley and Wu 1990.\n",
      "  \" Pauley and Wu 1990.\", DeprecationWarning)\n"
     ]
    },
    {
     "name": "stdout",
     "output_type": "stream",
     "text": [
      "."
     ]
    },
    {
     "name": "stderr",
     "output_type": "stream",
     "text": [
      "C:\\Users\\iac6311\\AppData\\Local\\Continuum\\anaconda3\\envs\\saveur\\lib\\site-packages\\pyart\\io\\cfradial.py:384: RuntimeWarning: invalid value encountered in less\n",
      "  data = self.ncvar[:]\n",
      "C:\\Users\\iac6311\\AppData\\Local\\Continuum\\anaconda3\\envs\\saveur\\lib\\site-packages\\pyart\\io\\cfradial.py:384: RuntimeWarning: invalid value encountered in greater\n",
      "  data = self.ncvar[:]\n",
      "C:\\Users\\iac6311\\AppData\\Local\\Continuum\\anaconda3\\envs\\saveur\\lib\\site-packages\\pyart\\map\\gates_to_grid.py:177: DeprecationWarning: Barnes weighting function is deprecated. Please use Barnes 2 to be consistent with Pauley and Wu 1990.\n",
      "  \" Pauley and Wu 1990.\", DeprecationWarning)\n"
     ]
    },
    {
     "name": "stdout",
     "output_type": "stream",
     "text": [
      "\n",
      "21\n",
      "."
     ]
    },
    {
     "name": "stderr",
     "output_type": "stream",
     "text": [
      "C:\\Users\\iac6311\\AppData\\Local\\Continuum\\anaconda3\\envs\\saveur\\lib\\site-packages\\pyart\\io\\cfradial.py:384: RuntimeWarning: invalid value encountered in less\n",
      "  data = self.ncvar[:]\n",
      "C:\\Users\\iac6311\\AppData\\Local\\Continuum\\anaconda3\\envs\\saveur\\lib\\site-packages\\pyart\\io\\cfradial.py:384: RuntimeWarning: invalid value encountered in greater\n",
      "  data = self.ncvar[:]\n",
      "C:\\Users\\iac6311\\AppData\\Local\\Continuum\\anaconda3\\envs\\saveur\\lib\\site-packages\\pyart\\map\\gates_to_grid.py:177: DeprecationWarning: Barnes weighting function is deprecated. Please use Barnes 2 to be consistent with Pauley and Wu 1990.\n",
      "  \" Pauley and Wu 1990.\", DeprecationWarning)\n"
     ]
    },
    {
     "name": "stdout",
     "output_type": "stream",
     "text": [
      "."
     ]
    },
    {
     "name": "stderr",
     "output_type": "stream",
     "text": [
      "C:\\Users\\iac6311\\AppData\\Local\\Continuum\\anaconda3\\envs\\saveur\\lib\\site-packages\\pyart\\io\\cfradial.py:384: RuntimeWarning: invalid value encountered in less\n",
      "  data = self.ncvar[:]\n",
      "C:\\Users\\iac6311\\AppData\\Local\\Continuum\\anaconda3\\envs\\saveur\\lib\\site-packages\\pyart\\io\\cfradial.py:384: RuntimeWarning: invalid value encountered in greater\n",
      "  data = self.ncvar[:]\n",
      "C:\\Users\\iac6311\\AppData\\Local\\Continuum\\anaconda3\\envs\\saveur\\lib\\site-packages\\pyart\\map\\gates_to_grid.py:177: DeprecationWarning: Barnes weighting function is deprecated. Please use Barnes 2 to be consistent with Pauley and Wu 1990.\n",
      "  \" Pauley and Wu 1990.\", DeprecationWarning)\n"
     ]
    },
    {
     "name": "stdout",
     "output_type": "stream",
     "text": [
      "."
     ]
    },
    {
     "name": "stderr",
     "output_type": "stream",
     "text": [
      "C:\\Users\\iac6311\\AppData\\Local\\Continuum\\anaconda3\\envs\\saveur\\lib\\site-packages\\pyart\\io\\cfradial.py:384: RuntimeWarning: invalid value encountered in less\n",
      "  data = self.ncvar[:]\n",
      "C:\\Users\\iac6311\\AppData\\Local\\Continuum\\anaconda3\\envs\\saveur\\lib\\site-packages\\pyart\\io\\cfradial.py:384: RuntimeWarning: invalid value encountered in greater\n",
      "  data = self.ncvar[:]\n",
      "C:\\Users\\iac6311\\AppData\\Local\\Continuum\\anaconda3\\envs\\saveur\\lib\\site-packages\\pyart\\map\\gates_to_grid.py:177: DeprecationWarning: Barnes weighting function is deprecated. Please use Barnes 2 to be consistent with Pauley and Wu 1990.\n",
      "  \" Pauley and Wu 1990.\", DeprecationWarning)\n"
     ]
    },
    {
     "name": "stdout",
     "output_type": "stream",
     "text": [
      "."
     ]
    },
    {
     "name": "stderr",
     "output_type": "stream",
     "text": [
      "C:\\Users\\iac6311\\AppData\\Local\\Continuum\\anaconda3\\envs\\saveur\\lib\\site-packages\\pyart\\io\\cfradial.py:384: RuntimeWarning: invalid value encountered in less\n",
      "  data = self.ncvar[:]\n",
      "C:\\Users\\iac6311\\AppData\\Local\\Continuum\\anaconda3\\envs\\saveur\\lib\\site-packages\\pyart\\io\\cfradial.py:384: RuntimeWarning: invalid value encountered in greater\n",
      "  data = self.ncvar[:]\n",
      "C:\\Users\\iac6311\\AppData\\Local\\Continuum\\anaconda3\\envs\\saveur\\lib\\site-packages\\pyart\\map\\gates_to_grid.py:177: DeprecationWarning: Barnes weighting function is deprecated. Please use Barnes 2 to be consistent with Pauley and Wu 1990.\n",
      "  \" Pauley and Wu 1990.\", DeprecationWarning)\n"
     ]
    },
    {
     "name": "stdout",
     "output_type": "stream",
     "text": [
      "."
     ]
    },
    {
     "name": "stderr",
     "output_type": "stream",
     "text": [
      "C:\\Users\\iac6311\\AppData\\Local\\Continuum\\anaconda3\\envs\\saveur\\lib\\site-packages\\pyart\\io\\cfradial.py:384: RuntimeWarning: invalid value encountered in less\n",
      "  data = self.ncvar[:]\n",
      "C:\\Users\\iac6311\\AppData\\Local\\Continuum\\anaconda3\\envs\\saveur\\lib\\site-packages\\pyart\\io\\cfradial.py:384: RuntimeWarning: invalid value encountered in greater\n",
      "  data = self.ncvar[:]\n",
      "C:\\Users\\iac6311\\AppData\\Local\\Continuum\\anaconda3\\envs\\saveur\\lib\\site-packages\\pyart\\map\\gates_to_grid.py:177: DeprecationWarning: Barnes weighting function is deprecated. Please use Barnes 2 to be consistent with Pauley and Wu 1990.\n",
      "  \" Pauley and Wu 1990.\", DeprecationWarning)\n"
     ]
    },
    {
     "name": "stdout",
     "output_type": "stream",
     "text": [
      "."
     ]
    },
    {
     "name": "stderr",
     "output_type": "stream",
     "text": [
      "C:\\Users\\iac6311\\AppData\\Local\\Continuum\\anaconda3\\envs\\saveur\\lib\\site-packages\\pyart\\io\\cfradial.py:384: RuntimeWarning: invalid value encountered in less\n",
      "  data = self.ncvar[:]\n",
      "C:\\Users\\iac6311\\AppData\\Local\\Continuum\\anaconda3\\envs\\saveur\\lib\\site-packages\\pyart\\io\\cfradial.py:384: RuntimeWarning: invalid value encountered in greater\n",
      "  data = self.ncvar[:]\n",
      "C:\\Users\\iac6311\\AppData\\Local\\Continuum\\anaconda3\\envs\\saveur\\lib\\site-packages\\pyart\\map\\gates_to_grid.py:177: DeprecationWarning: Barnes weighting function is deprecated. Please use Barnes 2 to be consistent with Pauley and Wu 1990.\n",
      "  \" Pauley and Wu 1990.\", DeprecationWarning)\n"
     ]
    },
    {
     "name": "stdout",
     "output_type": "stream",
     "text": [
      "."
     ]
    },
    {
     "name": "stderr",
     "output_type": "stream",
     "text": [
      "C:\\Users\\iac6311\\AppData\\Local\\Continuum\\anaconda3\\envs\\saveur\\lib\\site-packages\\pyart\\io\\cfradial.py:384: RuntimeWarning: invalid value encountered in less\n",
      "  data = self.ncvar[:]\n",
      "C:\\Users\\iac6311\\AppData\\Local\\Continuum\\anaconda3\\envs\\saveur\\lib\\site-packages\\pyart\\io\\cfradial.py:384: RuntimeWarning: invalid value encountered in greater\n",
      "  data = self.ncvar[:]\n",
      "C:\\Users\\iac6311\\AppData\\Local\\Continuum\\anaconda3\\envs\\saveur\\lib\\site-packages\\pyart\\map\\gates_to_grid.py:177: DeprecationWarning: Barnes weighting function is deprecated. Please use Barnes 2 to be consistent with Pauley and Wu 1990.\n",
      "  \" Pauley and Wu 1990.\", DeprecationWarning)\n"
     ]
    },
    {
     "name": "stdout",
     "output_type": "stream",
     "text": [
      "."
     ]
    },
    {
     "name": "stderr",
     "output_type": "stream",
     "text": [
      "C:\\Users\\iac6311\\AppData\\Local\\Continuum\\anaconda3\\envs\\saveur\\lib\\site-packages\\pyart\\io\\cfradial.py:384: RuntimeWarning: invalid value encountered in less\n",
      "  data = self.ncvar[:]\n",
      "C:\\Users\\iac6311\\AppData\\Local\\Continuum\\anaconda3\\envs\\saveur\\lib\\site-packages\\pyart\\io\\cfradial.py:384: RuntimeWarning: invalid value encountered in greater\n",
      "  data = self.ncvar[:]\n",
      "C:\\Users\\iac6311\\AppData\\Local\\Continuum\\anaconda3\\envs\\saveur\\lib\\site-packages\\pyart\\map\\gates_to_grid.py:177: DeprecationWarning: Barnes weighting function is deprecated. Please use Barnes 2 to be consistent with Pauley and Wu 1990.\n",
      "  \" Pauley and Wu 1990.\", DeprecationWarning)\n"
     ]
    },
    {
     "name": "stdout",
     "output_type": "stream",
     "text": [
      "."
     ]
    },
    {
     "name": "stderr",
     "output_type": "stream",
     "text": [
      "C:\\Users\\iac6311\\AppData\\Local\\Continuum\\anaconda3\\envs\\saveur\\lib\\site-packages\\pyart\\io\\cfradial.py:384: RuntimeWarning: invalid value encountered in less\n",
      "  data = self.ncvar[:]\n",
      "C:\\Users\\iac6311\\AppData\\Local\\Continuum\\anaconda3\\envs\\saveur\\lib\\site-packages\\pyart\\io\\cfradial.py:384: RuntimeWarning: invalid value encountered in greater\n",
      "  data = self.ncvar[:]\n",
      "C:\\Users\\iac6311\\AppData\\Local\\Continuum\\anaconda3\\envs\\saveur\\lib\\site-packages\\pyart\\map\\gates_to_grid.py:177: DeprecationWarning: Barnes weighting function is deprecated. Please use Barnes 2 to be consistent with Pauley and Wu 1990.\n",
      "  \" Pauley and Wu 1990.\", DeprecationWarning)\n"
     ]
    },
    {
     "name": "stdout",
     "output_type": "stream",
     "text": [
      "."
     ]
    },
    {
     "name": "stderr",
     "output_type": "stream",
     "text": [
      "C:\\Users\\iac6311\\AppData\\Local\\Continuum\\anaconda3\\envs\\saveur\\lib\\site-packages\\pyart\\io\\cfradial.py:384: RuntimeWarning: invalid value encountered in less\n",
      "  data = self.ncvar[:]\n",
      "C:\\Users\\iac6311\\AppData\\Local\\Continuum\\anaconda3\\envs\\saveur\\lib\\site-packages\\pyart\\io\\cfradial.py:384: RuntimeWarning: invalid value encountered in greater\n",
      "  data = self.ncvar[:]\n",
      "C:\\Users\\iac6311\\AppData\\Local\\Continuum\\anaconda3\\envs\\saveur\\lib\\site-packages\\pyart\\map\\gates_to_grid.py:177: DeprecationWarning: Barnes weighting function is deprecated. Please use Barnes 2 to be consistent with Pauley and Wu 1990.\n",
      "  \" Pauley and Wu 1990.\", DeprecationWarning)\n"
     ]
    },
    {
     "name": "stdout",
     "output_type": "stream",
     "text": [
      "."
     ]
    },
    {
     "name": "stderr",
     "output_type": "stream",
     "text": [
      "C:\\Users\\iac6311\\AppData\\Local\\Continuum\\anaconda3\\envs\\saveur\\lib\\site-packages\\pyart\\io\\cfradial.py:384: RuntimeWarning: invalid value encountered in less\n",
      "  data = self.ncvar[:]\n",
      "C:\\Users\\iac6311\\AppData\\Local\\Continuum\\anaconda3\\envs\\saveur\\lib\\site-packages\\pyart\\io\\cfradial.py:384: RuntimeWarning: invalid value encountered in greater\n",
      "  data = self.ncvar[:]\n",
      "C:\\Users\\iac6311\\AppData\\Local\\Continuum\\anaconda3\\envs\\saveur\\lib\\site-packages\\pyart\\map\\gates_to_grid.py:177: DeprecationWarning: Barnes weighting function is deprecated. Please use Barnes 2 to be consistent with Pauley and Wu 1990.\n",
      "  \" Pauley and Wu 1990.\", DeprecationWarning)\n"
     ]
    },
    {
     "name": "stdout",
     "output_type": "stream",
     "text": [
      "."
     ]
    },
    {
     "name": "stderr",
     "output_type": "stream",
     "text": [
      "C:\\Users\\iac6311\\AppData\\Local\\Continuum\\anaconda3\\envs\\saveur\\lib\\site-packages\\pyart\\io\\cfradial.py:384: RuntimeWarning: invalid value encountered in less\n",
      "  data = self.ncvar[:]\n",
      "C:\\Users\\iac6311\\AppData\\Local\\Continuum\\anaconda3\\envs\\saveur\\lib\\site-packages\\pyart\\io\\cfradial.py:384: RuntimeWarning: invalid value encountered in greater\n",
      "  data = self.ncvar[:]\n",
      "C:\\Users\\iac6311\\AppData\\Local\\Continuum\\anaconda3\\envs\\saveur\\lib\\site-packages\\pyart\\map\\gates_to_grid.py:177: DeprecationWarning: Barnes weighting function is deprecated. Please use Barnes 2 to be consistent with Pauley and Wu 1990.\n",
      "  \" Pauley and Wu 1990.\", DeprecationWarning)\n"
     ]
    },
    {
     "name": "stdout",
     "output_type": "stream",
     "text": [
      "."
     ]
    },
    {
     "name": "stderr",
     "output_type": "stream",
     "text": [
      "C:\\Users\\iac6311\\AppData\\Local\\Continuum\\anaconda3\\envs\\saveur\\lib\\site-packages\\pyart\\io\\cfradial.py:384: RuntimeWarning: invalid value encountered in less\n",
      "  data = self.ncvar[:]\n",
      "C:\\Users\\iac6311\\AppData\\Local\\Continuum\\anaconda3\\envs\\saveur\\lib\\site-packages\\pyart\\io\\cfradial.py:384: RuntimeWarning: invalid value encountered in greater\n",
      "  data = self.ncvar[:]\n",
      "C:\\Users\\iac6311\\AppData\\Local\\Continuum\\anaconda3\\envs\\saveur\\lib\\site-packages\\pyart\\map\\gates_to_grid.py:177: DeprecationWarning: Barnes weighting function is deprecated. Please use Barnes 2 to be consistent with Pauley and Wu 1990.\n",
      "  \" Pauley and Wu 1990.\", DeprecationWarning)\n"
     ]
    },
    {
     "name": "stdout",
     "output_type": "stream",
     "text": [
      "."
     ]
    },
    {
     "name": "stderr",
     "output_type": "stream",
     "text": [
      "C:\\Users\\iac6311\\AppData\\Local\\Continuum\\anaconda3\\envs\\saveur\\lib\\site-packages\\pyart\\io\\cfradial.py:384: RuntimeWarning: invalid value encountered in less\n",
      "  data = self.ncvar[:]\n",
      "C:\\Users\\iac6311\\AppData\\Local\\Continuum\\anaconda3\\envs\\saveur\\lib\\site-packages\\pyart\\io\\cfradial.py:384: RuntimeWarning: invalid value encountered in greater\n",
      "  data = self.ncvar[:]\n",
      "C:\\Users\\iac6311\\AppData\\Local\\Continuum\\anaconda3\\envs\\saveur\\lib\\site-packages\\pyart\\map\\gates_to_grid.py:177: DeprecationWarning: Barnes weighting function is deprecated. Please use Barnes 2 to be consistent with Pauley and Wu 1990.\n",
      "  \" Pauley and Wu 1990.\", DeprecationWarning)\n"
     ]
    },
    {
     "name": "stdout",
     "output_type": "stream",
     "text": [
      "\n",
      "22\n",
      "."
     ]
    },
    {
     "name": "stderr",
     "output_type": "stream",
     "text": [
      "C:\\Users\\iac6311\\AppData\\Local\\Continuum\\anaconda3\\envs\\saveur\\lib\\site-packages\\pyart\\io\\cfradial.py:384: RuntimeWarning: invalid value encountered in less\n",
      "  data = self.ncvar[:]\n",
      "C:\\Users\\iac6311\\AppData\\Local\\Continuum\\anaconda3\\envs\\saveur\\lib\\site-packages\\pyart\\io\\cfradial.py:384: RuntimeWarning: invalid value encountered in greater\n",
      "  data = self.ncvar[:]\n",
      "C:\\Users\\iac6311\\AppData\\Local\\Continuum\\anaconda3\\envs\\saveur\\lib\\site-packages\\pyart\\map\\gates_to_grid.py:177: DeprecationWarning: Barnes weighting function is deprecated. Please use Barnes 2 to be consistent with Pauley and Wu 1990.\n",
      "  \" Pauley and Wu 1990.\", DeprecationWarning)\n"
     ]
    },
    {
     "name": "stdout",
     "output_type": "stream",
     "text": [
      "."
     ]
    },
    {
     "name": "stderr",
     "output_type": "stream",
     "text": [
      "C:\\Users\\iac6311\\AppData\\Local\\Continuum\\anaconda3\\envs\\saveur\\lib\\site-packages\\pyart\\io\\cfradial.py:384: RuntimeWarning: invalid value encountered in less\n",
      "  data = self.ncvar[:]\n",
      "C:\\Users\\iac6311\\AppData\\Local\\Continuum\\anaconda3\\envs\\saveur\\lib\\site-packages\\pyart\\io\\cfradial.py:384: RuntimeWarning: invalid value encountered in greater\n",
      "  data = self.ncvar[:]\n",
      "C:\\Users\\iac6311\\AppData\\Local\\Continuum\\anaconda3\\envs\\saveur\\lib\\site-packages\\pyart\\map\\gates_to_grid.py:177: DeprecationWarning: Barnes weighting function is deprecated. Please use Barnes 2 to be consistent with Pauley and Wu 1990.\n",
      "  \" Pauley and Wu 1990.\", DeprecationWarning)\n"
     ]
    },
    {
     "name": "stdout",
     "output_type": "stream",
     "text": [
      "."
     ]
    },
    {
     "name": "stderr",
     "output_type": "stream",
     "text": [
      "C:\\Users\\iac6311\\AppData\\Local\\Continuum\\anaconda3\\envs\\saveur\\lib\\site-packages\\pyart\\io\\cfradial.py:384: RuntimeWarning: invalid value encountered in less\n",
      "  data = self.ncvar[:]\n",
      "C:\\Users\\iac6311\\AppData\\Local\\Continuum\\anaconda3\\envs\\saveur\\lib\\site-packages\\pyart\\io\\cfradial.py:384: RuntimeWarning: invalid value encountered in greater\n",
      "  data = self.ncvar[:]\n",
      "C:\\Users\\iac6311\\AppData\\Local\\Continuum\\anaconda3\\envs\\saveur\\lib\\site-packages\\pyart\\map\\gates_to_grid.py:177: DeprecationWarning: Barnes weighting function is deprecated. Please use Barnes 2 to be consistent with Pauley and Wu 1990.\n",
      "  \" Pauley and Wu 1990.\", DeprecationWarning)\n"
     ]
    },
    {
     "name": "stdout",
     "output_type": "stream",
     "text": [
      "."
     ]
    },
    {
     "name": "stderr",
     "output_type": "stream",
     "text": [
      "C:\\Users\\iac6311\\AppData\\Local\\Continuum\\anaconda3\\envs\\saveur\\lib\\site-packages\\pyart\\io\\cfradial.py:384: RuntimeWarning: invalid value encountered in less\n",
      "  data = self.ncvar[:]\n",
      "C:\\Users\\iac6311\\AppData\\Local\\Continuum\\anaconda3\\envs\\saveur\\lib\\site-packages\\pyart\\io\\cfradial.py:384: RuntimeWarning: invalid value encountered in greater\n",
      "  data = self.ncvar[:]\n",
      "C:\\Users\\iac6311\\AppData\\Local\\Continuum\\anaconda3\\envs\\saveur\\lib\\site-packages\\pyart\\map\\gates_to_grid.py:177: DeprecationWarning: Barnes weighting function is deprecated. Please use Barnes 2 to be consistent with Pauley and Wu 1990.\n",
      "  \" Pauley and Wu 1990.\", DeprecationWarning)\n"
     ]
    },
    {
     "name": "stdout",
     "output_type": "stream",
     "text": [
      "."
     ]
    },
    {
     "name": "stderr",
     "output_type": "stream",
     "text": [
      "C:\\Users\\iac6311\\AppData\\Local\\Continuum\\anaconda3\\envs\\saveur\\lib\\site-packages\\pyart\\io\\cfradial.py:384: RuntimeWarning: invalid value encountered in less\n",
      "  data = self.ncvar[:]\n",
      "C:\\Users\\iac6311\\AppData\\Local\\Continuum\\anaconda3\\envs\\saveur\\lib\\site-packages\\pyart\\io\\cfradial.py:384: RuntimeWarning: invalid value encountered in greater\n",
      "  data = self.ncvar[:]\n",
      "C:\\Users\\iac6311\\AppData\\Local\\Continuum\\anaconda3\\envs\\saveur\\lib\\site-packages\\pyart\\map\\gates_to_grid.py:177: DeprecationWarning: Barnes weighting function is deprecated. Please use Barnes 2 to be consistent with Pauley and Wu 1990.\n",
      "  \" Pauley and Wu 1990.\", DeprecationWarning)\n"
     ]
    },
    {
     "name": "stdout",
     "output_type": "stream",
     "text": [
      "."
     ]
    },
    {
     "name": "stderr",
     "output_type": "stream",
     "text": [
      "C:\\Users\\iac6311\\AppData\\Local\\Continuum\\anaconda3\\envs\\saveur\\lib\\site-packages\\pyart\\io\\cfradial.py:384: RuntimeWarning: invalid value encountered in less\n",
      "  data = self.ncvar[:]\n",
      "C:\\Users\\iac6311\\AppData\\Local\\Continuum\\anaconda3\\envs\\saveur\\lib\\site-packages\\pyart\\io\\cfradial.py:384: RuntimeWarning: invalid value encountered in greater\n",
      "  data = self.ncvar[:]\n",
      "C:\\Users\\iac6311\\AppData\\Local\\Continuum\\anaconda3\\envs\\saveur\\lib\\site-packages\\pyart\\map\\gates_to_grid.py:177: DeprecationWarning: Barnes weighting function is deprecated. Please use Barnes 2 to be consistent with Pauley and Wu 1990.\n",
      "  \" Pauley and Wu 1990.\", DeprecationWarning)\n"
     ]
    },
    {
     "name": "stdout",
     "output_type": "stream",
     "text": [
      "."
     ]
    },
    {
     "name": "stderr",
     "output_type": "stream",
     "text": [
      "C:\\Users\\iac6311\\AppData\\Local\\Continuum\\anaconda3\\envs\\saveur\\lib\\site-packages\\pyart\\io\\cfradial.py:384: RuntimeWarning: invalid value encountered in less\n",
      "  data = self.ncvar[:]\n",
      "C:\\Users\\iac6311\\AppData\\Local\\Continuum\\anaconda3\\envs\\saveur\\lib\\site-packages\\pyart\\io\\cfradial.py:384: RuntimeWarning: invalid value encountered in greater\n",
      "  data = self.ncvar[:]\n",
      "C:\\Users\\iac6311\\AppData\\Local\\Continuum\\anaconda3\\envs\\saveur\\lib\\site-packages\\pyart\\map\\gates_to_grid.py:177: DeprecationWarning: Barnes weighting function is deprecated. Please use Barnes 2 to be consistent with Pauley and Wu 1990.\n",
      "  \" Pauley and Wu 1990.\", DeprecationWarning)\n"
     ]
    },
    {
     "name": "stdout",
     "output_type": "stream",
     "text": [
      "."
     ]
    },
    {
     "name": "stderr",
     "output_type": "stream",
     "text": [
      "C:\\Users\\iac6311\\AppData\\Local\\Continuum\\anaconda3\\envs\\saveur\\lib\\site-packages\\pyart\\io\\cfradial.py:384: RuntimeWarning: invalid value encountered in less\n",
      "  data = self.ncvar[:]\n",
      "C:\\Users\\iac6311\\AppData\\Local\\Continuum\\anaconda3\\envs\\saveur\\lib\\site-packages\\pyart\\io\\cfradial.py:384: RuntimeWarning: invalid value encountered in greater\n",
      "  data = self.ncvar[:]\n",
      "C:\\Users\\iac6311\\AppData\\Local\\Continuum\\anaconda3\\envs\\saveur\\lib\\site-packages\\pyart\\map\\gates_to_grid.py:177: DeprecationWarning: Barnes weighting function is deprecated. Please use Barnes 2 to be consistent with Pauley and Wu 1990.\n",
      "  \" Pauley and Wu 1990.\", DeprecationWarning)\n"
     ]
    },
    {
     "name": "stdout",
     "output_type": "stream",
     "text": [
      "."
     ]
    },
    {
     "name": "stderr",
     "output_type": "stream",
     "text": [
      "C:\\Users\\iac6311\\AppData\\Local\\Continuum\\anaconda3\\envs\\saveur\\lib\\site-packages\\pyart\\io\\cfradial.py:384: RuntimeWarning: invalid value encountered in less\n",
      "  data = self.ncvar[:]\n",
      "C:\\Users\\iac6311\\AppData\\Local\\Continuum\\anaconda3\\envs\\saveur\\lib\\site-packages\\pyart\\io\\cfradial.py:384: RuntimeWarning: invalid value encountered in greater\n",
      "  data = self.ncvar[:]\n",
      "C:\\Users\\iac6311\\AppData\\Local\\Continuum\\anaconda3\\envs\\saveur\\lib\\site-packages\\pyart\\map\\gates_to_grid.py:177: DeprecationWarning: Barnes weighting function is deprecated. Please use Barnes 2 to be consistent with Pauley and Wu 1990.\n",
      "  \" Pauley and Wu 1990.\", DeprecationWarning)\n"
     ]
    },
    {
     "name": "stdout",
     "output_type": "stream",
     "text": [
      "."
     ]
    },
    {
     "name": "stderr",
     "output_type": "stream",
     "text": [
      "C:\\Users\\iac6311\\AppData\\Local\\Continuum\\anaconda3\\envs\\saveur\\lib\\site-packages\\pyart\\io\\cfradial.py:384: RuntimeWarning: invalid value encountered in less\n",
      "  data = self.ncvar[:]\n",
      "C:\\Users\\iac6311\\AppData\\Local\\Continuum\\anaconda3\\envs\\saveur\\lib\\site-packages\\pyart\\io\\cfradial.py:384: RuntimeWarning: invalid value encountered in greater\n",
      "  data = self.ncvar[:]\n",
      "C:\\Users\\iac6311\\AppData\\Local\\Continuum\\anaconda3\\envs\\saveur\\lib\\site-packages\\pyart\\map\\gates_to_grid.py:177: DeprecationWarning: Barnes weighting function is deprecated. Please use Barnes 2 to be consistent with Pauley and Wu 1990.\n",
      "  \" Pauley and Wu 1990.\", DeprecationWarning)\n"
     ]
    },
    {
     "name": "stdout",
     "output_type": "stream",
     "text": [
      "."
     ]
    },
    {
     "name": "stderr",
     "output_type": "stream",
     "text": [
      "C:\\Users\\iac6311\\AppData\\Local\\Continuum\\anaconda3\\envs\\saveur\\lib\\site-packages\\pyart\\io\\cfradial.py:384: RuntimeWarning: invalid value encountered in less\n",
      "  data = self.ncvar[:]\n",
      "C:\\Users\\iac6311\\AppData\\Local\\Continuum\\anaconda3\\envs\\saveur\\lib\\site-packages\\pyart\\io\\cfradial.py:384: RuntimeWarning: invalid value encountered in greater\n",
      "  data = self.ncvar[:]\n",
      "C:\\Users\\iac6311\\AppData\\Local\\Continuum\\anaconda3\\envs\\saveur\\lib\\site-packages\\pyart\\map\\gates_to_grid.py:177: DeprecationWarning: Barnes weighting function is deprecated. Please use Barnes 2 to be consistent with Pauley and Wu 1990.\n",
      "  \" Pauley and Wu 1990.\", DeprecationWarning)\n"
     ]
    },
    {
     "name": "stdout",
     "output_type": "stream",
     "text": [
      "."
     ]
    },
    {
     "name": "stderr",
     "output_type": "stream",
     "text": [
      "C:\\Users\\iac6311\\AppData\\Local\\Continuum\\anaconda3\\envs\\saveur\\lib\\site-packages\\pyart\\io\\cfradial.py:384: RuntimeWarning: invalid value encountered in less\n",
      "  data = self.ncvar[:]\n",
      "C:\\Users\\iac6311\\AppData\\Local\\Continuum\\anaconda3\\envs\\saveur\\lib\\site-packages\\pyart\\io\\cfradial.py:384: RuntimeWarning: invalid value encountered in greater\n",
      "  data = self.ncvar[:]\n",
      "C:\\Users\\iac6311\\AppData\\Local\\Continuum\\anaconda3\\envs\\saveur\\lib\\site-packages\\pyart\\map\\gates_to_grid.py:177: DeprecationWarning: Barnes weighting function is deprecated. Please use Barnes 2 to be consistent with Pauley and Wu 1990.\n",
      "  \" Pauley and Wu 1990.\", DeprecationWarning)\n"
     ]
    },
    {
     "name": "stdout",
     "output_type": "stream",
     "text": [
      "."
     ]
    },
    {
     "name": "stderr",
     "output_type": "stream",
     "text": [
      "C:\\Users\\iac6311\\AppData\\Local\\Continuum\\anaconda3\\envs\\saveur\\lib\\site-packages\\pyart\\io\\cfradial.py:384: RuntimeWarning: invalid value encountered in less\n",
      "  data = self.ncvar[:]\n",
      "C:\\Users\\iac6311\\AppData\\Local\\Continuum\\anaconda3\\envs\\saveur\\lib\\site-packages\\pyart\\io\\cfradial.py:384: RuntimeWarning: invalid value encountered in greater\n",
      "  data = self.ncvar[:]\n",
      "C:\\Users\\iac6311\\AppData\\Local\\Continuum\\anaconda3\\envs\\saveur\\lib\\site-packages\\pyart\\map\\gates_to_grid.py:177: DeprecationWarning: Barnes weighting function is deprecated. Please use Barnes 2 to be consistent with Pauley and Wu 1990.\n",
      "  \" Pauley and Wu 1990.\", DeprecationWarning)\n"
     ]
    },
    {
     "name": "stdout",
     "output_type": "stream",
     "text": [
      "."
     ]
    },
    {
     "name": "stderr",
     "output_type": "stream",
     "text": [
      "C:\\Users\\iac6311\\AppData\\Local\\Continuum\\anaconda3\\envs\\saveur\\lib\\site-packages\\pyart\\io\\cfradial.py:384: RuntimeWarning: invalid value encountered in less\n",
      "  data = self.ncvar[:]\n",
      "C:\\Users\\iac6311\\AppData\\Local\\Continuum\\anaconda3\\envs\\saveur\\lib\\site-packages\\pyart\\io\\cfradial.py:384: RuntimeWarning: invalid value encountered in greater\n",
      "  data = self.ncvar[:]\n",
      "C:\\Users\\iac6311\\AppData\\Local\\Continuum\\anaconda3\\envs\\saveur\\lib\\site-packages\\pyart\\map\\gates_to_grid.py:177: DeprecationWarning: Barnes weighting function is deprecated. Please use Barnes 2 to be consistent with Pauley and Wu 1990.\n",
      "  \" Pauley and Wu 1990.\", DeprecationWarning)\n"
     ]
    },
    {
     "name": "stdout",
     "output_type": "stream",
     "text": [
      "\n",
      "23\n",
      "."
     ]
    },
    {
     "name": "stderr",
     "output_type": "stream",
     "text": [
      "C:\\Users\\iac6311\\AppData\\Local\\Continuum\\anaconda3\\envs\\saveur\\lib\\site-packages\\pyart\\io\\cfradial.py:384: RuntimeWarning: invalid value encountered in less\n",
      "  data = self.ncvar[:]\n",
      "C:\\Users\\iac6311\\AppData\\Local\\Continuum\\anaconda3\\envs\\saveur\\lib\\site-packages\\pyart\\io\\cfradial.py:384: RuntimeWarning: invalid value encountered in greater\n",
      "  data = self.ncvar[:]\n",
      "C:\\Users\\iac6311\\AppData\\Local\\Continuum\\anaconda3\\envs\\saveur\\lib\\site-packages\\pyart\\map\\gates_to_grid.py:177: DeprecationWarning: Barnes weighting function is deprecated. Please use Barnes 2 to be consistent with Pauley and Wu 1990.\n",
      "  \" Pauley and Wu 1990.\", DeprecationWarning)\n"
     ]
    },
    {
     "name": "stdout",
     "output_type": "stream",
     "text": [
      "."
     ]
    },
    {
     "name": "stderr",
     "output_type": "stream",
     "text": [
      "C:\\Users\\iac6311\\AppData\\Local\\Continuum\\anaconda3\\envs\\saveur\\lib\\site-packages\\pyart\\io\\cfradial.py:384: RuntimeWarning: invalid value encountered in less\n",
      "  data = self.ncvar[:]\n",
      "C:\\Users\\iac6311\\AppData\\Local\\Continuum\\anaconda3\\envs\\saveur\\lib\\site-packages\\pyart\\io\\cfradial.py:384: RuntimeWarning: invalid value encountered in greater\n",
      "  data = self.ncvar[:]\n",
      "C:\\Users\\iac6311\\AppData\\Local\\Continuum\\anaconda3\\envs\\saveur\\lib\\site-packages\\pyart\\map\\gates_to_grid.py:177: DeprecationWarning: Barnes weighting function is deprecated. Please use Barnes 2 to be consistent with Pauley and Wu 1990.\n",
      "  \" Pauley and Wu 1990.\", DeprecationWarning)\n"
     ]
    },
    {
     "name": "stdout",
     "output_type": "stream",
     "text": [
      "."
     ]
    },
    {
     "name": "stderr",
     "output_type": "stream",
     "text": [
      "C:\\Users\\iac6311\\AppData\\Local\\Continuum\\anaconda3\\envs\\saveur\\lib\\site-packages\\pyart\\io\\cfradial.py:384: RuntimeWarning: invalid value encountered in less\n",
      "  data = self.ncvar[:]\n",
      "C:\\Users\\iac6311\\AppData\\Local\\Continuum\\anaconda3\\envs\\saveur\\lib\\site-packages\\pyart\\io\\cfradial.py:384: RuntimeWarning: invalid value encountered in greater\n",
      "  data = self.ncvar[:]\n",
      "C:\\Users\\iac6311\\AppData\\Local\\Continuum\\anaconda3\\envs\\saveur\\lib\\site-packages\\pyart\\map\\gates_to_grid.py:177: DeprecationWarning: Barnes weighting function is deprecated. Please use Barnes 2 to be consistent with Pauley and Wu 1990.\n",
      "  \" Pauley and Wu 1990.\", DeprecationWarning)\n"
     ]
    },
    {
     "name": "stdout",
     "output_type": "stream",
     "text": [
      "."
     ]
    },
    {
     "name": "stderr",
     "output_type": "stream",
     "text": [
      "C:\\Users\\iac6311\\AppData\\Local\\Continuum\\anaconda3\\envs\\saveur\\lib\\site-packages\\pyart\\io\\cfradial.py:384: RuntimeWarning: invalid value encountered in less\n",
      "  data = self.ncvar[:]\n",
      "C:\\Users\\iac6311\\AppData\\Local\\Continuum\\anaconda3\\envs\\saveur\\lib\\site-packages\\pyart\\io\\cfradial.py:384: RuntimeWarning: invalid value encountered in greater\n",
      "  data = self.ncvar[:]\n",
      "C:\\Users\\iac6311\\AppData\\Local\\Continuum\\anaconda3\\envs\\saveur\\lib\\site-packages\\pyart\\map\\gates_to_grid.py:177: DeprecationWarning: Barnes weighting function is deprecated. Please use Barnes 2 to be consistent with Pauley and Wu 1990.\n",
      "  \" Pauley and Wu 1990.\", DeprecationWarning)\n"
     ]
    },
    {
     "name": "stdout",
     "output_type": "stream",
     "text": [
      "."
     ]
    },
    {
     "name": "stderr",
     "output_type": "stream",
     "text": [
      "C:\\Users\\iac6311\\AppData\\Local\\Continuum\\anaconda3\\envs\\saveur\\lib\\site-packages\\pyart\\io\\cfradial.py:384: RuntimeWarning: invalid value encountered in less\n",
      "  data = self.ncvar[:]\n",
      "C:\\Users\\iac6311\\AppData\\Local\\Continuum\\anaconda3\\envs\\saveur\\lib\\site-packages\\pyart\\io\\cfradial.py:384: RuntimeWarning: invalid value encountered in greater\n",
      "  data = self.ncvar[:]\n",
      "C:\\Users\\iac6311\\AppData\\Local\\Continuum\\anaconda3\\envs\\saveur\\lib\\site-packages\\pyart\\map\\gates_to_grid.py:177: DeprecationWarning: Barnes weighting function is deprecated. Please use Barnes 2 to be consistent with Pauley and Wu 1990.\n",
      "  \" Pauley and Wu 1990.\", DeprecationWarning)\n"
     ]
    },
    {
     "name": "stdout",
     "output_type": "stream",
     "text": [
      "."
     ]
    },
    {
     "name": "stderr",
     "output_type": "stream",
     "text": [
      "C:\\Users\\iac6311\\AppData\\Local\\Continuum\\anaconda3\\envs\\saveur\\lib\\site-packages\\pyart\\io\\cfradial.py:384: RuntimeWarning: invalid value encountered in less\n",
      "  data = self.ncvar[:]\n",
      "C:\\Users\\iac6311\\AppData\\Local\\Continuum\\anaconda3\\envs\\saveur\\lib\\site-packages\\pyart\\io\\cfradial.py:384: RuntimeWarning: invalid value encountered in greater\n",
      "  data = self.ncvar[:]\n",
      "C:\\Users\\iac6311\\AppData\\Local\\Continuum\\anaconda3\\envs\\saveur\\lib\\site-packages\\pyart\\map\\gates_to_grid.py:177: DeprecationWarning: Barnes weighting function is deprecated. Please use Barnes 2 to be consistent with Pauley and Wu 1990.\n",
      "  \" Pauley and Wu 1990.\", DeprecationWarning)\n"
     ]
    },
    {
     "name": "stdout",
     "output_type": "stream",
     "text": [
      "."
     ]
    },
    {
     "name": "stderr",
     "output_type": "stream",
     "text": [
      "C:\\Users\\iac6311\\AppData\\Local\\Continuum\\anaconda3\\envs\\saveur\\lib\\site-packages\\pyart\\io\\cfradial.py:384: RuntimeWarning: invalid value encountered in less\n",
      "  data = self.ncvar[:]\n",
      "C:\\Users\\iac6311\\AppData\\Local\\Continuum\\anaconda3\\envs\\saveur\\lib\\site-packages\\pyart\\io\\cfradial.py:384: RuntimeWarning: invalid value encountered in greater\n",
      "  data = self.ncvar[:]\n",
      "C:\\Users\\iac6311\\AppData\\Local\\Continuum\\anaconda3\\envs\\saveur\\lib\\site-packages\\pyart\\map\\gates_to_grid.py:177: DeprecationWarning: Barnes weighting function is deprecated. Please use Barnes 2 to be consistent with Pauley and Wu 1990.\n",
      "  \" Pauley and Wu 1990.\", DeprecationWarning)\n"
     ]
    },
    {
     "name": "stdout",
     "output_type": "stream",
     "text": [
      "."
     ]
    },
    {
     "name": "stderr",
     "output_type": "stream",
     "text": [
      "C:\\Users\\iac6311\\AppData\\Local\\Continuum\\anaconda3\\envs\\saveur\\lib\\site-packages\\pyart\\io\\cfradial.py:384: RuntimeWarning: invalid value encountered in less\n",
      "  data = self.ncvar[:]\n",
      "C:\\Users\\iac6311\\AppData\\Local\\Continuum\\anaconda3\\envs\\saveur\\lib\\site-packages\\pyart\\io\\cfradial.py:384: RuntimeWarning: invalid value encountered in greater\n",
      "  data = self.ncvar[:]\n",
      "C:\\Users\\iac6311\\AppData\\Local\\Continuum\\anaconda3\\envs\\saveur\\lib\\site-packages\\pyart\\map\\gates_to_grid.py:177: DeprecationWarning: Barnes weighting function is deprecated. Please use Barnes 2 to be consistent with Pauley and Wu 1990.\n",
      "  \" Pauley and Wu 1990.\", DeprecationWarning)\n"
     ]
    },
    {
     "name": "stdout",
     "output_type": "stream",
     "text": [
      "."
     ]
    },
    {
     "name": "stderr",
     "output_type": "stream",
     "text": [
      "C:\\Users\\iac6311\\AppData\\Local\\Continuum\\anaconda3\\envs\\saveur\\lib\\site-packages\\pyart\\io\\cfradial.py:384: RuntimeWarning: invalid value encountered in less\n",
      "  data = self.ncvar[:]\n",
      "C:\\Users\\iac6311\\AppData\\Local\\Continuum\\anaconda3\\envs\\saveur\\lib\\site-packages\\pyart\\io\\cfradial.py:384: RuntimeWarning: invalid value encountered in greater\n",
      "  data = self.ncvar[:]\n",
      "C:\\Users\\iac6311\\AppData\\Local\\Continuum\\anaconda3\\envs\\saveur\\lib\\site-packages\\pyart\\map\\gates_to_grid.py:177: DeprecationWarning: Barnes weighting function is deprecated. Please use Barnes 2 to be consistent with Pauley and Wu 1990.\n",
      "  \" Pauley and Wu 1990.\", DeprecationWarning)\n"
     ]
    },
    {
     "name": "stdout",
     "output_type": "stream",
     "text": [
      "."
     ]
    },
    {
     "name": "stderr",
     "output_type": "stream",
     "text": [
      "C:\\Users\\iac6311\\AppData\\Local\\Continuum\\anaconda3\\envs\\saveur\\lib\\site-packages\\pyart\\io\\cfradial.py:384: RuntimeWarning: invalid value encountered in less\n",
      "  data = self.ncvar[:]\n",
      "C:\\Users\\iac6311\\AppData\\Local\\Continuum\\anaconda3\\envs\\saveur\\lib\\site-packages\\pyart\\io\\cfradial.py:384: RuntimeWarning: invalid value encountered in greater\n",
      "  data = self.ncvar[:]\n",
      "C:\\Users\\iac6311\\AppData\\Local\\Continuum\\anaconda3\\envs\\saveur\\lib\\site-packages\\pyart\\map\\gates_to_grid.py:177: DeprecationWarning: Barnes weighting function is deprecated. Please use Barnes 2 to be consistent with Pauley and Wu 1990.\n",
      "  \" Pauley and Wu 1990.\", DeprecationWarning)\n"
     ]
    },
    {
     "name": "stdout",
     "output_type": "stream",
     "text": [
      "."
     ]
    },
    {
     "name": "stderr",
     "output_type": "stream",
     "text": [
      "C:\\Users\\iac6311\\AppData\\Local\\Continuum\\anaconda3\\envs\\saveur\\lib\\site-packages\\pyart\\io\\cfradial.py:384: RuntimeWarning: invalid value encountered in less\n",
      "  data = self.ncvar[:]\n",
      "C:\\Users\\iac6311\\AppData\\Local\\Continuum\\anaconda3\\envs\\saveur\\lib\\site-packages\\pyart\\io\\cfradial.py:384: RuntimeWarning: invalid value encountered in greater\n",
      "  data = self.ncvar[:]\n",
      "C:\\Users\\iac6311\\AppData\\Local\\Continuum\\anaconda3\\envs\\saveur\\lib\\site-packages\\pyart\\map\\gates_to_grid.py:177: DeprecationWarning: Barnes weighting function is deprecated. Please use Barnes 2 to be consistent with Pauley and Wu 1990.\n",
      "  \" Pauley and Wu 1990.\", DeprecationWarning)\n"
     ]
    },
    {
     "name": "stdout",
     "output_type": "stream",
     "text": [
      "."
     ]
    },
    {
     "name": "stderr",
     "output_type": "stream",
     "text": [
      "C:\\Users\\iac6311\\AppData\\Local\\Continuum\\anaconda3\\envs\\saveur\\lib\\site-packages\\pyart\\io\\cfradial.py:384: RuntimeWarning: invalid value encountered in less\n",
      "  data = self.ncvar[:]\n",
      "C:\\Users\\iac6311\\AppData\\Local\\Continuum\\anaconda3\\envs\\saveur\\lib\\site-packages\\pyart\\io\\cfradial.py:384: RuntimeWarning: invalid value encountered in greater\n",
      "  data = self.ncvar[:]\n",
      "C:\\Users\\iac6311\\AppData\\Local\\Continuum\\anaconda3\\envs\\saveur\\lib\\site-packages\\pyart\\map\\gates_to_grid.py:177: DeprecationWarning: Barnes weighting function is deprecated. Please use Barnes 2 to be consistent with Pauley and Wu 1990.\n",
      "  \" Pauley and Wu 1990.\", DeprecationWarning)\n"
     ]
    },
    {
     "name": "stdout",
     "output_type": "stream",
     "text": [
      "."
     ]
    },
    {
     "name": "stderr",
     "output_type": "stream",
     "text": [
      "C:\\Users\\iac6311\\AppData\\Local\\Continuum\\anaconda3\\envs\\saveur\\lib\\site-packages\\pyart\\io\\cfradial.py:384: RuntimeWarning: invalid value encountered in less\n",
      "  data = self.ncvar[:]\n",
      "C:\\Users\\iac6311\\AppData\\Local\\Continuum\\anaconda3\\envs\\saveur\\lib\\site-packages\\pyart\\io\\cfradial.py:384: RuntimeWarning: invalid value encountered in greater\n",
      "  data = self.ncvar[:]\n",
      "C:\\Users\\iac6311\\AppData\\Local\\Continuum\\anaconda3\\envs\\saveur\\lib\\site-packages\\pyart\\map\\gates_to_grid.py:177: DeprecationWarning: Barnes weighting function is deprecated. Please use Barnes 2 to be consistent with Pauley and Wu 1990.\n",
      "  \" Pauley and Wu 1990.\", DeprecationWarning)\n"
     ]
    },
    {
     "name": "stdout",
     "output_type": "stream",
     "text": [
      "."
     ]
    },
    {
     "name": "stderr",
     "output_type": "stream",
     "text": [
      "C:\\Users\\iac6311\\AppData\\Local\\Continuum\\anaconda3\\envs\\saveur\\lib\\site-packages\\pyart\\io\\cfradial.py:384: RuntimeWarning: invalid value encountered in less\n",
      "  data = self.ncvar[:]\n",
      "C:\\Users\\iac6311\\AppData\\Local\\Continuum\\anaconda3\\envs\\saveur\\lib\\site-packages\\pyart\\io\\cfradial.py:384: RuntimeWarning: invalid value encountered in greater\n",
      "  data = self.ncvar[:]\n",
      "C:\\Users\\iac6311\\AppData\\Local\\Continuum\\anaconda3\\envs\\saveur\\lib\\site-packages\\pyart\\map\\gates_to_grid.py:177: DeprecationWarning: Barnes weighting function is deprecated. Please use Barnes 2 to be consistent with Pauley and Wu 1990.\n",
      "  \" Pauley and Wu 1990.\", DeprecationWarning)\n"
     ]
    },
    {
     "name": "stdout",
     "output_type": "stream",
     "text": [
      "\n",
      "24\n",
      "."
     ]
    },
    {
     "name": "stderr",
     "output_type": "stream",
     "text": [
      "C:\\Users\\iac6311\\AppData\\Local\\Continuum\\anaconda3\\envs\\saveur\\lib\\site-packages\\pyart\\io\\cfradial.py:384: RuntimeWarning: invalid value encountered in less\n",
      "  data = self.ncvar[:]\n",
      "C:\\Users\\iac6311\\AppData\\Local\\Continuum\\anaconda3\\envs\\saveur\\lib\\site-packages\\pyart\\io\\cfradial.py:384: RuntimeWarning: invalid value encountered in greater\n",
      "  data = self.ncvar[:]\n",
      "C:\\Users\\iac6311\\AppData\\Local\\Continuum\\anaconda3\\envs\\saveur\\lib\\site-packages\\pyart\\map\\gates_to_grid.py:177: DeprecationWarning: Barnes weighting function is deprecated. Please use Barnes 2 to be consistent with Pauley and Wu 1990.\n",
      "  \" Pauley and Wu 1990.\", DeprecationWarning)\n"
     ]
    },
    {
     "name": "stdout",
     "output_type": "stream",
     "text": [
      "."
     ]
    },
    {
     "name": "stderr",
     "output_type": "stream",
     "text": [
      "C:\\Users\\iac6311\\AppData\\Local\\Continuum\\anaconda3\\envs\\saveur\\lib\\site-packages\\pyart\\io\\cfradial.py:384: RuntimeWarning: invalid value encountered in less\n",
      "  data = self.ncvar[:]\n",
      "C:\\Users\\iac6311\\AppData\\Local\\Continuum\\anaconda3\\envs\\saveur\\lib\\site-packages\\pyart\\io\\cfradial.py:384: RuntimeWarning: invalid value encountered in greater\n",
      "  data = self.ncvar[:]\n",
      "C:\\Users\\iac6311\\AppData\\Local\\Continuum\\anaconda3\\envs\\saveur\\lib\\site-packages\\pyart\\map\\gates_to_grid.py:177: DeprecationWarning: Barnes weighting function is deprecated. Please use Barnes 2 to be consistent with Pauley and Wu 1990.\n",
      "  \" Pauley and Wu 1990.\", DeprecationWarning)\n"
     ]
    },
    {
     "name": "stdout",
     "output_type": "stream",
     "text": [
      "."
     ]
    },
    {
     "name": "stderr",
     "output_type": "stream",
     "text": [
      "C:\\Users\\iac6311\\AppData\\Local\\Continuum\\anaconda3\\envs\\saveur\\lib\\site-packages\\pyart\\io\\cfradial.py:384: RuntimeWarning: invalid value encountered in less\n",
      "  data = self.ncvar[:]\n",
      "C:\\Users\\iac6311\\AppData\\Local\\Continuum\\anaconda3\\envs\\saveur\\lib\\site-packages\\pyart\\io\\cfradial.py:384: RuntimeWarning: invalid value encountered in greater\n",
      "  data = self.ncvar[:]\n",
      "C:\\Users\\iac6311\\AppData\\Local\\Continuum\\anaconda3\\envs\\saveur\\lib\\site-packages\\pyart\\map\\gates_to_grid.py:177: DeprecationWarning: Barnes weighting function is deprecated. Please use Barnes 2 to be consistent with Pauley and Wu 1990.\n",
      "  \" Pauley and Wu 1990.\", DeprecationWarning)\n"
     ]
    },
    {
     "name": "stdout",
     "output_type": "stream",
     "text": [
      "."
     ]
    },
    {
     "name": "stderr",
     "output_type": "stream",
     "text": [
      "C:\\Users\\iac6311\\AppData\\Local\\Continuum\\anaconda3\\envs\\saveur\\lib\\site-packages\\pyart\\io\\cfradial.py:384: RuntimeWarning: invalid value encountered in less\n",
      "  data = self.ncvar[:]\n",
      "C:\\Users\\iac6311\\AppData\\Local\\Continuum\\anaconda3\\envs\\saveur\\lib\\site-packages\\pyart\\io\\cfradial.py:384: RuntimeWarning: invalid value encountered in greater\n",
      "  data = self.ncvar[:]\n",
      "C:\\Users\\iac6311\\AppData\\Local\\Continuum\\anaconda3\\envs\\saveur\\lib\\site-packages\\pyart\\map\\gates_to_grid.py:177: DeprecationWarning: Barnes weighting function is deprecated. Please use Barnes 2 to be consistent with Pauley and Wu 1990.\n",
      "  \" Pauley and Wu 1990.\", DeprecationWarning)\n"
     ]
    },
    {
     "name": "stdout",
     "output_type": "stream",
     "text": [
      "."
     ]
    },
    {
     "name": "stderr",
     "output_type": "stream",
     "text": [
      "C:\\Users\\iac6311\\AppData\\Local\\Continuum\\anaconda3\\envs\\saveur\\lib\\site-packages\\pyart\\io\\cfradial.py:384: RuntimeWarning: invalid value encountered in less\n",
      "  data = self.ncvar[:]\n",
      "C:\\Users\\iac6311\\AppData\\Local\\Continuum\\anaconda3\\envs\\saveur\\lib\\site-packages\\pyart\\io\\cfradial.py:384: RuntimeWarning: invalid value encountered in greater\n",
      "  data = self.ncvar[:]\n",
      "C:\\Users\\iac6311\\AppData\\Local\\Continuum\\anaconda3\\envs\\saveur\\lib\\site-packages\\pyart\\map\\gates_to_grid.py:177: DeprecationWarning: Barnes weighting function is deprecated. Please use Barnes 2 to be consistent with Pauley and Wu 1990.\n",
      "  \" Pauley and Wu 1990.\", DeprecationWarning)\n"
     ]
    },
    {
     "name": "stdout",
     "output_type": "stream",
     "text": [
      "."
     ]
    },
    {
     "name": "stderr",
     "output_type": "stream",
     "text": [
      "C:\\Users\\iac6311\\AppData\\Local\\Continuum\\anaconda3\\envs\\saveur\\lib\\site-packages\\pyart\\io\\cfradial.py:384: RuntimeWarning: invalid value encountered in less\n",
      "  data = self.ncvar[:]\n",
      "C:\\Users\\iac6311\\AppData\\Local\\Continuum\\anaconda3\\envs\\saveur\\lib\\site-packages\\pyart\\io\\cfradial.py:384: RuntimeWarning: invalid value encountered in greater\n",
      "  data = self.ncvar[:]\n",
      "C:\\Users\\iac6311\\AppData\\Local\\Continuum\\anaconda3\\envs\\saveur\\lib\\site-packages\\pyart\\map\\gates_to_grid.py:177: DeprecationWarning: Barnes weighting function is deprecated. Please use Barnes 2 to be consistent with Pauley and Wu 1990.\n",
      "  \" Pauley and Wu 1990.\", DeprecationWarning)\n"
     ]
    },
    {
     "name": "stdout",
     "output_type": "stream",
     "text": [
      "."
     ]
    },
    {
     "name": "stderr",
     "output_type": "stream",
     "text": [
      "C:\\Users\\iac6311\\AppData\\Local\\Continuum\\anaconda3\\envs\\saveur\\lib\\site-packages\\pyart\\io\\cfradial.py:384: RuntimeWarning: invalid value encountered in less\n",
      "  data = self.ncvar[:]\n",
      "C:\\Users\\iac6311\\AppData\\Local\\Continuum\\anaconda3\\envs\\saveur\\lib\\site-packages\\pyart\\io\\cfradial.py:384: RuntimeWarning: invalid value encountered in greater\n",
      "  data = self.ncvar[:]\n",
      "C:\\Users\\iac6311\\AppData\\Local\\Continuum\\anaconda3\\envs\\saveur\\lib\\site-packages\\pyart\\map\\gates_to_grid.py:177: DeprecationWarning: Barnes weighting function is deprecated. Please use Barnes 2 to be consistent with Pauley and Wu 1990.\n",
      "  \" Pauley and Wu 1990.\", DeprecationWarning)\n"
     ]
    },
    {
     "name": "stdout",
     "output_type": "stream",
     "text": [
      "."
     ]
    },
    {
     "name": "stderr",
     "output_type": "stream",
     "text": [
      "C:\\Users\\iac6311\\AppData\\Local\\Continuum\\anaconda3\\envs\\saveur\\lib\\site-packages\\pyart\\io\\cfradial.py:384: RuntimeWarning: invalid value encountered in less\n",
      "  data = self.ncvar[:]\n",
      "C:\\Users\\iac6311\\AppData\\Local\\Continuum\\anaconda3\\envs\\saveur\\lib\\site-packages\\pyart\\io\\cfradial.py:384: RuntimeWarning: invalid value encountered in greater\n",
      "  data = self.ncvar[:]\n",
      "C:\\Users\\iac6311\\AppData\\Local\\Continuum\\anaconda3\\envs\\saveur\\lib\\site-packages\\pyart\\map\\gates_to_grid.py:177: DeprecationWarning: Barnes weighting function is deprecated. Please use Barnes 2 to be consistent with Pauley and Wu 1990.\n",
      "  \" Pauley and Wu 1990.\", DeprecationWarning)\n"
     ]
    },
    {
     "name": "stdout",
     "output_type": "stream",
     "text": [
      "."
     ]
    },
    {
     "name": "stderr",
     "output_type": "stream",
     "text": [
      "C:\\Users\\iac6311\\AppData\\Local\\Continuum\\anaconda3\\envs\\saveur\\lib\\site-packages\\pyart\\io\\cfradial.py:384: RuntimeWarning: invalid value encountered in less\n",
      "  data = self.ncvar[:]\n",
      "C:\\Users\\iac6311\\AppData\\Local\\Continuum\\anaconda3\\envs\\saveur\\lib\\site-packages\\pyart\\io\\cfradial.py:384: RuntimeWarning: invalid value encountered in greater\n",
      "  data = self.ncvar[:]\n",
      "C:\\Users\\iac6311\\AppData\\Local\\Continuum\\anaconda3\\envs\\saveur\\lib\\site-packages\\pyart\\map\\gates_to_grid.py:177: DeprecationWarning: Barnes weighting function is deprecated. Please use Barnes 2 to be consistent with Pauley and Wu 1990.\n",
      "  \" Pauley and Wu 1990.\", DeprecationWarning)\n"
     ]
    },
    {
     "name": "stdout",
     "output_type": "stream",
     "text": [
      "."
     ]
    },
    {
     "name": "stderr",
     "output_type": "stream",
     "text": [
      "C:\\Users\\iac6311\\AppData\\Local\\Continuum\\anaconda3\\envs\\saveur\\lib\\site-packages\\pyart\\io\\cfradial.py:384: RuntimeWarning: invalid value encountered in less\n",
      "  data = self.ncvar[:]\n",
      "C:\\Users\\iac6311\\AppData\\Local\\Continuum\\anaconda3\\envs\\saveur\\lib\\site-packages\\pyart\\io\\cfradial.py:384: RuntimeWarning: invalid value encountered in greater\n",
      "  data = self.ncvar[:]\n",
      "C:\\Users\\iac6311\\AppData\\Local\\Continuum\\anaconda3\\envs\\saveur\\lib\\site-packages\\pyart\\map\\gates_to_grid.py:177: DeprecationWarning: Barnes weighting function is deprecated. Please use Barnes 2 to be consistent with Pauley and Wu 1990.\n",
      "  \" Pauley and Wu 1990.\", DeprecationWarning)\n"
     ]
    },
    {
     "name": "stdout",
     "output_type": "stream",
     "text": [
      "."
     ]
    },
    {
     "name": "stderr",
     "output_type": "stream",
     "text": [
      "C:\\Users\\iac6311\\AppData\\Local\\Continuum\\anaconda3\\envs\\saveur\\lib\\site-packages\\pyart\\io\\cfradial.py:384: RuntimeWarning: invalid value encountered in less\n",
      "  data = self.ncvar[:]\n",
      "C:\\Users\\iac6311\\AppData\\Local\\Continuum\\anaconda3\\envs\\saveur\\lib\\site-packages\\pyart\\io\\cfradial.py:384: RuntimeWarning: invalid value encountered in greater\n",
      "  data = self.ncvar[:]\n",
      "C:\\Users\\iac6311\\AppData\\Local\\Continuum\\anaconda3\\envs\\saveur\\lib\\site-packages\\pyart\\map\\gates_to_grid.py:177: DeprecationWarning: Barnes weighting function is deprecated. Please use Barnes 2 to be consistent with Pauley and Wu 1990.\n",
      "  \" Pauley and Wu 1990.\", DeprecationWarning)\n"
     ]
    },
    {
     "name": "stdout",
     "output_type": "stream",
     "text": [
      "."
     ]
    },
    {
     "name": "stderr",
     "output_type": "stream",
     "text": [
      "C:\\Users\\iac6311\\AppData\\Local\\Continuum\\anaconda3\\envs\\saveur\\lib\\site-packages\\pyart\\io\\cfradial.py:384: RuntimeWarning: invalid value encountered in less\n",
      "  data = self.ncvar[:]\n",
      "C:\\Users\\iac6311\\AppData\\Local\\Continuum\\anaconda3\\envs\\saveur\\lib\\site-packages\\pyart\\io\\cfradial.py:384: RuntimeWarning: invalid value encountered in greater\n",
      "  data = self.ncvar[:]\n",
      "C:\\Users\\iac6311\\AppData\\Local\\Continuum\\anaconda3\\envs\\saveur\\lib\\site-packages\\pyart\\map\\gates_to_grid.py:177: DeprecationWarning: Barnes weighting function is deprecated. Please use Barnes 2 to be consistent with Pauley and Wu 1990.\n",
      "  \" Pauley and Wu 1990.\", DeprecationWarning)\n"
     ]
    },
    {
     "name": "stdout",
     "output_type": "stream",
     "text": [
      "."
     ]
    },
    {
     "name": "stderr",
     "output_type": "stream",
     "text": [
      "C:\\Users\\iac6311\\AppData\\Local\\Continuum\\anaconda3\\envs\\saveur\\lib\\site-packages\\pyart\\io\\cfradial.py:384: RuntimeWarning: invalid value encountered in less\n",
      "  data = self.ncvar[:]\n",
      "C:\\Users\\iac6311\\AppData\\Local\\Continuum\\anaconda3\\envs\\saveur\\lib\\site-packages\\pyart\\io\\cfradial.py:384: RuntimeWarning: invalid value encountered in greater\n",
      "  data = self.ncvar[:]\n",
      "C:\\Users\\iac6311\\AppData\\Local\\Continuum\\anaconda3\\envs\\saveur\\lib\\site-packages\\pyart\\map\\gates_to_grid.py:177: DeprecationWarning: Barnes weighting function is deprecated. Please use Barnes 2 to be consistent with Pauley and Wu 1990.\n",
      "  \" Pauley and Wu 1990.\", DeprecationWarning)\n"
     ]
    },
    {
     "name": "stdout",
     "output_type": "stream",
     "text": [
      "."
     ]
    },
    {
     "name": "stderr",
     "output_type": "stream",
     "text": [
      "C:\\Users\\iac6311\\AppData\\Local\\Continuum\\anaconda3\\envs\\saveur\\lib\\site-packages\\pyart\\io\\cfradial.py:384: RuntimeWarning: invalid value encountered in less\n",
      "  data = self.ncvar[:]\n",
      "C:\\Users\\iac6311\\AppData\\Local\\Continuum\\anaconda3\\envs\\saveur\\lib\\site-packages\\pyart\\io\\cfradial.py:384: RuntimeWarning: invalid value encountered in greater\n",
      "  data = self.ncvar[:]\n",
      "C:\\Users\\iac6311\\AppData\\Local\\Continuum\\anaconda3\\envs\\saveur\\lib\\site-packages\\pyart\\map\\gates_to_grid.py:177: DeprecationWarning: Barnes weighting function is deprecated. Please use Barnes 2 to be consistent with Pauley and Wu 1990.\n",
      "  \" Pauley and Wu 1990.\", DeprecationWarning)\n"
     ]
    },
    {
     "name": "stdout",
     "output_type": "stream",
     "text": [
      "."
     ]
    },
    {
     "name": "stderr",
     "output_type": "stream",
     "text": [
      "C:\\Users\\iac6311\\AppData\\Local\\Continuum\\anaconda3\\envs\\saveur\\lib\\site-packages\\pyart\\io\\cfradial.py:384: RuntimeWarning: invalid value encountered in less\n",
      "  data = self.ncvar[:]\n",
      "C:\\Users\\iac6311\\AppData\\Local\\Continuum\\anaconda3\\envs\\saveur\\lib\\site-packages\\pyart\\io\\cfradial.py:384: RuntimeWarning: invalid value encountered in greater\n",
      "  data = self.ncvar[:]\n",
      "C:\\Users\\iac6311\\AppData\\Local\\Continuum\\anaconda3\\envs\\saveur\\lib\\site-packages\\pyart\\map\\gates_to_grid.py:177: DeprecationWarning: Barnes weighting function is deprecated. Please use Barnes 2 to be consistent with Pauley and Wu 1990.\n",
      "  \" Pauley and Wu 1990.\", DeprecationWarning)\n"
     ]
    },
    {
     "name": "stdout",
     "output_type": "stream",
     "text": [
      "."
     ]
    },
    {
     "name": "stderr",
     "output_type": "stream",
     "text": [
      "C:\\Users\\iac6311\\AppData\\Local\\Continuum\\anaconda3\\envs\\saveur\\lib\\site-packages\\pyart\\io\\cfradial.py:384: RuntimeWarning: invalid value encountered in less\n",
      "  data = self.ncvar[:]\n",
      "C:\\Users\\iac6311\\AppData\\Local\\Continuum\\anaconda3\\envs\\saveur\\lib\\site-packages\\pyart\\io\\cfradial.py:384: RuntimeWarning: invalid value encountered in greater\n",
      "  data = self.ncvar[:]\n",
      "C:\\Users\\iac6311\\AppData\\Local\\Continuum\\anaconda3\\envs\\saveur\\lib\\site-packages\\pyart\\map\\gates_to_grid.py:177: DeprecationWarning: Barnes weighting function is deprecated. Please use Barnes 2 to be consistent with Pauley and Wu 1990.\n",
      "  \" Pauley and Wu 1990.\", DeprecationWarning)\n"
     ]
    },
    {
     "name": "stdout",
     "output_type": "stream",
     "text": [
      "\n"
     ]
    }
   ],
   "source": [
    "for hour in list(fname_dict)[12:]:\n",
    "    print(hour)\n",
    "    fnames_within_hour = fname_dict[hour]\n",
    "    hour_accum_rrZ = np.zeros((300,300))\n",
    "    hour_accum_rrA = np.zeros((300,300))\n",
    "    hour_accum_rrKDP = np.zeros((300,300))\n",
    "    for fname in fnames_within_hour:\n",
    "        print('.',end='')\n",
    "\n",
    "        # get local time of radar\n",
    "        fname = fname.rsplit('/',1)[-1]\n",
    "        dtime_utc = dt.datetime.strptime(fname,'radar_KLOT_%Y%m%d_%H%M%S.nc')\n",
    "        dtime_utc = pytz.utc.localize(dtime_utc)\n",
    "        \n",
    "        # read radar data\n",
    "        radar = pyart.io.read_cfradial(os.path.join(path_rrfiles,fname))\n",
    "\n",
    "        # grid \n",
    "        gatefilter = pyart.filters.GateFilter(radar)\n",
    "        gatefilter.exclude_transition()\n",
    "        gatefilter.exclude_masked('reflectivity')\n",
    "\n",
    "        # perform Cartesian mapping, limit to the reflectivity field.\n",
    "        grid = pyart.map.grid_from_radars(\n",
    "            [radar], gatefilters=[gatefilter],\n",
    "            grid_shape=(1, 300, 300),\n",
    "            grid_limits=((2000, 2000), (-123000.0, 123000.0), (-123000.0, 123000.0)),\n",
    "            fields=['rainrate','rainrate_from_attenuation','rainrate_from_kdp'])\n",
    "\n",
    "        # 3.2 Get radar data\n",
    "        # Get slice\n",
    "        rrZ_0 = grid.fields['rainrate']['data']\n",
    "        rrA_0 = grid.fields['rainrate_from_attenuation']['data']\n",
    "        rrKDP_0 = grid.fields['rainrate_from_kdp']['data']\n",
    "        \n",
    "        # convert rain rate to rain amount\n",
    "        rrZ_amount = wrl.trafo.r_to_depth(rrZ_0,interval=345)\n",
    "        rrA_amount = wrl.trafo.r_to_depth(rrA_0,interval=345)\n",
    "        rrKDP_amount = wrl.trafo.r_to_depth(rrKDP_0,interval=345)\n",
    "        \n",
    "        hour_accum_rrZ += rrZ_amount[0]\n",
    "        hour_accum_rrA += rrA_amount[0]\n",
    "        hour_accum_rrKDP += rrKDP_amount[0]\n",
    "\n",
    "    savefname = dt.datetime.strftime(dtime_utc.replace(microsecond=0,second=0,minute=0)+dt.timedelta(hours=1), '%Y%m%d_%H%M%S')\n",
    "    wrl.io.to_hdf5('gridded_KLOT'+savefname+'_rrZ.hdf5', hour_accum_rrZ)\n",
    "    wrl.io.to_hdf5('gridded_KLOT'+savefname+'_rrA.hdf5', hour_accum_rrA)\n",
    "    wrl.io.to_hdf5('gridded_KLOT'+savefname+'_rrKDP.hdf5', hour_accum_rrKDP)\n",
    "\n",
    "    print('')"
   ]
  },
  {
   "cell_type": "code",
   "execution_count": 19,
   "metadata": {
    "ExecuteTime": {
     "end_time": "2019-11-27T18:47:58.737498Z",
     "start_time": "2019-11-27T18:47:58.702515Z"
    }
   },
   "outputs": [],
   "source": [
    "x_rad, y_rad = grid.get_point_longitude_latitude()\n",
    "\n",
    "# Saving the objects:\n",
    "with open('radar_grid.pkl', 'wb') as f:  # Python 3: open(..., 'wb')\n",
    "    pickle.dump([x_rad, y_rad], f)"
   ]
  },
  {
   "cell_type": "code",
   "execution_count": null,
   "metadata": {},
   "outputs": [],
   "source": []
  }
 ],
 "metadata": {
  "kernelspec": {
   "display_name": "Python [conda env:saveur]",
   "language": "python",
   "name": "conda-env-saveur-py"
  },
  "language_info": {
   "codemirror_mode": {
    "name": "ipython",
    "version": 3
   },
   "file_extension": ".py",
   "mimetype": "text/x-python",
   "name": "python",
   "nbconvert_exporter": "python",
   "pygments_lexer": "ipython3",
   "version": "3.7.3"
  },
  "varInspector": {
   "cols": {
    "lenName": 16,
    "lenType": 16,
    "lenVar": 40
   },
   "kernels_config": {
    "python": {
     "delete_cmd_postfix": "",
     "delete_cmd_prefix": "del ",
     "library": "var_list.py",
     "varRefreshCmd": "print(var_dic_list())"
    },
    "r": {
     "delete_cmd_postfix": ") ",
     "delete_cmd_prefix": "rm(",
     "library": "var_list.r",
     "varRefreshCmd": "cat(var_dic_list()) "
    }
   },
   "types_to_exclude": [
    "module",
    "function",
    "builtin_function_or_method",
    "instance",
    "_Feature"
   ],
   "window_display": false
  }
 },
 "nbformat": 4,
 "nbformat_minor": 2
}
