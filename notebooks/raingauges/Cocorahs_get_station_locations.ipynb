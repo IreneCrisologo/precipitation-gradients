{
 "cells": [
  {
   "cell_type": "markdown",
   "metadata": {},
   "source": [
    "# CoCoRaHS - Get station locations\n",
    "\n",
    "Use this notebook to get the available stations and locations for a specified county between a specified date interval.\n",
    "The output is a "
   ]
  },
  {
   "cell_type": "code",
   "execution_count": 1,
   "metadata": {},
   "outputs": [
    {
     "name": "stdout",
     "output_type": "stream",
     "text": [
      "Populating the interactive namespace from numpy and matplotlib\n"
     ]
    }
   ],
   "source": [
    "%pylab inline"
   ]
  },
  {
   "cell_type": "code",
   "execution_count": 2,
   "metadata": {},
   "outputs": [],
   "source": [
    "import requests\n",
    "import io\n",
    "import pandas as pd"
   ]
  },
  {
   "cell_type": "code",
   "execution_count": 3,
   "metadata": {},
   "outputs": [],
   "source": [
    "counties = [\"AD\",\"AL\",\"BD\",\"BN\",\"BR\",\"BU\",\"CH\",\"CR\",\"CS\",\"CP\",\"CN\",\"CL\",\"CY\",\"CT\",\"CE\",\"CK\",\"CW\",\"CM\",\"DK\",\"DW\",\"DG\",\"DP\",\"ED\",\"EW\",\"EF\",\"FY\",\"FD\",\"FK\",\"FL\",\"GL\",\"GR\",\"GY\",\"HM\",\"HN\",\"HR\",\"HD\",\"HY\",\"IR\",\"JK\",\"JS\",\"JF\",\"JR\",\"JD\",\"JH\",\"KN\",\"KK\",\"KD\",\"KX\",\"LK\",\"LS\",\"LW\",\"LE\",\"LV\",\"LG\",\"MCD\",\"MCH\",\"MCL\",\"MA\",\"MP\",\"MD\",\"MN\",\"MH\",\"MS\",\"MC\",\"ME\",\"MR\",\"MO\",\"MY\",\"MG\",\"MU\",\"OG\",\"PR\",\"PY\",\"PT\",\"PK\",\"PP\",\"PL\",\"PM\",\"RH\",\"RC\",\"RI\",\"SC\",\"SL\",\"SG\",\"SY\",\"ST\",\"SH\",\"SK\",\"SP\",\"TZ\",\"UN\",\"VR\",\"WB\",\"WR\",\"WS\",\"WY\",\"WH\",\"WD\",\"WL\",\"WM\",\"WN\",\"WF\"]"
   ]
  },
  {
   "cell_type": "code",
   "execution_count": 4,
   "metadata": {},
   "outputs": [],
   "source": [
    "params = {\n",
    "   \"ReportType\": \"Daily\",\n",
    "   \"dtf\": 1,\n",
    "   \"Format\": \"CSV\",\n",
    "   \"State\": \"IL\",\n",
    "   \"ReportDataType\": \"reportdate\",\n",
    "   \"StartDate\": \"4/17/2013\",\n",
    "   \"EndDate\": \"4/19/2013\",\n",
    "   \"TimesInGMT\": \"False\"\n",
    "}\n",
    "xml_responses = {}\n",
    "for county in counties:\n",
    "    params.update({\n",
    "        \"County\": county\n",
    "    })\n",
    "    xml_responses[county] = requests.get(\"http://data.cocorahs.org/export/exportreports.aspx\", params=params)"
   ]
  },
  {
   "cell_type": "code",
   "execution_count": 5,
   "metadata": {},
   "outputs": [],
   "source": [
    "df = pd.DataFrame()\n",
    "for county in counties:\n",
    "    df_county = pd.read_csv(io.StringIO(xml_responses[county].text), delimiter=',',header=0)\n",
    "    df = pd.concat([df,df_county])"
   ]
  },
  {
   "cell_type": "code",
   "execution_count": 6,
   "metadata": {},
   "outputs": [],
   "source": [
    "df = df.drop_duplicates('StationNumber')"
   ]
  },
  {
   "cell_type": "code",
   "execution_count": 7,
   "metadata": {},
   "outputs": [],
   "source": [
    "df_ = df[['StationNumber','StationName','Latitude','Longitude']]"
   ]
  },
  {
   "cell_type": "code",
   "execution_count": 8,
   "metadata": {},
   "outputs": [
    {
     "data": {
      "text/html": [
       "<div>\n",
       "<style scoped>\n",
       "    .dataframe tbody tr th:only-of-type {\n",
       "        vertical-align: middle;\n",
       "    }\n",
       "\n",
       "    .dataframe tbody tr th {\n",
       "        vertical-align: top;\n",
       "    }\n",
       "\n",
       "    .dataframe thead th {\n",
       "        text-align: right;\n",
       "    }\n",
       "</style>\n",
       "<table border=\"1\" class=\"dataframe\">\n",
       "  <thead>\n",
       "    <tr style=\"text-align: right;\">\n",
       "      <th></th>\n",
       "      <th>StationNumber</th>\n",
       "      <th>StationName</th>\n",
       "      <th>Latitude</th>\n",
       "      <th>Longitude</th>\n",
       "    </tr>\n",
       "  </thead>\n",
       "  <tbody>\n",
       "    <tr>\n",
       "      <th>0</th>\n",
       "      <td>IL-AD-12</td>\n",
       "      <td>Quincy 3.7 SE</td>\n",
       "      <td>39.897127</td>\n",
       "      <td>-91.336417</td>\n",
       "    </tr>\n",
       "    <tr>\n",
       "      <th>0</th>\n",
       "      <td>IL-BN-5</td>\n",
       "      <td>Loves Park 3.7 ESE</td>\n",
       "      <td>42.325142</td>\n",
       "      <td>-88.939151</td>\n",
       "    </tr>\n",
       "    <tr>\n",
       "      <th>1</th>\n",
       "      <td>IL-BN-8</td>\n",
       "      <td>Poplar Grove 1.3 WSW</td>\n",
       "      <td>42.359990</td>\n",
       "      <td>-88.847010</td>\n",
       "    </tr>\n",
       "    <tr>\n",
       "      <th>2</th>\n",
       "      <td>IL-BN-9</td>\n",
       "      <td>Belvidere 1.6 NE</td>\n",
       "      <td>42.269941</td>\n",
       "      <td>-88.828382</td>\n",
       "    </tr>\n",
       "    <tr>\n",
       "      <th>3</th>\n",
       "      <td>IL-BN-14</td>\n",
       "      <td>Capron 0.1 N</td>\n",
       "      <td>42.399979</td>\n",
       "      <td>-88.742418</td>\n",
       "    </tr>\n",
       "  </tbody>\n",
       "</table>\n",
       "</div>"
      ],
      "text/plain": [
       "  StationNumber            StationName   Latitude  Longitude\n",
       "0      IL-AD-12          Quincy 3.7 SE  39.897127 -91.336417\n",
       "0       IL-BN-5     Loves Park 3.7 ESE  42.325142 -88.939151\n",
       "1       IL-BN-8   Poplar Grove 1.3 WSW  42.359990 -88.847010\n",
       "2       IL-BN-9       Belvidere 1.6 NE  42.269941 -88.828382\n",
       "3      IL-BN-14           Capron 0.1 N  42.399979 -88.742418"
      ]
     },
     "execution_count": 8,
     "metadata": {},
     "output_type": "execute_result"
    }
   ],
   "source": [
    "df_.head()"
   ]
  },
  {
   "cell_type": "code",
   "execution_count": 9,
   "metadata": {},
   "outputs": [],
   "source": [
    "df_.to_csv('cocorahs_station_locations_{0}_{1}.csv'.format(params[\"StartDate\"].replace('/',''), params[\"EndDate\"].replace('/','')),index=False)"
   ]
  },
  {
   "cell_type": "code",
   "execution_count": null,
   "metadata": {},
   "outputs": [],
   "source": []
  }
 ],
 "metadata": {
  "kernelspec": {
   "display_name": "wradlib3",
   "language": "python",
   "name": "wradlib3"
  },
  "language_info": {
   "codemirror_mode": {
    "name": "ipython",
    "version": 3
   },
   "file_extension": ".py",
   "mimetype": "text/x-python",
   "name": "python",
   "nbconvert_exporter": "python",
   "pygments_lexer": "ipython3",
   "version": "3.6.6"
  }
 },
 "nbformat": 4,
 "nbformat_minor": 2
}
