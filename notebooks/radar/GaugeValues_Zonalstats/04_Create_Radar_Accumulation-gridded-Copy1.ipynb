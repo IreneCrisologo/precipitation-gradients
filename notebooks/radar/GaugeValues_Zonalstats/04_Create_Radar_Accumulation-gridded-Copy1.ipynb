{
 "cells": [
  {
   "cell_type": "markdown",
   "metadata": {},
   "source": [
    "# Hourly accumulations\n",
    "\n",
    "This notebook takes the scans within the hour, converts them to rain rate then to rainfall amount, then adds it up until the end of the hour. The hour totals are saved in a hdf file."
   ]
  },
  {
   "cell_type": "markdown",
   "metadata": {},
   "source": [
    "Import libraries."
   ]
  },
  {
   "cell_type": "code",
   "execution_count": 1,
   "metadata": {},
   "outputs": [
    {
     "name": "stdout",
     "output_type": "stream",
     "text": [
      "Populating the interactive namespace from numpy and matplotlib\n",
      "\n",
      "## You are using the Python ARM Radar Toolkit (Py-ART), an open source\n",
      "## library for working with weather radar data. Py-ART is partly\n",
      "## supported by the U.S. Department of Energy as part of the Atmospheric\n",
      "## Radiation Measurement (ARM) Climate Research Facility, an Office of\n",
      "## Science user facility.\n",
      "##\n",
      "## If you use this software to prepare a publication, please cite:\n",
      "##\n",
      "##     JJ Helmus and SM Collis, JORS 2016, doi: 10.5334/jors.119\n",
      "\n"
     ]
    },
    {
     "name": "stderr",
     "output_type": "stream",
     "text": [
      "C:\\Users\\iac6311\\AppData\\Local\\Continuum\\anaconda3\\envs\\saveur\\lib\\site-packages\\pyart\\graph\\cm.py:104: FutureWarning: elementwise comparison failed; returning scalar instead, but in the future will perform elementwise comparison\n",
      "  if 'red' in spec:\n",
      "C:\\Users\\iac6311\\AppData\\Local\\Continuum\\anaconda3\\envs\\saveur\\lib\\site-packages\\pyart\\graph\\cm_colorblind.py:32: FutureWarning: elementwise comparison failed; returning scalar instead, but in the future will perform elementwise comparison\n",
      "  if 'red' in spec:\n",
      "C:\\Users\\iac6311\\AppData\\Local\\Continuum\\anaconda3\\envs\\saveur\\lib\\site-packages\\botocore\\vendored\\requests\\packages\\urllib3\\_collections.py:1: DeprecationWarning: Using or importing the ABCs from 'collections' instead of from 'collections.abc' is deprecated, and in 3.8 it will stop working\n",
      "  from collections import Mapping, MutableMapping\n"
     ]
    }
   ],
   "source": [
    "%pylab inline\n",
    "\n",
    "import pyart\n",
    "import wradlib as wrl\n",
    "import pandas as pd\n",
    "import tempfile\n",
    "import os\n",
    "import numpy as np\n",
    "\n",
    "import pickle\n",
    "\n",
    "import pytz\n",
    "import datetime as dt\n",
    "\n",
    "from copy import deepcopy\n",
    "import cartopy.crs as ccrs\n",
    "import cartopy.io.shapereader as shpreader\n",
    "import cartopy.feature as cfeature\n",
    "\n",
    "import boto3\n",
    "from botocore.handlers import disable_signing"
   ]
  },
  {
   "cell_type": "markdown",
   "metadata": {},
   "source": [
    "Read the shapefiles."
   ]
  },
  {
   "cell_type": "code",
   "execution_count": 3,
   "metadata": {},
   "outputs": [],
   "source": [
    "reader = shpreader.Reader(r'C:\\Users\\iac6311\\Documents\\Work\\Data\\GIS\\USA\\tl_2016_17_cousub\\tl_2016_17_cousub.shp')\n",
    "counties = list(reader.geometries())\n",
    "COUNTIES = cfeature.ShapelyFeature(counties, ccrs.PlateCarree())"
   ]
  },
  {
   "cell_type": "markdown",
   "metadata": {},
   "source": [
    "Read the gauge locations file and gauge observations file into pandas dataframes, and get the location coordinates."
   ]
  },
  {
   "cell_type": "code",
   "execution_count": 4,
   "metadata": {},
   "outputs": [],
   "source": [
    "# load CCN gauge locations\n",
    "CCN_gauge_locations_fname = 'C:/Users/iac6311/Documents/Work/Data/Cook_County/CookCounty_gage_locations.csv'\n",
    "# load CCN gauge observations\n",
    "CCN_gauge_observations_fname = 'C:/Users/iac6311/Documents/Work/Data/Cook_County/WaterYear2013.csv'\n",
    "\n",
    "df_gauge_loc = pd.read_csv(CCN_gauge_locations_fname,header=0)\n",
    "df_gauge = pd.read_csv(CCN_gauge_observations_fname,header=0)\n",
    "\n",
    "x = df_gauge_loc['Longitude - West'].values\n",
    "y = df_gauge_loc['Latitude'].values"
   ]
  },
  {
   "cell_type": "markdown",
   "metadata": {},
   "source": [
    "Define the function to get the file list from Amazon S3."
   ]
  },
  {
   "cell_type": "code",
   "execution_count": 5,
   "metadata": {},
   "outputs": [],
   "source": [
    "def get_radar_scan(station='KLOT', date=None, key_index=-20):\n",
    "    \n",
    "    '''\n",
    "    Function will pull the latest radar scan from any radar site using \n",
    "    Amazon S3.\n",
    "    ----------\n",
    "    Station = Four letter NEXRAD identifier\n",
    "              Example: 'KEPZ'\n",
    "    Date = default is none for current date, else enter date in format \"YYYY/MM/DD\"\n",
    "    Ex: date ='2013/11/17\n",
    "    Key_index = Number of keys you want pulled from most recent scan.\n",
    "    Ex: key_index = -15 would pull ht most recent 15 scans\n",
    "    '''\n",
    "    \n",
    "    # Creating a bucket and a client to be able to pull data from AWS and setting it as unsigned\n",
    "    bucket = 'noaa-nexrad-level2'\n",
    "    s3 = boto3.resource('s3')\n",
    "    s3.meta.client.meta.events.register('choose-signer.s3.*', disable_signing)\n",
    "    \n",
    "    # Connects the bucket create above with radar data\n",
    "    aws_radar = s3.Bucket(bucket)\n",
    "    \n",
    "    # Setting the date and time to current...\n",
    "    # This will allow for allow the current date's radar scands to be pulled\n",
    "    if date == None:\n",
    "        target_string = datetime.datetime.utcnow().strftime('%Y/%m/%d/'+station)\n",
    "    else:\n",
    "        target_string = date+'/'+station\n",
    "    \n",
    "    for obj in aws_radar.objects.filter(Prefix= target_string):\n",
    "        '{0}:{1}'.format(aws_radar.name, obj.key)\n",
    "    my_list_of_keys = [this_object.key for this_object in aws_radar.objects.filter(Prefix= target_string)]\n",
    "    keys = my_list_of_keys[key_index:]\n",
    "    newkeys = []\n",
    "    for key in keys:\n",
    "        if 'MDM' in key:\n",
    "            pass\n",
    "        elif key.endswith('.tar'):\n",
    "            pass\n",
    "        else:\n",
    "            newkeys.append(key)\n",
    "    #print(newkeys)\n",
    "    return aws_radar, newkeys"
   ]
  },
  {
   "cell_type": "code",
   "execution_count": 6,
   "metadata": {},
   "outputs": [],
   "source": [
    "def rounder(t):\n",
    "    \"\"\"\n",
    "    Rounds the time to the nearest hour.\n",
    "    \"\"\"\n",
    "    if t.minute >= 30:\n",
    "        return t.replace(second=0, microsecond=0, minute=0, hour=t.hour+1)\n",
    "    else:\n",
    "        return t.replace(second=0, microsecond=0, minute=0)"
   ]
  },
  {
   "cell_type": "code",
   "execution_count": 7,
   "metadata": {},
   "outputs": [],
   "source": [
    "# Setting radar, date of radar scans needed, and key index (amount of items in list)\n",
    "aws_radar, keys = get_radar_scan(station='KLOT', date='2013/04/18', key_index=-400) "
   ]
  },
  {
   "cell_type": "code",
   "execution_count": 8,
   "metadata": {},
   "outputs": [],
   "source": [
    "newkeys=keys[0:200:10]"
   ]
  },
  {
   "cell_type": "code",
   "execution_count": 9,
   "metadata": {},
   "outputs": [],
   "source": [
    "# loop through the keys by iterating nframe\n",
    "nframe = 14\n",
    "\n",
    "# open a temporary local file\n",
    "localfile = tempfile.NamedTemporaryFile(delete=False)\n",
    "localfile_name = localfile.name\n",
    "localfile.close()\n",
    "\n",
    "# download to temporary file and read to radar object using pyart\n",
    "aws_radar.download_file(newkeys[nframe], localfile_name)\n",
    "radar = pyart.io.read(localfile_name)\n",
    "\n",
    "# delete temporary file to save space\n",
    "os.remove(localfile_name)"
   ]
  },
  {
   "cell_type": "code",
   "execution_count": 10,
   "metadata": {},
   "outputs": [],
   "source": [
    "gatefilter = pyart.filters.GateFilter(radar)\n",
    "# Develop your gatefilter first\n",
    "# exclude masked gates from the gridding\n",
    "#gatefilter = pyart.filters.GateFilter(radar)\n",
    "gatefilter.exclude_transition()\n",
    "gatefilter.exclude_masked('reflectivity')\n",
    "# Mask reflectivity\n",
    "radar.fields[\"corrected_reflectivity\"] = deepcopy(radar.fields[\"reflectivity\"])\n",
    "radar.fields[\"corrected_reflectivity\"][\"data\"] = np.ma.masked_where(\n",
    "    gatefilter._gate_excluded, radar.fields[\"corrected_reflectivity\"][\"data\"])\n",
    "rr = pyart.retrieve.est_rain_rate_z(radar, refl_field=\"corrected_reflectivity\")"
   ]
  },
  {
   "cell_type": "code",
   "execution_count": 11,
   "metadata": {},
   "outputs": [],
   "source": [
    "radar.add_field('rainrate',rr,replace_existing=True)"
   ]
  },
  {
   "cell_type": "code",
   "execution_count": 12,
   "metadata": {},
   "outputs": [],
   "source": [
    "# Mask out last 10 gates of each ray, this removes the \"ring\" around the radar.\n",
    "radar.fields['rainrate']['data'][:, -10:] = np.ma.masked"
   ]
  },
  {
   "cell_type": "code",
   "execution_count": 13,
   "metadata": {},
   "outputs": [
    {
     "name": "stderr",
     "output_type": "stream",
     "text": [
      "C:\\Users\\iac6311\\AppData\\Local\\Continuum\\anaconda3\\envs\\saveur\\lib\\site-packages\\pyart\\map\\gates_to_grid.py:177: DeprecationWarning: Barnes weighting function is deprecated. Please use Barnes 2 to be consistent with Pauley and Wu 1990.\n",
      "  \" Pauley and Wu 1990.\", DeprecationWarning)\n"
     ]
    }
   ],
   "source": [
    "# perform Cartesian mapping, limit to the reflectivity field.\n",
    "grid = pyart.map.grid_from_radars(\n",
    "    [radar], gatefilters=[gatefilter],\n",
    "    grid_shape=(1, 300, 300),\n",
    "    grid_limits=((2000, 2000), (-123000.0, 123000.0), (-123000.0, 123000.0)),\n",
    "    fields=['rainrate'])"
   ]
  },
  {
   "cell_type": "code",
   "execution_count": 14,
   "metadata": {},
   "outputs": [],
   "source": [
    "x_rad, y_rad = grid.get_point_longitude_latitude()"
   ]
  },
  {
   "cell_type": "code",
   "execution_count": null,
   "metadata": {},
   "outputs": [],
   "source": [
    "grid.fields['rainrate']['data'].shape"
   ]
  },
  {
   "cell_type": "code",
   "execution_count": null,
   "metadata": {},
   "outputs": [],
   "source": [
    "projection = ccrs.PlateCarree()\n",
    "\n",
    "fig = plt.figure(figsize=[12,7])\n",
    "display = pyart.graph.GridMapDisplay(grid)\n",
    "display.plot_grid('rainrate', cmap=pyart.graph.cm_colorblind.HomeyerRainbow,\n",
    "                  vmin=0, vmax=75, lat_lines=np.arange(41, 43, .5),\n",
    "                  lon_lines=np.arange(-89, -86.5, .5), projection=projection, embelish=True)"
   ]
  },
  {
   "cell_type": "code",
   "execution_count": null,
   "metadata": {},
   "outputs": [],
   "source": [
    "# 3.2 Get radar data\n",
    "# Get slice\n",
    "radar_slice0 = radar.get_slice(0)\n",
    "rr_0 = radar.fields['rainrate']['data'][radar_slice0, :]"
   ]
  },
  {
   "cell_type": "code",
   "execution_count": null,
   "metadata": {},
   "outputs": [],
   "source": [
    "sitecoords = (radar.longitude['data'][0],radar.latitude['data'][0],radar.altitude['data'][0])\n",
    "az = radar.azimuth['data'][radar_slice0]\n",
    "r = radar.range['data']\n",
    "proj = wrl.georef.epsg_to_osr(4326)"
   ]
  },
  {
   "cell_type": "code",
   "execution_count": null,
   "metadata": {},
   "outputs": [],
   "source": [
    "# save the radar parameters\n",
    "with open('radarparams.pkl','wb') as f:\n",
    "    pickle.dump([sitecoords, az, r],f)"
   ]
  },
  {
   "cell_type": "code",
   "execution_count": null,
   "metadata": {},
   "outputs": [],
   "source": [
    "radar_depth = wrl.trafo.r_to_depth(rr_0,interval=256)"
   ]
  },
  {
   "cell_type": "code",
   "execution_count": null,
   "metadata": {},
   "outputs": [],
   "source": [
    "fig = plt.figure(figsize=[12,7])\n",
    "ax = fig.add_subplot(111)\n",
    "ax,pm = wrl.vis.plot_ppi(rr_0, r=r, az=az, site=sitecoords,proj=proj, vmin=0, vmax=70, cmap=pyart.graph.cm_colorblind.HomeyerRainbow,ax=ax)\n",
    "plt.xlim(-89,-87)\n",
    "plt.ylim(41,42.5)\n",
    "plt.colorbar(pm)"
   ]
  },
  {
   "cell_type": "code",
   "execution_count": null,
   "metadata": {},
   "outputs": [],
   "source": [
    "# create an empty dictionary\n",
    "fname_dict = {}\n",
    "for i in arange(1,25,1):\n",
    "    fname_dict[i] = []\n",
    "# fill in dictionary\n",
    "for i in arange(len(keys)):\n",
    "    fname = keys[i].rsplit('/',1)[-1].strip('.gz')\n",
    "    dtime_utc = dt.datetime.strptime(fname,'KLOT%Y%m%d_%H%M%S_V06')\n",
    "    fname_dict[dtime_utc.hour+1].append(keys[i])"
   ]
  },
  {
   "cell_type": "code",
   "execution_count": null,
   "metadata": {},
   "outputs": [],
   "source": [
    "fname_dict"
   ]
  },
  {
   "cell_type": "code",
   "execution_count": null,
   "metadata": {
    "scrolled": true
   },
   "outputs": [],
   "source": [
    "for hour in list(fname_dict):\n",
    "    print(hour)\n",
    "    fnames_within_hour = fname_dict[hour]\n",
    "    hour_accum = np.zeros((300,300))\n",
    "    for fname in fnames_within_hour:\n",
    "        print('.',end='')\n",
    "        # open a temporary local file\n",
    "        localfile = tempfile.NamedTemporaryFile(delete=False)\n",
    "        localfile_name = localfile.name\n",
    "        localfile.close()\n",
    "\n",
    "        # download to temporary file and read to radar object using pyart\n",
    "        aws_radar.download_file(fname, localfile_name)\n",
    "        radar = pyart.io.read(localfile_name)\n",
    "\n",
    "        # delete temporary file to save space\n",
    "        os.remove(localfile_name)\n",
    "        \n",
    "        # get local time of radar\n",
    "        fname = fname.rsplit('/',1)[-1].strip('.gz')\n",
    "        dtime_utc = dt.datetime.strptime(fname,'KLOT%Y%m%d_%H%M%S_V06')\n",
    "        dtime_utc = pytz.utc.localize(dtime_utc)\n",
    "\n",
    "        # 2. Convert reflectivity to rain rate\n",
    "        gatefilter = pyart.filters.GateFilter(radar)\n",
    "        # Develop your gatefilter first\n",
    "        # exclude masked gates from the gridding\n",
    "        #gatefilter = pyart.filters.GateFilter(radar)\n",
    "        gatefilter.exclude_transition()\n",
    "        gatefilter.exclude_masked('reflectivity')\n",
    "        # Mask reflectivity\n",
    "        radar.fields[\"corrected_reflectivity\"] = deepcopy(radar.fields[\"reflectivity\"])\n",
    "        radar.fields[\"corrected_reflectivity\"][\"data\"] = np.ma.masked_where(\n",
    "            gatefilter._gate_excluded, radar.fields[\"corrected_reflectivity\"][\"data\"])\n",
    "        rr = pyart.retrieve.est_rain_rate_z(radar, refl_field=\"corrected_reflectivity\")\n",
    "\n",
    "        radar.add_field('rainrate',rr,replace_existing=True)\n",
    "\n",
    "        # Mask out last 10 gates of each ray, this removes the \"ring\" around the radar.\n",
    "        radar.fields['rainrate']['data'][:, -10:] = np.ma.masked\n",
    "        \n",
    "        # perform Cartesian mapping, limit to the reflectivity field.\n",
    "        grid = pyart.map.grid_from_radars(\n",
    "            [radar], gatefilters=[gatefilter],\n",
    "            grid_shape=(1, 300, 300),\n",
    "            grid_limits=((2000, 2000), (-123000.0, 123000.0), (-123000.0, 123000.0)),\n",
    "            fields=['rainrate'])\n",
    "\n",
    "        # 3.2 Get radar data\n",
    "        # Get slice\n",
    "        #radar_slice0 = radar.get_slice(0)\n",
    "        rr_0 = grid.fields['rainrate']['data']\n",
    "        \n",
    "        # convert rain rate to rain amount\n",
    "        radar_at_gages_amount = wrl.trafo.r_to_depth(rr_0,interval=256)\n",
    "        \n",
    "        hour_accum += radar_at_gages_amount[0]\n",
    "\n",
    "    savefname = dt.datetime.strftime(dtime_utc.replace(microsecond=0,second=0,minute=0)+dt.timedelta(hours=1), '%Y%m%d_%H%M%S')\n",
    "    wrl.io.to_hdf5('gridded_KLOT'+savefname+'.hdf5', hour_accum)\n",
    "\n",
    "    print('')"
   ]
  },
  {
   "cell_type": "code",
   "execution_count": null,
   "metadata": {},
   "outputs": [],
   "source": [
    "x_rad, y_rad = grid.get_point_longitude_latitude()\n",
    "\n",
    "# Saving the objects:\n",
    "with open('radar_grid.pkl', 'wb') as f:  # Python 3: open(..., 'wb')\n",
    "    pickle.dump([x_rad, y_rad], f)"
   ]
  },
  {
   "cell_type": "code",
   "execution_count": null,
   "metadata": {},
   "outputs": [],
   "source": []
  }
 ],
 "metadata": {
  "kernelspec": {
   "display_name": "Python [conda env:saveur]",
   "language": "python",
   "name": "conda-env-saveur-py"
  },
  "language_info": {
   "codemirror_mode": {
    "name": "ipython",
    "version": 3
   },
   "file_extension": ".py",
   "mimetype": "text/x-python",
   "name": "python",
   "nbconvert_exporter": "python",
   "pygments_lexer": "ipython3",
   "version": "3.7.3"
  }
 },
 "nbformat": 4,
 "nbformat_minor": 2
}
